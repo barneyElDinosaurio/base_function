{
 "cells": [
  {
   "cell_type": "code",
   "execution_count": 1,
   "metadata": {},
   "outputs": [],
   "source": [
    "import pandas as pd"
   ]
  },
  {
   "cell_type": "code",
   "execution_count": 2,
   "metadata": {},
   "outputs": [],
   "source": [
    "import re"
   ]
  },
  {
   "cell_type": "code",
   "execution_count": 3,
   "metadata": {},
   "outputs": [],
   "source": [
    "import requests"
   ]
  },
  {
   "cell_type": "code",
   "execution_count": 4,
   "metadata": {},
   "outputs": [],
   "source": [
    "df = pd.read_csv('qrcode_spider_res.csv')"
   ]
  },
  {
   "cell_type": "code",
   "execution_count": 5,
   "metadata": {},
   "outputs": [
    {
     "data": {
      "text/html": [
       "<div>\n",
       "<style scoped>\n",
       "    .dataframe tbody tr th:only-of-type {\n",
       "        vertical-align: middle;\n",
       "    }\n",
       "\n",
       "    .dataframe tbody tr th {\n",
       "        vertical-align: top;\n",
       "    }\n",
       "\n",
       "    .dataframe thead th {\n",
       "        text-align: right;\n",
       "    }\n",
       "</style>\n",
       "<table border=\"1\" class=\"dataframe\">\n",
       "  <thead>\n",
       "    <tr style=\"text-align: right;\">\n",
       "      <th></th>\n",
       "      <th>Unnamed: 0</th>\n",
       "      <th>spider_url</th>\n",
       "      <th>spider_res</th>\n",
       "    </tr>\n",
       "  </thead>\n",
       "  <tbody>\n",
       "    <tr>\n",
       "      <th>0</th>\n",
       "      <td>/home/liuxinyu/Documents/jialian/jialian_busi_...</td>\n",
       "      <td>http://www.gzonline.gov.cn/cri/BusinessMobile....</td>\n",
       "      <td>{'credit_code': '91440101MA59EC927R', 'registe...</td>\n",
       "    </tr>\n",
       "    <tr>\n",
       "      <th>1</th>\n",
       "      <td>/home/liuxinyu/Documents/jialian/jialian_busi_...</td>\n",
       "      <td>http://gsxt.gdgs.gov.cn//GSpublicity/GSpublici...</td>\n",
       "      <td>{'credit_code': '440683600397202', 'registered...</td>\n",
       "    </tr>\n",
       "    <tr>\n",
       "      <th>2</th>\n",
       "      <td>/home/liuxinyu/Documents/jialian/jialian_busi_...</td>\n",
       "      <td>http://www.szcredit.com.cn/web/GSZJGSPT/QyxyDe...</td>\n",
       "      <td>HTTPConnectionPool(host='10.18.6.101', port=80...</td>\n",
       "    </tr>\n",
       "    <tr>\n",
       "      <th>3</th>\n",
       "      <td>/home/liuxinyu/Documents/jialian/jialian_busi_...</td>\n",
       "      <td>http://gsxt.haaic.gov.cn/EntInfo.jspx?id=YmVob...</td>\n",
       "      <td>HTTPConnectionPool(host='10.18.6.101', port=80...</td>\n",
       "    </tr>\n",
       "    <tr>\n",
       "      <th>4</th>\n",
       "      <td>/home/liuxinyu/Documents/jialian/jialian_busi_...</td>\n",
       "      <td>http://www.ahcredit.gov.cn/EntInfo.jspx?id=ZWF...</td>\n",
       "      <td>{'credit_code': None, 'registered_code': None,...</td>\n",
       "    </tr>\n",
       "  </tbody>\n",
       "</table>\n",
       "</div>"
      ],
      "text/plain": [
       "                                          Unnamed: 0  \\\n",
       "0  /home/liuxinyu/Documents/jialian/jialian_busi_...   \n",
       "1  /home/liuxinyu/Documents/jialian/jialian_busi_...   \n",
       "2  /home/liuxinyu/Documents/jialian/jialian_busi_...   \n",
       "3  /home/liuxinyu/Documents/jialian/jialian_busi_...   \n",
       "4  /home/liuxinyu/Documents/jialian/jialian_busi_...   \n",
       "\n",
       "                                          spider_url  \\\n",
       "0  http://www.gzonline.gov.cn/cri/BusinessMobile....   \n",
       "1  http://gsxt.gdgs.gov.cn//GSpublicity/GSpublici...   \n",
       "2  http://www.szcredit.com.cn/web/GSZJGSPT/QyxyDe...   \n",
       "3  http://gsxt.haaic.gov.cn/EntInfo.jspx?id=YmVob...   \n",
       "4  http://www.ahcredit.gov.cn/EntInfo.jspx?id=ZWF...   \n",
       "\n",
       "                                          spider_res  \n",
       "0  {'credit_code': '91440101MA59EC927R', 'registe...  \n",
       "1  {'credit_code': '440683600397202', 'registered...  \n",
       "2  HTTPConnectionPool(host='10.18.6.101', port=80...  \n",
       "3  HTTPConnectionPool(host='10.18.6.101', port=80...  \n",
       "4  {'credit_code': None, 'registered_code': None,...  "
      ]
     },
     "execution_count": 5,
     "metadata": {},
     "output_type": "execute_result"
    }
   ],
   "source": [
    "df.head()"
   ]
  },
  {
   "cell_type": "code",
   "execution_count": 6,
   "metadata": {},
   "outputs": [],
   "source": [
    "test = df['spider_url'][0]"
   ]
  },
  {
   "cell_type": "code",
   "execution_count": 7,
   "metadata": {},
   "outputs": [],
   "source": [
    "test1='https://www.gzonline.gov.cn/cri/BusinessMobile.aspx?Id=50A22333659FA446EDD4910315DBA2FC'"
   ]
  },
  {
   "cell_type": "code",
   "execution_count": 8,
   "metadata": {},
   "outputs": [
    {
     "data": {
      "text/plain": [
       "'www.gzonline.gov.cn'"
      ]
     },
     "execution_count": 8,
     "metadata": {},
     "output_type": "execute_result"
    }
   ],
   "source": [
    "re.search('(http|https)://(.*?)/',test1).group(2)"
   ]
  },
  {
   "cell_type": "code",
   "execution_count": 9,
   "metadata": {},
   "outputs": [
    {
     "data": {
      "text/plain": [
       "(3829, 3)"
      ]
     },
     "execution_count": 9,
     "metadata": {},
     "output_type": "execute_result"
    }
   ],
   "source": [
    "df.shape"
   ]
  },
  {
   "cell_type": "code",
   "execution_count": 11,
   "metadata": {},
   "outputs": [],
   "source": [
    "def get_host(x):\n",
    "    \n",
    "    try:\n",
    "        ret = re.search('(http|https)://(.*?)/',x).group(2)\n",
    "    except Exception as e:\n",
    "        ret = None\n",
    "        \n",
    "    return ret"
   ]
  },
  {
   "cell_type": "code",
   "execution_count": 12,
   "metadata": {},
   "outputs": [],
   "source": [
    "df['host']=df['spider_url'].map(get_host)"
   ]
  },
  {
   "cell_type": "code",
   "execution_count": 15,
   "metadata": {},
   "outputs": [
    {
     "data": {
      "text/plain": [
       "104"
      ]
     },
     "execution_count": 15,
     "metadata": {},
     "output_type": "execute_result"
    }
   ],
   "source": [
    "len(df[df['host'].isnull()])"
   ]
  },
  {
   "cell_type": "code",
   "execution_count": 29,
   "metadata": {},
   "outputs": [
    {
     "name": "stdout",
     "output_type": "stream",
     "text": [
      "116\n",
      "http://gsxt.scaic.gov.cn.\n",
      "120\n",
      "[]\n",
      "127\n",
      "http://gsxt.zjaic.gov.cn                                                                                       \n",
      "141\n",
      "http://gsxt.zjaic.gov.cn\n",
      "164\n",
      "[]\n",
      "186\n",
      "http://gsxt.zjaic.gov.cn                                                   \n",
      "312\n",
      "http://gsxt.gzgs.gov.cn\n",
      "386\n",
      "http://gsxt.lngs.gov.cn\n",
      "449\n",
      "[]\n",
      "451\n",
      "[]\n",
      "456\n",
      "http://gsxt.scaic.gov.cn.\n",
      "472\n",
      "http://gsxt.scaic.gov.cn.\n",
      "487\n",
      "http://gsxt.gzgs.gov.cn\n",
      "503\n",
      "http://gsxt.scaic.gov.cn.\n",
      "518\n",
      "http://gsxt.lngs.gov.cn\n",
      "522\n",
      "http://gsxt.zjaic.gov.cn                           \n",
      "572\n",
      "[]\n",
      "584\n",
      "http://gsxt.zjaic.gov.cn\n",
      "602\n",
      "http://www.ahcredit.gov.cn\n",
      "631\n",
      "http://gsxt.zjaic.gov.cn                                                                                       \n",
      "666\n",
      "[]\n",
      "694\n",
      "[]\n",
      "722\n",
      "http://gsxt.zjaic.gov.cn                                                                                                                                 \n",
      "761\n",
      "http://gsxt.scaic.gov.cn.\n",
      "767\n",
      "http://gsxt.zjaic.gov.cn                                                                                                                                                                              \n",
      "797\n",
      "http://gsxt.scaic.gov.cn.\n",
      "843\n",
      "http://www.gsxt.gov.cn\n",
      "857\n",
      "http://gsxt.zjaic.gov.cn\n",
      "928\n",
      "http://gsxt.sxaic.gov.cn\n",
      "1027\n",
      "[]\n",
      "1055\n",
      "http://gsxt.sxaic.gov.cn\n",
      "1102\n",
      "http://gsxt.zjaic.gov.cn\n",
      "1116\n",
      "[]\n",
      "1137\n",
      "http://gsxt.zjaic.gov.cn                                                                                                      \n",
      "1139\n",
      "[]\n",
      "1317\n",
      "http://sdxy.gov.cn\n",
      "1326\n",
      "http://gsxt.zjaic.gov.cn                                                                                                                              \n",
      "1378\n",
      "http://gsxt.zjaic.gov.cn                                                                                                                  \n",
      "1434\n",
      "http://sdxy.gov.cn\n",
      "1438\n",
      "[]\n",
      "1450\n",
      "[]\n",
      "1513\n",
      "[]\n",
      "1553\n",
      "[]\n",
      "1555\n",
      "[]\n",
      "1626\n",
      "http://gsxt.scaic.gov.cn.\n",
      "1656\n",
      "[]\n",
      "1717\n",
      "[]\n",
      "1729\n",
      "http://www.gsxt.gov.cn\n",
      "1741\n",
      "http://gsxt.zjaic.gov.cn                                    \n",
      "1787\n",
      "http://gsxt.scaic.gov.cn.\n",
      "1789\n",
      "[]\n",
      "1854\n",
      "[]\n",
      "1858\n",
      "http://gsxt.scaic.gov.cn.\n",
      "1908\n",
      "[]\n",
      "1926\n",
      "[]\n",
      "1940\n",
      "http://gsxt.hnaic.gov.cn\n",
      "1947\n",
      "[]\n",
      "1949\n",
      "http://gsxt.sxaic.gov.cn\n",
      "1987\n",
      "http://gsxt.zjaic.gov.cn                                                                                                         \n",
      "2031\n",
      "http://gsxt.zjaic.gov.cn\n",
      "2138\n",
      "[]\n",
      "2172\n",
      "http://sdxy.gov.cn\n",
      "2203\n",
      "http://gsxt.scaic.gov.cn.\n",
      "2239\n",
      "[]\n",
      "2256\n",
      "[]\n",
      "2292\n",
      "[]\n",
      "2360\n",
      "[]\n",
      "2363\n",
      "[]\n",
      "2403\n",
      "http://gsxt.scaic.gov.cn.\n",
      "2500\n",
      "[]\n",
      "2504\n",
      "http://gsxt.zjaic.gov.cn                                                                                                                                 \n",
      "2549\n",
      "[]\n",
      "2576\n",
      "http://gsxt.scaic.gov.cn.\n",
      "2676\n",
      "[]\n",
      "2792\n",
      "[]\n",
      "2798\n",
      "http://gsxt.zjaic.gov.cn\n",
      "2834\n",
      "http://gsxt.zjaic.gov.cn                                                                              \n",
      "2927\n",
      "http://gsxt.lngs.gov.cn\n",
      "2947\n",
      "http://gsxt.zjaic.gov.cn\n",
      "2980\n",
      "http://gsxt.zjaic.gov.cn\n",
      "3005\n",
      "http://gsxt.lngs.gov.cn\n",
      "3021\n",
      "[]\n",
      "3089\n",
      "[]\n",
      "3178\n",
      "http://gsxt.zjaic.gov.cn                                                \n",
      "3180\n",
      "http://gsxt.zjaic.gov.cn\n",
      "3218\n",
      "[]\n",
      "3228\n",
      "http://gsxt.lngs.gov.cn\n",
      "3255\n",
      "http://gsxt.zjaic.gov.cn                                                                  \n",
      "3300\n",
      "http://gsxt.zjaic.gov.cn                                                                                                            \n",
      "3327\n",
      "http://gsxt.zjaic.gov.cn\n",
      "3349\n",
      "http://www.ahcredit.gov.cn\n",
      "3373\n",
      "[]\n",
      "3397\n",
      "http://gsxt.zjaic.gov.cn                                                                                                                                                                                                                        \n",
      "3406\n",
      "http://gsxt.scaic.gov.cn.\n",
      "3442\n",
      "http://gsxt.scaic.gov.cn.\n",
      "3448\n",
      "[]\n",
      "3450\n",
      "http://gsxt.zjaic.gov.cn\n",
      "3465\n",
      "http://gsxt.scaic.gov.cn.\n",
      "3474\n",
      "[]\n",
      "3563\n",
      "http://gsxt.scaic.gov.cn.\n",
      "3581\n",
      "[]\n",
      "3688\n",
      "http://gsxt.zjaic.gov.cn\n",
      "3750\n",
      "http://gsxt.zjaic.gov.cn\n",
      "3759\n",
      "http://gsxt.scaic.gov.cn.\n"
     ]
    }
   ],
   "source": [
    "for i in df[df['host'].isnull()].index:\n",
    "    print(i)\n",
    "    print(df.iloc[i]['spider_url'])"
   ]
  },
  {
   "cell_type": "code",
   "execution_count": 33,
   "metadata": {},
   "outputs": [
    {
     "data": {
      "text/plain": [
       "Unnamed: 0    /home/liuxinyu/Documents/jialian/jialian_busi_...\n",
       "spider_url    http://sn.gsxt.gov.cn/                        ...\n",
       "spider_res    HTTPConnectionPool(host='10.18.6.101', port=80...\n",
       "host                                             sn.gsxt.gov.cn\n",
       "Name: 200, dtype: object"
      ]
     },
     "execution_count": 33,
     "metadata": {},
     "output_type": "execute_result"
    }
   ],
   "source": [
    "df.iloc[200]"
   ]
  },
  {
   "cell_type": "code",
   "execution_count": 40,
   "metadata": {},
   "outputs": [],
   "source": [
    "temp = df['host'].value_counts()"
   ]
  },
  {
   "cell_type": "code",
   "execution_count": 41,
   "metadata": {},
   "outputs": [],
   "source": [
    "temp.to_excel('host_url.xls')"
   ]
  },
  {
   "cell_type": "code",
   "execution_count": 50,
   "metadata": {},
   "outputs": [],
   "source": [
    "df2=pd.read_excel('origin_host.xlsx',header=None)"
   ]
  },
  {
   "cell_type": "code",
   "execution_count": 57,
   "metadata": {},
   "outputs": [],
   "source": [
    "old=df2[0].values.tolist()"
   ]
  },
  {
   "cell_type": "code",
   "execution_count": 58,
   "metadata": {},
   "outputs": [
    {
     "data": {
      "text/plain": [
       "['gsxt.gdgs.gov.cn',\n",
       " 'www.jsgsj.gov.cn:58888',\n",
       " 'www.ahcredit.gov.cn',\n",
       " 'cri.gz.gov.cn',\n",
       " 'was.zhuhai.gov.cn:8182',\n",
       " 'hb.gsxt.gov.cn',\n",
       " 'xyjg.egs.gov.cn',\n",
       " 'dzhy.haaic.gov.cn',\n",
       " 'www.gzonline.gov.cn',\n",
       " 'gsxt.scaic.gov.cn',\n",
       " 'gsxt.jxaic.gov.cn',\n",
       " 'gsxt.haaic.gov.cn',\n",
       " 'wsnj.xags.gov.cn',\n",
       " 'sc.gsxt.gov.cn',\n",
       " 'www.sdsszt.com',\n",
       " '218.22.14.66:8082',\n",
       " 'www.cdgs.gov.cn',\n",
       " 'qyxy.baic.gov.cn',\n",
       " 'gsxt.zjaic.gov.cn',\n",
       " '202.100.252.118:8079',\n",
       " 'gsxt.hnaic.gov.cn',\n",
       " 'sx.gsxt.gov.cn',\n",
       " '222.76.242.84:8084',\n",
       " 'www.hebscztxyxx.gov.cn',\n",
       " 'www.gxqyxygs.gov.cn',\n",
       " 'gsxt.sxaic.gov.cn',\n",
       " 'aic.hainan.gov.cn:1888',\n",
       " 'gsxt.ynaic.gov.cn',\n",
       " 'gsxt.gzgs.gov.cn',\n",
       " 'hi.gsxt.gov.cn',\n",
       " 'www.sgs.gov.cn',\n",
       " 'gz.gsxt.gov.cn',\n",
       " '202.100.252.118:1888',\n",
       " 'weixin.qq.com',\n",
       " 'www.szcredit.com.cn',\n",
       " 'xygs.snaic.gov.cn',\n",
       " 'a.myapp.com',\n",
       " 'search.gjsy.gov.cn',\n",
       " 'www.saic.gov.cn',\n",
       " '211.141.74.198:8081',\n",
       " 'wsjj.jlpay.com',\n",
       " 'dwz.cn']"
      ]
     },
     "execution_count": 58,
     "metadata": {},
     "output_type": "execute_result"
    }
   ],
   "source": [
    "old"
   ]
  },
  {
   "cell_type": "code",
   "execution_count": 63,
   "metadata": {},
   "outputs": [],
   "source": [
    "new_one = temp.index.tolist()"
   ]
  },
  {
   "cell_type": "code",
   "execution_count": 64,
   "metadata": {},
   "outputs": [
    {
     "data": {
      "text/plain": [
       "47"
      ]
     },
     "execution_count": 64,
     "metadata": {},
     "output_type": "execute_result"
    }
   ],
   "source": [
    "len(new_one)"
   ]
  },
  {
   "cell_type": "code",
   "execution_count": 65,
   "metadata": {},
   "outputs": [
    {
     "name": "stdout",
     "output_type": "stream",
     "text": [
      "gsxt.scaic.gov.cn  http:\n",
      "www.cdgs.gov.cn  http:\n",
      "sn.gsxt.gov.cn\n",
      "www.xiamencredit.gov.cn:8084\n",
      "wsgs.fjaic.gov.cn\n",
      "www.xiamencredit.gov.cn:8085\n",
      "gsxt.lngs.gov.cn\n",
      "113.98.246.4:7013\n",
      "m.qi315.cn:8282\n",
      "open.weixin.qq.com\n"
     ]
    }
   ],
   "source": [
    "for n in new_one:\n",
    "    if n not in old:\n",
    "        print(n)"
   ]
  }
 ],
 "metadata": {
  "kernelspec": {
   "display_name": "Python 3",
   "language": "python",
   "name": "python3"
  },
  "language_info": {
   "codemirror_mode": {
    "name": "ipython",
    "version": 3
   },
   "file_extension": ".py",
   "mimetype": "text/x-python",
   "name": "python",
   "nbconvert_exporter": "python",
   "pygments_lexer": "ipython3",
   "version": "3.6.2"
  }
 },
 "nbformat": 4,
 "nbformat_minor": 2
}
