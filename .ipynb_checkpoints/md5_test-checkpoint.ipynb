{
 "cells": [
  {
   "cell_type": "code",
   "execution_count": 2,
   "metadata": {},
   "outputs": [],
   "source": [
    "import hashlib"
   ]
  },
  {
   "cell_type": "code",
   "execution_count": 4,
   "metadata": {},
   "outputs": [],
   "source": [
    "origin_url = 'http://www.gsxt.gov.cn/%7B77FAD8CC109C2941FCE872FE43EF95495D5A279A1611BDAB8905D9CDCA63899D0700ACBA98146901DE026AB5C8522FA35B85B7AD464C45606A586B4E446A0D36960B960B96AD0D90019CA73AA73AAB3AA7B9CED04DD0F964F964F9640906D0AA03C54FF25E247CE63A8705948AB12C97EA825D20275DE0627CE17CE17CE1-1532508902476%7D'"
   ]
  },
  {
   "cell_type": "code",
   "execution_count": 5,
   "metadata": {},
   "outputs": [],
   "source": [
    "cut_url = origin_url.replace('http://www.gsxt.gov.cn/','')"
   ]
  },
  {
   "cell_type": "code",
   "execution_count": 6,
   "metadata": {},
   "outputs": [
    {
     "data": {
      "text/plain": [
       "'%7B77FAD8CC109C2941FCE872FE43EF95495D5A279A1611BDAB8905D9CDCA63899D0700ACBA98146901DE026AB5C8522FA35B85B7AD464C45606A586B4E446A0D36960B960B96AD0D90019CA73AA73AAB3AA7B9CED04DD0F964F964F9640906D0AA03C54FF25E247CE63A8705948AB12C97EA825D20275DE0627CE17CE17CE1-1532508902476%7D'"
      ]
     },
     "execution_count": 6,
     "metadata": {},
     "output_type": "execute_result"
    }
   ],
   "source": [
    "cut_url"
   ]
  },
  {
   "cell_type": "code",
   "execution_count": 7,
   "metadata": {},
   "outputs": [],
   "source": [
    "import urllib"
   ]
  },
  {
   "cell_type": "code",
   "execution_count": 9,
   "metadata": {},
   "outputs": [],
   "source": [
    "result = urllib.parse.unquote(cut_url)"
   ]
  },
  {
   "cell_type": "code",
   "execution_count": 1,
   "metadata": {},
   "outputs": [],
   "source": [
    "url_code = '77FAD8CC109C2941FCE872FE43EF95495D5A279A1611BDAB8905D9CDCA63899D0700ACBA98146901DE026AB5C8522FA35B85B7AD464C45606A586B4E446A0D36960B960B96AD0D90019CA73AA73AAB3AA7B9CED04DD0F964F964F9640906D0AA03C54FF25E247CE63A8705948AB12C97EA825D20275DE0627CE17CE17CE1-1532508902476'"
   ]
  },
  {
   "cell_type": "code",
   "execution_count": 10,
   "metadata": {},
   "outputs": [
    {
     "data": {
      "text/plain": [
       "'{77FAD8CC109C2941FCE872FE43EF95495D5A279A1611BDAB8905D9CDCA63899D0700ACBA98146901DE026AB5C8522FA35B85B7AD464C45606A586B4E446A0D36960B960B96AD0D90019CA73AA73AAB3AA7B9CED04DD0F964F964F9640906D0AA03C54FF25E247CE63A8705948AB12C97EA825D20275DE0627CE17CE17CE1-1532508902476}'"
      ]
     },
     "execution_count": 10,
     "metadata": {},
     "output_type": "execute_result"
    }
   ],
   "source": [
    "result"
   ]
  },
  {
   "cell_type": "code",
   "execution_count": 11,
   "metadata": {},
   "outputs": [],
   "source": [
    "final_code = '77FAD8CC109C2941FCE872FE43EF95495D5A279A1611BDAB8905D9CDCA63899D0700ACBA98146901DE026AB5C8522FA35B85B7AD464C45606A586B4E446A0D36960B960B96AD0D90019CA73AA73AAB3AA7B9CED04DD0F964F964F9640906D0AA03C54FF25E247CE63A8705948AB12C97EA825D20275DE0627CE17CE17CE1-1532508902476'"
   ]
  },
  {
   "cell_type": "code",
   "execution_count": 13,
   "metadata": {},
   "outputs": [
    {
     "data": {
      "text/plain": [
       "266"
      ]
     },
     "execution_count": 13,
     "metadata": {},
     "output_type": "execute_result"
    }
   ],
   "source": [
    "len(final_code)"
   ]
  },
  {
   "cell_type": "code",
   "execution_count": 15,
   "metadata": {},
   "outputs": [],
   "source": [
    "first,second=final_code.split('-')"
   ]
  },
  {
   "cell_type": "code",
   "execution_count": 17,
   "metadata": {
    "scrolled": true
   },
   "outputs": [
    {
     "data": {
      "text/plain": [
       "'77FAD8CC109C2941FCE872FE43EF95495D5A279A1611BDAB8905D9CDCA63899D0700ACBA98146901DE026AB5C8522FA35B85B7AD464C45606A586B4E446A0D36960B960B96AD0D90019CA73AA73AAB3AA7B9CED04DD0F964F964F9640906D0AA03C54FF25E247CE63A8705948AB12C97EA825D20275DE0627CE17CE17CE1'"
      ]
     },
     "execution_count": 17,
     "metadata": {},
     "output_type": "execute_result"
    }
   ],
   "source": [
    "first"
   ]
  },
  {
   "cell_type": "code",
   "execution_count": 18,
   "metadata": {},
   "outputs": [
    {
     "data": {
      "text/plain": [
       "'1532508902476'"
      ]
     },
     "execution_count": 18,
     "metadata": {},
     "output_type": "execute_result"
    }
   ],
   "source": [
    "second"
   ]
  },
  {
   "cell_type": "code",
   "execution_count": 3,
   "metadata": {},
   "outputs": [
    {
     "data": {
      "text/plain": [
       "266"
      ]
     },
     "execution_count": 3,
     "metadata": {},
     "output_type": "execute_result"
    }
   ],
   "source": [
    "len(url_code)"
   ]
  },
  {
   "cell_type": "code",
   "execution_count": 33,
   "metadata": {},
   "outputs": [],
   "source": [
    "import time,datetime,re"
   ]
  },
  {
   "cell_type": "code",
   "execution_count": 21,
   "metadata": {},
   "outputs": [
    {
     "data": {
      "text/plain": [
       "13"
      ]
     },
     "execution_count": 21,
     "metadata": {},
     "output_type": "execute_result"
    }
   ],
   "source": [
    "len(second)"
   ]
  },
  {
   "cell_type": "code",
   "execution_count": 23,
   "metadata": {},
   "outputs": [
    {
     "data": {
      "text/plain": [
       "'Wed Jul 25 16:55:02 2018'"
      ]
     },
     "execution_count": 23,
     "metadata": {},
     "output_type": "execute_result"
    }
   ],
   "source": [
    "time.ctime(int(second)/1000)"
   ]
  },
  {
   "cell_type": "code",
   "execution_count": 24,
   "metadata": {},
   "outputs": [
    {
     "data": {
      "text/plain": [
       "252"
      ]
     },
     "execution_count": 24,
     "metadata": {},
     "output_type": "execute_result"
    }
   ],
   "source": [
    "len(first)"
   ]
  },
  {
   "cell_type": "code",
   "execution_count": 27,
   "metadata": {},
   "outputs": [],
   "source": [
    "ts=int(time.time()*1000)"
   ]
  },
  {
   "cell_type": "code",
   "execution_count": 30,
   "metadata": {},
   "outputs": [],
   "source": [
    "struct_url = '{'+first+'-'+str(ts)+'}'"
   ]
  },
  {
   "cell_type": "code",
   "execution_count": 29,
   "metadata": {},
   "outputs": [
    {
     "data": {
      "text/plain": [
       "'77FAD8CC109C2941FCE872FE43EF95495D5A279A1611BDAB8905D9CDCA63899D0700ACBA98146901DE026AB5C8522FA35B85B7AD464C45606A586B4E446A0D36960B960B96AD0D90019CA73AA73AAB3AA7B9CED04DD0F964F964F9640906D0AA03C54FF25E247CE63A8705948AB12C97EA825D20275DE0627CE17CE17CE1-1532510401520'"
      ]
     },
     "execution_count": 29,
     "metadata": {},
     "output_type": "execute_result"
    }
   ],
   "source": [
    "struct_url"
   ]
  },
  {
   "cell_type": "code",
   "execution_count": 32,
   "metadata": {},
   "outputs": [],
   "source": [
    "new_struct_url = 'http://www.gsxt.gov.cn/{77FAD8CC109C2941FCE872FE43EF95495D5A279A1611BDAB8905D9CDCA63899D0700ACBA98146901DE026AB5C8522FA35B85B7AD464C45606A586B4E446A0D36960B960B96AD0D90019CA73AA73AAB3AA7B9CED04DD0F964F964F9640906D0AA03C54FF25E247CE63A8705948AB12C97EA825D20275DE0627CE17CE17CE1-1532510401520}'"
   ]
  },
  {
   "cell_type": "code",
   "execution_count": 31,
   "metadata": {},
   "outputs": [],
   "source": [
    "# 17:30\n",
    "new_url ='http://www.gsxt.gov.cn/%7B7EFAD1CC199C2041F5E87BFE4AEF9C49545A2E9A1F11B4AB8005D0CDC363809D0E00A5BA91146001D70263B5C15226A35285BEAD4F4C4C606358624E4D6A04369F0B9F0B9FAD0490089CAE3AAE3AA23AAEB9C7D044D0F064F064F0640006D9AA0AC546F2572475E633870C9483B12597E38254202E5DE96275E175E175E1-1532511003410%7D'"
   ]
  },
  {
   "cell_type": "code",
   "execution_count": 37,
   "metadata": {},
   "outputs": [
    {
     "data": {
      "text/plain": [
       "'7EFAD1CC199C2041F5E87BFE4AEF9C49545A2E9A1F11B4AB8005D0CDC363809D0E00A5BA91146001D70263B5C15226A35285BEAD4F4C4C606358624E4D6A04369F0B9F0B9FAD0490089CAE3AAE3AA23AAEB9C7D044D0F064F064F0640006D9AA0AC546F2572475E633870C9483B12597E38254202E5DE96275E175E175E1-1532511003410'"
      ]
     },
     "execution_count": 37,
     "metadata": {},
     "output_type": "execute_result"
    }
   ],
   "source": [
    "re.search('%7B(.*?)%7D',new_url).group(1)"
   ]
  },
  {
   "cell_type": "code",
   "execution_count": 40,
   "metadata": {},
   "outputs": [],
   "source": [
    "def url_decode(url):\n",
    "    url=re.search('%7B(.*?)%7D',url).group(1)\n",
    "    return url.split('-')    "
   ]
  },
  {
   "cell_type": "code",
   "execution_count": 42,
   "metadata": {},
   "outputs": [],
   "source": [
    "new=url_decode(new_url)"
   ]
  },
  {
   "cell_type": "code",
   "execution_count": 43,
   "metadata": {},
   "outputs": [
    {
     "data": {
      "text/plain": [
       "['7EFAD1CC199C2041F5E87BFE4AEF9C49545A2E9A1F11B4AB8005D0CDC363809D0E00A5BA91146001D70263B5C15226A35285BEAD4F4C4C606358624E4D6A04369F0B9F0B9FAD0490089CAE3AAE3AA23AAEB9C7D044D0F064F064F0640006D9AA0AC546F2572475E633870C9483B12597E38254202E5DE96275E175E175E1',\n",
       " '1532511003410']"
      ]
     },
     "execution_count": 43,
     "metadata": {},
     "output_type": "execute_result"
    }
   ],
   "source": [
    "new"
   ]
  },
  {
   "cell_type": "code",
   "execution_count": 44,
   "metadata": {},
   "outputs": [],
   "source": [
    "old_url='http://www.gsxt.gov.cn/%7B77FAD8CC109C2941FCE872FE43EF95495D5A279A1611BDAB8905D9CDCA63899D0700ACBA98146901DE026AB5C8522FA35B85B7AD464C45606A586B4E446A0D36960B960B96AD0D90019CA73AA73AAB3AA7B9CED04DD0F964F964F9640906D0AA03C54FF25E247CE63A8705948AB12C97EA825D20275DE0627CE17CE17CE1-1532508902476%7D'"
   ]
  },
  {
   "cell_type": "code",
   "execution_count": 45,
   "metadata": {},
   "outputs": [],
   "source": [
    "old=url_decode(old_url)"
   ]
  },
  {
   "cell_type": "code",
   "execution_count": 46,
   "metadata": {},
   "outputs": [
    {
     "data": {
      "text/plain": [
       "['77FAD8CC109C2941FCE872FE43EF95495D5A279A1611BDAB8905D9CDCA63899D0700ACBA98146901DE026AB5C8522FA35B85B7AD464C45606A586B4E446A0D36960B960B96AD0D90019CA73AA73AAB3AA7B9CED04DD0F964F964F9640906D0AA03C54FF25E247CE63A8705948AB12C97EA825D20275DE0627CE17CE17CE1',\n",
       " '1532508902476']"
      ]
     },
     "execution_count": 46,
     "metadata": {},
     "output_type": "execute_result"
    }
   ],
   "source": [
    "old"
   ]
  },
  {
   "cell_type": "code",
   "execution_count": 48,
   "metadata": {},
   "outputs": [
    {
     "data": {
      "text/plain": [
       "252"
      ]
     },
     "execution_count": 48,
     "metadata": {},
     "output_type": "execute_result"
    }
   ],
   "source": [
    "len(old[0])"
   ]
  }
 ],
 "metadata": {
  "kernelspec": {
   "display_name": "Python 3",
   "language": "python",
   "name": "python3"
  },
  "language_info": {
   "codemirror_mode": {
    "name": "ipython",
    "version": 3
   },
   "file_extension": ".py",
   "mimetype": "text/x-python",
   "name": "python",
   "nbconvert_exporter": "python",
   "pygments_lexer": "ipython3",
   "version": "3.6.2"
  }
 },
 "nbformat": 4,
 "nbformat_minor": 2
}
