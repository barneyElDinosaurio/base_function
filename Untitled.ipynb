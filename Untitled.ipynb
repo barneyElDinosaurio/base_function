{
 "cells": [
  {
   "cell_type": "code",
   "execution_count": 2,
   "metadata": {},
   "outputs": [],
   "source": [
    "import pandas as pd"
   ]
  },
  {
   "cell_type": "code",
   "execution_count": 12,
   "metadata": {},
   "outputs": [],
   "source": [
    "import re"
   ]
  },
  {
   "cell_type": "code",
   "execution_count": 3,
   "metadata": {},
   "outputs": [],
   "source": [
    "import requests"
   ]
  },
  {
   "cell_type": "code",
   "execution_count": 4,
   "metadata": {},
   "outputs": [],
   "source": [
    "df = pd.read_csv('qrcode_spider_res.csv')"
   ]
  },
  {
   "cell_type": "code",
   "execution_count": 8,
   "metadata": {},
   "outputs": [
    {
     "data": {
      "text/html": [
       "<div>\n",
       "<style scoped>\n",
       "    .dataframe tbody tr th:only-of-type {\n",
       "        vertical-align: middle;\n",
       "    }\n",
       "\n",
       "    .dataframe tbody tr th {\n",
       "        vertical-align: top;\n",
       "    }\n",
       "\n",
       "    .dataframe thead th {\n",
       "        text-align: right;\n",
       "    }\n",
       "</style>\n",
       "<table border=\"1\" class=\"dataframe\">\n",
       "  <thead>\n",
       "    <tr style=\"text-align: right;\">\n",
       "      <th></th>\n",
       "      <th>Unnamed: 0</th>\n",
       "      <th>spider_url</th>\n",
       "      <th>spider_res</th>\n",
       "    </tr>\n",
       "  </thead>\n",
       "  <tbody>\n",
       "    <tr>\n",
       "      <th>0</th>\n",
       "      <td>/home/liuxinyu/Documents/jialian/jialian_busi_...</td>\n",
       "      <td>http://www.gzonline.gov.cn/cri/BusinessMobile....</td>\n",
       "      <td>{'credit_code': '91440101MA59EC927R', 'registe...</td>\n",
       "    </tr>\n",
       "    <tr>\n",
       "      <th>1</th>\n",
       "      <td>/home/liuxinyu/Documents/jialian/jialian_busi_...</td>\n",
       "      <td>http://gsxt.gdgs.gov.cn//GSpublicity/GSpublici...</td>\n",
       "      <td>{'credit_code': '440683600397202', 'registered...</td>\n",
       "    </tr>\n",
       "    <tr>\n",
       "      <th>2</th>\n",
       "      <td>/home/liuxinyu/Documents/jialian/jialian_busi_...</td>\n",
       "      <td>http://www.szcredit.com.cn/web/GSZJGSPT/QyxyDe...</td>\n",
       "      <td>HTTPConnectionPool(host='10.18.6.101', port=80...</td>\n",
       "    </tr>\n",
       "    <tr>\n",
       "      <th>3</th>\n",
       "      <td>/home/liuxinyu/Documents/jialian/jialian_busi_...</td>\n",
       "      <td>http://gsxt.haaic.gov.cn/EntInfo.jspx?id=YmVob...</td>\n",
       "      <td>HTTPConnectionPool(host='10.18.6.101', port=80...</td>\n",
       "    </tr>\n",
       "    <tr>\n",
       "      <th>4</th>\n",
       "      <td>/home/liuxinyu/Documents/jialian/jialian_busi_...</td>\n",
       "      <td>http://www.ahcredit.gov.cn/EntInfo.jspx?id=ZWF...</td>\n",
       "      <td>{'credit_code': None, 'registered_code': None,...</td>\n",
       "    </tr>\n",
       "  </tbody>\n",
       "</table>\n",
       "</div>"
      ],
      "text/plain": [
       "                                          Unnamed: 0  \\\n",
       "0  /home/liuxinyu/Documents/jialian/jialian_busi_...   \n",
       "1  /home/liuxinyu/Documents/jialian/jialian_busi_...   \n",
       "2  /home/liuxinyu/Documents/jialian/jialian_busi_...   \n",
       "3  /home/liuxinyu/Documents/jialian/jialian_busi_...   \n",
       "4  /home/liuxinyu/Documents/jialian/jialian_busi_...   \n",
       "\n",
       "                                          spider_url  \\\n",
       "0  http://www.gzonline.gov.cn/cri/BusinessMobile....   \n",
       "1  http://gsxt.gdgs.gov.cn//GSpublicity/GSpublici...   \n",
       "2  http://www.szcredit.com.cn/web/GSZJGSPT/QyxyDe...   \n",
       "3  http://gsxt.haaic.gov.cn/EntInfo.jspx?id=YmVob...   \n",
       "4  http://www.ahcredit.gov.cn/EntInfo.jspx?id=ZWF...   \n",
       "\n",
       "                                          spider_res  \n",
       "0  {'credit_code': '91440101MA59EC927R', 'registe...  \n",
       "1  {'credit_code': '440683600397202', 'registered...  \n",
       "2  HTTPConnectionPool(host='10.18.6.101', port=80...  \n",
       "3  HTTPConnectionPool(host='10.18.6.101', port=80...  \n",
       "4  {'credit_code': None, 'registered_code': None,...  "
      ]
     },
     "execution_count": 8,
     "metadata": {},
     "output_type": "execute_result"
    }
   ],
   "source": [
    "df.head()"
   ]
  },
  {
   "cell_type": "code",
   "execution_count": 10,
   "metadata": {},
   "outputs": [],
   "source": [
    "test = df['spider_url'][0]"
   ]
  },
  {
   "cell_type": "code",
   "execution_count": 23,
   "metadata": {},
   "outputs": [],
   "source": [
    "test1='https://www.gzonline.gov.cn/cri/BusinessMobile.aspx?Id=50A22333659FA446EDD4910315DBA2FC'"
   ]
  },
  {
   "cell_type": "code",
   "execution_count": 29,
   "metadata": {},
   "outputs": [
    {
     "data": {
      "text/plain": [
       "'www.gzonline.gov.cn'"
      ]
     },
     "execution_count": 29,
     "metadata": {},
     "output_type": "execute_result"
    }
   ],
   "source": [
    "re.search('(http|https)://(.*?)/',test1).group(2)"
   ]
  },
  {
   "cell_type": "code",
   "execution_count": 7,
   "metadata": {},
   "outputs": [
    {
     "data": {
      "text/plain": [
       "(3829, 3)"
      ]
     },
     "execution_count": 7,
     "metadata": {},
     "output_type": "execute_result"
    }
   ],
   "source": [
    "df.shape"
   ]
  },
  {
   "cell_type": "code",
   "execution_count": 35,
   "metadata": {},
   "outputs": [],
   "source": [
    "def get_host(x):\n",
    "    \n",
    "    try:\n",
    "        ret = re.search('(http|https)://(.*?)/',x).group(2)\n",
    "    except Exception as e:\n",
    "        ret = None\n",
    "        \n",
    "    return ret"
   ]
  },
  {
   "cell_type": "code",
   "execution_count": 37,
   "metadata": {},
   "outputs": [],
   "source": [
    "df['host']=df['spider_url'].map(get_host)"
   ]
  },
  {
   "cell_type": "code",
   "execution_count": 38,
   "metadata": {},
   "outputs": [
    {
     "data": {
      "text/plain": [
       "0          www.gzonline.gov.cn\n",
       "1             gsxt.gdgs.gov.cn\n",
       "2          www.szcredit.com.cn\n",
       "3            gsxt.haaic.gov.cn\n",
       "4          www.ahcredit.gov.cn\n",
       "5             gsxt.gdgs.gov.cn\n",
       "6             gsxt.gdgs.gov.cn\n",
       "7            gsxt.haaic.gov.cn\n",
       "8             gsxt.gdgs.gov.cn\n",
       "9             gsxt.gdgs.gov.cn\n",
       "10         www.szcredit.com.cn\n",
       "11            gsxt.gdgs.gov.cn\n",
       "12            gsxt.gdgs.gov.cn\n",
       "13            gsxt.gdgs.gov.cn\n",
       "14               cri.gz.gov.cn\n",
       "15            gsxt.gdgs.gov.cn\n",
       "16              www.sgs.gov.cn\n",
       "17         www.ahcredit.gov.cn\n",
       "18            gsxt.gdgs.gov.cn\n",
       "19         www.szcredit.com.cn\n",
       "20         www.ahcredit.gov.cn\n",
       "21            gsxt.gdgs.gov.cn\n",
       "22            gsxt.gdgs.gov.cn\n",
       "23            gsxt.gdgs.gov.cn\n",
       "24      www.jsgsj.gov.cn:58888\n",
       "25              hb.gsxt.gov.cn\n",
       "26               cri.gz.gov.cn\n",
       "27           gsxt.jxaic.gov.cn\n",
       "28         www.szcredit.com.cn\n",
       "29          222.76.242.84:8084\n",
       "                 ...          \n",
       "3799         218.22.14.66:8082\n",
       "3800    www.jsgsj.gov.cn:58888\n",
       "3801          gsxt.gdgs.gov.cn\n",
       "3802         dzhy.haaic.gov.cn\n",
       "3803          gsxt.gdgs.gov.cn\n",
       "3804         218.22.14.66:8082\n",
       "3805          gsxt.gdgs.gov.cn\n",
       "3806          gsxt.gdgs.gov.cn\n",
       "3807       www.szcredit.com.cn\n",
       "3808          gsxt.gdgs.gov.cn\n",
       "3809         dzhy.haaic.gov.cn\n",
       "3810       www.szcredit.com.cn\n",
       "3811         dzhy.haaic.gov.cn\n",
       "3812            hb.gsxt.gov.cn\n",
       "3813          gsxt.gdgs.gov.cn\n",
       "3814       www.szcredit.com.cn\n",
       "3815       www.szcredit.com.cn\n",
       "3816            hb.gsxt.gov.cn\n",
       "3817            hi.gsxt.gov.cn\n",
       "3818       www.szcredit.com.cn\n",
       "3819          gsxt.gdgs.gov.cn\n",
       "3820          wsnj.xags.gov.cn\n",
       "3821          gsxt.gdgs.gov.cn\n",
       "3822          gsxt.gdgs.gov.cn\n",
       "3823           xyjg.egs.gov.cn\n",
       "3824       www.szcredit.com.cn\n",
       "3825       www.szcredit.com.cn\n",
       "3826          gsxt.gdgs.gov.cn\n",
       "3827         gsxt.sxaic.gov.cn\n",
       "3828            hi.gsxt.gov.cn\n",
       "Name: host, Length: 3829, dtype: object"
      ]
     },
     "execution_count": 38,
     "metadata": {},
     "output_type": "execute_result"
    }
   ],
   "source": [
    "df['host']"
   ]
  },
  {
   "cell_type": "code",
   "execution_count": 40,
   "metadata": {},
   "outputs": [],
   "source": [
    "temp = df['host'].value_counts()"
   ]
  },
  {
   "cell_type": "code",
   "execution_count": 41,
   "metadata": {},
   "outputs": [],
   "source": [
    "temp.to_excel('host_url.xls')"
   ]
  },
  {
   "cell_type": "code",
   "execution_count": 50,
   "metadata": {},
   "outputs": [],
   "source": [
    "df2=pd.read_excel('origin_host.xlsx',header=None)"
   ]
  },
  {
   "cell_type": "code",
   "execution_count": 57,
   "metadata": {},
   "outputs": [],
   "source": [
    "old=df2[0].values.tolist()"
   ]
  },
  {
   "cell_type": "code",
   "execution_count": 58,
   "metadata": {},
   "outputs": [
    {
     "data": {
      "text/plain": [
       "['gsxt.gdgs.gov.cn',\n",
       " 'www.jsgsj.gov.cn:58888',\n",
       " 'www.ahcredit.gov.cn',\n",
       " 'cri.gz.gov.cn',\n",
       " 'was.zhuhai.gov.cn:8182',\n",
       " 'hb.gsxt.gov.cn',\n",
       " 'xyjg.egs.gov.cn',\n",
       " 'dzhy.haaic.gov.cn',\n",
       " 'www.gzonline.gov.cn',\n",
       " 'gsxt.scaic.gov.cn',\n",
       " 'gsxt.jxaic.gov.cn',\n",
       " 'gsxt.haaic.gov.cn',\n",
       " 'wsnj.xags.gov.cn',\n",
       " 'sc.gsxt.gov.cn',\n",
       " 'www.sdsszt.com',\n",
       " '218.22.14.66:8082',\n",
       " 'www.cdgs.gov.cn',\n",
       " 'qyxy.baic.gov.cn',\n",
       " 'gsxt.zjaic.gov.cn',\n",
       " '202.100.252.118:8079',\n",
       " 'gsxt.hnaic.gov.cn',\n",
       " 'sx.gsxt.gov.cn',\n",
       " '222.76.242.84:8084',\n",
       " 'www.hebscztxyxx.gov.cn',\n",
       " 'www.gxqyxygs.gov.cn',\n",
       " 'gsxt.sxaic.gov.cn',\n",
       " 'aic.hainan.gov.cn:1888',\n",
       " 'gsxt.ynaic.gov.cn',\n",
       " 'gsxt.gzgs.gov.cn',\n",
       " 'hi.gsxt.gov.cn',\n",
       " 'www.sgs.gov.cn',\n",
       " 'gz.gsxt.gov.cn',\n",
       " '202.100.252.118:1888',\n",
       " 'weixin.qq.com',\n",
       " 'www.szcredit.com.cn',\n",
       " 'xygs.snaic.gov.cn',\n",
       " 'a.myapp.com',\n",
       " 'search.gjsy.gov.cn',\n",
       " 'www.saic.gov.cn',\n",
       " '211.141.74.198:8081',\n",
       " 'wsjj.jlpay.com',\n",
       " 'dwz.cn']"
      ]
     },
     "execution_count": 58,
     "metadata": {},
     "output_type": "execute_result"
    }
   ],
   "source": [
    "old"
   ]
  },
  {
   "cell_type": "code",
   "execution_count": 63,
   "metadata": {},
   "outputs": [],
   "source": [
    "new_one = temp.index.tolist()"
   ]
  },
  {
   "cell_type": "code",
   "execution_count": 64,
   "metadata": {},
   "outputs": [
    {
     "data": {
      "text/plain": [
       "47"
      ]
     },
     "execution_count": 64,
     "metadata": {},
     "output_type": "execute_result"
    }
   ],
   "source": [
    "len(new_one)"
   ]
  },
  {
   "cell_type": "code",
   "execution_count": 65,
   "metadata": {},
   "outputs": [
    {
     "name": "stdout",
     "output_type": "stream",
     "text": [
      "gsxt.scaic.gov.cn  http:\n",
      "www.cdgs.gov.cn  http:\n",
      "sn.gsxt.gov.cn\n",
      "www.xiamencredit.gov.cn:8084\n",
      "wsgs.fjaic.gov.cn\n",
      "www.xiamencredit.gov.cn:8085\n",
      "gsxt.lngs.gov.cn\n",
      "113.98.246.4:7013\n",
      "m.qi315.cn:8282\n",
      "open.weixin.qq.com\n"
     ]
    }
   ],
   "source": [
    "for n in new_one:\n",
    "    if n not in old:\n",
    "        print(n)"
   ]
  }
 ],
 "metadata": {
  "kernelspec": {
   "display_name": "Python 3",
   "language": "python",
   "name": "python3"
  },
  "language_info": {
   "codemirror_mode": {
    "name": "ipython",
    "version": 3
   },
   "file_extension": ".py",
   "mimetype": "text/x-python",
   "name": "python",
   "nbconvert_exporter": "python",
   "pygments_lexer": "ipython3",
   "version": "3.6.2"
  }
 },
 "nbformat": 4,
 "nbformat_minor": 2
}
