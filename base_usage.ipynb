{
 "cells": [
  {
   "cell_type": "code",
   "execution_count": 1,
   "metadata": {},
   "outputs": [],
   "source": [
    "import six"
   ]
  },
  {
   "cell_type": "code",
   "execution_count": 1,
   "metadata": {},
   "outputs": [],
   "source": [
    "name ='NBA'\n",
    "word='I love this {!r} game'.format(name)"
   ]
  },
  {
   "cell_type": "code",
   "execution_count": 2,
   "metadata": {},
   "outputs": [
    {
     "data": {
      "text/plain": [
       "\"I love this 'NBA' game\""
      ]
     },
     "execution_count": 2,
     "metadata": {},
     "output_type": "execute_result"
    }
   ],
   "source": [
    "word"
   ]
  },
  {
   "cell_type": "code",
   "execution_count": 2,
   "metadata": {
    "scrolled": false
   },
   "outputs": [
    {
     "data": {
      "text/plain": [
       "True"
      ]
     },
     "execution_count": 2,
     "metadata": {},
     "output_type": "execute_result"
    }
   ],
   "source": [
    "six.PY3"
   ]
  },
  {
   "cell_type": "code",
   "execution_count": 3,
   "metadata": {},
   "outputs": [
    {
     "data": {
      "text/plain": [
       "False"
      ]
     },
     "execution_count": 3,
     "metadata": {},
     "output_type": "execute_result"
    }
   ],
   "source": [
    "six.PY2"
   ]
  },
  {
   "cell_type": "code",
   "execution_count": 4,
   "metadata": {},
   "outputs": [],
   "source": [
    "r1={'name':'Mike','age':23}"
   ]
  },
  {
   "cell_type": "code",
   "execution_count": 5,
   "metadata": {},
   "outputs": [
    {
     "data": {
      "text/plain": [
       "{'age': 23, 'name': 'Mike'}"
      ]
     },
     "execution_count": 5,
     "metadata": {},
     "output_type": "execute_result"
    }
   ],
   "source": [
    "r1"
   ]
  },
  {
   "cell_type": "code",
   "execution_count": 6,
   "metadata": {},
   "outputs": [],
   "source": [
    "r2=r1.copy()"
   ]
  },
  {
   "cell_type": "code",
   "execution_count": 7,
   "metadata": {},
   "outputs": [],
   "source": [
    "r2['name']='Rocky'"
   ]
  },
  {
   "cell_type": "code",
   "execution_count": 8,
   "metadata": {},
   "outputs": [
    {
     "data": {
      "text/plain": [
       "{'age': 23, 'name': 'Rocky'}"
      ]
     },
     "execution_count": 8,
     "metadata": {},
     "output_type": "execute_result"
    }
   ],
   "source": [
    "r2"
   ]
  },
  {
   "cell_type": "code",
   "execution_count": 9,
   "metadata": {},
   "outputs": [
    {
     "data": {
      "text/plain": [
       "{'age': 23, 'name': 'Mike'}"
      ]
     },
     "execution_count": 9,
     "metadata": {},
     "output_type": "execute_result"
    }
   ],
   "source": [
    "r1"
   ]
  },
  {
   "cell_type": "code",
   "execution_count": 10,
   "metadata": {},
   "outputs": [],
   "source": [
    "r3=r1"
   ]
  },
  {
   "cell_type": "code",
   "execution_count": 11,
   "metadata": {},
   "outputs": [
    {
     "data": {
      "text/plain": [
       "{'age': 23, 'name': 'Mike'}"
      ]
     },
     "execution_count": 11,
     "metadata": {},
     "output_type": "execute_result"
    }
   ],
   "source": [
    "r3"
   ]
  },
  {
   "cell_type": "code",
   "execution_count": 12,
   "metadata": {},
   "outputs": [],
   "source": [
    "r1['age']=99"
   ]
  },
  {
   "cell_type": "code",
   "execution_count": 13,
   "metadata": {},
   "outputs": [
    {
     "data": {
      "text/plain": [
       "{'age': 99, 'name': 'Mike'}"
      ]
     },
     "execution_count": 13,
     "metadata": {},
     "output_type": "execute_result"
    }
   ],
   "source": [
    "r1"
   ]
  },
  {
   "cell_type": "code",
   "execution_count": 14,
   "metadata": {
    "scrolled": true
   },
   "outputs": [
    {
     "data": {
      "text/plain": [
       "{'age': 99, 'name': 'Mike'}"
      ]
     },
     "execution_count": 14,
     "metadata": {},
     "output_type": "execute_result"
    }
   ],
   "source": [
    "r3"
   ]
  },
  {
   "cell_type": "code",
   "execution_count": 15,
   "metadata": {},
   "outputs": [
    {
     "name": "stdout",
     "output_type": "stream",
     "text": [
      "Aus\n"
     ]
    }
   ],
   "source": [
    "class A(object):\n",
    "    name = 'Aus'\n",
    "a=A()\n",
    "print(a.name)"
   ]
  },
  {
   "cell_type": "code",
   "execution_count": 16,
   "metadata": {
    "scrolled": true
   },
   "outputs": [
    {
     "name": "stdout",
     "output_type": "stream",
     "text": [
      "None\n"
     ]
    }
   ],
   "source": [
    "print(getattr(a,'aa',None))"
   ]
  },
  {
   "cell_type": "code",
   "execution_count": 3,
   "metadata": {},
   "outputs": [
    {
     "data": {
      "text/plain": [
       "22"
      ]
     },
     "execution_count": 3,
     "metadata": {},
     "output_type": "execute_result"
    }
   ],
   "source": [
    "import math\n",
    "a=211/10\n",
    "math.ceil(a)"
   ]
  },
  {
   "cell_type": "code",
   "execution_count": 1,
   "metadata": {},
   "outputs": [],
   "source": [
    "bit_size = 1 << 31"
   ]
  },
  {
   "cell_type": "code",
   "execution_count": 2,
   "metadata": {},
   "outputs": [
    {
     "data": {
      "text/plain": [
       "2147483648"
      ]
     },
     "execution_count": 2,
     "metadata": {},
     "output_type": "execute_result"
    }
   ],
   "source": [
    "bit_size"
   ]
  },
  {
   "cell_type": "code",
   "execution_count": 45,
   "metadata": {
    "scrolled": true
   },
   "outputs": [
    {
     "data": {
      "text/plain": [
       "2147483648"
      ]
     },
     "execution_count": 45,
     "metadata": {},
     "output_type": "execute_result"
    }
   ],
   "source": [
    "2**31"
   ]
  },
  {
   "cell_type": "code",
   "execution_count": 17,
   "metadata": {},
   "outputs": [],
   "source": [
    "import hashlib"
   ]
  },
  {
   "cell_type": "code",
   "execution_count": 19,
   "metadata": {},
   "outputs": [],
   "source": [
    "t = b'First String'"
   ]
  },
  {
   "cell_type": "code",
   "execution_count": 20,
   "metadata": {},
   "outputs": [],
   "source": [
    "m5 = hashlib.new('md5')\n",
    "m5.update(t)\n",
    "m_h = m5.hexdigest()"
   ]
  },
  {
   "cell_type": "code",
   "execution_count": 40,
   "metadata": {},
   "outputs": [
    {
     "data": {
      "text/plain": [
       "32"
      ]
     },
     "execution_count": 40,
     "metadata": {},
     "output_type": "execute_result"
    }
   ],
   "source": [
    "len(m_h)"
   ]
  },
  {
   "cell_type": "code",
   "execution_count": 41,
   "metadata": {},
   "outputs": [
    {
     "data": {
      "text/plain": [
       "'91617d13e51cfd7395da2ef7d3e95e3a'"
      ]
     },
     "execution_count": 41,
     "metadata": {},
     "output_type": "execute_result"
    }
   ],
   "source": [
    "m_h"
   ]
  },
  {
   "cell_type": "code",
   "execution_count": 25,
   "metadata": {},
   "outputs": [
    {
     "name": "stdout",
     "output_type": "stream",
     "text": [
      "<class 'str'> abc\n",
      "<class 'bytes'> b'abc'\n",
      "-----------------------\n",
      "<class 'bytes'> b'abcd'\n",
      "abcd\n"
     ]
    }
   ],
   "source": [
    "string_ = 'abc'\n",
    "a = bytes(string_,'utf-8')  \n",
    "print(type(str0),str0)\n",
    "print(type(a),a)   \n",
    "print('-----------------------') \n",
    "  \n",
    "c = bytes([97,98,99,100])  \n",
    "print(type(c),c)\n",
    "str1= str(c,\"utf-8\")  \n",
    "print(str1)"
   ]
  },
  {
   "cell_type": "code",
   "execution_count": 26,
   "metadata": {},
   "outputs": [],
   "source": [
    "b = b\"example\"\n",
    "\n",
    "# str object  \n",
    "s = \"example\"  \n",
    "\n",
    "# str to bytes  \n",
    "sb = bytes(s, encoding = \"utf8\")  \n",
    "\n",
    "# bytes to str  \n",
    "bs = str(b, encoding = \"utf8\")  \n",
    "\n",
    "# an alternative method  \n",
    "# str to bytes  \n",
    "sb2 = str.encode(s)  \n",
    "\n",
    "# bytes to str  \n",
    "bs2 = bytes.decode(b)"
   ]
  },
  {
   "cell_type": "code",
   "execution_count": 27,
   "metadata": {},
   "outputs": [
    {
     "data": {
      "text/plain": [
       "b'example'"
      ]
     },
     "execution_count": 27,
     "metadata": {},
     "output_type": "execute_result"
    }
   ],
   "source": [
    "b"
   ]
  },
  {
   "cell_type": "code",
   "execution_count": 28,
   "metadata": {},
   "outputs": [
    {
     "data": {
      "text/plain": [
       "'example'"
      ]
     },
     "execution_count": 28,
     "metadata": {},
     "output_type": "execute_result"
    }
   ],
   "source": [
    "bs"
   ]
  },
  {
   "cell_type": "code",
   "execution_count": 29,
   "metadata": {},
   "outputs": [
    {
     "data": {
      "text/plain": [
       "b'example'"
      ]
     },
     "execution_count": 29,
     "metadata": {},
     "output_type": "execute_result"
    }
   ],
   "source": [
    "sb2"
   ]
  },
  {
   "cell_type": "code",
   "execution_count": 34,
   "metadata": {},
   "outputs": [
    {
     "data": {
      "text/plain": [
       "'0b1100001'"
      ]
     },
     "execution_count": 34,
     "metadata": {},
     "output_type": "execute_result"
    }
   ],
   "source": [
    "bin(ord('a'))"
   ]
  },
  {
   "cell_type": "code",
   "execution_count": 36,
   "metadata": {},
   "outputs": [
    {
     "data": {
      "text/plain": [
       "171"
      ]
     },
     "execution_count": 36,
     "metadata": {},
     "output_type": "execute_result"
    }
   ],
   "source": [
    "x='abcd'\n",
    "int(x[0:2],16)"
   ]
  },
  {
   "cell_type": "code",
   "execution_count": 39,
   "metadata": {},
   "outputs": [
    {
     "ename": "ValueError",
     "evalue": "invalid literal for int() with base 16: 'ay'",
     "output_type": "error",
     "traceback": [
      "\u001b[1;31m---------------------------------------------------------------------------\u001b[0m",
      "\u001b[1;31mValueError\u001b[0m                                Traceback (most recent call last)",
      "\u001b[1;32m<ipython-input-39-714f8c63d99b>\u001b[0m in \u001b[0;36m<module>\u001b[1;34m()\u001b[0m\n\u001b[1;32m----> 1\u001b[1;33m \u001b[0mint\u001b[0m\u001b[1;33m(\u001b[0m\u001b[1;34m'ay'\u001b[0m\u001b[1;33m,\u001b[0m\u001b[1;36m16\u001b[0m\u001b[1;33m)\u001b[0m\u001b[1;33m\u001b[0m\u001b[0m\n\u001b[0m",
      "\u001b[1;31mValueError\u001b[0m: invalid literal for int() with base 16: 'ay'"
     ]
    }
   ],
   "source": [
    "int('ay',16)"
   ]
  },
  {
   "cell_type": "code",
   "execution_count": 43,
   "metadata": {},
   "outputs": [
    {
     "data": {
      "text/plain": [
       "97"
      ]
     },
     "execution_count": 43,
     "metadata": {},
     "output_type": "execute_result"
    }
   ],
   "source": [
    "ord('a')"
   ]
  },
  {
   "cell_type": "code",
   "execution_count": 46,
   "metadata": {},
   "outputs": [
    {
     "data": {
      "text/plain": [
       "1978907717"
      ]
     },
     "execution_count": 46,
     "metadata": {},
     "output_type": "execute_result"
    }
   ],
   "source": [
    "(2147483648-1) & 150320808235888861770923077"
   ]
  },
  {
   "cell_type": "code",
   "execution_count": 47,
   "metadata": {},
   "outputs": [
    {
     "data": {
      "text/plain": [
       "'0b1111111111111111111111111111111'"
      ]
     },
     "execution_count": 47,
     "metadata": {},
     "output_type": "execute_result"
    }
   ],
   "source": [
    "bin(2147483648-1)"
   ]
  },
  {
   "cell_type": "code",
   "execution_count": 49,
   "metadata": {},
   "outputs": [
    {
     "data": {
      "text/plain": [
       "31"
      ]
     },
     "execution_count": 49,
     "metadata": {},
     "output_type": "execute_result"
    }
   ],
   "source": [
    "len('1111111111111111111111111111111')"
   ]
  },
  {
   "cell_type": "code",
   "execution_count": 55,
   "metadata": {},
   "outputs": [
    {
     "data": {
      "text/plain": [
       "'0b111110001010111101010110101011111001011111111010100011001110101111100111011110001000101'"
      ]
     },
     "execution_count": 55,
     "metadata": {},
     "output_type": "execute_result"
    }
   ],
   "source": [
    "bin(150320808235888861770923077)"
   ]
  },
  {
   "cell_type": "code",
   "execution_count": 51,
   "metadata": {},
   "outputs": [],
   "source": [
    "s= '111110001010111101010110101011111001011111111010100011001110101111100111011110001000101'"
   ]
  },
  {
   "cell_type": "code",
   "execution_count": 52,
   "metadata": {},
   "outputs": [
    {
     "data": {
      "text/plain": [
       "'0b1110101111100111011110001000101'"
      ]
     },
     "execution_count": 52,
     "metadata": {},
     "output_type": "execute_result"
    }
   ],
   "source": [
    "bin(1978907717)"
   ]
  },
  {
   "cell_type": "code",
   "execution_count": 53,
   "metadata": {},
   "outputs": [
    {
     "data": {
      "text/plain": [
       "'1110101111100111011110001000101'"
      ]
     },
     "execution_count": 53,
     "metadata": {},
     "output_type": "execute_result"
    }
   ],
   "source": [
    "s[-31:]"
   ]
  },
  {
   "cell_type": "code",
   "execution_count": 56,
   "metadata": {},
   "outputs": [
    {
     "data": {
      "text/plain": [
       "86"
      ]
     },
     "execution_count": 56,
     "metadata": {},
     "output_type": "execute_result"
    }
   ],
   "source": [
    "len('11111000101011110101011010101111100101111111101010001100111010111110011101111000100010')"
   ]
  },
  {
   "cell_type": "code",
   "execution_count": 4,
   "metadata": {},
   "outputs": [
    {
     "name": "stdout",
     "output_type": "stream",
     "text": [
      "['*****\\n        ', <!--can u get me, bitch?-->, '\\n    ']\n",
      "<class 'lxml.etree._Comment'>\n",
      "can u get me, bitch?\n"
     ]
    }
   ],
   "source": [
    "from lxml import etree\n",
    " \n",
    "html_str = \"\"\"\n",
    "<div id=\"box1\">this from blog.csdn.net/lncxydjq , DO NOT COPY!\n",
    "    <div id=\"box2\">*****\n",
    "        <!--can u get me, bitch?-->\n",
    "    </div>\n",
    "</div>\n",
    "\"\"\"\n",
    " \n",
    "html = etree.HTML(html_str)\n",
    " \n",
    "print(html.xpath('//div[@id=\"box1\"]/div/node()'))\n",
    "print(type(html.xpath('//div[@id=\"box1\"]/div/node()')[1]))\n",
    "print(html.xpath('//div[@id=\"box1\"]/div/node()')[1].text)"
   ]
  },
  {
   "cell_type": "code",
   "execution_count": 1,
   "metadata": {},
   "outputs": [],
   "source": [
    "import hashlib"
   ]
  },
  {
   "cell_type": "code",
   "execution_count": 7,
   "metadata": {},
   "outputs": [
    {
     "name": "stdout",
     "output_type": "stream",
     "text": [
      "0576cc884d087d5ecfdce44a14922c32\n"
     ]
    }
   ],
   "source": [
    "h=hashlib.new('md5')\n",
    "# idnum='110101********0039'\n",
    "name='陈万华'\n",
    "new_id=bytes(name,'gbk')\n",
    "new_id_u=bytes(name,'utf-8')\n",
    "h.update(new_id)\n",
    "ret=h.hexdigest()\n",
    "print(ret)"
   ]
  },
  {
   "cell_type": "code",
   "execution_count": 8,
   "metadata": {},
   "outputs": [
    {
     "data": {
      "text/plain": [
       "b'\\xe9\\x99\\x88\\xe4\\xb8\\x87\\xe5\\x8d\\x8e'"
      ]
     },
     "execution_count": 8,
     "metadata": {},
     "output_type": "execute_result"
    }
   ],
   "source": [
    "new_id_u"
   ]
  },
  {
   "cell_type": "code",
   "execution_count": 14,
   "metadata": {
    "scrolled": true
   },
   "outputs": [
    {
     "data": {
      "text/plain": [
       "b'110101********0039'"
      ]
     },
     "execution_count": 14,
     "metadata": {},
     "output_type": "execute_result"
    }
   ],
   "source": [
    "new_id"
   ]
  },
  {
   "cell_type": "code",
   "execution_count": 47,
   "metadata": {},
   "outputs": [
    {
     "data": {
      "text/plain": [
       "14"
      ]
     },
     "execution_count": 47,
     "metadata": {},
     "output_type": "execute_result"
    }
   ],
   "source": [
    "x='e'\n",
    "int(x,16)"
   ]
  },
  {
   "cell_type": "code",
   "execution_count": 37,
   "metadata": {},
   "outputs": [],
   "source": [
    "import jieba"
   ]
  },
  {
   "cell_type": "code",
   "execution_count": 49,
   "metadata": {},
   "outputs": [],
   "source": [
    "s1= '我来到清华大学'"
   ]
  },
  {
   "cell_type": "code",
   "execution_count": 50,
   "metadata": {},
   "outputs": [],
   "source": [
    "s2=jieba.cut(s1,cut_all=False)"
   ]
  },
  {
   "cell_type": "code",
   "execution_count": 40,
   "metadata": {},
   "outputs": [
    {
     "data": {
      "text/plain": [
       "'我/来/到/清/华/大/学'"
      ]
     },
     "execution_count": 40,
     "metadata": {},
     "output_type": "execute_result"
    }
   ],
   "source": [
    "'/'.join(s1)"
   ]
  },
  {
   "cell_type": "code",
   "execution_count": 44,
   "metadata": {},
   "outputs": [],
   "source": [
    "for i in s2:\n",
    "    print(i)\n",
    "#     print('end')"
   ]
  },
  {
   "cell_type": "code",
   "execution_count": 54,
   "metadata": {},
   "outputs": [
    {
     "ename": "StopIteration",
     "evalue": "",
     "output_type": "error",
     "traceback": [
      "\u001b[1;31m---------------------------------------------------------------------------\u001b[0m",
      "\u001b[1;31mStopIteration\u001b[0m                             Traceback (most recent call last)",
      "\u001b[1;32m<ipython-input-54-b5d041f6280f>\u001b[0m in \u001b[0;36m<module>\u001b[1;34m()\u001b[0m\n\u001b[1;32m----> 1\u001b[1;33m \u001b[0mnext\u001b[0m\u001b[1;33m(\u001b[0m\u001b[0ms2\u001b[0m\u001b[1;33m)\u001b[0m\u001b[1;33m\u001b[0m\u001b[0m\n\u001b[0m",
      "\u001b[1;31mStopIteration\u001b[0m: "
     ]
    }
   ],
   "source": [
    "next(s2)"
   ]
  },
  {
   "cell_type": "code",
   "execution_count": 59,
   "metadata": {},
   "outputs": [],
   "source": [
    "word='小名硕士毕业于中国科学院计算机所，后在日本京都大学深造'\n",
    "s3=jieba.cut_for_search(word)"
   ]
  },
  {
   "cell_type": "code",
   "execution_count": 58,
   "metadata": {},
   "outputs": [
    {
     "name": "stdout",
     "output_type": "stream",
     "text": [
      "小名\n",
      "硕士\n",
      "毕业\n",
      "于\n",
      "中国\n",
      "科学\n",
      "学院\n",
      "科学院\n",
      "中国科学院\n",
      "计算\n",
      "算机\n",
      "计算机\n",
      "计算机所\n",
      "，\n",
      "后\n",
      "在\n",
      "日本\n",
      "京都\n",
      "大学\n",
      "日本京都大学\n",
      "深造\n"
     ]
    }
   ],
   "source": [
    "for i in s3:\n",
    "    print(i)"
   ]
  },
  {
   "cell_type": "code",
   "execution_count": 60,
   "metadata": {},
   "outputs": [
    {
     "data": {
      "text/plain": [
       "'小名/硕士/毕业/于/中国/科学/学院/科学院/中国科学院/计算/算机/计算机/计算机所/，/后/在/日本/京都/大学/日本京都大学/深造'"
      ]
     },
     "execution_count": 60,
     "metadata": {},
     "output_type": "execute_result"
    }
   ],
   "source": [
    "'/'.join(s3)"
   ]
  },
  {
   "cell_type": "code",
   "execution_count": 62,
   "metadata": {},
   "outputs": [],
   "source": [
    "content ='''习近平首先感谢阿联酋方面作出的盛大热情接待安排，指出这充分体现了阿方对中国人民的友好感情和对中阿关系的高度重视。习近平强调，2015年12月，我同王储殿下在北京就加强两国友好合作达成很多重要共识，共同引领双边关系进入全面、快速、深入发展新阶段。中阿合作前景广阔、潜力巨大。这次访问期间，我们两国正式建立中阿全面战略伙伴关系，有利于双方深化战略互信，提升互利合作水平。相信中阿可以成为相互学习、相互借鉴、相互帮助的好朋友、好伙伴，实现共同发展繁荣。习近平并请转达对哈利法总统的亲切问候，祝他早日康复。\n",
    "\n",
    "　　习近平强调，双方要把中阿全面战略伙伴关系落到实处，夯实政治互信，继续照顾彼此核心利益和重大关切，支持对方走适合本国国情的发展道路。中阿是共建“一带一路”的天然合作伙伴，中方视阿联酋为“一带一路”建设重要支点国家，赞赏王储殿下提出“重振丝绸之路”设想。双方要加强发展战略对接和产业政策沟通，规划好、运营好中阿共建“一带一路”旗舰项目，促进中东海湾地区经济发展。中方愿同阿方打造全方位、立体化能源合作格局，深化投资和金融合作，拓展创新合作。要加强安全合作，坚决反对一切形式的恐怖主义。要坚持民心相通，密切人文交流，加强不同宗教和不同文化包容互鉴。中方支持实施好王储殿下发起的“青年大使”访华项目，赞赏副总统兼总理殿下推出的“拥抱中国”计划，愿同阿方分享经验，共同将迪拜世博会办成一届令人瞩目的盛会。\n",
    "\n",
    "　　习近平指出，当前，西亚北非地区民众普遍盼稳思定，谋和平、行改革、促发展是不可阻挡的潮流。中方愿同阿方深化战略合作，积极探索以发展促和平的中东治理路径，通过政治途径解决热点问题，共同促进中东地区安全稳定。\n",
    "\n",
    "　　穆罕默德副总统兼总理表示，热烈欢迎习近平主席来访，希望习主席感到宾至如归。阿联酋钦佩中国的发展模式和骄人成就，赞赏中国奉行开放的发展战略，愿密切同中国广泛领域合作，做中国可靠的伙伴。相信习主席这次访问将把阿中伙伴关系推向新高度。通过古老的丝绸之路，阿拉伯世界同中国保持着悠久的传统友好。今天，中国正引领世界重启丝绸之路，“一带一路”倡议受到国际社会广泛支持。阿联酋愿继续积极参与“一带一路”合作。\n",
    "\n",
    "　　阿布扎比王储穆罕默德表示，我对2015年对中国的访问记忆犹新。阿方很高兴能接待习主席这次对阿联酋的历史性访问。我们十分钦佩中国取得的发展成就，高度认同习近平主席的远见卓识和治国理政理念，相信中国有着光明的未来，必将为世界和平和人类进步作出更大贡献。阿中在政治、经济、金融、科技、能源、人文等广泛领域拥有巨大合作潜力，深化同兄弟般中国的传统、战略、友好关系始终是阿联酋对外关系的重中之重。阿中关系提升至全面战略伙伴关系符合双方共同心愿，将更好造福两国人民。阿联酋坚定支持一个中国原则，赞赏中国在国际事务中的重要作用，愿密切同中国在发展、反恐等重大问题上的沟通和协调。\n",
    "\n",
    "　　会谈后，双方发表了《中华人民共和国和阿拉伯联合酋长国关于建立全面战略伙伴关系的联合声明》。\n",
    "\n",
    "　　两国领导人共同见证了“一带一路”建设等合作文件的签署。'''"
   ]
  },
  {
   "cell_type": "code",
   "execution_count": 63,
   "metadata": {},
   "outputs": [
    {
     "data": {
      "text/plain": [
       "'习近平首先感谢阿联酋方面作出的盛大热情接待安排，指出这充分体现了阿方对中国人民的友好感情和对中阿关系的高度重视。习近平强调，2015年12月，我同王储殿下在北京就加强两国友好合作达成很多重要共识，共同引领双边关系进入全面、快速、深入发展新阶段。中阿合作前景广阔、潜力巨大。这次访问期间，我们两国正式建立中阿全面战略伙伴关系，有利于双方深化战略互信，提升互利合作水平。相信中阿可以成为相互学习、相互借鉴、相互帮助的好朋友、好伙伴，实现共同发展繁荣。习近平并请转达对哈利法总统的亲切问候，祝他早日康复。\\n\\n\\u3000\\u3000习近平强调，双方要把中阿全面战略伙伴关系落到实处，夯实政治互信，继续照顾彼此核心利益和重大关切，支持对方走适合本国国情的发展道路。中阿是共建“一带一路”的天然合作伙伴，中方视阿联酋为“一带一路”建设重要支点国家，赞赏王储殿下提出“重振丝绸之路”设想。双方要加强发展战略对接和产业政策沟通，规划好、运营好中阿共建“一带一路”旗舰项目，促进中东海湾地区经济发展。中方愿同阿方打造全方位、立体化能源合作格局，深化投资和金融合作，拓展创新合作。要加强安全合作，坚决反对一切形式的恐怖主义。要坚持民心相通，密切人文交流，加强不同宗教和不同文化包容互鉴。中方支持实施好王储殿下发起的“青年大使”访华项目，赞赏副总统兼总理殿下推出的“拥抱中国”计划，愿同阿方分享经验，共同将迪拜世博会办成一届令人瞩目的盛会。\\n\\n\\u3000\\u3000习近平指出，当前，西亚北非地区民众普遍盼稳思定，谋和平、行改革、促发展是不可阻挡的潮流。中方愿同阿方深化战略合作，积极探索以发展促和平的中东治理路径，通过政治途径解决热点问题，共同促进中东地区安全稳定。\\n\\n\\u3000\\u3000穆罕默德副总统兼总理表示，热烈欢迎习近平主席来访，希望习主席感到宾至如归。阿联酋钦佩中国的发展模式和骄人成就，赞赏中国奉行开放的发展战略，愿密切同中国广泛领域合作，做中国可靠的伙伴。相信习主席这次访问将把阿中伙伴关系推向新高度。通过古老的丝绸之路，阿拉伯世界同中国保持着悠久的传统友好。今天，中国正引领世界重启丝绸之路，“一带一路”倡议受到国际社会广泛支持。阿联酋愿继续积极参与“一带一路”合作。\\n\\n\\u3000\\u3000阿布扎比王储穆罕默德表示，我对2015年对中国的访问记忆犹新。阿方很高兴能接待习主席这次对阿联酋的历史性访问。我们十分钦佩中国取得的发展成就，高度认同习近平主席的远见卓识和治国理政理念，相信中国有着光明的未来，必将为世界和平和人类进步作出更大贡献。阿中在政治、经济、金融、科技、能源、人文等广泛领域拥有巨大合作潜力，深化同兄弟般中国的传统、战略、友好关系始终是阿联酋对外关系的重中之重。阿中关系提升至全面战略伙伴关系符合双方共同心愿，将更好造福两国人民。阿联酋坚定支持一个中国原则，赞赏中国在国际事务中的重要作用，愿密切同中国在发展、反恐等重大问题上的沟通和协调。\\n\\n\\u3000\\u3000会谈后，双方发表了《中华人民共和国和阿拉伯联合酋长国关于建立全面战略伙伴关系的联合声明》。\\n\\n\\u3000\\u3000两国领导人共同见证了“一带一路”建设等合作文件的签署。'"
      ]
     },
     "execution_count": 63,
     "metadata": {},
     "output_type": "execute_result"
    }
   ],
   "source": [
    "content"
   ]
  },
  {
   "cell_type": "code",
   "execution_count": 64,
   "metadata": {},
   "outputs": [],
   "source": [
    "import jieba.analyse"
   ]
  },
  {
   "cell_type": "code",
   "execution_count": 67,
   "metadata": {},
   "outputs": [
    {
     "data": {
      "text/plain": [
       "[('习近平', 0.15732846992714286),\n",
       " ('合作', 0.13743086181049888),\n",
       " ('阿联酋', 0.1357709543057143),\n",
       " ('阿方', 0.13269221173015874),\n",
       " ('中国', 0.1029700913829932),\n",
       " ('战略伙伴', 0.10152043039365079),\n",
       " ('王储', 0.09618903207256237),\n",
       " ('一路', 0.08724332158938775),\n",
       " ('愿同', 0.08132494899931972),\n",
       " ('阿中', 0.08132494899931972)]"
      ]
     },
     "execution_count": 67,
     "metadata": {},
     "output_type": "execute_result"
    }
   ],
   "source": [
    "jieba.analyse.extract_tags(content,topK=10,withWeight=True,allowPOS=())"
   ]
  },
  {
   "cell_type": "code",
   "execution_count": 1,
   "metadata": {},
   "outputs": [],
   "source": [
    "# 生僻字\n",
    "content = '建昇大厦'"
   ]
  },
  {
   "cell_type": "code",
   "execution_count": 3,
   "metadata": {},
   "outputs": [
    {
     "name": "stdout",
     "output_type": "stream",
     "text": [
      "建昇大厦\n"
     ]
    }
   ],
   "source": [
    "print(content)"
   ]
  },
  {
   "cell_type": "code",
   "execution_count": 1,
   "metadata": {},
   "outputs": [],
   "source": [
    "i=100"
   ]
  },
  {
   "cell_type": "code",
   "execution_count": 2,
   "metadata": {},
   "outputs": [],
   "source": [
    "a=1 if i <100 else 2 if i >100 else 0"
   ]
  },
  {
   "cell_type": "code",
   "execution_count": 3,
   "metadata": {},
   "outputs": [
    {
     "data": {
      "text/plain": [
       "0"
      ]
     },
     "execution_count": 3,
     "metadata": {},
     "output_type": "execute_result"
    }
   ],
   "source": [
    "a"
   ]
  },
  {
   "cell_type": "code",
   "execution_count": 7,
   "metadata": {},
   "outputs": [],
   "source": [
    "i=101"
   ]
  },
  {
   "cell_type": "code",
   "execution_count": 8,
   "metadata": {},
   "outputs": [],
   "source": [
    "a=1 if i <100 else 2 if i >100 else 0"
   ]
  },
  {
   "cell_type": "code",
   "execution_count": 9,
   "metadata": {},
   "outputs": [
    {
     "data": {
      "text/plain": [
       "2"
      ]
     },
     "execution_count": 9,
     "metadata": {},
     "output_type": "execute_result"
    }
   ],
   "source": [
    "a"
   ]
  },
  {
   "cell_type": "code",
   "execution_count": 1,
   "metadata": {},
   "outputs": [
    {
     "name": "stdout",
     "output_type": "stream",
     "text": [
      "0\n",
      "17\n",
      "34\n",
      "51\n",
      "68\n",
      "85\n",
      "102\n",
      "119\n",
      "136\n",
      "153\n",
      "170\n",
      "187\n",
      "204\n",
      "221\n",
      "238\n",
      "255\n",
      "272\n",
      "289\n",
      "306\n",
      "323\n",
      "340\n",
      "357\n",
      "374\n",
      "391\n",
      "408\n",
      "425\n",
      "442\n",
      "459\n",
      "476\n",
      "493\n",
      "510\n",
      "527\n",
      "544\n",
      "561\n",
      "578\n",
      "595\n",
      "612\n",
      "629\n",
      "646\n",
      "663\n",
      "680\n",
      "697\n",
      "714\n",
      "731\n",
      "748\n",
      "765\n",
      "782\n",
      "799\n",
      "816\n",
      "833\n",
      "850\n",
      "867\n",
      "884\n",
      "901\n",
      "918\n",
      "935\n",
      "952\n",
      "969\n",
      "986\n",
      "1003\n",
      "1020\n",
      "1037\n",
      "1054\n",
      "1071\n",
      "1088\n",
      "1105\n",
      "1122\n",
      "1139\n",
      "1156\n",
      "1173\n",
      "1190\n",
      "1207\n",
      "1224\n",
      "1241\n",
      "1258\n",
      "1275\n",
      "1292\n",
      "1309\n",
      "1326\n",
      "1343\n",
      "1360\n",
      "1377\n",
      "1394\n",
      "1411\n",
      "1428\n",
      "1445\n",
      "1462\n",
      "1479\n",
      "1496\n",
      "1513\n",
      "1530\n",
      "1547\n",
      "1564\n",
      "1581\n",
      "1598\n",
      "1615\n",
      "1632\n",
      "1649\n",
      "1666\n",
      "1683\n",
      "1700\n",
      "1717\n",
      "1734\n",
      "1751\n",
      "1768\n",
      "1785\n",
      "1802\n",
      "1819\n",
      "1836\n",
      "1853\n",
      "1870\n",
      "1887\n",
      "1904\n",
      "1921\n",
      "1938\n",
      "1955\n",
      "1972\n",
      "1989\n",
      "2006\n",
      "2023\n",
      "2040\n",
      "2057\n",
      "2074\n",
      "2091\n",
      "2108\n",
      "2125\n",
      "2142\n",
      "2159\n",
      "2176\n",
      "2193\n",
      "2210\n",
      "2227\n",
      "2244\n",
      "2261\n",
      "2278\n",
      "2295\n",
      "2312\n",
      "2329\n",
      "2346\n",
      "2363\n",
      "2380\n",
      "2397\n",
      "2414\n",
      "2431\n",
      "2448\n",
      "2465\n",
      "2482\n",
      "2499\n",
      "2516\n",
      "2533\n",
      "2550\n",
      "2567\n",
      "2584\n",
      "2601\n",
      "2618\n",
      "2635\n",
      "2652\n",
      "2669\n",
      "2686\n",
      "2703\n",
      "2720\n",
      "2737\n",
      "2754\n",
      "2771\n",
      "2788\n",
      "2805\n",
      "2822\n",
      "2839\n",
      "2856\n",
      "2873\n",
      "2890\n",
      "2907\n",
      "2924\n",
      "2941\n",
      "2958\n",
      "2975\n",
      "2992\n",
      "3009\n",
      "3026\n",
      "3043\n",
      "3060\n",
      "3077\n",
      "3094\n",
      "3111\n",
      "3128\n",
      "3145\n",
      "3162\n",
      "3179\n",
      "3196\n",
      "3213\n",
      "3230\n",
      "3247\n",
      "3264\n",
      "3281\n",
      "3298\n",
      "3315\n",
      "3332\n",
      "3349\n",
      "3366\n",
      "3383\n",
      "3400\n",
      "3417\n",
      "3434\n",
      "3451\n",
      "3468\n",
      "3485\n",
      "3502\n",
      "3519\n",
      "3536\n",
      "3553\n",
      "3570\n",
      "3587\n",
      "3604\n",
      "3621\n",
      "3638\n",
      "3655\n",
      "3672\n",
      "3689\n",
      "3706\n",
      "3723\n",
      "3740\n",
      "3757\n",
      "3774\n",
      "3791\n",
      "3808\n",
      "3825\n",
      "3842\n",
      "3859\n",
      "3876\n",
      "3893\n",
      "3910\n",
      "3927\n",
      "3944\n",
      "3961\n",
      "3978\n",
      "3995\n",
      "4012\n",
      "4029\n",
      "4046\n",
      "4063\n",
      "4080\n",
      "4097\n",
      "4114\n",
      "4131\n",
      "4148\n",
      "4165\n",
      "4182\n",
      "4199\n",
      "4216\n",
      "4233\n",
      "4250\n",
      "4267\n",
      "4284\n",
      "4301\n",
      "4318\n",
      "4335\n",
      "4352\n",
      "4369\n",
      "4386\n",
      "4403\n",
      "4420\n",
      "4437\n",
      "4454\n",
      "4471\n",
      "4488\n",
      "4505\n",
      "4522\n",
      "4539\n",
      "4556\n",
      "4573\n",
      "4590\n",
      "4607\n",
      "4624\n",
      "4641\n",
      "4658\n",
      "4675\n",
      "4692\n",
      "4709\n",
      "4726\n",
      "4743\n",
      "4760\n",
      "4777\n",
      "4794\n",
      "4811\n"
     ]
    }
   ],
   "source": [
    "page=4814\n",
    "for p in range(0,page+1,17):\n",
    "    print(p)"
   ]
  },
  {
   "cell_type": "code",
   "execution_count": 2,
   "metadata": {},
   "outputs": [],
   "source": [
    "import sys"
   ]
  },
  {
   "cell_type": "code",
   "execution_count": 3,
   "metadata": {},
   "outputs": [
    {
     "data": {
      "text/plain": [
       "2147483647"
      ]
     },
     "execution_count": 3,
     "metadata": {},
     "output_type": "execute_result"
    }
   ],
   "source": [
    "sys.maxsize"
   ]
  },
  {
   "cell_type": "code",
   "execution_count": 3,
   "metadata": {},
   "outputs": [],
   "source": [
    "dict_list = [{'name':'june','age':10},{'name':'orichi','age':19}]"
   ]
  },
  {
   "cell_type": "code",
   "execution_count": 6,
   "metadata": {
    "scrolled": true
   },
   "outputs": [
    {
     "data": {
      "text/plain": [
       "\"[{'name': 'june', 'age': 10}, {'name': 'orichi', 'age': 19}]\""
      ]
     },
     "execution_count": 6,
     "metadata": {},
     "output_type": "execute_result"
    }
   ],
   "source": [
    "dict_list.__repr__()"
   ]
  },
  {
   "cell_type": "code",
   "execution_count": 7,
   "metadata": {},
   "outputs": [
    {
     "name": "stdout",
     "output_type": "stream",
     "text": [
      "the 1 has found 1\n",
      "the 2 has found 4\n",
      "the 3 has found 3\n",
      "the 4 has found 4\n"
     ]
    }
   ],
   "source": [
    "#方法1：\n",
    "mylist = [1,2,2,2,2,3,3,3,4,4,4,4]\n",
    "myset = set(mylist)  #myset是另外一个列表，里面的内容是mylist里面的无重复 项\n",
    "for item in myset:\n",
    "    print(\"the %d has found %d\" %(item,mylist.count(item)))\n",
    " \n",
    "# List=[1,2,2,2,2,3,3,3,4,4,4,4]\n",
    "# a = {}\n",
    "# for i in List:\n",
    "#     if List.count(i)>1:\n",
    "#     a[i] = List.count(i)\n",
    "# print (a)\n",
    " \n",
    "# \"\"\"利用字典的特性来实现。\n",
    "# 方法3：\"\"\"\n",
    "# >>> from collections import Counter\n",
    "# >>> Counter([1,2,2,2,2,3,3,3,4,4,4,4])\n",
    "# Counter({1: 5, 2: 3, 3: 2})\n"
   ]
  },
  {
   "cell_type": "code",
   "execution_count": 8,
   "metadata": {
    "scrolled": true
   },
   "outputs": [
    {
     "data": {
      "text/plain": [
       "0"
      ]
     },
     "execution_count": 8,
     "metadata": {},
     "output_type": "execute_result"
    }
   ],
   "source": [
    "mylist.count(6)"
   ]
  },
  {
   "cell_type": "code",
   "execution_count": 13,
   "metadata": {},
   "outputs": [
    {
     "data": {
      "text/plain": [
       "False"
      ]
     },
     "execution_count": 13,
     "metadata": {},
     "output_type": "execute_result"
    }
   ],
   "source": [
    "('k' or 'd' or 'c') in 'abc'"
   ]
  }
 ],
 "metadata": {
  "kernelspec": {
   "display_name": "Python 3",
   "language": "python",
   "name": "python3"
  },
  "language_info": {
   "codemirror_mode": {
    "name": "ipython",
    "version": 3
   },
   "file_extension": ".py",
   "mimetype": "text/x-python",
   "name": "python",
   "nbconvert_exporter": "python",
   "pygments_lexer": "ipython3",
   "version": "3.6.2"
  }
 },
 "nbformat": 4,
 "nbformat_minor": 2
}
