{
 "cells": [
  {
   "cell_type": "code",
   "execution_count": 1,
   "metadata": {},
   "outputs": [],
   "source": [
    "from PIL import Image\n",
    "import pytesseract"
   ]
  },
  {
   "cell_type": "code",
   "execution_count": 12,
   "metadata": {},
   "outputs": [],
   "source": [
    "im = Image.open('yanzenma.jpg')"
   ]
  },
  {
   "cell_type": "code",
   "execution_count": 3,
   "metadata": {},
   "outputs": [
    {
     "data": {
      "text/plain": [
       "(160, 70)"
      ]
     },
     "execution_count": 3,
     "metadata": {},
     "output_type": "execute_result"
    }
   ],
   "source": [
    "im.size"
   ]
  },
  {
   "cell_type": "code",
   "execution_count": 13,
   "metadata": {},
   "outputs": [],
   "source": [
    "# 最基本的用法\n",
    "t = pytesseract.image_to_string(im)"
   ]
  },
  {
   "cell_type": "code",
   "execution_count": 7,
   "metadata": {},
   "outputs": [],
   "source": [
    "im.show()"
   ]
  },
  {
   "cell_type": "code",
   "execution_count": 16,
   "metadata": {},
   "outputs": [
    {
     "data": {
      "text/plain": [
       "u'38-3'"
      ]
     },
     "execution_count": 16,
     "metadata": {},
     "output_type": "execute_result"
    }
   ],
   "source": [
    "t"
   ]
  },
  {
   "cell_type": "code",
   "execution_count": 6,
   "metadata": {},
   "outputs": [],
   "source": [
    "import cv2\n",
    "import matplotlib.pyplot as plt"
   ]
  },
  {
   "cell_type": "code",
   "execution_count": 7,
   "metadata": {},
   "outputs": [],
   "source": [
    "import requests"
    "import pytesseract\n",
    "import cv2\n",
    "import matplotlib.pyplot as plt\n",
    "import requests\n",
    "import os"

   ]
  },
  {
   "cell_type": "code",   "execution_count": 11,
   "metadata": {},
   "outputs": [],
   "source": [
    "r=requests.get('http://113.108.219.40/Dop/CheckCode.aspx?codemark=38.63767845258748')"
   ]
  },
  {
   "cell_type": "code",

   "execution_count": 12,
   "metadata": {},
   "outputs": [],
   "source": [
   "execution_count": 3,
   "metadata": {},
   "outputs": [],
   "source": [
    "r=requests.get('http://113.108.219.40/Dop/CheckCode.aspx?codemark=38.63767845258748')\n",
    "\n",
    "with open('code.gif','wb') as f:\n",
    "    f.write(r.content)"
   ]
  },
  {
   "cell_type": "code",
   "execution_count": 10,
   "metadata": {},
   "outputs": [],
   "source": [
    "im = Image.open('code.gif')\n",
    "im=im.convert('RGB')\n",
    "r,g,b,=im.split()"
   ]
  },
  {
   "cell_type": "code",
   "execution_count": 11,
   "metadata": {},
   "outputs": [
    {
     "name": "stdout",
     "output_type": "stream",
     "text": [
      "L\n",
      "L\n",
      "L\n"
     ]
    }
   ],
   "source": [
    "print(r.mode)\n",
    "print(g.mode)\n",
    "print(b.mode)\n",
    "\n",
    "\n",
    "\n",
    "# b.mode"
   ]
  },
  {
   "cell_type": "code",
   "execution_count": 12,
   "metadata": {},
   "outputs": [],
   "source": [
    "r.save('r.jpg')\n",
    "b.save('b.jpg')\n",
    "g.save('g.jpg')"
   ]
  },
  {
   "cell_type": "code",
   "execution_count": 13,
   "metadata": {},
   "outputs": [
    {
     "data": {
      "text/plain": [
       "u'Trvntiz. I'"
      ]
     },
     "execution_count": 13,
     "metadata": {},
     "output_type": "execute_result"
    }
   ],
   "source": [
    "# b=b.convert('1')\n",
    "pytesseract.image_to_string(g)"
   "execution_count": 28,
   "metadata": {
    "scrolled": true
   },
   "outputs": [
    {
     "name": "stdout",
     "output_type": "stream",
     "text": [
      "E:\\git\\base_function\\image_detect\n",
      "(22, 73, 3)\n"
     ]
    }
   ],
   "source": [
    "import os\n",
    "print(os.getcwd())\n",
    "# im=Image.open('code.png')\n",
    "img = cv2.imread('foo0.png')\n",
    "print(img.shape)\n",
    "# print(type(img))\n",
    "# print(img.size)\n",
    "# converted_img = cv2.cvtColor(img, cv2.COLOR_GRAY2BGR)"
   ]
  },
  {
   "cell_type": "code",
   "execution_count": 16,
   "metadata": {},
   "outputs": [
    {
     "ename": "NameError",
     "evalue": "name 'im' is not defined",
     "output_type": "error",
     "traceback": [
      "\u001b[1;31m---------------------------------------------------------------------------\u001b[0m",
      "\u001b[1;31mNameError\u001b[0m                                 Traceback (most recent call last)",
      "\u001b[1;32m<ipython-input-16-c60868b25962>\u001b[0m in \u001b[0;36m<module>\u001b[1;34m()\u001b[0m\n\u001b[1;32m----> 1\u001b[1;33m \u001b[0mim\u001b[0m\u001b[1;33m.\u001b[0m\u001b[0msize\u001b[0m\u001b[1;33m\u001b[0m\u001b[0m\n\u001b[0m",
      "\u001b[1;31mNameError\u001b[0m: name 'im' is not defined"
     ]
    }
   ],
   "source": [
    "im.size"
   ]
  },
  {
   "cell_type": "code",
   "execution_count": 55,
   "metadata": {},
   "outputs": [
    {
     "data": {
      "image/png": "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\n",
      "text/plain": [
       "<Figure size 432x288 with 9 Axes>"
      ]
     },
     "metadata": {},
     "output_type": "display_data"
    }
   ],
   "source": [
    "for i in range(9):\n",
    "    dst = cv2.fastNlMeansDenoisingColored(img,None,30,30,1+1,10+3)\n",
    "    plt.subplot(9,1,i+1)\n",
    "#     plt.imshow(img)\n",
    "#     plt.subplot(122)\n",
    "    plt.imshow(dst)\n",
    "plt.show()"
   ]
  },
  {
   "cell_type": "code",
   "execution_count": 56,
   "metadata": {
    "scrolled": true
   },
   "outputs": [
    {
     "data": {
      "text/plain": [
       "True"
      ]
     },
     "execution_count": 56,
     "metadata": {},
     "output_type": "execute_result"
    }
   ],
   "source": [
    "dst = cv2.fastNlMeansDenoisingColored(img,None,30,30,1+1,10+3)\n",
    "cv2.imwrite('cv_code.png',dst)"
   ]
  },
  {
   "cell_type": "code",
   "execution_count": 58,
   "metadata": {},
   "outputs": [
    {
     "name": "stdout",
     "output_type": "stream",
     "text": [
      "'Naszx\n"
     ]
    }
   ],
   "source": [
    "im = Image.open('cv_code.png')\n",
    "im=im.convert('RGB')\n",
    "im.show()\n",
    "print(pytesseract.image_to_string(im))"
   ]
  },
  {
   "cell_type": "code",
=======
>>>>>>> origin/master
   "execution_count": null,
   "metadata": {},
   "outputs": [],
   "source": [
    "def get_bin_table(threshold=140):\n",
    "    table = []\n",
    "    for i in range(256):\n",
    "        if i < threshold:\n",
    "            table.append(0)\n",
    "        else:\n",
    "            table.append(1)\n",
    "    return table\n"
    "im = Image.open('code.gif')\n"
   ]
  },
  {
   "cell_type": "code",

   "execution_count": 27,
   "metadata": {},
   "outputs": [],
   "source": [
    "# gif to png\n",

   "metadata": {
    "scrolled": true
   },
   "outputs": [
    {
     "name": "stdout",
     "output_type": "stream",
     "text": [
      "(22, 73, 3)\n",
      "4818\n",
      "[[ 1  1  1]\n",
      " [ 2  2  2]\n",
      " [ 0  0  0]\n",
      " [12 12 12]\n",
      " [ 8  8  8]\n",
      " [ 0  0  0]\n",
      " [ 0  0  0]\n",
      " [ 6  6  6]\n",
      " [ 2  2  2]\n",
      " [ 0  0  0]\n",
      " [ 3  3  3]\n",
      " [ 0  0  0]\n",
      " [ 5  5  5]\n",
      " [ 0  0  0]\n",
      " [13 13 13]\n",
      " [ 0  0  0]\n",
      " [ 4  4  4]\n",
      " [ 8  8  8]\n",
      " [ 4  4  4]\n",
      " [ 0  0  0]\n",
      " [ 3  3  3]\n",
      " [ 7  7  7]]\n"
     ]
    }
   ],
   "source": [
    "# im=Image.open('code.png')\n",
    "img = cv2.imread('g.jpg')\n",
    "print(img.shape)\n",
    "# print(type(img))\n",
    "print(img.size)\n",
    "# converted_img = cv2.cvtColor(img, cv2.COLOR_GRAY2BGR)\n",
    "print(img[:,0])"
   ]
  },
  {
   "cell_type": "code",
   "execution_count": 15,
   "metadata": {},
   "outputs": [],
   "source": [
    "dst = cv2.fastNlMeansDenoisingColored(img,None,49,49,15,21)"
   ]
  },
  {
   "cell_type": "code",
   "execution_count": 21,
   "metadata": {
    "scrolled": true
   },
   "outputs": [
    {
     "name": "stdout",
     "output_type": "stream",
     "text": [
      "\n",
      "General configuration for OpenCV 2.4.13.6 =====================================\n",
      "  Version control:               2.4.13.6\n",
      "\n",
      "  Platform:\n",
      "    Timestamp:                   2018-02-22T00:42:24Z\n",
      "    Host:                        Windows 10.0.16299 AMD64\n",
      "    CMake:                       3.9.3\n",
      "    CMake generator:             Visual Studio 14 2015\n",
      "    CMake build tool:            C:/Program Files (x86)/MSBuild/14.0/bin/MSBuild.exe\n",
      "    MSVC:                        1900\n",
      "\n",
      "  C/C++:\n",
      "    Built as dynamic libs?:      NO\n",
      "    C++ Compiler:                C:/Program Files (x86)/Microsoft Visual Studio 14.0/VC/bin/cl.exe  (ver 19.0.24215.1)\n",
      "    C++ flags (Release):         /DWIN32 /D_WINDOWS /W4 /GR /EHa  /D _CRT_SECURE_NO_DEPRECATE /D _CRT_NONSTDC_NO_DEPRECATE /D _SCL_SECURE_NO_WARNINGS /Gy /bigobj /arch:SSE2 /Oi /fp:fast  /wd4251 /wd4275 /wd4589 /wd4359 /MP8  /MT /O2 /Ob2 /DNDEBUG  /Zi\n",
      "    C++ flags (Debug):           /DWIN32 /D_WINDOWS /W4 /GR /EHa  /D _CRT_SECURE_NO_DEPRECATE /D _CRT_NONSTDC_NO_DEPRECATE /D _SCL_SECURE_NO_WARNINGS /Gy /bigobj /arch:SSE2 /Oi /fp:fast  /wd4251 /wd4275 /wd4589 /wd4359 /MP8  /MTd /Zi /Ob0 /Od /RTC1 \n",
      "    C Compiler:                  C:/Program Files (x86)/Microsoft Visual Studio 14.0/VC/bin/cl.exe\n",
      "    C flags (Release):           /DWIN32 /D_WINDOWS /W3  /D _CRT_SECURE_NO_DEPRECATE /D _CRT_NONSTDC_NO_DEPRECATE /D _SCL_SECURE_NO_WARNINGS /Gy /bigobj /arch:SSE2 /Oi /fp:fast    /MP8  /MT /O2 /Ob2 /DNDEBUG  /Zi\n",
      "    C flags (Debug):             /DWIN32 /D_WINDOWS /W3  /D _CRT_SECURE_NO_DEPRECATE /D _CRT_NONSTDC_NO_DEPRECATE /D _SCL_SECURE_NO_WARNINGS /Gy /bigobj /arch:SSE2 /Oi /fp:fast    /MP8  /MTd /Zi /Ob0 /Od /RTC1 \n",
      "    Linker flags (Release):      /machine:X86  /NODEFAULTLIB:atlthunk.lib /NODEFAULTLIB:msvcrt.lib /NODEFAULTLIB:msvcrtd.lib /INCREMENTAL:NO  /debug /NODEFAULTLIB:libcmtd.lib\n",
      "    Linker flags (Debug):        /machine:X86  /NODEFAULTLIB:atlthunk.lib /NODEFAULTLIB:msvcrt.lib /NODEFAULTLIB:msvcrtd.lib /debug /INCREMENTAL  /NODEFAULTLIB:libcmt.lib\n",
      "    ccache:                      NO\n",
      "    Precompiled headers:         YES\n",
      "\n",
      "  OpenCV modules:\n",
      "    To be built:                 core flann imgproc highgui features2d calib3d ml video legacy objdetect photo gpu ocl nonfree contrib java python stitching superres ts videostab\n",
      "    Disabled:                    world\n",
      "    Disabled by dependency:      -\n",
      "    Unavailable:                 androidcamera dynamicuda viz\n",
      "\n",
      "  Windows RT support:            NO\n",
      "\n",
      "  GUI: \n",
      "    QT:                          NO\n",
      "    Win32 UI:                    YES\n",
      "    OpenGL support:              NO\n",
      "    VTK support:                 NO\n",
      "\n",
      "  Media I/O: \n",
      "    ZLib:                        build (ver 1.2.7)\n",
      "    JPEG:                        build (ver 62)\n",
      "    PNG:                         build (ver 1.5.27)\n",
      "    TIFF:                        build (ver 42 - 4.0.2)\n",
      "    JPEG 2000:                   build (ver 1.900.1)\n",
      "    OpenEXR:                     build (ver 1.7.1)\n",
      "\n",
      "  Video I/O:\n",
      "    Video for Windows:           YES\n",
      "    DC1394 1.x:                  NO\n",
      "    DC1394 2.x:                  NO\n",
      "    FFMPEG:                      YES (prebuilt binaries)\n",
      "      avcodec:                   YES (ver 55.18.102)\n",
      "      avformat:                  YES (ver 55.12.100)\n",
      "      avutil:                    YES (ver 52.38.100)\n",
      "      swscale:                   YES (ver 2.3.100)\n",
      "      avresample:                YES (ver 1.0.1)\n",
      "    OpenNI:                      NO\n",
      "    OpenNI PrimeSensor Modules:  NO\n",
      "    PvAPI:                       NO\n",
      "    GigEVisionSDK:               NO\n",
      "    DirectShow:                  YES\n",
      "    Media Foundation:            NO\n",
      "    XIMEA:                       NO\n",
      "    Intel PerC:                  NO\n",
      "\n",
      "  Other third-party libraries:\n",
      "    Use IPP:                     NO\n",
      "    Use Eigen:                   NO\n",
      "    Use TBB:                     NO\n",
      "    Use OpenMP:                  NO\n",
      "    Use GCD                      NO\n",
      "    Use Concurrency              YES\n",
      "    Use C=:                      NO\n",
      "    Use Cuda:                    NO\n",
      "    Use OpenCL:                  YES\n",
      "\n",
      "  OpenCL:\n",
      "    Version:                     dynamic\n",
      "    Include path:                C:/build/2_4_winpack-bindings-win32-vc14-static/opencv/3rdparty/include/opencl/1.2\n",
      "    Use AMD FFT:                 NO\n",
      "    Use AMD BLAS:                NO\n",
      "\n",
      "  Python:\n",
      "    Interpreter:                 C:/utils/soft/python27-x86/python2.exe (ver 2.7.12)\n",
      "    Libraries:                   C:/utils/soft/python27-x86/Libs/python27.lib (ver 2.7.12)\n",
      "    numpy:                       C:/utils/soft/python27-x86/lib/site-packages/numpy/core/include (ver 1.12.0)\n",
      "    packages path:               C:/utils/soft/python27-x86/Lib/site-packages\n",
      "\n",
      "  Java:\n",
      "    ant:                         C:/utils/soft/apache-ant-1.9.7/bin/ant.bat (ver 1.9.7)\n",
      "    JNI:                         C:/Program Files (x86)/Java/jdk1.8.0_112/include C:/Program Files (x86)/Java/jdk1.8.0_112/include/win32 C:/Program Files (x86)/Java/jdk1.8.0_112/include\n",
      "    Java tests:                  NO\n",
      "\n",
      "  Tests and samples:\n",
      "    Tests:                       NO\n",
      "    Performance tests:           NO\n",
      "    C/C++ Examples:              NO\n",
      "\n",
      "  Install path:                  C:/build/2_4_winpack-bindings-win32-vc14-static/install\n",
      "\n",
      "  cvconfig.h is in:              C:/build/2_4_winpack-bindings-win32-vc14-static/build\n",
      "-----------------------------------------------------------------\n",
      "\n",
      "\n"
     ]
    }
   ],
   "source": [
    "print(cv2.getBuildInformation()")
   ]
  },
  {
   "cell_type": "code",
   "execution_count": 16,
   "metadata": {},
   "outputs": [
    {
     "data": {
      "image/png": "iVBORw0KGgoAAAANSUhEUgAAAXQAAABQCAYAAAAJKY7HAAAABHNCSVQICAgIfAhkiAAAAAlwSFlz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\nDQ0NQ4L/AxRCgNd8IWuEAAAAAElFTkSuQmCC\n",
      "text/plain": [
       "<matplotlib.figure.Figure at 0x373bad0>"
      ]
     },
     "metadata": {},
     "output_type": "display_data"
    }
   ],
   "source": [
    "plt.subplot(121)\n",
    "plt.imshow(img)\n",
    "plt.subplot(122)\n",
    "plt.imshow(dst)\n",
    "plt.show()"
   ]
  },
  {
   "cell_type": "code",
   "execution_count": 17,
   "metadata": {},
   "outputs": [],
   "source": [
    "# 转为黑白图\n",
    "ret,thresh = cv2.threshold(dst,127,255,cv2.THRESH_BINARY_INV)"
   ]
  },
  {
   "cell_type": "code",
   "execution_count": 19,
   "metadata": {
    "scrolled": true
   },
   "outputs": [
    {
     "data": {
      "image/png": "iVBORw0KGgoAAAANSUhEUgAAAXQAAACHCAYAAAAGEqJQAAAABHNCSVQICAgIfAhkiAAAAAlwSFlz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\n",
      "text/plain": [
       "<matplotlib.figure.Figure at 0x6eed570>"
      ]
     },
     "metadata": {},
     "output_type": "display_data"
    }
   ],
   "source": [
    "plt.imshow(thresh)\n",
    "plt.show()"
   ]
  },
  {
   "cell_type": "code",
   "execution_count": null,
   "metadata": {},
   "outputs": [],
   "source": []
  },
  {
   "cell_type": "code",
   "execution_count": null,
   "metadata": {},
   "outputs": [],
   "source": [
    "# 颜色转变\n",
    "img = cv2.cvtColor(dst, cv2.COLOR_BGR2RGB)\n",
    "im_pil = Image.fromarray(img)\n",
    "im_pil.show()\n",
    "img_l = im_pil.convert('1')\n",
    "pytesseract.image_to_string(img_l)"
   ]
  },
  {
   "cell_type": "code",
   "execution_count": 22,
   "metadata": {},
   "outputs": [],
   "source": [
>>>>>>> origin/master
    "import sys\n",
    "\n",
    "def processImage(infile):\n",
    "    try:\n",
    "        im = Image.open(infile)\n",
    "    except IOError:\n",
    "        print(\"Cant load\", infile)\n",

    "        sys.exit(1)\n",
    "    i = 0\n",
    "    mypalette = im.getpalette()\n",
    "\n",
    "    try:\n",
    "        while 1:\n",
    "            im.putpalette(mypalette)\n",
    "            new_im = Image.new(\"RGBA\", im.size)\n",
    "            new_im.paste(im)\n",
    "            new_im.save('foo'+str(i)+'.png')\n",
    "\n",
    "            i += 1\n",
    "            im.seek(im.tell() + 1)\n",
    "\n",
    "    except EOFError:\n",
    "        pass # end of sequence\n",
    "\n",

    "processImage('code.gif')"
   ]
  }
 ],
 "metadata": {
  "kernelspec": {
   "display_name": "Python 3",
   "language": "python",
   "name": "python3"
  },
  "language_info": {
   "codemirror_mode": {
    "name": "ipython",
    "version": 3
   },
   "file_extension": ".py",
   "mimetype": "text/x-python",
   "name": "python",
   "nbconvert_exporter": "python",
   "pygments_lexer": "ipython3",
   "version": "3.6.2"
  }
 },
 "nbformat": 4,
 "nbformat_minor": 2
}
