{
 "cells": [
  {
   "cell_type": "code",
   "execution_count": 106,
   "metadata": {},
   "outputs": [],
   "source": [
    "import base64\n",
    "from PIL import Image\n",
    "import cv2\n",
    "import requests\n",
    "import numpy as np\n",
    "%matplotlib inline\n",
    "import matplotlib.pyplot as plt\n",
    "import copy\n",
    "import pytesseract\n",
    "from PIL import ImageFilter"
   ]
  },
  {
   "cell_type": "code",
   "execution_count": null,
   "metadata": {},
   "outputs": [],
   "source": [
    "image = 'forest.jpg'\n",
    "f = open(image,'rb')"
   ]
  },
  {
   "cell_type": "code",
   "execution_count": null,
   "metadata": {},
   "outputs": [],
   "source": [
    "f.read()"
   ]
  },
  {
   "cell_type": "code",
   "execution_count": null,
   "metadata": {},
   "outputs": [],
   "source": [
    "img_b64 = base64.b64encode(f.read())"
   ]
  },
  {
   "cell_type": "code",
   "execution_count": null,
   "metadata": {
    "scrolled": true
   },
   "outputs": [],
   "source": [
    "img_b64"
   ]
  },
  {
   "cell_type": "code",
   "execution_count": null,
   "metadata": {},
   "outputs": [],
   "source": [
    "origin_data = base64.b64decode(img_b64)"
   ]
  },
  {
   "cell_type": "code",
   "execution_count": null,
   "metadata": {
    "scrolled": false
   },
   "outputs": [],
   "source": [
    "origin_data"
   ]
  },
  {
   "cell_type": "code",
   "execution_count": null,
   "metadata": {},
   "outputs": [],
   "source": [
    "im = Image.open('code.png')\n",
    "\n",
    "with open('code.jpg','wb') as f:\n",
    "    res = requests.get('http://serv.gcis.nat.gov.tw/pub/kaptcha.jpg')\n",
    "    f.write(res.content)\n",
    "\n",
    "\n",
    "im = Image.open('code.jpg').convert('RGB')\n",
    "open_cv_image = np.array(im)\n",
    "\n",
    "im2=Image.open('code.jpg')\n",
    "im2\n",
    "open_cv_image\n",
    "\n",
    "\n",
    "plt.imshow(open_cv_image)\n",
    "\n",
    "# 转为灰度图\n",
    "imgray = cv2.cvtColor(open_cv_image,cv2.COLOR_BGR2GRAY)\n",
    "# \n",
    "ret,thresh =cv2.threshold(imgray,127,255,0)\n",
    "# plt.imshow(thresh)\n",
    "\n",
    "contour,hierarchy =cv2.findContours(thresh,cv2.RETR_TREE,cv2.CHAIN_APPROX_SIMPLE),\n",
    "type(hierarchy)\n",
    "len(contour)\n",
    "\n",
    "thresh\n",
    "\n",
    "cnts = sorted([(c,cv2.boundingRect(c)[0]) for c in contour],key=lambda x:x[1])\n",
    "\n",
    "arr=[],\n",
    "for (c,_) in cnts:\n",
    "    (x,y,w,h) =cv2.boundingRect(c)\n",
    "    print(((x,y,w,h)))"
   ]
  },
  {
   "cell_type": "code",
   "execution_count": null,
   "metadata": {
    "scrolled": true
   },
   "outputs": [],
   "source": [
    "# RGB 去噪\n",
    "img =Image.open('clipboard.png')"
   ]
  },
  {
   "cell_type": "code",
   "execution_count": null,
   "metadata": {},
   "outputs": [],
   "source": [
    "plt.imshow(img)"
   ]
  },
  {
   "cell_type": "code",
   "execution_count": null,
   "metadata": {},
   "outputs": [],
   "source": [
    "img.mode"
   ]
  },
  {
   "cell_type": "code",
   "execution_count": null,
   "metadata": {},
   "outputs": [],
   "source": [
    "np_img = np.array(img)"
   ]
  },
  {
   "cell_type": "code",
   "execution_count": null,
   "metadata": {},
   "outputs": [],
   "source": [
    "np_img.shape"
   ]
  },
  {
   "cell_type": "code",
   "execution_count": null,
   "metadata": {},
   "outputs": [],
   "source": [
    "np_img[0,0,:]"
   ]
  },
  {
   "cell_type": "code",
   "execution_count": null,
   "metadata": {
    "scrolled": true
   },
   "outputs": [],
   "source": [
    "np_img"
   ]
  },
  {
   "cell_type": "code",
   "execution_count": null,
   "metadata": {},
   "outputs": [],
   "source": [
    "img.getpixel((0,0))"
   ]
  },
  {
   "cell_type": "code",
   "execution_count": null,
   "metadata": {},
   "outputs": [],
   "source": [
    "rgb_img = img.convert('RGB')"
   ]
  },
  {
   "cell_type": "code",
   "execution_count": null,
   "metadata": {},
   "outputs": [],
   "source": [
    "plt.imshow(rgb_img)"
   ]
  },
  {
   "cell_type": "code",
   "execution_count": null,
   "metadata": {},
   "outputs": [],
   "source": [
    "rgb_img.mode"
   ]
  },
  {
   "cell_type": "code",
   "execution_count": null,
   "metadata": {},
   "outputs": [],
   "source": [
    "w,h = rgb_img.size"
   ]
  },
  {
   "cell_type": "code",
   "execution_count": null,
   "metadata": {},
   "outputs": [],
   "source": [
    "w"
   ]
  },
  {
   "cell_type": "code",
   "execution_count": null,
   "metadata": {},
   "outputs": [],
   "source": [
    "h"
   ]
  },
  {
   "cell_type": "code",
   "execution_count": null,
   "metadata": {},
   "outputs": [],
   "source": [
    "R=0\n",
    "G=0\n",
    "B=0\n",
    "for i in range(w):\n",
    "    for j in range(h):\n",
    "        r,g,b = rgb_img.getpixel((i,j))\n",
    "        R=R+r\n",
    "        G=G+g\n",
    "        B=B+b        "
   ]
  },
  {
   "cell_type": "code",
   "execution_count": null,
   "metadata": {},
   "outputs": [],
   "source": [
    "R"
   ]
  },
  {
   "cell_type": "code",
   "execution_count": null,
   "metadata": {},
   "outputs": [],
   "source": [
    "G"
   ]
  },
  {
   "cell_type": "code",
   "execution_count": null,
   "metadata": {
    "scrolled": false
   },
   "outputs": [],
   "source": [
    "B"
   ]
  },
  {
   "cell_type": "code",
   "execution_count": null,
   "metadata": {},
   "outputs": [],
   "source": [
    "total=R+G+B"
   ]
  },
  {
   "cell_type": "code",
   "execution_count": null,
   "metadata": {},
   "outputs": [],
   "source": [
    "r_rate=R/total*100\n",
    "g_rate=G/total*100\n",
    "b_rate=B/total*100"
   ]
  },
  {
   "cell_type": "code",
   "execution_count": null,
   "metadata": {},
   "outputs": [],
   "source": [
    "r_rate"
   ]
  },
  {
   "cell_type": "code",
   "execution_count": null,
   "metadata": {},
   "outputs": [],
   "source": [
    "b_rate"
   ]
  },
  {
   "cell_type": "code",
   "execution_count": null,
   "metadata": {
    "scrolled": true
   },
   "outputs": [],
   "source": [
    "g_rate"
   ]
  },
  {
   "cell_type": "code",
   "execution_count": null,
   "metadata": {},
   "outputs": [],
   "source": [
    "copy_img = np.zeros((w,h))"
   ]
  },
  {
   "cell_type": "code",
   "execution_count": null,
   "metadata": {
    "scrolled": true
   },
   "outputs": [],
   "source": [
    "copy_img"
   ]
  },
  {
   "cell_type": "code",
   "execution_count": null,
   "metadata": {},
   "outputs": [],
   "source": [
    "rgb_img_copy = copy.copy(rgb_img)"
   ]
  },
  {
   "cell_type": "code",
   "execution_count": null,
   "metadata": {},
   "outputs": [],
   "source": [
    "# rgb_img_copy = copy.copy(rgb_img)\n",
    "rgb_img_copy=np.zeros((h,w))\n",
    "for i in range(w):\n",
    "    for j in range(h):\n",
    "        r,g,b = rgb_img.getpixel((i,j))\n",
    "        n = (r*r_rate+ b*b_rate+g*g_rate)/100\n",
    "#         print(n)\n",
    "        if n>40:\n",
    "            rgb_img_copy[j,i]=255\n",
    "#             rgb_img_copy[i,j]=[255,255,255]\n",
    "\n",
    "        else:\n",
    "            rgb_img_copy[j,i]=0\n",
    "            \n",
    "plt.imshow(rgb_img_copy)"
   ]
  },
  {
   "cell_type": "code",
   "execution_count": null,
   "metadata": {},
   "outputs": [],
   "source": [
    "# 飘线 去除\n",
    "img1 = Image.open('piaoxian1536227612.png').convert('RGB')\n",
    "img2 = Image.open('piaoxian1536227133.png').convert('RGB')"
   ]
  },
  {
   "cell_type": "code",
   "execution_count": null,
   "metadata": {
    "scrolled": false
   },
   "outputs": [],
   "source": [
    "plt.imshow(img1)"
   ]
  },
  {
   "cell_type": "code",
   "execution_count": null,
   "metadata": {
    "scrolled": false
   },
   "outputs": [],
   "source": [
    "plt.imshow(img2)"
   ]
  },
  {
   "cell_type": "code",
   "execution_count": null,
   "metadata": {},
   "outputs": [],
   "source": [
    "img1_array = np.array(img1)\n",
    "img2_array = np.array(img2)"
   ]
  },
  {
   "cell_type": "code",
   "execution_count": null,
   "metadata": {},
   "outputs": [],
   "source": [
    "for i in img2_array:\n",
    "    print(i)"
   ]
  },
  {
   "cell_type": "code",
   "execution_count": null,
   "metadata": {},
   "outputs": [],
   "source": [
    "img2_array.shape"
   ]
  },
  {
   "cell_type": "code",
   "execution_count": null,
   "metadata": {
    "scrolled": false
   },
   "outputs": [],
   "source": [
    "img1_array[0]"
   ]
  },
  {
   "cell_type": "code",
   "execution_count": null,
   "metadata": {},
   "outputs": [],
   "source": [
    "diff = abs(img1_array-img2_array)/2"
   ]
  },
  {
   "cell_type": "code",
   "execution_count": null,
   "metadata": {},
   "outputs": [],
   "source": [
    "diff.shape"
   ]
  },
  {
   "cell_type": "code",
   "execution_count": null,
   "metadata": {},
   "outputs": [],
   "source": [
    "for i in diff:\n",
    "    print(i)"
   ]
  },
  {
   "cell_type": "code",
   "execution_count": null,
   "metadata": {},
   "outputs": [],
   "source": [
    "plt.imshow(diff)"
   ]
  },
  {
   "cell_type": "code",
   "execution_count": null,
   "metadata": {},
   "outputs": [],
   "source": [
    "R=0\n",
    "G=0\n",
    "B=0\n",
    "w,h=img1.size\n",
    "for i in range(w):\n",
    "    for j in range(h):\n",
    "        r,g,b = img1.getpixel((i,j))\n",
    "        R=R+r\n",
    "        G=G+g\n",
    "        B=B+b"
   ]
  },
  {
   "cell_type": "code",
   "execution_count": null,
   "metadata": {},
   "outputs": [],
   "source": [
    "total=R+G+B\n",
    "r_rate=R/total*100\n",
    "g_rate=G/total*100\n",
    "b_rate=B/total*100"
   ]
  },
  {
   "cell_type": "code",
   "execution_count": null,
   "metadata": {},
   "outputs": [],
   "source": [
    "rgb_img_copy=np.zeros((h,w))\n",
    "for i in range(w):\n",
    "    for j in range(h):\n",
    "        r,g,b = img1.getpixel((i,j))\n",
    "        n = (r*r_rate+ b*b_rate+g*g_rate)/100\n",
    "#         print(n)\n",
    "        if n>160:\n",
    "            rgb_img_copy[j,i]=255\n",
    "#             rgb_img_copy[i,j]=[255,255,255]\n",
    "\n",
    "        else:\n",
    "            rgb_img_copy[j,i]=0\n",
    "            \n",
    "plt.imshow(rgb_img_copy)"
   ]
  },
  {
   "cell_type": "code",
   "execution_count": null,
   "metadata": {},
   "outputs": [],
   "source": [
    "img1==img2"
   ]
  },
  {
   "cell_type": "code",
   "execution_count": null,
   "metadata": {},
   "outputs": [],
   "source": [
    "diff_img = cv2.subtract(img2_array,img1_array)"
   ]
  },
  {
   "cell_type": "code",
   "execution_count": null,
   "metadata": {},
   "outputs": [],
   "source": [
    "plt.imshow(diff_img)"
   ]
  },
  {
   "cell_type": "code",
   "execution_count": null,
   "metadata": {},
   "outputs": [],
   "source": [
    "im1=cv2.imread('piaoxian1536227612.png')"
   ]
  },
  {
   "cell_type": "code",
   "execution_count": null,
   "metadata": {},
   "outputs": [],
   "source": [
    "im1.shape"
   ]
  },
  {
   "cell_type": "code",
   "execution_count": null,
   "metadata": {},
   "outputs": [],
   "source": [
    "b,g,r=im1.split()"
   ]
  },
  {
   "cell_type": "code",
   "execution_count": null,
   "metadata": {},
   "outputs": [],
   "source": [
    "hist=cv2.calcHist(\n",
    "[im1],\n",
    "[2],\n",
    "None,\n",
    "[256],\n",
    "[0,256]\n",
    ")"
   ]
  },
  {
   "cell_type": "code",
   "execution_count": null,
   "metadata": {},
   "outputs": [],
   "source": [
    "hist.size"
   ]
  },
  {
   "cell_type": "code",
   "execution_count": null,
   "metadata": {},
   "outputs": [],
   "source": [
    "hist"
   ]
  },
  {
   "cell_type": "code",
   "execution_count": null,
   "metadata": {
    "scrolled": true
   },
   "outputs": [],
   "source": [
    "plt.hist(hist)"
   ]
  },
  {
   "cell_type": "code",
   "execution_count": null,
   "metadata": {},
   "outputs": [],
   "source": [
    "import colorsys\n",
    " \n",
    "def get_dominant_color(image):\n",
    "    \n",
    "    #颜色模式转换，以便输出rgb颜色值\n",
    "    image = image.convert('RGBA')\n",
    "    \n",
    "    #生成缩略图，减少计算量，减小cpu压力\n",
    "    image.thumbnail((200, 200))\n",
    "    \n",
    "    max_score = 0 #原来的代码此处为None\n",
    "    dominant_color = 0 #原来的代码此处为None，但运行出错，改为0以后 运行成功，原因在于在下面的 score > max_score的比较中，max_score的初始格式不定\n",
    "    \n",
    "    for count, (r, g, b, a) in image.getcolors(image.size[0] * image.size[1]):\n",
    "        # 跳过纯黑色\n",
    "        if a == 0:\n",
    "            continue\n",
    "        \n",
    "        saturation = colorsys.rgb_to_hsv(r / 255.0, g / 255.0, b / 255.0)[1]\n",
    "       \n",
    "        y = min(abs(r * 2104 + g * 4130 + b * 802 + 4096 + 131072) >> 13, 235)\n",
    "       \n",
    "        y = (y - 16.0) / (235 - 16)\n",
    "        \n",
    "        # 忽略高亮色\n",
    "        if y > 0.9:\n",
    "            continue\n",
    "        \n",
    "        # Calculate the score, preferring highly saturated colors.\n",
    "        # Add 0.1 to the saturation so we don't completely ignore grayscale\n",
    "        # colors by multiplying the count by zero, but still give them a low\n",
    "        # weight.\n",
    "        if ((r>200)&(g>200)&(b>200)):\n",
    "            continue\n",
    "        score = (saturation + 0.1) * count\n",
    "\n",
    "        if score > max_score:\n",
    "            max_score = score\n",
    "            dominant_color = (r, g, b)\n",
    "\n",
    "            \n",
    "    return dominant_color\n",
    " "
   ]
  },
  {
   "cell_type": "code",
   "execution_count": null,
   "metadata": {},
   "outputs": [],
   "source": [
    "img = Image.open('yezi.jpg')"
   ]
  },
  {
   "cell_type": "code",
   "execution_count": null,
   "metadata": {},
   "outputs": [],
   "source": [
    "plt.imshow(img)"
   ]
  },
  {
   "cell_type": "code",
   "execution_count": null,
   "metadata": {},
   "outputs": [],
   "source": [
    "rgba_array = np.array(img)"
   ]
  },
  {
   "cell_type": "code",
   "execution_count": null,
   "metadata": {},
   "outputs": [],
   "source": [
    "rgba_array"
   ]
  },
  {
   "cell_type": "code",
   "execution_count": null,
   "metadata": {},
   "outputs": [],
   "source": [
    "r_mode,g_mode,b_mode,a_mode=img.split()"
   ]
  },
  {
   "cell_type": "code",
   "execution_count": null,
   "metadata": {},
   "outputs": [],
   "source": [
    "r_array = np.array(r_mode)"
   ]
  },
  {
   "cell_type": "code",
   "execution_count": null,
   "metadata": {},
   "outputs": [],
   "source": [
    "for i in r_array:\n",
    "    print(i)"
   ]
  },
  {
   "cell_type": "code",
   "execution_count": null,
   "metadata": {},
   "outputs": [],
   "source": [
    "ret_color = get_dominant_color(img)"
   ]
  },
  {
   "cell_type": "code",
   "execution_count": null,
   "metadata": {},
   "outputs": [],
   "source": [
    "ret_color"
   ]
  },
  {
   "cell_type": "code",
   "execution_count": null,
   "metadata": {},
   "outputs": [],
   "source": [
    "def show_color(rgb):\n",
    "#     print(r,g,b)\n",
    "    r,g,b = rgb\n",
    "    imgx = np.zeros((100,100,3))\n",
    "    for i in range(100):\n",
    "        for j in range(100):\n",
    "            imgx[i,j]=[r/255,g/255,b/255]\n",
    "#             imgx[i,j]=[r,g,b]\n",
    "\n",
    "#     plt.imshow(imgx)\n",
    "\n",
    "    return imgx"
   ]
  },
  {
   "cell_type": "code",
   "execution_count": null,
   "metadata": {
    "scrolled": true
   },
   "outputs": [],
   "source": [
    "new_img=show_color(ret_color)\n",
    "plt.imshow(new_img)\n",
    "# plt.imshow(new_img.astype(np.uint8))"
   ]
  },
  {
   "cell_type": "code",
   "execution_count": null,
   "metadata": {
    "scrolled": true
   },
   "outputs": [],
   "source": [
    "ret_color=(60, 165, 11)\n",
    "new_img=show_color(ret_color)\n",
    "plt.imshow(new_img)"
   ]
  },
  {
   "cell_type": "markdown",
   "metadata": {},
   "source": [
    "newImage = Image.fromarray(new_img,mode='RGB')"
   ]
  },
  {
   "cell_type": "code",
   "execution_count": null,
   "metadata": {},
   "outputs": [],
   "source": [
    "newImage"
   ]
  },
  {
   "cell_type": "code",
   "execution_count": null,
   "metadata": {},
   "outputs": [],
   "source": [
    "new_img"
   ]
  },
  {
   "cell_type": "code",
   "execution_count": null,
   "metadata": {},
   "outputs": [],
   "source": [
    "newImage.save('t.jpg')"
   ]
  },
  {
   "cell_type": "code",
   "execution_count": null,
   "metadata": {},
   "outputs": [],
   "source": [
    "plt.imshow(Image.fromarray(new_img,mode='RGB'))"
   ]
  },
  {
   "cell_type": "code",
   "execution_count": null,
   "metadata": {},
   "outputs": [],
   "source": [
    "image=Image.open('yezi.jpg').convert('RGBA')\n",
    "\n",
    "for count, (r, g, b, a) in image.getcolors(image.size[0] * image.size[1]):\n",
    "    print(count,' r g b a',(r,g,b,a))"
   ]
  },
  {
   "cell_type": "code",
   "execution_count": null,
   "metadata": {},
   "outputs": [],
   "source": [
    "color_range = image.getcolors(image.size[0] * image.size[1])"
   ]
  },
  {
   "cell_type": "code",
   "execution_count": null,
   "metadata": {},
   "outputs": [],
   "source": [
    "color_range"
   ]
  },
  {
   "cell_type": "code",
   "execution_count": null,
   "metadata": {},
   "outputs": [],
   "source": [
    "image=Image.open('clipboard.png').convert('RGB')\n",
    "color_range = image.getcolors(image.size[0] * image.size[1])\n",
    "new_color_range=copy.copy(color_range)\n",
    "\n",
    "for items in color_range:\n",
    "    item=items[1]\n",
    "    \n",
    "    if (item[0]>240) & (item[1]>240) & (item[2]>240):\n",
    "#         print(item)\n",
    "        new_color_range.remove(items)\n",
    "#         continue\n",
    "#     else:\n",
    "        \n",
    "most_seen = sorted(new_color_range,key=lambda x:x[0],reverse=True)[:4]"
   ]
  },
  {
   "cell_type": "code",
   "execution_count": null,
   "metadata": {},
   "outputs": [],
   "source": [
    "ret_color=(140, 3, 49)\n",
    "new_img=show_color(ret_color)\n",
    "plt.imshow(new_img)"
   ]
  },
  {
   "cell_type": "code",
   "execution_count": null,
   "metadata": {},
   "outputs": [],
   "source": [
    "most_seen"
   ]
  },
  {
   "cell_type": "code",
   "execution_count": null,
   "metadata": {},
   "outputs": [],
   "source": [
    "pixel_list = [item for count,item in most_seen]"
   ]
  },
  {
   "cell_type": "code",
   "execution_count": null,
   "metadata": {},
   "outputs": [],
   "source": [
    "pixel_list"
   ]
  },
  {
   "cell_type": "code",
   "execution_count": null,
   "metadata": {},
   "outputs": [],
   "source": [
    "area = 8\n",
    "result = []\n",
    "for x,y,z in pixel_list:\n",
    "    print(x,y,z)\n",
    "    for i in range(0,area,2):\n",
    "        for j in range(0,area,2):\n",
    "            for k in range(0,area,2):\n",
    "                result.append((x+i,y+j,z+k))\n",
    "                result.append((x-i,y-j,z-k))\n",
    "\n",
    "#     result.append((x+))"
   ]
  },
  {
   "cell_type": "code",
   "execution_count": null,
   "metadata": {
    "scrolled": true
   },
   "outputs": [],
   "source": [
    "result"
   ]
  },
  {
   "cell_type": "code",
   "execution_count": null,
   "metadata": {},
   "outputs": [],
   "source": [
    "type(pixel_list[0])"
   ]
  },
  {
   "cell_type": "code",
   "execution_count": null,
   "metadata": {},
   "outputs": [],
   "source": [
    "pixel_list"
   ]
  },
  {
   "cell_type": "code",
   "execution_count": null,
   "metadata": {},
   "outputs": [],
   "source": [
    "(60, 165, 110) in pixel_list"
   ]
  },
  {
   "cell_type": "code",
   "execution_count": null,
   "metadata": {},
   "outputs": [],
   "source": [
    "a=[1,2,3]"
   ]
  },
  {
   "cell_type": "code",
   "execution_count": null,
   "metadata": {},
   "outputs": [],
   "source": [
    "tuple(a)"
   ]
  },
  {
   "cell_type": "code",
   "execution_count": 6,
   "metadata": {},
   "outputs": [],
   "source": [
    "image=Image.open('piaoxian1536226842.png').convert('RGB')\n",
    "color_range = image.getcolors(image.size[0] * image.size[1])\n",
    "new_color_range=copy.copy(color_range)\n",
    "\n",
    "for items in color_range:\n",
    "    item=items[1]\n",
    "    \n",
    "    if (item[0]>240) & (item[1]>240) & (item[2]>240):\n",
    "#         print(item)\n",
    "        new_color_range.remove(items)\n",
    "#         continue\n",
    "#     else:\n",
    "        \n",
    "most_seen = sorted(new_color_range,key=lambda x:x[0],reverse=True)[:4]\n",
    "\n",
    "pixel_list = [item for count,item in most_seen]\n",
    "\n",
    "\n",
    "area = 60\n",
    "result = []\n",
    "for x,y,z in pixel_list:\n",
    "#     print(x,y,z)\n",
    "    for i in range(0,area,2):\n",
    "        for j in range(0,area,2):\n",
    "            for k in range(0,area,2):\n",
    "                result.append((x+i,y+j,z+k))\n",
    "                result.append((x-i,y-j,z-k))\n",
    "                \n",
    "\n",
    "np_img = np.array(image)\n",
    "# np_img.sh\n",
    "x,y,z = np_img.shape\n",
    "img_copy = np_img.copy()\n",
    "for i in range(x):\n",
    "    for j in range(y):\n",
    "        # tuple 才能正常比较\n",
    "        temp_t = tuple(np_img[i,j])\n",
    "        if temp_t in pixel_list:\n",
    "            continue\n",
    "        else:\n",
    "            img_copy[i,j]=np.array([255,255,255])\n",
    "                \n",
    "#         if np_img[i,j] not in pixel_list:\n",
    "#             img_copy[i,j]=[255,255,255]\n",
    "\n",
    "# print(count)"
   ]
  },
  {
   "cell_type": "code",
   "execution_count": 7,
   "metadata": {
    "scrolled": false
   },
   "outputs": [
    {
     "data": {
      "text/plain": [
       "<matplotlib.image.AxesImage at 0x12e19fd0>"
      ]
     },
     "execution_count": 7,
     "metadata": {},
     "output_type": "execute_result"
    },
    {
     "data": {
      "image/png": "[encoded data removed]",
      "text/plain": [
       "<Figure size 432x288 with 1 Axes>"
      ]
     },
     "metadata": {},
     "output_type": "display_data"
    }
   ],
   "source": [
    "plt.imshow(img_copy)"
   ]
  },
  {
   "cell_type": "code",
   "execution_count": null,
   "metadata": {},
   "outputs": [],
   "source": [
    "pytesseract.image_to_string(img_copy)"
   ]
  },
  {
   "cell_type": "code",
   "execution_count": null,
   "metadata": {},
   "outputs": [],
   "source": [
    "x,y,z = np_img.shape"
   ]
  },
  {
   "cell_type": "code",
   "execution_count": null,
   "metadata": {},
   "outputs": [],
   "source": [
    "result.shape"
   ]
  },
  {
   "cell_type": "code",
   "execution_count": 5,
   "metadata": {},
   "outputs": [
    {
     "data": {
      "image/png": "[encoded data removed]",
      "text/plain": [
       "<Figure size 432x288 with 1 Axes>"
      ]
     },
     "metadata": {},
     "output_type": "display_data"
    }
   ],
   "source": [
    "# 画直方图\n",
    "image = cv2.imread(\"forest.jpg\")\n",
    "# cv2.imshow(\"Original\",image)\n",
    "imgage = cv2.cvtColor(image,cv2.COLOR_BGR2GRAY)\n",
    "#图像直方图\n",
    "hist = cv2.calcHist([image],[0],None,[256],[0,256])\n",
    "\n",
    "plt.figure() #新建一个图像\n",
    "plt.title(\"Grayscale Histogram\") #图像的标题\n",
    "plt.xlabel(\"Bins\") #X轴标签\n",
    "plt.ylabel(\"# of Pixels\") #Y轴标签\n",
    "plt.plot(hist) #画图\n",
    "plt.xlim([0,256]) #设置x坐标轴范围\n",
    "plt.ylim([0,2000]) #设置x坐标轴范围\n",
    "\n",
    "plt.show() #显示图像"
   ]
  },
  {
   "cell_type": "code",
   "execution_count": 3,
   "metadata": {},
   "outputs": [],
   "source": [
    "# 图片转为矩阵\n",
    "import cv2\n",
    "file = ''\n",
    "img = cv2.imread('1.jpg')"
   ]
  },
  {
   "cell_type": "code",
   "execution_count": 7,
   "metadata": {},
   "outputs": [],
   "source": [
    "img_gray = cv2.cvtColor(img,cv2.COLOR_RGB2GRAY)"
   ]
  },
  {
   "cell_type": "code",
   "execution_count": 8,
   "metadata": {},
   "outputs": [
    {
     "data": {
      "text/plain": [
       "(12, 15)"
      ]
     },
     "execution_count": 8,
     "metadata": {},
     "output_type": "execute_result"
    }
   ],
   "source": [
    "img_gray.shape"
   ]
  },
  {
   "cell_type": "code",
   "execution_count": 9,
   "metadata": {},
   "outputs": [
    {
     "data": {
      "text/plain": [
       "<matplotlib.image.AxesImage at 0x11c5f5f8>"
      ]
     },
     "execution_count": 9,
     "metadata": {},
     "output_type": "execute_result"
    },
    {
     "data": {
      "image/png": "[encoded data removed]",
      "text/plain": [
       "<Figure size 432x288 with 1 Axes>"
      ]
     },
     "metadata": {},
     "output_type": "display_data"
    }
   ],
   "source": [
    "plt.imshow(img_gray)"
   ]
  },
  {
   "cell_type": "code",
   "execution_count": 3,
   "metadata": {},
   "outputs": [
    {
     "data": {
      "text/plain": [
       "numpy.ndarray"
      ]
     },
     "execution_count": 3,
     "metadata": {},
     "output_type": "execute_result"
    }
   ],
   "source": [
    "type(img)"
   ]
  },
  {
   "cell_type": "code",
   "execution_count": 10,
   "metadata": {},
   "outputs": [
    {
     "data": {
      "text/plain": [
       "(12, 15, 3)"
      ]
     },
     "execution_count": 10,
     "metadata": {},
     "output_type": "execute_result"
    }
   ],
   "source": [
    "img.shape"
   ]
  },
  {
   "cell_type": "code",
   "execution_count": 12,
   "metadata": {},
   "outputs": [
    {
     "data": {
      "text/plain": [
       "array([253, 253, 253], dtype=uint8)"
      ]
     },
     "execution_count": 12,
     "metadata": {},
     "output_type": "execute_result"
    }
   ],
   "source": [
    "img[0][0]"
   ]
  },
  {
   "cell_type": "code",
   "execution_count": 14,
   "metadata": {},
   "outputs": [
    {
     "data": {
      "text/plain": [
       "253"
      ]
     },
     "execution_count": 14,
     "metadata": {},
     "output_type": "execute_result"
    }
   ],
   "source": [
    "img_gray[0][0]"
   ]
  },
  {
   "cell_type": "code",
   "execution_count": 16,
   "metadata": {},
   "outputs": [],
   "source": [
    "# 使用PIL 生成二维数据\n",
    "from PIL import Image\n",
    "import numpy as np"
   ]
  },
  {
   "cell_type": "code",
   "execution_count": 53,
   "metadata": {},
   "outputs": [],
   "source": [
    "img = Image.open('clipboard.png').convert('L')\n",
    "pixels = img.getdata()\n",
    "# np.matrix(pixels)"
   ]
  },
  {
   "cell_type": "code",
   "execution_count": 55,
   "metadata": {},
   "outputs": [
    {
     "data": {
      "text/plain": [
       "array([223, 222, 221, ..., 148, 150, 153])"
      ]
     },
     "execution_count": 55,
     "metadata": {},
     "output_type": "execute_result"
    }
   ],
   "source": [
    "np.array(pixels)"
   ]
  },
  {
   "cell_type": "code",
   "execution_count": 51,
   "metadata": {},
   "outputs": [],
   "source": [
    "np_data = np.array(pixels)"
   ]
  },
  {
   "cell_type": "code",
   "execution_count": 48,
   "metadata": {},
   "outputs": [],
   "source": [
    "w,h=img.size"
   ]
  },
  {
   "cell_type": "code",
   "execution_count": 49,
   "metadata": {},
   "outputs": [
    {
     "data": {
      "text/plain": [
       "70"
      ]
     },
     "execution_count": 49,
     "metadata": {},
     "output_type": "execute_result"
    }
   ],
   "source": [
    "w"
   ]
  },
  {
   "cell_type": "code",
   "execution_count": 50,
   "metadata": {
    "scrolled": true
   },
   "outputs": [
    {
     "data": {
      "text/plain": [
       "30"
      ]
     },
     "execution_count": 50,
     "metadata": {},
     "output_type": "execute_result"
    }
   ],
   "source": [
    "h"
   ]
  },
  {
   "cell_type": "code",
   "execution_count": 52,
   "metadata": {},
   "outputs": [
    {
     "data": {
      "text/plain": [
       "array([223, 222, 221, ..., 148, 150, 153])"
      ]
     },
     "execution_count": 52,
     "metadata": {},
     "output_type": "execute_result"
    }
   ],
   "source": [
    "np_data"
   ]
  },
  {
   "cell_type": "code",
   "execution_count": 42,
   "metadata": {
    "scrolled": true
   },
   "outputs": [],
   "source": [
    "# 不需要\n",
    "new_np_data = np_data.reshape(h,w)"
   ]
  },
  {
   "cell_type": "code",
   "execution_count": 43,
   "metadata": {},
   "outputs": [],
   "source": [
    "ret = (new_np_data > 127)*1.0"
   ]
  },
  {
   "cell_type": "code",
   "execution_count": 44,
   "metadata": {},
   "outputs": [
    {
     "data": {
      "text/plain": [
       "array([[1., 1., 1., ..., 1., 1., 1.],\n",
       "       [1., 1., 1., ..., 1., 1., 1.],\n",
       "       [1., 1., 1., ..., 1., 1., 1.],\n",
       "       ...,\n",
       "       [0., 0., 0., ..., 1., 1., 1.],\n",
       "       [0., 0., 0., ..., 1., 1., 1.],\n",
       "       [0., 0., 0., ..., 1., 1., 1.]])"
      ]
     },
     "execution_count": 44,
     "metadata": {},
     "output_type": "execute_result"
    }
   ],
   "source": [
    "ret"
   ]
  },
  {
   "cell_type": "code",
   "execution_count": 45,
   "metadata": {},
   "outputs": [
    {
     "data": {
      "text/plain": [
       "<matplotlib.image.AxesImage at 0x57499e8>"
      ]
     },
     "execution_count": 45,
     "metadata": {},
     "output_type": "execute_result"
    },
    {
     "data": {
      "image/png": "[encoded data removed]",
      "text/plain": [
       "<Figure size 432x288 with 1 Axes>"
      ]
     },
     "metadata": {},
     "output_type": "display_data"
    }
   ],
   "source": [
    "plt.imshow(ret)"
   ]
  },
  {
   "cell_type": "code",
   "execution_count": 39,
   "metadata": {
    "scrolled": true
   },
   "outputs": [],
   "source": [
    "new_ret = ret.reshape(h,w)"
   ]
  },
  {
   "cell_type": "code",
   "execution_count": 40,
   "metadata": {},
   "outputs": [
    {
     "data": {
      "text/plain": [
       "<matplotlib.image.AxesImage at 0x56e7b00>"
      ]
     },
     "execution_count": 40,
     "metadata": {},
     "output_type": "execute_result"
    },
    {
     "data": {
      "image/png": "[encoded data removed]",
      "text/plain": [
       "<Figure size 432x288 with 1 Axes>"
      ]
     },
     "metadata": {},
     "output_type": "display_data"
    }
   ],
   "source": [
    "plt.imshow(new_ret)"
   ]
  },
  {
   "cell_type": "code",
   "execution_count": 46,
   "metadata": {},
   "outputs": [],
   "source": [
    "bw=Image.open('clipboard.png').convert('1')"
   ]
  },
  {
   "cell_type": "code",
   "execution_count": 47,
   "metadata": {},
   "outputs": [
    {
     "data": {
      "text/plain": [
       "<matplotlib.image.AxesImage at 0x57a67f0>"
      ]
     },
     "execution_count": 47,
     "metadata": {},
     "output_type": "execute_result"
    },
    {
     "data": {
      "image/png": "[encoded data removed]",
      "text/plain": [
       "<Figure size 432x288 with 1 Axes>"
      ]
     },
     "metadata": {},
     "output_type": "display_data"
    }
   ],
   "source": [
    "plt.imshow(bw)"
   ]
  },
  {
   "cell_type": "code",
   "execution_count": 67,
   "metadata": {},
   "outputs": [],
   "source": [
    "# 清除漂线\n",
    "img = Image.open('cbmqr-spnkd.jpg').convert('RGB')"
   ]
  },
  {
   "cell_type": "code",
   "execution_count": 68,
   "metadata": {
    "scrolled": true
   },
   "outputs": [
    {
     "data": {
      "text/plain": [
       "<matplotlib.image.AxesImage at 0x11a4d160>"
      ]
     },
     "execution_count": 68,
     "metadata": {},
     "output_type": "execute_result"
    },
    {
     "data": {
      "image/png": "[encoded data removed]",
      "text/plain": [
       "<Figure size 432x288 with 1 Axes>"
      ]
     },
     "metadata": {},
     "output_type": "display_data"
    }
   ],
   "source": [
    "plt.imshow(img)"
   ]
  },
  {
   "cell_type": "code",
   "execution_count": 80,
   "metadata": {},
   "outputs": [],
   "source": [
    "px = np.array(img.getdata())"
   ]
  },
  {
   "cell_type": "code",
   "execution_count": 81,
   "metadata": {},
   "outputs": [],
   "source": [
    "pixdata=px.reshape(20,100,3)"
   ]
  },
  {
   "cell_type": "code",
   "execution_count": 82,
   "metadata": {},
   "outputs": [
    {
     "data": {
      "text/plain": [
       "array([[249, 255, 251],\n",
       "       [251, 255, 252],\n",
       "       [250, 252, 249],\n",
       "       ...,\n",
       "       [254, 254, 252],\n",
       "       [254, 254, 252],\n",
       "       [254, 254, 252]])"
      ]
     },
     "execution_count": 82,
     "metadata": {},
     "output_type": "execute_result"
    }
   ],
   "source": [
    "px"
   ]
  },
  {
   "cell_type": "code",
   "execution_count": 61,
   "metadata": {},
   "outputs": [],
   "source": [
    "pixdata=px.copy()"
   ]
  },
  {
   "cell_type": "code",
   "execution_count": 83,
   "metadata": {},
   "outputs": [],
   "source": [
    "for x in range(img.size[1]): \n",
    "        for y in range(img.size[0]):  \n",
    "            if pixdata[x, y][0] < 8 or pixdata[x, y][1] < 6 or pixdata[x, y][2] < 8 or (pixdata[x, y][0] + pixdata[x, y][1] + pixdata[x, y][2]) <= 30:\n",
    "                if y == 0:\n",
    "                    pixdata[x, y] = (255, 255, 255)\n",
    "                if y > 0:\n",
    "                    if pixdata[x, y - 1][0] > 120 or pixdata[x, y - 1][1] > 136 or pixdata[x, y - 1][2] > 120:\n",
    "                        pixdata[x, y] = (255, 255, 255)"
   ]
  },
  {
   "cell_type": "code",
   "execution_count": 88,
   "metadata": {
    "scrolled": false
   },
   "outputs": [
    {
     "data": {
      "text/plain": [
       "<matplotlib.image.AxesImage at 0x11bab2b0>"
      ]
     },
     "execution_count": 88,
     "metadata": {},
     "output_type": "execute_result"
    },
    {
     "data": {
      "image/png": "[encoded data removed]",
      "text/plain": [
       "<Figure size 432x288 with 1 Axes>"
      ]
     },
     "metadata": {},
     "output_type": "display_data"
    }
   ],
   "source": [
    "plt.imshow(pixdata)"
   ]
  },
  {
   "cell_type": "code",
   "execution_count": 87,
   "metadata": {},
   "outputs": [],
   "source": [
    "for y in range(img.size[0]):  # 二值化处理，这个阈值为R=95，G=95，B=95\n",
    "        for x in range(img.size[1]):\n",
    "            if pixdata[x, y][0] < 160 and pixdata[x, y][1] < 160 and pixdata[x, y][2] < 160:\n",
    "                pixdata[x, y] = (0, 0, 0)\n",
    "            else:\n",
    "                pixdata[x, y] = (255, 255, 255)\n"
   ]
  },
  {
   "cell_type": "code",
   "execution_count": 101,
   "metadata": {},
   "outputs": [
    {
     "data": {
      "text/plain": [
       "<matplotlib.image.AxesImage at 0x11d9fb70>"
      ]
     },
     "execution_count": 101,
     "metadata": {},
     "output_type": "execute_result"
    },
    {
     "data": {
      "image/png": "[encoded data removed]",
      "text/plain": [
       "<Figure size 432x288 with 1 Axes>"
      ]
     },
     "metadata": {},
     "output_type": "display_data"
    }
   ],
   "source": [
    "plt.imshow(pixdata)"
   ]
  },
  {
   "cell_type": "code",
   "execution_count": 90,
   "metadata": {
    "scrolled": true
   },
   "outputs": [
    {
     "ename": "TypeError",
     "evalue": "Cannot handle this data type",
     "output_type": "error",
     "traceback": [
      "\u001b[1;31m---------------------------------------------------------------------------\u001b[0m",
      "\u001b[1;31mKeyError\u001b[0m                                  Traceback (most recent call last)",
      "\u001b[1;32mc:\\python3_64\\lib\\site-packages\\PIL\\Image.py\u001b[0m in \u001b[0;36mfromarray\u001b[1;34m(obj, mode)\u001b[0m\n\u001b[0;32m   2459\u001b[0m             \u001b[0mtypekey\u001b[0m \u001b[1;33m=\u001b[0m \u001b[1;33m(\u001b[0m\u001b[1;36m1\u001b[0m\u001b[1;33m,\u001b[0m \u001b[1;36m1\u001b[0m\u001b[1;33m)\u001b[0m \u001b[1;33m+\u001b[0m \u001b[0mshape\u001b[0m\u001b[1;33m[\u001b[0m\u001b[1;36m2\u001b[0m\u001b[1;33m:\u001b[0m\u001b[1;33m]\u001b[0m\u001b[1;33m,\u001b[0m \u001b[0marr\u001b[0m\u001b[1;33m[\u001b[0m\u001b[1;34m'typestr'\u001b[0m\u001b[1;33m]\u001b[0m\u001b[1;33m\u001b[0m\u001b[0m\n\u001b[1;32m-> 2460\u001b[1;33m             \u001b[0mmode\u001b[0m\u001b[1;33m,\u001b[0m \u001b[0mrawmode\u001b[0m \u001b[1;33m=\u001b[0m \u001b[0m_fromarray_typemap\u001b[0m\u001b[1;33m[\u001b[0m\u001b[0mtypekey\u001b[0m\u001b[1;33m]\u001b[0m\u001b[1;33m\u001b[0m\u001b[0m\n\u001b[0m\u001b[0;32m   2461\u001b[0m         \u001b[1;32mexcept\u001b[0m \u001b[0mKeyError\u001b[0m\u001b[1;33m:\u001b[0m\u001b[1;33m\u001b[0m\u001b[0m\n",
      "\u001b[1;31mKeyError\u001b[0m: ((1, 1, 3), '<i4')",
      "\nDuring handling of the above exception, another exception occurred:\n",
      "\u001b[1;31mTypeError\u001b[0m                                 Traceback (most recent call last)",
      "\u001b[1;32m<ipython-input-90-25718881f9d1>\u001b[0m in \u001b[0;36m<module>\u001b[1;34m()\u001b[0m\n\u001b[1;32m----> 1\u001b[1;33m \u001b[0mimg\u001b[0m \u001b[1;33m=\u001b[0m \u001b[0mImage\u001b[0m\u001b[1;33m.\u001b[0m\u001b[0mfromarray\u001b[0m\u001b[1;33m(\u001b[0m\u001b[0mpixdata\u001b[0m\u001b[1;33m)\u001b[0m\u001b[1;33m\u001b[0m\u001b[0m\n\u001b[0m",
      "\u001b[1;32mc:\\python3_64\\lib\\site-packages\\PIL\\Image.py\u001b[0m in \u001b[0;36mfromarray\u001b[1;34m(obj, mode)\u001b[0m\n\u001b[0;32m   2461\u001b[0m         \u001b[1;32mexcept\u001b[0m \u001b[0mKeyError\u001b[0m\u001b[1;33m:\u001b[0m\u001b[1;33m\u001b[0m\u001b[0m\n\u001b[0;32m   2462\u001b[0m             \u001b[1;31m# print(typekey)\u001b[0m\u001b[1;33m\u001b[0m\u001b[1;33m\u001b[0m\u001b[0m\n\u001b[1;32m-> 2463\u001b[1;33m             \u001b[1;32mraise\u001b[0m \u001b[0mTypeError\u001b[0m\u001b[1;33m(\u001b[0m\u001b[1;34m\"Cannot handle this data type\"\u001b[0m\u001b[1;33m)\u001b[0m\u001b[1;33m\u001b[0m\u001b[0m\n\u001b[0m\u001b[0;32m   2464\u001b[0m     \u001b[1;32melse\u001b[0m\u001b[1;33m:\u001b[0m\u001b[1;33m\u001b[0m\u001b[0m\n\u001b[0;32m   2465\u001b[0m         \u001b[0mrawmode\u001b[0m \u001b[1;33m=\u001b[0m \u001b[0mmode\u001b[0m\u001b[1;33m\u001b[0m\u001b[0m\n",
      "\u001b[1;31mTypeError\u001b[0m: Cannot handle this data type"
     ]
    }
   ],
   "source": [
    "img = Image.fromarray(pixdata)"
   ]
  },
  {
   "cell_type": "code",
   "execution_count": 102,
   "metadata": {},
   "outputs": [],
   "source": [
    "b = abs(np.fft.rfft2(pixdata,axes=(0,1)))\n",
    "b = np.uint8(b)\n",
    "b=Image.fromarray(b)"
   ]
  },
  {
   "cell_type": "code",
   "execution_count": 105,
   "metadata": {},
   "outputs": [
    {
     "data": {
      "image/png": "[encoded data removed]",
      "text/plain": [
       "<PIL.Image.Image image mode=RGB size=102x40 at 0x11DB35F8>"
      ]
     },
     "execution_count": 105,
     "metadata": {},
     "output_type": "execute_result"
    }
   ],
   "source": [
    "b.filter(ImageFilter.EDGE_ENHANCE_MORE)  # 深度边缘增强滤波，会使得图像中边缘部分更加明显（阈值更大），相当于锐化滤波\n",
    "b.resize(((b.size[0]) * 2, (img.size[1]) * 2), Image.BILINEAR)"
   ]
  },
  {
   "cell_type": "code",
   "execution_count": 108,
   "metadata": {},
   "outputs": [],
   "source": [
    "img = Image.open('cbmqr-spnkd.jpg')"
   ]
  },
  {
   "cell_type": "code",
   "execution_count": 109,
   "metadata": {},
   "outputs": [],
   "source": [
    "img=img.convert('RGB')"
   ]
  },
  {
   "cell_type": "code",
   "execution_count": 110,
   "metadata": {},
   "outputs": [
    {
     "data": {
      "text/plain": [
       "<PixelAccess at 0x11da9050>"
      ]
     },
     "execution_count": 110,
     "metadata": {},
     "output_type": "execute_result"
    }
   ],
   "source": [
    "img.load()"
   ]
  },
  {
   "cell_type": "code",
   "execution_count": 111,
   "metadata": {},
   "outputs": [],
   "source": [
    "pixeldata = img.load()"
   ]
  },
  {
   "cell_type": "code",
   "execution_count": 112,
   "metadata": {},
   "outputs": [
    {
     "name": "stdout",
     "output_type": "stream",
     "text": [
      "[[255 255 255]\n",
      " [255 255 255]\n",
      " [255 255 255]\n",
      " [255 255 255]\n",
      " [255 255 255]\n",
      " [255 255 255]\n",
      " [255 255 255]\n",
      " [255 255 255]\n",
      " [255 255 255]\n",
      " [255 255 255]\n",
      " [255 255 255]\n",
      " [  0   0   0]\n",
      " [255 255 255]\n",
      " [  0   0   0]\n",
      " [  0   0   0]\n",
      " [255 255 255]\n",
      " [255 255 255]\n",
      " [255 255 255]\n",
      " [255 255 255]\n",
      " [255 255 255]\n",
      " [255 255 255]\n",
      " [255 255 255]\n",
      " [255 255 255]\n",
      " [255 255 255]\n",
      " [255 255 255]\n",
      " [255 255 255]\n",
      " [255 255 255]\n",
      " [255 255 255]\n",
      " [255 255 255]\n",
      " [255 255 255]\n",
      " [255 255 255]\n",
      " [255 255 255]\n",
      " [255 255 255]\n",
      " [255 255 255]\n",
      " [255 255 255]\n",
      " [255 255 255]\n",
      " [255 255 255]\n",
      " [255 255 255]\n",
      " [255 255 255]\n",
      " [255 255 255]\n",
      " [255 255 255]\n",
      " [  0   0   0]\n",
      " [255 255 255]\n",
      " [255 255 255]\n",
      " [255 255 255]\n",
      " [255 255 255]\n",
      " [  0   0   0]\n",
      " [  0   0   0]\n",
      " [  0   0   0]\n",
      " [255 255 255]\n",
      " [255 255 255]\n",
      " [255 255 255]\n",
      " [255 255 255]\n",
      " [255 255 255]\n",
      " [255 255 255]\n",
      " [255 255 255]\n",
      " [255 255 255]\n",
      " [255 255 255]\n",
      " [255 255 255]\n",
      " [255 255 255]\n",
      " [255 255 255]\n",
      " [255 255 255]\n",
      " [255 255 255]\n",
      " [255 255 255]\n",
      " [255 255 255]\n",
      " [255 255 255]\n",
      " [255 255 255]\n",
      " [255 255 255]\n",
      " [255 255 255]\n",
      " [255 255 255]\n",
      " [255 255 255]\n",
      " [255 255 255]\n",
      " [255 255 255]\n",
      " [255 255 255]\n",
      " [255 255 255]\n",
      " [255 255 255]\n",
      " [255 255 255]\n",
      " [255 255 255]\n",
      " [255 255 255]\n",
      " [255 255 255]\n",
      " [255 255 255]\n",
      " [255 255 255]\n",
      " [255 255 255]\n",
      " [255 255 255]\n",
      " [255 255 255]\n",
      " [255 255 255]\n",
      " [255 255 255]\n",
      " [255 255 255]\n",
      " [255 255 255]\n",
      " [255 255 255]\n",
      " [255 255 255]\n",
      " [255 255 255]\n",
      " [255 255 255]\n",
      " [255 255 255]\n",
      " [255 255 255]\n",
      " [255 255 255]\n",
      " [255 255 255]\n",
      " [255 255 255]\n",
      " [255 255 255]\n",
      " [255 255 255]]\n",
      "[[255 255 255]\n",
      " [255 255 255]\n",
      " [255 255 255]\n",
      " [255 255 255]\n",
      " [255 255 255]\n",
      " [255 255 255]\n",
      " [255 255 255]\n",
      " [255 255 255]\n",
      " [255 255 255]\n",
      " [255 255 255]\n",
      " [255 255 255]\n",
      " [  0   0   0]\n",
      " [255 255 255]\n",
      " [255 255 255]\n",
      " [255 255 255]\n",
      " [255 255 255]\n",
      " [255 255 255]\n",
      " [255 255 255]\n",
      " [255 255 255]\n",
      " [255 255 255]\n",
      " [255 255 255]\n",
      " [255 255 255]\n",
      " [255 255 255]\n",
      " [255 255 255]\n",
      " [255 255 255]\n",
      " [255 255 255]\n",
      " [255 255 255]\n",
      " [255 255 255]\n",
      " [255 255 255]\n",
      " [255 255 255]\n",
      " [255 255 255]\n",
      " [255 255 255]\n",
      " [255 255 255]\n",
      " [255 255 255]\n",
      " [255 255 255]\n",
      " [255 255 255]\n",
      " [255 255 255]\n",
      " [255 255 255]\n",
      " [255 255 255]\n",
      " [  0   0   0]\n",
      " [  0   0   0]\n",
      " [  0   0   0]\n",
      " [  0   0   0]\n",
      " [255 255 255]\n",
      " [255 255 255]\n",
      " [255 255 255]\n",
      " [  0   0   0]\n",
      " [255 255 255]\n",
      " [  0   0   0]\n",
      " [  0   0   0]\n",
      " [255 255 255]\n",
      " [255 255 255]\n",
      " [255 255 255]\n",
      " [255 255 255]\n",
      " [255 255 255]\n",
      " [255 255 255]\n",
      " [255 255 255]\n",
      " [  0   0   0]\n",
      " [255 255 255]\n",
      " [255 255 255]\n",
      " [255 255 255]\n",
      " [255 255 255]\n",
      " [255 255 255]\n",
      " [255 255 255]\n",
      " [255 255 255]\n",
      " [255 255 255]\n",
      " [255 255 255]\n",
      " [255 255 255]\n",
      " [255 255 255]\n",
      " [255 255 255]\n",
      " [255 255 255]\n",
      " [255 255 255]\n",
      " [255 255 255]\n",
      " [255 255 255]\n",
      " [255 255 255]\n",
      " [255 255 255]\n",
      " [255 255 255]\n",
      " [255 255 255]\n",
      " [255 255 255]\n",
      " [255 255 255]\n",
      " [255 255 255]\n",
      " [255 255 255]\n",
      " [255 255 255]\n",
      " [255 255 255]\n",
      " [255 255 255]\n",
      " [255 255 255]\n",
      " [255 255 255]\n",
      " [255 255 255]\n",
      " [255 255 255]\n",
      " [255 255 255]\n",
      " [255 255 255]\n",
      " [255 255 255]\n",
      " [255 255 255]\n",
      " [255 255 255]\n",
      " [255 255 255]\n",
      " [255 255 255]\n",
      " [255 255 255]\n",
      " [255 255 255]\n",
      " [255 255 255]\n",
      " [255 255 255]]\n",
      "[[255 255 255]\n",
      " [255 255 255]\n",
      " [255 255 255]\n",
      " [255 255 255]\n",
      " [255 255 255]\n",
      " [255 255 255]\n",
      " [255 255 255]\n",
      " [255 255 255]\n",
      " [255 255 255]\n",
      " [255 255 255]\n",
      " [255 255 255]\n",
      " [  0   0   0]\n",
      " [  0   0   0]\n",
      " [255 255 255]\n",
      " [255 255 255]\n",
      " [255 255 255]\n",
      " [255 255 255]\n",
      " [255 255 255]\n",
      " [255 255 255]\n",
      " [255 255 255]\n",
      " [255 255 255]\n",
      " [255 255 255]\n",
      " [255 255 255]\n",
      " [255 255 255]\n",
      " [255 255 255]\n",
      " [255 255 255]\n",
      " [255 255 255]\n",
      " [255 255 255]\n",
      " [255 255 255]\n",
      " [255 255 255]\n",
      " [255 255 255]\n",
      " [255 255 255]\n",
      " [255 255 255]\n",
      " [255 255 255]\n",
      " [255 255 255]\n",
      " [255 255 255]\n",
      " [255 255 255]\n",
      " [255 255 255]\n",
      " [255 255 255]\n",
      " [  0   0   0]\n",
      " [  0   0   0]\n",
      " [255 255 255]\n",
      " [  0   0   0]\n",
      " [  0   0   0]\n",
      " [255 255 255]\n",
      " [  0   0   0]\n",
      " [  0   0   0]\n",
      " [255 255 255]\n",
      " [  0   0   0]\n",
      " [255 255 255]\n",
      " [255 255 255]\n",
      " [255 255 255]\n",
      " [255 255 255]\n",
      " [255 255 255]\n",
      " [255 255 255]\n",
      " [255 255 255]\n",
      " [255 255 255]\n",
      " [  0   0   0]\n",
      " [  0   0   0]\n",
      " [255 255 255]\n",
      " [255 255 255]\n",
      " [255 255 255]\n",
      " [255 255 255]\n",
      " [255 255 255]\n",
      " [255 255 255]\n",
      " [255 255 255]\n",
      " [255 255 255]\n",
      " [255 255 255]\n",
      " [255 255 255]\n",
      " [255 255 255]\n",
      " [255 255 255]\n",
      " [255 255 255]\n",
      " [255 255 255]\n",
      " [255 255 255]\n",
      " [255 255 255]\n",
      " [255 255 255]\n",
      " [255 255 255]\n",
      " [255 255 255]\n",
      " [255 255 255]\n",
      " [255 255 255]\n",
      " [255 255 255]\n",
      " [255 255 255]\n",
      " [255 255 255]\n",
      " [255 255 255]\n",
      " [255 255 255]\n",
      " [255 255 255]\n",
      " [255 255 255]\n",
      " [255 255 255]\n",
      " [255 255 255]\n",
      " [255 255 255]\n",
      " [255 255 255]\n",
      " [255 255 255]\n",
      " [255 255 255]\n",
      " [255 255 255]\n",
      " [255 255 255]\n",
      " [255 255 255]\n",
      " [255 255 255]\n",
      " [255 255 255]\n",
      " [255 255 255]\n",
      " [255 255 255]]\n",
      "[[255 255 255]\n",
      " [255 255 255]\n",
      " [255 255 255]\n",
      " [255 255 255]\n",
      " [255 255 255]\n",
      " [255 255 255]\n",
      " [255 255 255]\n",
      " [255 255 255]\n",
      " [255 255 255]\n",
      " [255 255 255]\n",
      " [255 255 255]\n",
      " [255 255 255]\n",
      " [  0   0   0]\n",
      " [255 255 255]\n",
      " [  0   0   0]\n",
      " [  0   0   0]\n",
      " [255 255 255]\n",
      " [255 255 255]\n",
      " [255 255 255]\n",
      " [255 255 255]\n",
      " [255 255 255]\n",
      " [255 255 255]\n",
      " [255 255 255]\n",
      " [255 255 255]\n",
      " [255 255 255]\n",
      " [255 255 255]\n",
      " [255 255 255]\n",
      " [255 255 255]\n",
      " [  0   0   0]\n",
      " [  0   0   0]\n",
      " [  0   0   0]\n",
      " [255 255 255]\n",
      " [255 255 255]\n",
      " [255 255 255]\n",
      " [255 255 255]\n",
      " [255 255 255]\n",
      " [255 255 255]\n",
      " [255 255 255]\n",
      " [255 255 255]\n",
      " [255 255 255]\n",
      " [  0   0   0]\n",
      " [255 255 255]\n",
      " [255 255 255]\n",
      " [  0   0   0]\n",
      " [255 255 255]\n",
      " [  0   0   0]\n",
      " [255 255 255]\n",
      " [255 255 255]\n",
      " [  0   0   0]\n",
      " [255 255 255]\n",
      " [255 255 255]\n",
      " [255 255 255]\n",
      " [255 255 255]\n",
      " [255 255 255]\n",
      " [255 255 255]\n",
      " [  0   0   0]\n",
      " [  0   0   0]\n",
      " [255 255 255]\n",
      " [  0   0   0]\n",
      " [  0   0   0]\n",
      " [255 255 255]\n",
      " [255 255 255]\n",
      " [255 255 255]\n",
      " [  0   0   0]\n",
      " [  0   0   0]\n",
      " [  0   0   0]\n",
      " [255 255 255]\n",
      " [255 255 255]\n",
      " [255 255 255]\n",
      " [255 255 255]\n",
      " [255 255 255]\n",
      " [255 255 255]\n",
      " [255 255 255]\n",
      " [255 255 255]\n",
      " [255 255 255]\n",
      " [255 255 255]\n",
      " [255 255 255]\n",
      " [255 255 255]\n",
      " [255 255 255]\n",
      " [255 255 255]\n",
      " [255 255 255]\n",
      " [255 255 255]\n",
      " [255 255 255]\n",
      " [255 255 255]\n",
      " [255 255 255]\n",
      " [255 255 255]\n",
      " [255 255 255]\n",
      " [255 255 255]\n",
      " [255 255 255]\n",
      " [255 255 255]\n",
      " [255 255 255]\n",
      " [255 255 255]\n",
      " [255 255 255]\n",
      " [255 255 255]\n",
      " [255 255 255]\n",
      " [255 255 255]\n",
      " [255 255 255]\n",
      " [255 255 255]\n",
      " [255 255 255]\n",
      " [255 255 255]]\n",
      "[[255 255 255]\n",
      " [255 255 255]\n",
      " [255 255 255]\n",
      " [255 255 255]\n",
      " [255 255 255]\n",
      " [255 255 255]\n",
      " [255 255 255]\n",
      " [255 255 255]\n",
      " [255 255 255]\n",
      " [255 255 255]\n",
      " [255 255 255]\n",
      " [255 255 255]\n",
      " [255 255 255]\n",
      " [255 255 255]\n",
      " [  0   0   0]\n",
      " [  0   0   0]\n",
      " [255 255 255]\n",
      " [255 255 255]\n",
      " [255 255 255]\n",
      " [255 255 255]\n",
      " [255 255 255]\n",
      " [255 255 255]\n",
      " [255 255 255]\n",
      " [255 255 255]\n",
      " [255 255 255]\n",
      " [255 255 255]\n",
      " [255 255 255]\n",
      " [255 255 255]\n",
      " [255 255 255]\n",
      " [255 255 255]\n",
      " [255 255 255]\n",
      " [255 255 255]\n",
      " [255 255 255]\n",
      " [255 255 255]\n",
      " [255 255 255]\n",
      " [255 255 255]\n",
      " [255 255 255]\n",
      " [255 255 255]\n",
      " [255 255 255]\n",
      " [255 255 255]\n",
      " [  0   0   0]\n",
      " [  0   0   0]\n",
      " [255 255 255]\n",
      " [  0   0   0]\n",
      " [  0   0   0]\n",
      " [  0   0   0]\n",
      " [255 255 255]\n",
      " [  0   0   0]\n",
      " [  0   0   0]\n",
      " [255 255 255]\n",
      " [255 255 255]\n",
      " [255 255 255]\n",
      " [255 255 255]\n",
      " [255 255 255]\n",
      " [255 255 255]\n",
      " [  0   0   0]\n",
      " [  0   0   0]\n",
      " [255 255 255]\n",
      " [255 255 255]\n",
      " [  0   0   0]\n",
      " [  0   0   0]\n",
      " [255 255 255]\n",
      " [255 255 255]\n",
      " [  0   0   0]\n",
      " [255 255 255]\n",
      " [  0   0   0]\n",
      " [  0   0   0]\n",
      " [255 255 255]\n",
      " [255 255 255]\n",
      " [255 255 255]\n",
      " [255 255 255]\n",
      " [255 255 255]\n",
      " [255 255 255]\n",
      " [255 255 255]\n",
      " [255 255 255]\n",
      " [255 255 255]\n",
      " [255 255 255]\n",
      " [255 255 255]\n",
      " [255 255 255]\n",
      " [255 255 255]\n",
      " [255 255 255]\n",
      " [255 255 255]\n",
      " [255 255 255]\n",
      " [255 255 255]\n",
      " [  0   0   0]\n",
      " [255 255 255]\n",
      " [255 255 255]\n",
      " [255 255 255]\n",
      " [255 255 255]\n",
      " [255 255 255]\n",
      " [255 255 255]\n",
      " [255 255 255]\n",
      " [255 255 255]\n",
      " [  0   0   0]\n",
      " [  0   0   0]\n",
      " [  0   0   0]\n",
      " [  0   0   0]\n",
      " [  0   0   0]\n",
      " [  0   0   0]\n",
      " [  0   0   0]]\n",
      "[[255 255 255]\n",
      " [255 255 255]\n",
      " [255 255 255]\n",
      " [255 255 255]\n",
      " [255 255 255]\n",
      " [255 255 255]\n",
      " [255 255 255]\n",
      " [255 255 255]\n",
      " [255 255 255]\n",
      " [255 255 255]\n",
      " [255 255 255]\n",
      " [255 255 255]\n",
      " [  0   0   0]\n",
      " [255 255 255]\n",
      " [255 255 255]\n",
      " [  0   0   0]\n",
      " [255 255 255]\n",
      " [255 255 255]\n",
      " [255 255 255]\n",
      " [255 255 255]\n",
      " [255 255 255]\n",
      " [255 255 255]\n",
      " [255 255 255]\n",
      " [255 255 255]\n",
      " [255 255 255]\n",
      " [255 255 255]\n",
      " [255 255 255]\n",
      " [255 255 255]\n",
      " [  0   0   0]\n",
      " [255 255 255]\n",
      " [255 255 255]\n",
      " [255 255 255]\n",
      " [255 255 255]\n",
      " [255 255 255]\n",
      " [255 255 255]\n",
      " [255 255 255]\n",
      " [255 255 255]\n",
      " [255 255 255]\n",
      " [255 255 255]\n",
      " [255 255 255]\n",
      " [255 255 255]\n",
      " [255 255 255]\n",
      " [255 255 255]\n",
      " [255 255 255]\n",
      " [255 255 255]\n",
      " [  0   0   0]\n",
      " [255 255 255]\n",
      " [  0   0   0]\n",
      " [255 255 255]\n",
      " [255 255 255]\n",
      " [255 255 255]\n",
      " [255 255 255]\n",
      " [255 255 255]\n",
      " [255 255 255]\n",
      " [255 255 255]\n",
      " [  0   0   0]\n",
      " [255 255 255]\n",
      " [255 255 255]\n",
      " [255 255 255]\n",
      " [255 255 255]\n",
      " [  0   0   0]\n",
      " [255 255 255]\n",
      " [  0   0   0]\n",
      " [  0   0   0]\n",
      " [255 255 255]\n",
      " [  0   0   0]\n",
      " [255 255 255]\n",
      " [255 255 255]\n",
      " [255 255 255]\n",
      " [255 255 255]\n",
      " [255 255 255]\n",
      " [255 255 255]\n",
      " [255 255 255]\n",
      " [255 255 255]\n",
      " [255 255 255]\n",
      " [255 255 255]\n",
      " [255 255 255]\n",
      " [255 255 255]\n",
      " [255 255 255]\n",
      " [255 255 255]\n",
      " [255 255 255]\n",
      " [255 255 255]\n",
      " [255 255 255]\n",
      " [255 255 255]\n",
      " [255 255 255]\n",
      " [255 255 255]\n",
      " [255 255 255]\n",
      " [255 255 255]\n",
      " [255 255 255]\n",
      " [255 255 255]\n",
      " [255 255 255]\n",
      " [255 255 255]\n",
      " [255 255 255]\n",
      " [255 255 255]\n",
      " [255 255 255]\n",
      " [255 255 255]\n",
      " [255 255 255]\n",
      " [255 255 255]\n",
      " [255 255 255]\n",
      " [255 255 255]]\n",
      "[[255 255 255]\n",
      " [255 255 255]\n",
      " [255 255 255]\n",
      " [255 255 255]\n",
      " [255 255 255]\n",
      " [255 255 255]\n",
      " [255 255 255]\n",
      " [255 255 255]\n",
      " [255 255 255]\n",
      " [255 255 255]\n",
      " [255 255 255]\n",
      " [255 255 255]\n",
      " [  0   0   0]\n",
      " [  0   0   0]\n",
      " [255 255 255]\n",
      " [  0   0   0]\n",
      " [255 255 255]\n",
      " [255 255 255]\n",
      " [255 255 255]\n",
      " [255 255 255]\n",
      " [255 255 255]\n",
      " [255 255 255]\n",
      " [255 255 255]\n",
      " [255 255 255]\n",
      " [255 255 255]\n",
      " [255 255 255]\n",
      " [255 255 255]\n",
      " [255 255 255]\n",
      " [255 255 255]\n",
      " [  0   0   0]\n",
      " [  0   0   0]\n",
      " [255 255 255]\n",
      " [255 255 255]\n",
      " [255 255 255]\n",
      " [255 255 255]\n",
      " [255 255 255]\n",
      " [255 255 255]\n",
      " [255 255 255]\n",
      " [255 255 255]\n",
      " [255 255 255]\n",
      " [255 255 255]\n",
      " [255 255 255]\n",
      " [  0   0   0]\n",
      " [255 255 255]\n",
      " [255 255 255]\n",
      " [255 255 255]\n",
      " [255 255 255]\n",
      " [255 255 255]\n",
      " [255 255 255]\n",
      " [255 255 255]\n",
      " [255 255 255]\n",
      " [255 255 255]\n",
      " [255 255 255]\n",
      " [255 255 255]\n",
      " [255 255 255]\n",
      " [  0   0   0]\n",
      " [255 255 255]\n",
      " [  0   0   0]\n",
      " [  0   0   0]\n",
      " [255 255 255]\n",
      " [  0   0   0]\n",
      " [  0   0   0]\n",
      " [  0   0   0]\n",
      " [  0   0   0]\n",
      " [255 255 255]\n",
      " [255 255 255]\n",
      " [255 255 255]\n",
      " [255 255 255]\n",
      " [255 255 255]\n",
      " [255 255 255]\n",
      " [255 255 255]\n",
      " [255 255 255]\n",
      " [255 255 255]\n",
      " [255 255 255]\n",
      " [255 255 255]\n",
      " [255 255 255]\n",
      " [255 255 255]\n",
      " [255 255 255]\n",
      " [255 255 255]\n",
      " [255 255 255]\n",
      " [255 255 255]\n",
      " [255 255 255]\n",
      " [255 255 255]\n",
      " [255 255 255]\n",
      " [255 255 255]\n",
      " [255 255 255]\n",
      " [255 255 255]\n",
      " [255 255 255]\n",
      " [255 255 255]\n",
      " [255 255 255]\n",
      " [255 255 255]\n",
      " [255 255 255]\n",
      " [255 255 255]\n",
      " [255 255 255]\n",
      " [255 255 255]\n",
      " [255 255 255]\n",
      " [255 255 255]\n",
      " [255 255 255]\n",
      " [255 255 255]\n",
      " [255 255 255]]\n",
      "[[255 255 255]\n",
      " [255 255 255]\n",
      " [255 255 255]\n",
      " [255 255 255]\n",
      " [255 255 255]\n",
      " [255 255 255]\n",
      " [255 255 255]\n",
      " [255 255 255]\n",
      " [255 255 255]\n",
      " [255 255 255]\n",
      " [255 255 255]\n",
      " [255 255 255]\n",
      " [  0   0   0]\n",
      " [  0   0   0]\n",
      " [255 255 255]\n",
      " [  0   0   0]\n",
      " [  0   0   0]\n",
      " [255 255 255]\n",
      " [255 255 255]\n",
      " [255 255 255]\n",
      " [255 255 255]\n",
      " [255 255 255]\n",
      " [255 255 255]\n",
      " [255 255 255]\n",
      " [255 255 255]\n",
      " [255 255 255]\n",
      " [255 255 255]\n",
      " [255 255 255]\n",
      " [255 255 255]\n",
      " [  0   0   0]\n",
      " [  0   0   0]\n",
      " [255 255 255]\n",
      " [255 255 255]\n",
      " [255 255 255]\n",
      " [255 255 255]\n",
      " [255 255 255]\n",
      " [255 255 255]\n",
      " [255 255 255]\n",
      " [255 255 255]\n",
      " [255 255 255]\n",
      " [255 255 255]\n",
      " [255 255 255]\n",
      " [  0   0   0]\n",
      " [  0   0   0]\n",
      " [255 255 255]\n",
      " [255 255 255]\n",
      " [  0   0   0]\n",
      " [  0   0   0]\n",
      " [  0   0   0]\n",
      " [  0   0   0]\n",
      " [255 255 255]\n",
      " [255 255 255]\n",
      " [255 255 255]\n",
      " [255 255 255]\n",
      " [255 255 255]\n",
      " [  0   0   0]\n",
      " [255 255 255]\n",
      " [  0   0   0]\n",
      " [  0   0   0]\n",
      " [  0   0   0]\n",
      " [255 255 255]\n",
      " [  0   0   0]\n",
      " [  0   0   0]\n",
      " [255 255 255]\n",
      " [255 255 255]\n",
      " [  0   0   0]\n",
      " [255 255 255]\n",
      " [255 255 255]\n",
      " [255 255 255]\n",
      " [255 255 255]\n",
      " [255 255 255]\n",
      " [255 255 255]\n",
      " [255 255 255]\n",
      " [255 255 255]\n",
      " [255 255 255]\n",
      " [255 255 255]\n",
      " [255 255 255]\n",
      " [255 255 255]\n",
      " [255 255 255]\n",
      " [255 255 255]\n",
      " [255 255 255]\n",
      " [255 255 255]\n",
      " [255 255 255]\n",
      " [255 255 255]\n",
      " [255 255 255]\n",
      " [255 255 255]\n",
      " [255 255 255]\n",
      " [255 255 255]\n",
      " [255 255 255]\n",
      " [255 255 255]\n",
      " [255 255 255]\n",
      " [255 255 255]\n",
      " [255 255 255]\n",
      " [255 255 255]\n",
      " [255 255 255]\n",
      " [255 255 255]\n",
      " [255 255 255]\n",
      " [255 255 255]\n",
      " [255 255 255]\n",
      " [255 255 255]]\n",
      "[[255 255 255]\n",
      " [255 255 255]\n",
      " [255 255 255]\n",
      " [255 255 255]\n",
      " [255 255 255]\n",
      " [255 255 255]\n",
      " [  0   0   0]\n",
      " [255 255 255]\n",
      " [255 255 255]\n",
      " [255 255 255]\n",
      " [255 255 255]\n",
      " [255 255 255]\n",
      " [255 255 255]\n",
      " [  0   0   0]\n",
      " [255 255 255]\n",
      " [  0   0   0]\n",
      " [  0   0   0]\n",
      " [  0   0   0]\n",
      " [  0   0   0]\n",
      " [255 255 255]\n",
      " [255 255 255]\n",
      " [255 255 255]\n",
      " [255 255 255]\n",
      " [255 255 255]\n",
      " [255 255 255]\n",
      " [255 255 255]\n",
      " [  0   0   0]\n",
      " [  0   0   0]\n",
      " [255 255 255]\n",
      " [  0   0   0]\n",
      " [255 255 255]\n",
      " [255 255 255]\n",
      " [255 255 255]\n",
      " [255 255 255]\n",
      " [255 255 255]\n",
      " [255 255 255]\n",
      " [255 255 255]\n",
      " [255 255 255]\n",
      " [255 255 255]\n",
      " [255 255 255]\n",
      " [255 255 255]\n",
      " [255 255 255]\n",
      " [  0   0   0]\n",
      " [  0   0   0]\n",
      " [255 255 255]\n",
      " [255 255 255]\n",
      " [255 255 255]\n",
      " [  0   0   0]\n",
      " [255 255 255]\n",
      " [255 255 255]\n",
      " [  0   0   0]\n",
      " [  0   0   0]\n",
      " [  0   0   0]\n",
      " [255 255 255]\n",
      " [  0   0   0]\n",
      " [  0   0   0]\n",
      " [255 255 255]\n",
      " [  0   0   0]\n",
      " [255 255 255]\n",
      " [255 255 255]\n",
      " [255 255 255]\n",
      " [255 255 255]\n",
      " [255 255 255]\n",
      " [255 255 255]\n",
      " [  0   0   0]\n",
      " [  0   0   0]\n",
      " [255 255 255]\n",
      " [255 255 255]\n",
      " [255 255 255]\n",
      " [255 255 255]\n",
      " [255 255 255]\n",
      " [255 255 255]\n",
      " [255 255 255]\n",
      " [255 255 255]\n",
      " [255 255 255]\n",
      " [255 255 255]\n",
      " [255 255 255]\n",
      " [255 255 255]\n",
      " [255 255 255]\n",
      " [255 255 255]\n",
      " [255 255 255]\n",
      " [255 255 255]\n",
      " [255 255 255]\n",
      " [255 255 255]\n",
      " [255 255 255]\n",
      " [255 255 255]\n",
      " [255 255 255]\n",
      " [255 255 255]\n",
      " [255 255 255]\n",
      " [255 255 255]\n",
      " [255 255 255]\n",
      " [255 255 255]\n",
      " [255 255 255]\n",
      " [255 255 255]\n",
      " [255 255 255]\n",
      " [255 255 255]\n",
      " [255 255 255]\n",
      " [255 255 255]\n",
      " [255 255 255]\n",
      " [255 255 255]]\n",
      "[[255 255 255]\n",
      " [255 255 255]\n",
      " [255 255 255]\n",
      " [255 255 255]\n",
      " [255 255 255]\n",
      " [255 255 255]\n",
      " [255 255 255]\n",
      " [255 255 255]\n",
      " [255 255 255]\n",
      " [255 255 255]\n",
      " [255 255 255]\n",
      " [255 255 255]\n",
      " [  0   0   0]\n",
      " [  0   0   0]\n",
      " [  0   0   0]\n",
      " [  0   0   0]\n",
      " [  0   0   0]\n",
      " [255 255 255]\n",
      " [255 255 255]\n",
      " [255 255 255]\n",
      " [255 255 255]\n",
      " [255 255 255]\n",
      " [255 255 255]\n",
      " [255 255 255]\n",
      " [255 255 255]\n",
      " [255 255 255]\n",
      " [  0   0   0]\n",
      " [  0   0   0]\n",
      " [255 255 255]\n",
      " [255 255 255]\n",
      " [255 255 255]\n",
      " [255 255 255]\n",
      " [255 255 255]\n",
      " [255 255 255]\n",
      " [255 255 255]\n",
      " [255 255 255]\n",
      " [255 255 255]\n",
      " [255 255 255]\n",
      " [255 255 255]\n",
      " [255 255 255]\n",
      " [255 255 255]\n",
      " [255 255 255]\n",
      " [  0   0   0]\n",
      " [255 255 255]\n",
      " [255 255 255]\n",
      " [  0   0   0]\n",
      " [255 255 255]\n",
      " [255 255 255]\n",
      " [  0   0   0]\n",
      " [255 255 255]\n",
      " [255 255 255]\n",
      " [255 255 255]\n",
      " [  0   0   0]\n",
      " [  0   0   0]\n",
      " [  0   0   0]\n",
      " [  0   0   0]\n",
      " [255 255 255]\n",
      " [255 255 255]\n",
      " [255 255 255]\n",
      " [  0   0   0]\n",
      " [  0   0   0]\n",
      " [255 255 255]\n",
      " [255 255 255]\n",
      " [255 255 255]\n",
      " [  0   0   0]\n",
      " [  0   0   0]\n",
      " [255 255 255]\n",
      " [255 255 255]\n",
      " [255 255 255]\n",
      " [255 255 255]\n",
      " [255 255 255]\n",
      " [255 255 255]\n",
      " [255 255 255]\n",
      " [255 255 255]\n",
      " [255 255 255]\n",
      " [255 255 255]\n",
      " [  0   0   0]\n",
      " [  0   0   0]\n",
      " [  0   0   0]\n",
      " [255 255 255]\n",
      " [255 255 255]\n",
      " [255 255 255]\n",
      " [255 255 255]\n",
      " [255 255 255]\n",
      " [255 255 255]\n",
      " [255 255 255]\n",
      " [255 255 255]\n",
      " [255 255 255]\n",
      " [255 255 255]\n",
      " [255 255 255]\n",
      " [255 255 255]\n",
      " [255 255 255]\n",
      " [255 255 255]\n",
      " [255 255 255]\n",
      " [255 255 255]\n",
      " [255 255 255]\n",
      " [255 255 255]\n",
      " [255 255 255]\n",
      " [255 255 255]\n",
      " [255 255 255]]\n",
      "[[255 255 255]\n",
      " [255 255 255]\n",
      " [255 255 255]\n",
      " [255 255 255]\n",
      " [255 255 255]\n",
      " [255 255 255]\n",
      " [255 255 255]\n",
      " [255 255 255]\n",
      " [255 255 255]\n",
      " [255 255 255]\n",
      " [255 255 255]\n",
      " [255 255 255]\n",
      " [255 255 255]\n",
      " [255 255 255]\n",
      " [255 255 255]\n",
      " [  0   0   0]\n",
      " [255 255 255]\n",
      " [255 255 255]\n",
      " [255 255 255]\n",
      " [255 255 255]\n",
      " [255 255 255]\n",
      " [255 255 255]\n",
      " [255 255 255]\n",
      " [255 255 255]\n",
      " [255 255 255]\n",
      " [255 255 255]\n",
      " [  0   0   0]\n",
      " [255 255 255]\n",
      " [255 255 255]\n",
      " [  0   0   0]\n",
      " [255 255 255]\n",
      " [255 255 255]\n",
      " [255 255 255]\n",
      " [255 255 255]\n",
      " [255 255 255]\n",
      " [255 255 255]\n",
      " [255 255 255]\n",
      " [255 255 255]\n",
      " [255 255 255]\n",
      " [255 255 255]\n",
      " [255 255 255]\n",
      " [255 255 255]\n",
      " [  0   0   0]\n",
      " [255 255 255]\n",
      " [255 255 255]\n",
      " [255 255 255]\n",
      " [255 255 255]\n",
      " [255 255 255]\n",
      " [  0   0   0]\n",
      " [  0   0   0]\n",
      " [255 255 255]\n",
      " [255 255 255]\n",
      " [255 255 255]\n",
      " [255 255 255]\n",
      " [  0   0   0]\n",
      " [  0   0   0]\n",
      " [  0   0   0]\n",
      " [  0   0   0]\n",
      " [  0   0   0]\n",
      " [255 255 255]\n",
      " [  0   0   0]\n",
      " [255 255 255]\n",
      " [255 255 255]\n",
      " [255 255 255]\n",
      " [  0   0   0]\n",
      " [255 255 255]\n",
      " [255 255 255]\n",
      " [255 255 255]\n",
      " [255 255 255]\n",
      " [255 255 255]\n",
      " [255 255 255]\n",
      " [255 255 255]\n",
      " [255 255 255]\n",
      " [255 255 255]\n",
      " [255 255 255]\n",
      " [255 255 255]\n",
      " [255 255 255]\n",
      " [255 255 255]\n",
      " [255 255 255]\n",
      " [255 255 255]\n",
      " [255 255 255]\n",
      " [255 255 255]\n",
      " [255 255 255]\n",
      " [255 255 255]\n",
      " [255 255 255]\n",
      " [255 255 255]\n",
      " [255 255 255]\n",
      " [255 255 255]\n",
      " [255 255 255]\n",
      " [255 255 255]\n",
      " [255 255 255]\n",
      " [255 255 255]\n",
      " [255 255 255]\n",
      " [255 255 255]\n",
      " [255 255 255]\n",
      " [255 255 255]\n",
      " [255 255 255]\n",
      " [255 255 255]\n",
      " [255 255 255]\n",
      " [255 255 255]]\n",
      "[[255 255 255]\n",
      " [255 255 255]\n",
      " [255 255 255]\n",
      " [255 255 255]\n",
      " [255 255 255]\n",
      " [255 255 255]\n",
      " [255 255 255]\n",
      " [255 255 255]\n",
      " [255 255 255]\n",
      " [  0   0   0]\n",
      " [  0   0   0]\n",
      " [  0   0   0]\n",
      " [255 255 255]\n",
      " [255 255 255]\n",
      " [  0   0   0]\n",
      " [255 255 255]\n",
      " [255 255 255]\n",
      " [255 255 255]\n",
      " [255 255 255]\n",
      " [255 255 255]\n",
      " [255 255 255]\n",
      " [255 255 255]\n",
      " [255 255 255]\n",
      " [255 255 255]\n",
      " [255 255 255]\n",
      " [  0   0   0]\n",
      " [  0   0   0]\n",
      " [255 255 255]\n",
      " [  0   0   0]\n",
      " [  0   0   0]\n",
      " [255 255 255]\n",
      " [255 255 255]\n",
      " [255 255 255]\n",
      " [255 255 255]\n",
      " [255 255 255]\n",
      " [255 255 255]\n",
      " [255 255 255]\n",
      " [255 255 255]\n",
      " [255 255 255]\n",
      " [255 255 255]\n",
      " [255 255 255]\n",
      " [  0   0   0]\n",
      " [  0   0   0]\n",
      " [255 255 255]\n",
      " [  0   0   0]\n",
      " [  0   0   0]\n",
      " [  0   0   0]\n",
      " [255 255 255]\n",
      " [255 255 255]\n",
      " [  0   0   0]\n",
      " [255 255 255]\n",
      " [255 255 255]\n",
      " [255 255 255]\n",
      " [255 255 255]\n",
      " [255 255 255]\n",
      " [255 255 255]\n",
      " [  0   0   0]\n",
      " [  0   0   0]\n",
      " [  0   0   0]\n",
      " [  0   0   0]\n",
      " [  0   0   0]\n",
      " [  0   0   0]\n",
      " [  0   0   0]\n",
      " [  0   0   0]\n",
      " [  0   0   0]\n",
      " [  0   0   0]\n",
      " [  0   0   0]\n",
      " [  0   0   0]\n",
      " [  0   0   0]\n",
      " [  0   0   0]\n",
      " [  0   0   0]\n",
      " [  0   0   0]\n",
      " [  0   0   0]\n",
      " [255 255 255]\n",
      " [255 255 255]\n",
      " [255 255 255]\n",
      " [255 255 255]\n",
      " [255 255 255]\n",
      " [255 255 255]\n",
      " [255 255 255]\n",
      " [255 255 255]\n",
      " [255 255 255]\n",
      " [255 255 255]\n",
      " [255 255 255]\n",
      " [255 255 255]\n",
      " [255 255 255]\n",
      " [255 255 255]\n",
      " [255 255 255]\n",
      " [255 255 255]\n",
      " [255 255 255]\n",
      " [255 255 255]\n",
      " [255 255 255]\n",
      " [255 255 255]\n",
      " [255 255 255]\n",
      " [255 255 255]\n",
      " [255 255 255]\n",
      " [255 255 255]\n",
      " [255 255 255]\n",
      " [255 255 255]\n",
      " [255 255 255]]\n",
      "[[255 255 255]\n",
      " [255 255 255]\n",
      " [255 255 255]\n",
      " [255 255 255]\n",
      " [255 255 255]\n",
      " [255 255 255]\n",
      " [255 255 255]\n",
      " [255 255 255]\n",
      " [  0   0   0]\n",
      " [  0   0   0]\n",
      " [  0   0   0]\n",
      " [255 255 255]\n",
      " [255 255 255]\n",
      " [  0   0   0]\n",
      " [  0   0   0]\n",
      " [255 255 255]\n",
      " [255 255 255]\n",
      " [255 255 255]\n",
      " [255 255 255]\n",
      " [255 255 255]\n",
      " [255 255 255]\n",
      " [255 255 255]\n",
      " [255 255 255]\n",
      " [255 255 255]\n",
      " [255 255 255]\n",
      " [  0   0   0]\n",
      " [255 255 255]\n",
      " [255 255 255]\n",
      " [  0   0   0]\n",
      " [255 255 255]\n",
      " [255 255 255]\n",
      " [255 255 255]\n",
      " [255 255 255]\n",
      " [255 255 255]\n",
      " [255 255 255]\n",
      " [255 255 255]\n",
      " [255 255 255]\n",
      " [255 255 255]\n",
      " [255 255 255]\n",
      " [255 255 255]\n",
      " [255 255 255]\n",
      " [  0   0   0]\n",
      " [255 255 255]\n",
      " [255 255 255]\n",
      " [  0   0   0]\n",
      " [255 255 255]\n",
      " [  0   0   0]\n",
      " [  0   0   0]\n",
      " [255 255 255]\n",
      " [  0   0   0]\n",
      " [  0   0   0]\n",
      " [255 255 255]\n",
      " [255 255 255]\n",
      " [255 255 255]\n",
      " [  0   0   0]\n",
      " [255 255 255]\n",
      " [  0   0   0]\n",
      " [  0   0   0]\n",
      " [255 255 255]\n",
      " [255 255 255]\n",
      " [255 255 255]\n",
      " [  0   0   0]\n",
      " [255 255 255]\n",
      " [255 255 255]\n",
      " [  0   0   0]\n",
      " [255 255 255]\n",
      " [255 255 255]\n",
      " [255 255 255]\n",
      " [255 255 255]\n",
      " [255 255 255]\n",
      " [255 255 255]\n",
      " [255 255 255]\n",
      " [255 255 255]\n",
      " [255 255 255]\n",
      " [255 255 255]\n",
      " [255 255 255]\n",
      " [255 255 255]\n",
      " [255 255 255]\n",
      " [255 255 255]\n",
      " [255 255 255]\n",
      " [255 255 255]\n",
      " [255 255 255]\n",
      " [255 255 255]\n",
      " [255 255 255]\n",
      " [255 255 255]\n",
      " [255 255 255]\n",
      " [255 255 255]\n",
      " [255 255 255]\n",
      " [255 255 255]\n",
      " [255 255 255]\n",
      " [255 255 255]\n",
      " [255 255 255]\n",
      " [255 255 255]\n",
      " [255 255 255]\n",
      " [255 255 255]\n",
      " [255 255 255]\n",
      " [255 255 255]\n",
      " [255 255 255]\n",
      " [255 255 255]\n",
      " [255 255 255]]\n",
      "[[255 255 255]\n",
      " [255 255 255]\n",
      " [255 255 255]\n",
      " [255 255 255]\n",
      " [255 255 255]\n",
      " [255 255 255]\n",
      " [255 255 255]\n",
      " [  0   0   0]\n",
      " [  0   0   0]\n",
      " [255 255 255]\n",
      " [255 255 255]\n",
      " [255 255 255]\n",
      " [  0   0   0]\n",
      " [  0   0   0]\n",
      " [255 255 255]\n",
      " [255 255 255]\n",
      " [255 255 255]\n",
      " [255 255 255]\n",
      " [255 255 255]\n",
      " [  0   0   0]\n",
      " [  0   0   0]\n",
      " [  0   0   0]\n",
      " [  0   0   0]\n",
      " [  0   0   0]\n",
      " [  0   0   0]\n",
      " [255 255 255]\n",
      " [255 255 255]\n",
      " [  0   0   0]\n",
      " [255 255 255]\n",
      " [255 255 255]\n",
      " [255 255 255]\n",
      " [255 255 255]\n",
      " [255 255 255]\n",
      " [255 255 255]\n",
      " [255 255 255]\n",
      " [255 255 255]\n",
      " [255 255 255]\n",
      " [255 255 255]\n",
      " [255 255 255]\n",
      " [255 255 255]\n",
      " [255 255 255]\n",
      " [  0   0   0]\n",
      " [255 255 255]\n",
      " [  0   0   0]\n",
      " [  0   0   0]\n",
      " [255 255 255]\n",
      " [255 255 255]\n",
      " [  0   0   0]\n",
      " [  0   0   0]\n",
      " [255 255 255]\n",
      " [  0   0   0]\n",
      " [255 255 255]\n",
      " [255 255 255]\n",
      " [  0   0   0]\n",
      " [  0   0   0]\n",
      " [255 255 255]\n",
      " [  0   0   0]\n",
      " [255 255 255]\n",
      " [255 255 255]\n",
      " [255 255 255]\n",
      " [255 255 255]\n",
      " [255 255 255]\n",
      " [255 255 255]\n",
      " [  0   0   0]\n",
      " [  0   0   0]\n",
      " [255 255 255]\n",
      " [255 255 255]\n",
      " [255 255 255]\n",
      " [255 255 255]\n",
      " [255 255 255]\n",
      " [255 255 255]\n",
      " [255 255 255]\n",
      " [255 255 255]\n",
      " [255 255 255]\n",
      " [255 255 255]\n",
      " [255 255 255]\n",
      " [255 255 255]\n",
      " [255 255 255]\n",
      " [255 255 255]\n",
      " [255 255 255]\n",
      " [255 255 255]\n",
      " [255 255 255]\n",
      " [255 255 255]\n",
      " [255 255 255]\n",
      " [255 255 255]\n",
      " [255 255 255]\n",
      " [255 255 255]\n",
      " [255 255 255]\n",
      " [255 255 255]\n",
      " [255 255 255]\n",
      " [255 255 255]\n",
      " [255 255 255]\n",
      " [255 255 255]\n",
      " [255 255 255]\n",
      " [255 255 255]\n",
      " [255 255 255]\n",
      " [255 255 255]\n",
      " [255 255 255]\n",
      " [255 255 255]\n",
      " [255 255 255]]\n",
      "[[255 255 255]\n",
      " [255 255 255]\n",
      " [255 255 255]\n",
      " [255 255 255]\n",
      " [255 255 255]\n",
      " [255 255 255]\n",
      " [255 255 255]\n",
      " [255 255 255]\n",
      " [  0   0   0]\n",
      " [  0   0   0]\n",
      " [  0   0   0]\n",
      " [  0   0   0]\n",
      " [  0   0   0]\n",
      " [255 255 255]\n",
      " [255 255 255]\n",
      " [255 255 255]\n",
      " [255 255 255]\n",
      " [255 255 255]\n",
      " [  0   0   0]\n",
      " [  0   0   0]\n",
      " [255 255 255]\n",
      " [255 255 255]\n",
      " [255 255 255]\n",
      " [255 255 255]\n",
      " [255 255 255]\n",
      " [255 255 255]\n",
      " [  0   0   0]\n",
      " [  0   0   0]\n",
      " [255 255 255]\n",
      " [255 255 255]\n",
      " [255 255 255]\n",
      " [255 255 255]\n",
      " [255 255 255]\n",
      " [255 255 255]\n",
      " [255 255 255]\n",
      " [255 255 255]\n",
      " [255 255 255]\n",
      " [255 255 255]\n",
      " [255 255 255]\n",
      " [255 255 255]\n",
      " [255 255 255]\n",
      " [  0   0   0]\n",
      " [255 255 255]\n",
      " [  0   0   0]\n",
      " [255 255 255]\n",
      " [255 255 255]\n",
      " [255 255 255]\n",
      " [255 255 255]\n",
      " [  0   0   0]\n",
      " [  0   0   0]\n",
      " [255 255 255]\n",
      " [255 255 255]\n",
      " [255 255 255]\n",
      " [  0   0   0]\n",
      " [  0   0   0]\n",
      " [255 255 255]\n",
      " [  0   0   0]\n",
      " [255 255 255]\n",
      " [255 255 255]\n",
      " [255 255 255]\n",
      " [255 255 255]\n",
      " [  0   0   0]\n",
      " [255 255 255]\n",
      " [  0   0   0]\n",
      " [  0   0   0]\n",
      " [255 255 255]\n",
      " [255 255 255]\n",
      " [255 255 255]\n",
      " [255 255 255]\n",
      " [255 255 255]\n",
      " [255 255 255]\n",
      " [255 255 255]\n",
      " [255 255 255]\n",
      " [255 255 255]\n",
      " [255 255 255]\n",
      " [255 255 255]\n",
      " [255 255 255]\n",
      " [255 255 255]\n",
      " [255 255 255]\n",
      " [255 255 255]\n",
      " [255 255 255]\n",
      " [255 255 255]\n",
      " [255 255 255]\n",
      " [255 255 255]\n",
      " [255 255 255]\n",
      " [255 255 255]\n",
      " [255 255 255]\n",
      " [255 255 255]\n",
      " [255 255 255]\n",
      " [255 255 255]\n",
      " [255 255 255]\n",
      " [255 255 255]\n",
      " [255 255 255]\n",
      " [255 255 255]\n",
      " [255 255 255]\n",
      " [255 255 255]\n",
      " [255 255 255]\n",
      " [255 255 255]\n",
      " [255 255 255]\n",
      " [255 255 255]]\n",
      "[[255 255 255]\n",
      " [255 255 255]\n",
      " [255 255 255]\n",
      " [255 255 255]\n",
      " [255 255 255]\n",
      " [255 255 255]\n",
      " [255 255 255]\n",
      " [255 255 255]\n",
      " [255 255 255]\n",
      " [  0   0   0]\n",
      " [  0   0   0]\n",
      " [255 255 255]\n",
      " [255 255 255]\n",
      " [255 255 255]\n",
      " [255 255 255]\n",
      " [255 255 255]\n",
      " [255 255 255]\n",
      " [255 255 255]\n",
      " [255 255 255]\n",
      " [  0   0   0]\n",
      " [  0   0   0]\n",
      " [255 255 255]\n",
      " [255 255 255]\n",
      " [  0   0   0]\n",
      " [  0   0   0]\n",
      " [  0   0   0]\n",
      " [255 255 255]\n",
      " [255 255 255]\n",
      " [255 255 255]\n",
      " [255 255 255]\n",
      " [255 255 255]\n",
      " [255 255 255]\n",
      " [255 255 255]\n",
      " [255 255 255]\n",
      " [255 255 255]\n",
      " [255 255 255]\n",
      " [255 255 255]\n",
      " [255 255 255]\n",
      " [255 255 255]\n",
      " [255 255 255]\n",
      " [255 255 255]\n",
      " [255 255 255]\n",
      " [  0   0   0]\n",
      " [  0   0   0]\n",
      " [255 255 255]\n",
      " [255 255 255]\n",
      " [255 255 255]\n",
      " [255 255 255]\n",
      " [255 255 255]\n",
      " [255 255 255]\n",
      " [255 255 255]\n",
      " [255 255 255]\n",
      " [255 255 255]\n",
      " [255 255 255]\n",
      " [  0   0   0]\n",
      " [  0   0   0]\n",
      " [  0   0   0]\n",
      " [255 255 255]\n",
      " [255 255 255]\n",
      " [255 255 255]\n",
      " [  0   0   0]\n",
      " [  0   0   0]\n",
      " [255 255 255]\n",
      " [  0   0   0]\n",
      " [255 255 255]\n",
      " [255 255 255]\n",
      " [255 255 255]\n",
      " [255 255 255]\n",
      " [255 255 255]\n",
      " [255 255 255]\n",
      " [255 255 255]\n",
      " [255 255 255]\n",
      " [255 255 255]\n",
      " [255 255 255]\n",
      " [255 255 255]\n",
      " [255 255 255]\n",
      " [255 255 255]\n",
      " [255 255 255]\n",
      " [255 255 255]\n",
      " [255 255 255]\n",
      " [255 255 255]\n",
      " [255 255 255]\n",
      " [255 255 255]\n",
      " [255 255 255]\n",
      " [255 255 255]\n",
      " [255 255 255]\n",
      " [255 255 255]\n",
      " [255 255 255]\n",
      " [255 255 255]\n",
      " [255 255 255]\n",
      " [255 255 255]\n",
      " [255 255 255]\n",
      " [255 255 255]\n",
      " [255 255 255]\n",
      " [255 255 255]\n",
      " [255 255 255]\n",
      " [255 255 255]\n",
      " [255 255 255]\n",
      " [255 255 255]\n",
      " [255 255 255]]\n",
      "[[255 255 255]\n",
      " [255 255 255]\n",
      " [255 255 255]\n",
      " [255 255 255]\n",
      " [255 255 255]\n",
      " [255 255 255]\n",
      " [255 255 255]\n",
      " [255 255 255]\n",
      " [255 255 255]\n",
      " [255 255 255]\n",
      " [255 255 255]\n",
      " [255 255 255]\n",
      " [255 255 255]\n",
      " [255 255 255]\n",
      " [255 255 255]\n",
      " [255 255 255]\n",
      " [255 255 255]\n",
      " [255 255 255]\n",
      " [255 255 255]\n",
      " [255 255 255]\n",
      " [255 255 255]\n",
      " [  0   0   0]\n",
      " [  0   0   0]\n",
      " [  0   0   0]\n",
      " [255 255 255]\n",
      " [255 255 255]\n",
      " [255 255 255]\n",
      " [255 255 255]\n",
      " [255 255 255]\n",
      " [255 255 255]\n",
      " [255 255 255]\n",
      " [255 255 255]\n",
      " [255 255 255]\n",
      " [255 255 255]\n",
      " [255 255 255]\n",
      " [255 255 255]\n",
      " [255 255 255]\n",
      " [255 255 255]\n",
      " [255 255 255]\n",
      " [255 255 255]\n",
      " [255 255 255]\n",
      " [255 255 255]\n",
      " [255 255 255]\n",
      " [255 255 255]\n",
      " [255 255 255]\n",
      " [255 255 255]\n",
      " [255 255 255]\n",
      " [255 255 255]\n",
      " [255 255 255]\n",
      " [255 255 255]\n",
      " [255 255 255]\n",
      " [255 255 255]\n",
      " [255 255 255]\n",
      " [255 255 255]\n",
      " [255 255 255]\n",
      " [255 255 255]\n",
      " [255 255 255]\n",
      " [255 255 255]\n",
      " [255 255 255]\n",
      " [255 255 255]\n",
      " [  0   0   0]\n",
      " [  0   0   0]\n",
      " [255 255 255]\n",
      " [255 255 255]\n",
      " [255 255 255]\n",
      " [255 255 255]\n",
      " [255 255 255]\n",
      " [255 255 255]\n",
      " [255 255 255]\n",
      " [255 255 255]\n",
      " [255 255 255]\n",
      " [255 255 255]\n",
      " [255 255 255]\n",
      " [255 255 255]\n",
      " [255 255 255]\n",
      " [255 255 255]\n",
      " [255 255 255]\n",
      " [255 255 255]\n",
      " [255 255 255]\n",
      " [255 255 255]\n",
      " [255 255 255]\n",
      " [255 255 255]\n",
      " [255 255 255]\n",
      " [255 255 255]\n",
      " [255 255 255]\n",
      " [255 255 255]\n",
      " [255 255 255]\n",
      " [255 255 255]\n",
      " [255 255 255]\n",
      " [255 255 255]\n",
      " [255 255 255]\n",
      " [255 255 255]\n",
      " [255 255 255]\n",
      " [255 255 255]\n",
      " [255 255 255]\n",
      " [255 255 255]\n",
      " [255 255 255]\n",
      " [255 255 255]\n",
      " [255 255 255]\n",
      " [255 255 255]]\n",
      "[[255 255 255]\n",
      " [255 255 255]\n",
      " [255 255 255]\n",
      " [255 255 255]\n",
      " [255 255 255]\n",
      " [255 255 255]\n",
      " [255 255 255]\n",
      " [255 255 255]\n",
      " [255 255 255]\n",
      " [255 255 255]\n",
      " [255 255 255]\n",
      " [255 255 255]\n",
      " [255 255 255]\n",
      " [255 255 255]\n",
      " [255 255 255]\n",
      " [255 255 255]\n",
      " [255 255 255]\n",
      " [255 255 255]\n",
      " [255 255 255]\n",
      " [255 255 255]\n",
      " [255 255 255]\n",
      " [255 255 255]\n",
      " [255 255 255]\n",
      " [255 255 255]\n",
      " [255 255 255]\n",
      " [255 255 255]\n",
      " [255 255 255]\n",
      " [255 255 255]\n",
      " [255 255 255]\n",
      " [255 255 255]\n",
      " [255 255 255]\n",
      " [255 255 255]\n",
      " [255 255 255]\n",
      " [255 255 255]\n",
      " [255 255 255]\n",
      " [255 255 255]\n",
      " [255 255 255]\n",
      " [255 255 255]\n",
      " [255 255 255]\n",
      " [255 255 255]\n",
      " [255 255 255]\n",
      " [255 255 255]\n",
      " [255 255 255]\n",
      " [255 255 255]\n",
      " [255 255 255]\n",
      " [255 255 255]\n",
      " [255 255 255]\n",
      " [255 255 255]\n",
      " [255 255 255]\n",
      " [255 255 255]\n",
      " [255 255 255]\n",
      " [255 255 255]\n",
      " [255 255 255]\n",
      " [255 255 255]\n",
      " [255 255 255]\n",
      " [255 255 255]\n",
      " [255 255 255]\n",
      " [255 255 255]\n",
      " [255 255 255]\n",
      " [255 255 255]\n",
      " [255 255 255]\n",
      " [  0   0   0]\n",
      " [  0   0   0]\n",
      " [255 255 255]\n",
      " [255 255 255]\n",
      " [255 255 255]\n",
      " [255 255 255]\n",
      " [255 255 255]\n",
      " [255 255 255]\n",
      " [255 255 255]\n",
      " [255 255 255]\n",
      " [255 255 255]\n",
      " [255 255 255]\n",
      " [255 255 255]\n",
      " [255 255 255]\n",
      " [255 255 255]\n",
      " [255 255 255]\n",
      " [255 255 255]\n",
      " [255 255 255]\n",
      " [255 255 255]\n",
      " [255 255 255]\n",
      " [255 255 255]\n",
      " [255 255 255]\n",
      " [255 255 255]\n",
      " [255 255 255]\n",
      " [255 255 255]\n",
      " [255 255 255]\n",
      " [255 255 255]\n",
      " [255 255 255]\n",
      " [255 255 255]\n",
      " [255 255 255]\n",
      " [255 255 255]\n",
      " [255 255 255]\n",
      " [255 255 255]\n",
      " [255 255 255]\n",
      " [255 255 255]\n",
      " [255 255 255]\n",
      " [255 255 255]\n",
      " [255 255 255]\n",
      " [255 255 255]]\n",
      "[[255 255 255]\n",
      " [255 255 255]\n",
      " [255 255 255]\n",
      " [255 255 255]\n",
      " [255 255 255]\n",
      " [255 255 255]\n",
      " [255 255 255]\n",
      " [255 255 255]\n",
      " [255 255 255]\n",
      " [255 255 255]\n",
      " [255 255 255]\n",
      " [255 255 255]\n",
      " [255 255 255]\n",
      " [255 255 255]\n",
      " [255 255 255]\n",
      " [255 255 255]\n",
      " [255 255 255]\n",
      " [255 255 255]\n",
      " [255 255 255]\n",
      " [255 255 255]\n",
      " [255 255 255]\n",
      " [255 255 255]\n",
      " [255 255 255]\n",
      " [255 255 255]\n",
      " [255 255 255]\n",
      " [255 255 255]\n",
      " [255 255 255]\n",
      " [255 255 255]\n",
      " [255 255 255]\n",
      " [255 255 255]\n",
      " [255 255 255]\n",
      " [255 255 255]\n",
      " [255 255 255]\n",
      " [255 255 255]\n",
      " [255 255 255]\n",
      " [255 255 255]\n",
      " [255 255 255]\n",
      " [255 255 255]\n",
      " [255 255 255]\n",
      " [255 255 255]\n",
      " [255 255 255]\n",
      " [255 255 255]\n",
      " [255 255 255]\n",
      " [255 255 255]\n",
      " [255 255 255]\n",
      " [255 255 255]\n",
      " [255 255 255]\n",
      " [255 255 255]\n",
      " [255 255 255]\n",
      " [255 255 255]\n",
      " [255 255 255]\n",
      " [255 255 255]\n",
      " [255 255 255]\n",
      " [255 255 255]\n",
      " [255 255 255]\n",
      " [255 255 255]\n",
      " [255 255 255]\n",
      " [255 255 255]\n",
      " [255 255 255]\n",
      " [255 255 255]\n",
      " [255 255 255]\n",
      " [255 255 255]\n",
      " [255 255 255]\n",
      " [255 255 255]\n",
      " [255 255 255]\n",
      " [255 255 255]\n",
      " [255 255 255]\n",
      " [255 255 255]\n",
      " [255 255 255]\n",
      " [255 255 255]\n",
      " [255 255 255]\n",
      " [255 255 255]\n",
      " [255 255 255]\n",
      " [255 255 255]\n",
      " [255 255 255]\n",
      " [255 255 255]\n",
      " [255 255 255]\n",
      " [255 255 255]\n",
      " [255 255 255]\n",
      " [255 255 255]\n",
      " [255 255 255]\n",
      " [255 255 255]\n",
      " [255 255 255]\n",
      " [255 255 255]\n",
      " [255 255 255]\n",
      " [255 255 255]\n",
      " [255 255 255]\n",
      " [255 255 255]\n",
      " [255 255 255]\n",
      " [255 255 255]\n",
      " [255 255 255]\n",
      " [255 255 255]\n",
      " [255 255 255]\n",
      " [255 255 255]\n",
      " [255 255 255]\n",
      " [255 255 255]\n",
      " [255 255 255]\n",
      " [255 255 255]\n",
      " [255 255 255]\n",
      " [255 255 255]]\n",
      "[[255 255 255]\n",
      " [255 255 255]\n",
      " [255 255 255]\n",
      " [255 255 255]\n",
      " [255 255 255]\n",
      " [255 255 255]\n",
      " [255 255 255]\n",
      " [255 255 255]\n",
      " [255 255 255]\n",
      " [255 255 255]\n",
      " [255 255 255]\n",
      " [255 255 255]\n",
      " [255 255 255]\n",
      " [255 255 255]\n",
      " [255 255 255]\n",
      " [255 255 255]\n",
      " [255 255 255]\n",
      " [255 255 255]\n",
      " [255 255 255]\n",
      " [255 255 255]\n",
      " [255 255 255]\n",
      " [255 255 255]\n",
      " [255 255 255]\n",
      " [255 255 255]\n",
      " [255 255 255]\n",
      " [255 255 255]\n",
      " [255 255 255]\n",
      " [255 255 255]\n",
      " [255 255 255]\n",
      " [255 255 255]\n",
      " [255 255 255]\n",
      " [255 255 255]\n",
      " [255 255 255]\n",
      " [255 255 255]\n",
      " [255 255 255]\n",
      " [255 255 255]\n",
      " [255 255 255]\n",
      " [255 255 255]\n",
      " [255 255 255]\n",
      " [255 255 255]\n",
      " [255 255 255]\n",
      " [255 255 255]\n",
      " [255 255 255]\n",
      " [  0   0   0]\n",
      " [255 255 255]\n",
      " [255 255 255]\n",
      " [255 255 255]\n",
      " [255 255 255]\n",
      " [255 255 255]\n",
      " [255 255 255]\n",
      " [255 255 255]\n",
      " [255 255 255]\n",
      " [255 255 255]\n",
      " [255 255 255]\n",
      " [255 255 255]\n",
      " [255 255 255]\n",
      " [255 255 255]\n",
      " [255 255 255]\n",
      " [255 255 255]\n",
      " [255 255 255]\n",
      " [255 255 255]\n",
      " [255 255 255]\n",
      " [255 255 255]\n",
      " [255 255 255]\n",
      " [255 255 255]\n",
      " [255 255 255]\n",
      " [255 255 255]\n",
      " [255 255 255]\n",
      " [255 255 255]\n",
      " [255 255 255]\n",
      " [255 255 255]\n",
      " [255 255 255]\n",
      " [255 255 255]\n",
      " [255 255 255]\n",
      " [255 255 255]\n",
      " [255 255 255]\n",
      " [255 255 255]\n",
      " [255 255 255]\n",
      " [255 255 255]\n",
      " [255 255 255]\n",
      " [255 255 255]\n",
      " [255 255 255]\n",
      " [255 255 255]\n",
      " [255 255 255]\n",
      " [255 255 255]\n",
      " [255 255 255]\n",
      " [255 255 255]\n",
      " [255 255 255]\n",
      " [255 255 255]\n",
      " [255 255 255]\n",
      " [255 255 255]\n",
      " [255 255 255]\n",
      " [255 255 255]\n",
      " [255 255 255]\n",
      " [255 255 255]\n",
      " [255 255 255]\n",
      " [255 255 255]\n",
      " [255 255 255]\n",
      " [255 255 255]\n",
      " [255 255 255]]\n"
     ]
    }
   ],
   "source": [
    "for i in pixdata:\n",
    "    print(i)"
   ]
  },
  {
   "cell_type": "code",
   "execution_count": 114,
   "metadata": {},
   "outputs": [],
   "source": [
    "def open_img(giffile):\n",
    "    img = Image.open(giffile)   #打开图片\n",
    "    img = img.convert('RGB')    #转换为RGB图\n",
    "    pixdata = img.load()        #转换为像素点图\n",
    "    return img, pixdata\n",
    "\n",
    "\n",
    "def remove_line(giffile, savepath):\n",
    "    \n",
    "    (img, pixdata) = open_img(giffile)\n",
    "    for x in range(img.size[0]):    #x坐标\n",
    "        for y in range(img.size[1]):    #y坐标\n",
    "            if pixdata[x, y][0] < 8 or pixdata[x, y][1] < 6 or pixdata[x, y][2] < 8 or (\n",
    "                    pixdata[x, y][0] + pixdata[x, y][1] + pixdata[x, y][2]) <= 30:  #确定颜色阈值\n",
    "                if y == 0:\n",
    "                    pixdata[x, y] = (255, 255, 255)\n",
    "                if y > 0:\n",
    "                    if pixdata[x, y - 1][0] > 120 or pixdata[x, y - 1][1] > 136 or pixdata[x, y - 1][2] > 120:\n",
    "                        pixdata[x, y] = (255, 255, 255) #?\n",
    "#     plt.imshow(img)\n",
    "    # 二值化处理\n",
    "    for y in range(img.size[1]):  # 二值化处理，这个阈值为R=95，G=95，B=95\n",
    "        for x in range(img.size[0]):\n",
    "            if pixdata[x, y][0] < 160 and pixdata[x, y][1] < 160 and pixdata[x, y][2] < 160:\n",
    "                pixdata[x, y] = (0, 0, 0)\n",
    "            else:\n",
    "                pixdata[x, y] = (255, 255, 255)\n",
    "    img.filter(ImageFilter.EDGE_ENHANCE_MORE)  #深度边缘增强滤波，会使得图像中边缘部分更加明显（阈值更大），相当于锐化滤波\n",
    "    img.resize(((img.size[0]) * 2, (img.size[1]) * 2), Image.BILINEAR)  # Image.BILINEAR指定采用双线性法对像素点插值#?\n",
    "#     img.save(savepath+'captcha_removeline.jpg')\n",
    "#     img.imshow()"
   ]
  },
  {
   "cell_type": "code",
   "execution_count": 115,
   "metadata": {},
   "outputs": [],
   "source": [
    "remove_line('cbmqr-spnkd.jpg','cbmqr-spnkd')"
   ]
  },
  {
   "cell_type": "code",
   "execution_count": null,
   "metadata": {},
   "outputs": [],
   "source": []
  }
 ],
 "metadata": {
  "kernelspec": {
   "display_name": "Python 3",
   "language": "python",
   "name": "python3"
  },
  "language_info": {
   "codemirror_mode": {
    "name": "ipython",
    "version": 3
   },
   "file_extension": ".py",
   "mimetype": "text/x-python",
   "name": "python",
   "nbconvert_exporter": "python",
   "pygments_lexer": "ipython3",
   "version": "3.6.2"
  }
 },
 "nbformat": 4,
 "nbformat_minor": 2
}
