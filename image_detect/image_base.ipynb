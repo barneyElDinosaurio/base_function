{
 "cells": [
  {
   "cell_type": "code",
   "execution_count": 1,
   "metadata": {
    "collapsed": true
   },
   "outputs": [],
   "source": [
    "import base64"
   ]
  },
  {
   "cell_type": "code",
   "execution_count": 11,
   "metadata": {
    "collapsed": true
   },
   "outputs": [],
   "source": [
    "image = 'forest.jpg'\n",
    "f = open(image,'rb')"
   ]
  },
  {
   "cell_type": "code",
   "execution_count": 10,
   "metadata": {
    "collapsed": false
   },
   "outputs": [
    {
     "data": {
      "text/plain": [
       "b''"
      ]
     },
     "execution_count": 10,
     "metadata": {},
     "output_type": "execute_result"
    }
   ],
   "source": [
    "f.read()"
   ]
  },
  {
   "cell_type": "code",
   "execution_count": 12,
   "metadata": {
    "collapsed": true
   },
   "outputs": [],
   "source": [
    "img_b64 = base64.b64encode(f.read())"
   ]
  },
  {
   "cell_type": "code",
   "execution_count": null,
   "metadata": {
    "collapsed": false,
    "scrolled": true
   },
   "outputs": [],
   "source": [
    "img_b64"
   ]
  },
  {
   "cell_type": "code",
   "execution_count": 14,
   "metadata": {
    "collapsed": true
   },
   "outputs": [],
   "source": [
    "origin_data = base64.b64decode(img_b64)"
   ]
  },
  {
   "cell_type": "code",
   "execution_count": null,
   "metadata": {
    "collapsed": false,
    "scrolled": false
   },
   "outputs": [],
   "source": [
    "origin_data"
   ]
  },
  {
   "cell_type": "code",
   "execution_count": null,
   "metadata": {
    "collapsed": true
   },
   "outputs": [],
   "source": [
    "from PIL import Image\n",
    "import cv2\n",
    "im = Image.open('code.png')\n",
    "\n",
    "\n",
    "import requests,\n",
    "with open('code.jpg','wb') as f:\n",
    "    res = requests.get('http://serv.gcis.nat.gov.tw/pub/kaptcha.jpg')\n",
    "    f.write(res.content)\n",
    "\n",
    "import numpy as np,\n",
    "im = Image.open('code.jpg').convert('RGB')\n",
    "open_cv_image = np.array(im)\n",
    "\n",
    "im2=Image.open('code.jpg')\n",
    "im2\n",
    "open_cv_image\n",
    "\n",
    "%pylab inline,\n",
    "import matplotlib.pyplot as plt\n",
    "plt.imshow(open_cv_image)\n",
    "\n",
    "# 转为灰度图\n",
    "imgray = cv2.cvtColor(open_cv_image,cv2.COLOR_BGR2GRAY)\n",
    "# \n",
    "ret,thresh =cv2.threshold(imgray,127,255,0)\n",
    "# plt.imshow(thresh)\n",
    "\n",
    "contour,hierarchy =cv2.findContours(thresh,cv2.RETR_TREE,cv2.CHAIN_APPROX_SIMPLE),\n",
    "type(hierarchy)\n",
    "len(contour)\n",
    "\n",
    "thresh\n",
    "\n",
    "cnts = sorted([(c,cv2.boundingRect(c)[0]) for c in contour],key=lambda x:x[1])\n",
    "\n",
    "arr=[],\n",
    "for (c,_) in cnts:\n",
    "    (x,y,w,h) =cv2.boundingRect(c)\n",
    "    print(((x,y,w,h)))"
   ]
  }
 ],
 "metadata": {
  "kernelspec": {
   "display_name": "Python 3",
   "language": "python",
   "name": "python3"
  },
  "language_info": {
   "codemirror_mode": {
    "name": "ipython",
    "version": 3
   },
   "file_extension": ".py",
   "mimetype": "text/x-python",
   "name": "python",
   "nbconvert_exporter": "python",
   "pygments_lexer": "ipython3",
   "version": "3.6.0"
  }
 },
 "nbformat": 4,
 "nbformat_minor": 2
}
