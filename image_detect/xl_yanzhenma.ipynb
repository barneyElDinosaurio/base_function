{
 "cells": [
  {
   "cell_type": "code",
   "execution_count": 58,
   "metadata": {},
   "outputs": [],
   "source": [
    "import cv2\n",
    "import matplotlib\n",
    "import matplotlib.pyplot as plt\n",
    "import numpy as np\n",
    "from PIL import Image\n",
    "import pytesseract\n",
    "%matplotlib inline"
   ]
  },
  {
   "cell_type": "code",
   "execution_count": 59,
   "metadata": {},
   "outputs": [],
   "source": [
    "filename ='test_0.jpg'"
   ]
  },
  {
   "cell_type": "code",
   "execution_count": 60,
   "metadata": {},
   "outputs": [],
   "source": [
    "img = Image.open(filename)"
   ]
  },
  {
   "cell_type": "code",
   "execution_count": 34,
   "metadata": {},
   "outputs": [
    {
     "ename": "TesseractNotFoundError",
     "evalue": "tesseract is not installed or it's not in your path",
     "output_type": "error",
     "traceback": [
      "\u001b[0;31m---------------------------------------------------------------------------\u001b[0m",
      "\u001b[0;31mFileNotFoundError\u001b[0m                         Traceback (most recent call last)",
      "\u001b[0;32mC:\\ProgramData\\Anaconda3\\lib\\site-packages\\pytesseract\\pytesseract.py\u001b[0m in \u001b[0;36mrun_tesseract\u001b[0;34m(input_filename, output_filename_base, extension, lang, config, nice)\u001b[0m\n\u001b[1;32m    169\u001b[0m     \u001b[1;32mtry\u001b[0m\u001b[1;33m:\u001b[0m\u001b[1;33m\u001b[0m\u001b[0m\n\u001b[0;32m--> 170\u001b[0;31m         \u001b[0mproc\u001b[0m \u001b[1;33m=\u001b[0m \u001b[0msubprocess\u001b[0m\u001b[1;33m.\u001b[0m\u001b[0mPopen\u001b[0m\u001b[1;33m(\u001b[0m\u001b[0mcmd_args\u001b[0m\u001b[1;33m,\u001b[0m \u001b[1;33m**\u001b[0m\u001b[0msubprocess_args\u001b[0m\u001b[1;33m(\u001b[0m\u001b[1;33m)\u001b[0m\u001b[1;33m)\u001b[0m\u001b[1;33m\u001b[0m\u001b[0m\n\u001b[0m\u001b[1;32m    171\u001b[0m     \u001b[1;32mexcept\u001b[0m \u001b[0mOSError\u001b[0m\u001b[1;33m:\u001b[0m\u001b[1;33m\u001b[0m\u001b[0m\n",
      "\u001b[0;32mC:\\ProgramData\\Anaconda3\\lib\\subprocess.py\u001b[0m in \u001b[0;36m__init__\u001b[0;34m(self, args, bufsize, executable, stdin, stdout, stderr, preexec_fn, close_fds, shell, cwd, env, universal_newlines, startupinfo, creationflags, restore_signals, start_new_session, pass_fds, encoding, errors)\u001b[0m\n\u001b[1;32m    706\u001b[0m                                 \u001b[0merrread\u001b[0m\u001b[1;33m,\u001b[0m \u001b[0merrwrite\u001b[0m\u001b[1;33m,\u001b[0m\u001b[1;33m\u001b[0m\u001b[0m\n\u001b[0;32m--> 707\u001b[0;31m                                 restore_signals, start_new_session)\n\u001b[0m\u001b[1;32m    708\u001b[0m         \u001b[1;32mexcept\u001b[0m\u001b[1;33m:\u001b[0m\u001b[1;33m\u001b[0m\u001b[0m\n",
      "\u001b[0;32mC:\\ProgramData\\Anaconda3\\lib\\subprocess.py\u001b[0m in \u001b[0;36m_execute_child\u001b[0;34m(self, args, executable, preexec_fn, close_fds, pass_fds, cwd, env, startupinfo, creationflags, shell, p2cread, p2cwrite, c2pread, c2pwrite, errread, errwrite, unused_restore_signals, unused_start_new_session)\u001b[0m\n\u001b[1;32m    989\u001b[0m                                          \u001b[0mcwd\u001b[0m\u001b[1;33m,\u001b[0m\u001b[1;33m\u001b[0m\u001b[0m\n\u001b[0;32m--> 990\u001b[0;31m                                          startupinfo)\n\u001b[0m\u001b[1;32m    991\u001b[0m             \u001b[1;32mfinally\u001b[0m\u001b[1;33m:\u001b[0m\u001b[1;33m\u001b[0m\u001b[0m\n",
      "\u001b[0;31mFileNotFoundError\u001b[0m: [WinError 2] 系统找不到指定的文件。",
      "\nDuring handling of the above exception, another exception occurred:\n",
      "\u001b[0;31mTesseractNotFoundError\u001b[0m                    Traceback (most recent call last)",
      "\u001b[0;32m<ipython-input-34-d8e650bb75fa>\u001b[0m in \u001b[0;36m<module>\u001b[0;34m()\u001b[0m\n\u001b[0;32m----> 1\u001b[0;31m \u001b[0mpytesseract\u001b[0m\u001b[1;33m.\u001b[0m\u001b[0mimage_to_string\u001b[0m\u001b[1;33m(\u001b[0m\u001b[0mimg\u001b[0m\u001b[1;33m)\u001b[0m\u001b[1;33m\u001b[0m\u001b[0m\n\u001b[0m",
      "\u001b[0;32mC:\\ProgramData\\Anaconda3\\lib\\site-packages\\pytesseract\\pytesseract.py\u001b[0m in \u001b[0;36mimage_to_string\u001b[0;34m(image, lang, config, nice, output_type)\u001b[0m\n\u001b[1;32m    292\u001b[0m         \u001b[0margs\u001b[0m\u001b[1;33m.\u001b[0m\u001b[0mappend\u001b[0m\u001b[1;33m(\u001b[0m\u001b[1;32mTrue\u001b[0m\u001b[1;33m)\u001b[0m\u001b[1;33m\u001b[0m\u001b[0m\n\u001b[1;32m    293\u001b[0m \u001b[1;33m\u001b[0m\u001b[0m\n\u001b[0;32m--> 294\u001b[0;31m     \u001b[1;32mreturn\u001b[0m \u001b[0mrun_and_get_output\u001b[0m\u001b[1;33m(\u001b[0m\u001b[1;33m*\u001b[0m\u001b[0margs\u001b[0m\u001b[1;33m)\u001b[0m\u001b[1;33m\u001b[0m\u001b[0m\n\u001b[0m\u001b[1;32m    295\u001b[0m \u001b[1;33m\u001b[0m\u001b[0m\n\u001b[1;32m    296\u001b[0m \u001b[1;33m\u001b[0m\u001b[0m\n",
      "\u001b[0;32mC:\\ProgramData\\Anaconda3\\lib\\site-packages\\pytesseract\\pytesseract.py\u001b[0m in \u001b[0;36mrun_and_get_output\u001b[0;34m(image, extension, lang, config, nice, return_bytes)\u001b[0m\n\u001b[1;32m    200\u001b[0m         }\n\u001b[1;32m    201\u001b[0m \u001b[1;33m\u001b[0m\u001b[0m\n\u001b[0;32m--> 202\u001b[0;31m         \u001b[0mrun_tesseract\u001b[0m\u001b[1;33m(\u001b[0m\u001b[1;33m**\u001b[0m\u001b[0mkwargs\u001b[0m\u001b[1;33m)\u001b[0m\u001b[1;33m\u001b[0m\u001b[0m\n\u001b[0m\u001b[1;32m    203\u001b[0m         \u001b[0mfilename\u001b[0m \u001b[1;33m=\u001b[0m \u001b[0mkwargs\u001b[0m\u001b[1;33m[\u001b[0m\u001b[1;34m'output_filename_base'\u001b[0m\u001b[1;33m]\u001b[0m \u001b[1;33m+\u001b[0m \u001b[0mos\u001b[0m\u001b[1;33m.\u001b[0m\u001b[0mextsep\u001b[0m \u001b[1;33m+\u001b[0m \u001b[0mextension\u001b[0m\u001b[1;33m\u001b[0m\u001b[0m\n\u001b[1;32m    204\u001b[0m         \u001b[1;32mwith\u001b[0m \u001b[0mopen\u001b[0m\u001b[1;33m(\u001b[0m\u001b[0mfilename\u001b[0m\u001b[1;33m,\u001b[0m \u001b[1;34m'rb'\u001b[0m\u001b[1;33m)\u001b[0m \u001b[1;32mas\u001b[0m \u001b[0moutput_file\u001b[0m\u001b[1;33m:\u001b[0m\u001b[1;33m\u001b[0m\u001b[0m\n",
      "\u001b[0;32mC:\\ProgramData\\Anaconda3\\lib\\site-packages\\pytesseract\\pytesseract.py\u001b[0m in \u001b[0;36mrun_tesseract\u001b[0;34m(input_filename, output_filename_base, extension, lang, config, nice)\u001b[0m\n\u001b[1;32m    170\u001b[0m         \u001b[0mproc\u001b[0m \u001b[1;33m=\u001b[0m \u001b[0msubprocess\u001b[0m\u001b[1;33m.\u001b[0m\u001b[0mPopen\u001b[0m\u001b[1;33m(\u001b[0m\u001b[0mcmd_args\u001b[0m\u001b[1;33m,\u001b[0m \u001b[1;33m**\u001b[0m\u001b[0msubprocess_args\u001b[0m\u001b[1;33m(\u001b[0m\u001b[1;33m)\u001b[0m\u001b[1;33m)\u001b[0m\u001b[1;33m\u001b[0m\u001b[0m\n\u001b[1;32m    171\u001b[0m     \u001b[1;32mexcept\u001b[0m \u001b[0mOSError\u001b[0m\u001b[1;33m:\u001b[0m\u001b[1;33m\u001b[0m\u001b[0m\n\u001b[0;32m--> 172\u001b[0;31m         \u001b[1;32mraise\u001b[0m \u001b[0mTesseractNotFoundError\u001b[0m\u001b[1;33m(\u001b[0m\u001b[1;33m)\u001b[0m\u001b[1;33m\u001b[0m\u001b[0m\n\u001b[0m\u001b[1;32m    173\u001b[0m \u001b[1;33m\u001b[0m\u001b[0m\n\u001b[1;32m    174\u001b[0m     \u001b[0mstatus_code\u001b[0m\u001b[1;33m,\u001b[0m \u001b[0merror_string\u001b[0m \u001b[1;33m=\u001b[0m \u001b[0mproc\u001b[0m\u001b[1;33m.\u001b[0m\u001b[0mwait\u001b[0m\u001b[1;33m(\u001b[0m\u001b[1;33m)\u001b[0m\u001b[1;33m,\u001b[0m \u001b[0mproc\u001b[0m\u001b[1;33m.\u001b[0m\u001b[0mstderr\u001b[0m\u001b[1;33m.\u001b[0m\u001b[0mread\u001b[0m\u001b[1;33m(\u001b[0m\u001b[1;33m)\u001b[0m\u001b[1;33m\u001b[0m\u001b[0m\n",
      "\u001b[0;31mTesseractNotFoundError\u001b[0m: tesseract is not installed or it's not in your path"
     ]
    }
   ],
   "source": [
    "pytesseract.image_to_string(img)"
   ]
  },
  {
   "cell_type": "code",
   "execution_count": 61,
   "metadata": {},
   "outputs": [
    {
     "data": {
      "text/plain": [
       "<matplotlib.image.AxesImage at 0x1c353c50>"
      ]
     },
     "execution_count": 61,
     "metadata": {},
     "output_type": "execute_result"
    },
    {
     "data": {
      "image/png": "[encoded data removed]",
      "text/plain": [
       "<Figure size 432x288 with 1 Axes>"
      ]
     },
     "metadata": {},
     "output_type": "display_data"
    }
   ],
   "source": [
    "plt.imshow(img)"
   ]
  },
  {
   "cell_type": "code",
   "execution_count": 5,
   "metadata": {
    "collapsed": true
   },
   "outputs": [],
   "source": [
    "np_img=np.array(img)"
   ]
  },
  {
   "cell_type": "code",
   "execution_count": 6,
   "metadata": {
    "collapsed": true
   },
   "outputs": [],
   "source": [
    "gray_img =cv2.cvtColor(np_img,cv2.COLOR_BGR2GRAY)"
   ]
  },
  {
   "cell_type": "code",
   "execution_count": 7,
   "metadata": {},
   "outputs": [
    {
     "data": {
      "text/plain": [
       "<matplotlib.image.AxesImage at 0x7729c948d0>"
      ]
     },
     "execution_count": 7,
     "metadata": {},
     "output_type": "execute_result"
    },
    {
     "data": {
      "image/png": "[encoded data removed]",
      "text/plain": [
       "<matplotlib.figure.Figure at 0x77297a7b70>"
      ]
     },
     "metadata": {},
     "output_type": "display_data"
    }
   ],
   "source": [
    "plt.imshow(gray_img)"
   ]
  },
  {
   "cell_type": "code",
   "execution_count": 8,
   "metadata": {
    "collapsed": true
   },
   "outputs": [],
   "source": [
    "thresh,black_img = cv2.threshold(gray_img,127,255,0)"
   ]
  },
  {
   "cell_type": "code",
   "execution_count": 9,
   "metadata": {},
   "outputs": [
    {
     "data": {
      "text/plain": [
       "array([[  0,   0, 255, ...,   0,   0,   0],\n",
       "       [  0, 255, 255, ..., 255, 255, 255],\n",
       "       [255, 255, 255, ..., 255, 255, 255],\n",
       "       ...,\n",
       "       [  0, 255, 255, ..., 255, 255,   0],\n",
       "       [  0, 255, 255, ..., 255, 255, 255],\n",
       "       [  0,   0, 255, ..., 255,   0, 255]], dtype=uint8)"
      ]
     },
     "execution_count": 9,
     "metadata": {},
     "output_type": "execute_result"
    }
   ],
   "source": [
    "black_img"
   ]
  },
  {
   "cell_type": "code",
   "execution_count": 10,
   "metadata": {},
   "outputs": [
    {
     "data": {
      "text/plain": [
       "<matplotlib.image.AxesImage at 0x7729eba2e8>"
      ]
     },
     "execution_count": 10,
     "metadata": {},
     "output_type": "execute_result"
    },
    {
     "data": {
      "image/png": "[encoded data removed]",
      "text/plain": [
       "<matplotlib.figure.Figure at 0x7729f52c18>"
      ]
     },
     "metadata": {},
     "output_type": "display_data"
    }
   ],
   "source": [
    "plt.imshow(black_img)"
   ]
  },
  {
   "cell_type": "code",
   "execution_count": 11,
   "metadata": {},
   "outputs": [
    {
     "data": {
      "text/plain": [
       "(30, 60)"
      ]
     },
     "execution_count": 11,
     "metadata": {},
     "output_type": "execute_result"
    }
   ],
   "source": [
    "black_img.shape"
   ]
  },
  {
   "cell_type": "code",
   "execution_count": 12,
   "metadata": {
    "collapsed": true
   },
   "outputs": [],
   "source": [
    "black_img_copy=black_img.copy()"
   ]
  },
  {
   "cell_type": "code",
   "execution_count": 13,
   "metadata": {},
   "outputs": [
    {
     "data": {
      "text/plain": [
       "(30, 60)"
      ]
     },
     "execution_count": 13,
     "metadata": {},
     "output_type": "execute_result"
    }
   ],
   "source": [
    "black_img_copy.shape"
   ]
  },
  {
   "cell_type": "code",
   "execution_count": null,
   "metadata": {
    "collapsed": true
   },
   "outputs": [],
   "source": [
    "black_img_copy[0,:]"
   ]
  },
  {
   "cell_type": "code",
   "execution_count": null,
   "metadata": {
    "collapsed": true
   },
   "outputs": [],
   "source": [
    "tmp_img = np.zeros(black_img_copy.shape)"
   ]
  },
  {
   "cell_type": "code",
   "execution_count": null,
   "metadata": {},
   "outputs": [],
   "source": [
    "plt.imshow(tmp_img)"
   ]
  },
  {
   "cell_type": "code",
   "execution_count": null,
   "metadata": {
    "collapsed": true
   },
   "outputs": [],
   "source": [
    "tmp_img[0,:]=255"
   ]
  },
  {
   "cell_type": "code",
   "execution_count": null,
   "metadata": {},
   "outputs": [],
   "source": [
    "tmp_img[-1,:]=255"
   ]
  },
  {
   "cell_type": "code",
   "execution_count": null,
   "metadata": {
    "collapsed": true
   },
   "outputs": [],
   "source": [
    "tmp_img[:,0]=255"
   ]
  },
  {
   "cell_type": "code",
   "execution_count": null,
   "metadata": {
    "collapsed": true
   },
   "outputs": [],
   "source": [
    "tmp_img[:,-1]=255"
   ]
  },
  {
   "cell_type": "code",
   "execution_count": 15,
   "metadata": {
    "scrolled": true
   },
   "outputs": [
    {
     "data": {
      "text/plain": [
       "<matplotlib.image.AxesImage at 0x6dedc31390>"
      ]
     },
     "execution_count": 15,
     "metadata": {},
     "output_type": "execute_result"
    },
    {
     "data": {
      "image/png": "[encoded data removed]",
      "text/plain": [
       "<matplotlib.figure.Figure at 0x6dedb49f60>"
      ]
     },
     "metadata": {},
     "output_type": "display_data"
    }
   ],
   "source": [
    "plt.imshow(black_img_copy)"
   ]
  },
  {
   "cell_type": "code",
   "execution_count": 14,
   "metadata": {
    "collapsed": true
   },
   "outputs": [],
   "source": [
    "black_img_copy[0,:]=255\n",
    "black_img_copy[-1,:]=255\n",
    "black_img_copy[:,0]=255\n",
    "black_img_copy[:,-1]=255"
   ]
  },
  {
   "cell_type": "code",
   "execution_count": 15,
   "metadata": {
    "collapsed": true
   },
   "outputs": [],
   "source": [
    "(new_img,contours,hiera)=cv2.findContours(black_img_copy,cv2.RETR_TREE,cv2.CHAIN_APPROX_SIMPLE)"
   ]
  },
  {
   "cell_type": "code",
   "execution_count": null,
   "metadata": {},
   "outputs": [],
   "source": []
  },
  {
   "cell_type": "code",
   "execution_count": 16,
   "metadata": {},
   "outputs": [
    {
     "name": "stdout",
     "output_type": "stream",
     "text": [
      "0 0 60 30\n",
      "38 2 12 15\n",
      "42 10 4 4\n",
      "43 5 2 3\n",
      "27 2 10 15\n",
      "14 2 12 15\n",
      "18 5 4 4\n",
      "3 2 10 15\n"
     ]
    }
   ],
   "source": [
    "cnts=[]\n",
    "for idx,c in enumerate(contours):\n",
    "    (x,y,w,h)=cv2.boundingRect(c)\n",
    "    print(x,y,w,h)\n",
    "    if w>5 and w<15:\n",
    "        cnts.append(black_img_copy[y:y+h,x:x+w])"
   ]
  },
  {
   "cell_type": "code",
   "execution_count": 17,
   "metadata": {},
   "outputs": [
    {
     "data": {
      "text/plain": [
       "4"
      ]
     },
     "execution_count": 17,
     "metadata": {},
     "output_type": "execute_result"
    }
   ],
   "source": [
    "len(cnts)"
   ]
  },
  {
   "cell_type": "code",
   "execution_count": 37,
   "metadata": {
    "scrolled": false
   },
   "outputs": [
    {
     "data": {
      "text/plain": [
       "[array([[255, 255, 255, 255, 255, 255, 255, 255, 255, 255, 255, 255],\n",
       "        [255, 255, 255, 255,   0,   0,   0,   0, 255, 255, 255, 255],\n",
       "        [255, 255, 255,   0,   0,   0,   0,   0,   0, 255, 255, 255],\n",
       "        [255, 255,   0,   0,   0, 255, 255,   0,   0,   0, 255, 255],\n",
       "        [255, 255,   0,   0,   0, 255, 255,   0,   0,   0, 255, 255],\n",
       "        [255, 255,   0,   0,   0,   0, 255,   0,   0,   0, 255, 255],\n",
       "        [255, 255, 255,   0,   0,   0,   0,   0,   0, 255, 255, 255],\n",
       "        [255, 255, 255,   0,   0,   0,   0,   0,   0, 255, 255, 255],\n",
       "        [255, 255,   0,   0,   0, 255,   0,   0,   0,   0, 255, 255],\n",
       "        [255,   0,   0,   0, 255, 255, 255,   0,   0,   0,   0, 255],\n",
       "        [255,   0,   0,   0, 255, 255, 255, 255,   0,   0,   0, 255],\n",
       "        [255,   0,   0,   0,   0, 255, 255, 255,   0,   0,   0, 255],\n",
       "        [255, 255,   0,   0,   0,   0,   0,   0,   0,   0, 255, 255],\n",
       "        [255, 255, 255,   0,   0,   0,   0,   0,   0, 255, 255, 255],\n",
       "        [255, 255, 255, 255, 255, 255, 255, 255, 255, 255, 255, 255]],\n",
       "       dtype=uint8), array([[255, 255, 255, 255, 255, 255, 255, 255, 255, 255],\n",
       "        [255, 255,   0,   0,   0,   0,   0, 255, 255, 255],\n",
       "        [255,   0,   0,   0,   0,   0,   0,   0, 255, 255],\n",
       "        [255,   0, 255, 255, 255, 255,   0,   0,   0, 255],\n",
       "        [255, 255, 255, 255, 255, 255,   0,   0,   0, 255],\n",
       "        [255, 255, 255, 255, 255,   0,   0,   0,   0, 255],\n",
       "        [255, 255,   0,   0,   0,   0,   0, 255, 255, 255],\n",
       "        [255, 255,   0,   0,   0,   0,   0, 255, 255, 255],\n",
       "        [255, 255, 255, 255, 255,   0,   0,   0, 255, 255],\n",
       "        [255, 255, 255, 255, 255, 255,   0,   0,   0, 255],\n",
       "        [255, 255, 255, 255, 255, 255,   0,   0,   0, 255],\n",
       "        [255,   0, 255, 255, 255,   0,   0,   0,   0, 255],\n",
       "        [255,   0,   0,   0,   0,   0,   0,   0, 255, 255],\n",
       "        [255, 255,   0,   0,   0,   0,   0, 255, 255, 255],\n",
       "        [255, 255, 255, 255, 255, 255, 255, 255, 255, 255]], dtype=uint8), array([[255, 255, 255, 255, 255, 255, 255, 255, 255, 255, 255, 255],\n",
       "        [255, 255, 255,   0,   0,   0,   0,   0, 255, 255, 255, 255],\n",
       "        [255, 255,   0,   0,   0,   0,   0,   0,   0, 255, 255, 255],\n",
       "        [255,   0,   0,   0,   0, 255, 255,   0,   0,   0, 255, 255],\n",
       "        [255,   0,   0,   0, 255, 255, 255, 255,   0,   0,   0, 255],\n",
       "        [255,   0,   0,   0, 255, 255, 255, 255,   0,   0,   0, 255],\n",
       "        [255,   0,   0,   0,   0, 255, 255,   0,   0,   0,   0, 255],\n",
       "        [255, 255,   0,   0,   0,   0,   0,   0,   0,   0,   0, 255],\n",
       "        [255, 255, 255,   0,   0,   0,   0, 255,   0,   0,   0, 255],\n",
       "        [255, 255, 255, 255, 255, 255, 255, 255,   0,   0,   0, 255],\n",
       "        [255, 255, 255, 255, 255, 255, 255,   0,   0,   0, 255, 255],\n",
       "        [255, 255,   0, 255, 255, 255,   0,   0,   0,   0, 255, 255],\n",
       "        [255, 255,   0,   0,   0,   0,   0,   0,   0, 255, 255, 255],\n",
       "        [255, 255, 255,   0,   0,   0,   0,   0, 255, 255, 255, 255],\n",
       "        [255, 255, 255, 255, 255, 255, 255, 255, 255, 255, 255, 255]],\n",
       "       dtype=uint8), array([[255, 255, 255, 255, 255, 255, 255, 255, 255, 255],\n",
       "        [255,   0,   0,   0,   0,   0,   0,   0,   0, 255],\n",
       "        [255,   0,   0,   0,   0,   0,   0,   0,   0, 255],\n",
       "        [255,   0,   0, 255, 255, 255, 255, 255, 255, 255],\n",
       "        [255,   0,   0, 255, 255, 255, 255, 255, 255, 255],\n",
       "        [255,   0,   0,   0,   0,   0, 255, 255, 255, 255],\n",
       "        [255,   0,   0,   0,   0,   0,   0,   0, 255, 255],\n",
       "        [255, 255, 255, 255, 255,   0,   0,   0,   0, 255],\n",
       "        [255, 255, 255, 255, 255, 255,   0,   0,   0, 255],\n",
       "        [255, 255, 255, 255, 255, 255,   0,   0,   0, 255],\n",
       "        [255, 255, 255, 255, 255, 255,   0,   0,   0, 255],\n",
       "        [255,   0, 255, 255, 255,   0,   0,   0,   0, 255],\n",
       "        [255,   0,   0,   0,   0,   0,   0,   0, 255, 255],\n",
       "        [255, 255,   0,   0,   0,   0, 255, 255, 255, 255],\n",
       "        [255, 255, 255, 255, 255, 255, 255, 255, 255, 255]], dtype=uint8)]"
      ]
     },
     "execution_count": 37,
     "metadata": {},
     "output_type": "execute_result"
    }
   ],
   "source": [
    "cnts"
   ]
  },
  {
   "cell_type": "code",
   "execution_count": 18,
   "metadata": {
    "scrolled": true
   },
   "outputs": [
    {
     "data": {
      "text/plain": [
       "<matplotlib.image.AxesImage at 0x7729fbb3c8>"
      ]
     },
     "execution_count": 18,
     "metadata": {},
     "output_type": "execute_result"
    },
    {
     "data": {
      "image/png": "[encoded data removed]",
      "text/plain": [
       "<matplotlib.figure.Figure at 0x7729799940>"
      ]
     },
     "metadata": {},
     "output_type": "display_data"
    }
   ],
   "source": [
    "plt.imshow(cnts[3])"
   ]
  },
  {
   "cell_type": "code",
   "execution_count": 19,
   "metadata": {},
   "outputs": [
    {
     "ename": "TesseractNotFoundError",
     "evalue": "tesseract is not installed or it's not in your path",
     "output_type": "error",
     "traceback": [
      "\u001b[0;31m---------------------------------------------------------------------------\u001b[0m",
      "\u001b[0;31mFileNotFoundError\u001b[0m                         Traceback (most recent call last)",
      "\u001b[0;32mC:\\ProgramData\\Anaconda3\\lib\\site-packages\\pytesseract\\pytesseract.py\u001b[0m in \u001b[0;36mrun_tesseract\u001b[0;34m(input_filename, output_filename_base, extension, lang, config, nice)\u001b[0m\n\u001b[1;32m    169\u001b[0m     \u001b[1;32mtry\u001b[0m\u001b[1;33m:\u001b[0m\u001b[1;33m\u001b[0m\u001b[0m\n\u001b[0;32m--> 170\u001b[0;31m         \u001b[0mproc\u001b[0m \u001b[1;33m=\u001b[0m \u001b[0msubprocess\u001b[0m\u001b[1;33m.\u001b[0m\u001b[0mPopen\u001b[0m\u001b[1;33m(\u001b[0m\u001b[0mcmd_args\u001b[0m\u001b[1;33m,\u001b[0m \u001b[1;33m**\u001b[0m\u001b[0msubprocess_args\u001b[0m\u001b[1;33m(\u001b[0m\u001b[1;33m)\u001b[0m\u001b[1;33m)\u001b[0m\u001b[1;33m\u001b[0m\u001b[0m\n\u001b[0m\u001b[1;32m    171\u001b[0m     \u001b[1;32mexcept\u001b[0m \u001b[0mOSError\u001b[0m\u001b[1;33m:\u001b[0m\u001b[1;33m\u001b[0m\u001b[0m\n",
      "\u001b[0;32mC:\\ProgramData\\Anaconda3\\lib\\subprocess.py\u001b[0m in \u001b[0;36m__init__\u001b[0;34m(self, args, bufsize, executable, stdin, stdout, stderr, preexec_fn, close_fds, shell, cwd, env, universal_newlines, startupinfo, creationflags, restore_signals, start_new_session, pass_fds, encoding, errors)\u001b[0m\n\u001b[1;32m    706\u001b[0m                                 \u001b[0merrread\u001b[0m\u001b[1;33m,\u001b[0m \u001b[0merrwrite\u001b[0m\u001b[1;33m,\u001b[0m\u001b[1;33m\u001b[0m\u001b[0m\n\u001b[0;32m--> 707\u001b[0;31m                                 restore_signals, start_new_session)\n\u001b[0m\u001b[1;32m    708\u001b[0m         \u001b[1;32mexcept\u001b[0m\u001b[1;33m:\u001b[0m\u001b[1;33m\u001b[0m\u001b[0m\n",
      "\u001b[0;32mC:\\ProgramData\\Anaconda3\\lib\\subprocess.py\u001b[0m in \u001b[0;36m_execute_child\u001b[0;34m(self, args, executable, preexec_fn, close_fds, pass_fds, cwd, env, startupinfo, creationflags, shell, p2cread, p2cwrite, c2pread, c2pwrite, errread, errwrite, unused_restore_signals, unused_start_new_session)\u001b[0m\n\u001b[1;32m    989\u001b[0m                                          \u001b[0mcwd\u001b[0m\u001b[1;33m,\u001b[0m\u001b[1;33m\u001b[0m\u001b[0m\n\u001b[0;32m--> 990\u001b[0;31m                                          startupinfo)\n\u001b[0m\u001b[1;32m    991\u001b[0m             \u001b[1;32mfinally\u001b[0m\u001b[1;33m:\u001b[0m\u001b[1;33m\u001b[0m\u001b[0m\n",
      "\u001b[0;31mFileNotFoundError\u001b[0m: [WinError 2] 系统找不到指定的文件。",
      "\nDuring handling of the above exception, another exception occurred:\n",
      "\u001b[0;31mTesseractNotFoundError\u001b[0m                    Traceback (most recent call last)",
      "\u001b[0;32m<ipython-input-19-3fc6b11e6234>\u001b[0m in \u001b[0;36m<module>\u001b[0;34m()\u001b[0m\n\u001b[0;32m----> 1\u001b[0;31m \u001b[0mpytesseract\u001b[0m\u001b[1;33m.\u001b[0m\u001b[0mimage_to_string\u001b[0m\u001b[1;33m(\u001b[0m\u001b[0mcnts\u001b[0m\u001b[1;33m[\u001b[0m\u001b[1;36m3\u001b[0m\u001b[1;33m]\u001b[0m\u001b[1;33m)\u001b[0m\u001b[1;33m\u001b[0m\u001b[0m\n\u001b[0m",
      "\u001b[0;32mC:\\ProgramData\\Anaconda3\\lib\\site-packages\\pytesseract\\pytesseract.py\u001b[0m in \u001b[0;36mimage_to_string\u001b[0;34m(image, lang, config, nice, output_type)\u001b[0m\n\u001b[1;32m    292\u001b[0m         \u001b[0margs\u001b[0m\u001b[1;33m.\u001b[0m\u001b[0mappend\u001b[0m\u001b[1;33m(\u001b[0m\u001b[1;32mTrue\u001b[0m\u001b[1;33m)\u001b[0m\u001b[1;33m\u001b[0m\u001b[0m\n\u001b[1;32m    293\u001b[0m \u001b[1;33m\u001b[0m\u001b[0m\n\u001b[0;32m--> 294\u001b[0;31m     \u001b[1;32mreturn\u001b[0m \u001b[0mrun_and_get_output\u001b[0m\u001b[1;33m(\u001b[0m\u001b[1;33m*\u001b[0m\u001b[0margs\u001b[0m\u001b[1;33m)\u001b[0m\u001b[1;33m\u001b[0m\u001b[0m\n\u001b[0m\u001b[1;32m    295\u001b[0m \u001b[1;33m\u001b[0m\u001b[0m\n\u001b[1;32m    296\u001b[0m \u001b[1;33m\u001b[0m\u001b[0m\n",
      "\u001b[0;32mC:\\ProgramData\\Anaconda3\\lib\\site-packages\\pytesseract\\pytesseract.py\u001b[0m in \u001b[0;36mrun_and_get_output\u001b[0;34m(image, extension, lang, config, nice, return_bytes)\u001b[0m\n\u001b[1;32m    200\u001b[0m         }\n\u001b[1;32m    201\u001b[0m \u001b[1;33m\u001b[0m\u001b[0m\n\u001b[0;32m--> 202\u001b[0;31m         \u001b[0mrun_tesseract\u001b[0m\u001b[1;33m(\u001b[0m\u001b[1;33m**\u001b[0m\u001b[0mkwargs\u001b[0m\u001b[1;33m)\u001b[0m\u001b[1;33m\u001b[0m\u001b[0m\n\u001b[0m\u001b[1;32m    203\u001b[0m         \u001b[0mfilename\u001b[0m \u001b[1;33m=\u001b[0m \u001b[0mkwargs\u001b[0m\u001b[1;33m[\u001b[0m\u001b[1;34m'output_filename_base'\u001b[0m\u001b[1;33m]\u001b[0m \u001b[1;33m+\u001b[0m \u001b[0mos\u001b[0m\u001b[1;33m.\u001b[0m\u001b[0mextsep\u001b[0m \u001b[1;33m+\u001b[0m \u001b[0mextension\u001b[0m\u001b[1;33m\u001b[0m\u001b[0m\n\u001b[1;32m    204\u001b[0m         \u001b[1;32mwith\u001b[0m \u001b[0mopen\u001b[0m\u001b[1;33m(\u001b[0m\u001b[0mfilename\u001b[0m\u001b[1;33m,\u001b[0m \u001b[1;34m'rb'\u001b[0m\u001b[1;33m)\u001b[0m \u001b[1;32mas\u001b[0m \u001b[0moutput_file\u001b[0m\u001b[1;33m:\u001b[0m\u001b[1;33m\u001b[0m\u001b[0m\n",
      "\u001b[0;32mC:\\ProgramData\\Anaconda3\\lib\\site-packages\\pytesseract\\pytesseract.py\u001b[0m in \u001b[0;36mrun_tesseract\u001b[0;34m(input_filename, output_filename_base, extension, lang, config, nice)\u001b[0m\n\u001b[1;32m    170\u001b[0m         \u001b[0mproc\u001b[0m \u001b[1;33m=\u001b[0m \u001b[0msubprocess\u001b[0m\u001b[1;33m.\u001b[0m\u001b[0mPopen\u001b[0m\u001b[1;33m(\u001b[0m\u001b[0mcmd_args\u001b[0m\u001b[1;33m,\u001b[0m \u001b[1;33m**\u001b[0m\u001b[0msubprocess_args\u001b[0m\u001b[1;33m(\u001b[0m\u001b[1;33m)\u001b[0m\u001b[1;33m)\u001b[0m\u001b[1;33m\u001b[0m\u001b[0m\n\u001b[1;32m    171\u001b[0m     \u001b[1;32mexcept\u001b[0m \u001b[0mOSError\u001b[0m\u001b[1;33m:\u001b[0m\u001b[1;33m\u001b[0m\u001b[0m\n\u001b[0;32m--> 172\u001b[0;31m         \u001b[1;32mraise\u001b[0m \u001b[0mTesseractNotFoundError\u001b[0m\u001b[1;33m(\u001b[0m\u001b[1;33m)\u001b[0m\u001b[1;33m\u001b[0m\u001b[0m\n\u001b[0m\u001b[1;32m    173\u001b[0m \u001b[1;33m\u001b[0m\u001b[0m\n\u001b[1;32m    174\u001b[0m     \u001b[0mstatus_code\u001b[0m\u001b[1;33m,\u001b[0m \u001b[0merror_string\u001b[0m \u001b[1;33m=\u001b[0m \u001b[0mproc\u001b[0m\u001b[1;33m.\u001b[0m\u001b[0mwait\u001b[0m\u001b[1;33m(\u001b[0m\u001b[1;33m)\u001b[0m\u001b[1;33m,\u001b[0m \u001b[0mproc\u001b[0m\u001b[1;33m.\u001b[0m\u001b[0mstderr\u001b[0m\u001b[1;33m.\u001b[0m\u001b[0mread\u001b[0m\u001b[1;33m(\u001b[0m\u001b[1;33m)\u001b[0m\u001b[1;33m\u001b[0m\u001b[0m\n",
      "\u001b[0;31mTesseractNotFoundError\u001b[0m: tesseract is not installed or it's not in your path"
     ]
    }
   ],
   "source": [
    "pytesseract.image_to_string(cnts[3])"
   ]
  },
  {
   "cell_type": "code",
   "execution_count": 51,
   "metadata": {},
   "outputs": [],
   "source": [
    "import pickle"
   ]
  },
  {
   "cell_type": "code",
   "execution_count": 55,
   "metadata": {
    "scrolled": true
   },
   "outputs": [],
   "source": [
    "with open('img.pkl','wb') as f:\n",
    "    pickle.dump(cnts,f)"
   ]
  },
  {
   "cell_type": "code",
   "execution_count": 46,
   "metadata": {},
   "outputs": [
    {
     "data": {
      "text/plain": [
       "list"
      ]
     },
     "execution_count": 46,
     "metadata": {},
     "output_type": "execute_result"
    }
   ],
   "source": [
    "type(cnts)"
   ]
  },
  {
   "cell_type": "code",
   "execution_count": 24,
   "metadata": {
    "scrolled": true
   },
   "outputs": [
    {
     "name": "stdout",
     "output_type": "stream",
     "text": [
      "(15, 12)\n",
      "(15, 10)\n",
      "(15, 12)\n",
      "(15, 10)\n"
     ]
    }
   ],
   "source": [
    "new_size=[]\n",
    "for i in cnts:\n",
    "    print(i.shape)\n",
    "    new_size.append(cv2.resize(i,(12,15),interpolation=cv2.INTER_AREA))"
   ]
  },
  {
   "cell_type": "code",
   "execution_count": 25,
   "metadata": {},
   "outputs": [
    {
     "name": "stdout",
     "output_type": "stream",
     "text": [
      "(15, 12)\n",
      "(15, 12)\n",
      "(15, 12)\n",
      "(15, 12)\n"
     ]
    }
   ],
   "source": [
    "for i in new_size:\n",
    "    print(i.shape)"
   ]
  },
  {
   "cell_type": "code",
   "execution_count": 29,
   "metadata": {},
   "outputs": [
    {
     "data": {
      "text/plain": [
       "<matplotlib.image.AxesImage at 0x772c795e48>"
      ]
     },
     "execution_count": 29,
     "metadata": {},
     "output_type": "execute_result"
    },
    {
     "data": {
      "image/png": "[encoded data removed]",
      "text/plain": [
       "<matplotlib.figure.Figure at 0x772c734b00>"
      ]
     },
     "metadata": {},
     "output_type": "display_data"
    }
   ],
   "source": [
    "plt.imshow(new_size[3])"
   ]
  },
  {
   "cell_type": "code",
   "execution_count": 30,
   "metadata": {},
   "outputs": [
    {
     "name": "stdout",
     "output_type": "stream",
     "text": [
      "[255 255 255 255 255 255 255 255 255 255 255 255]\n",
      "[255 255 255 255   0   0   0   0 255 255 255 255]\n",
      "[255 255 255   0   0   0   0   0   0 255 255 255]\n",
      "[255 255   0   0   0 255 255   0   0   0 255 255]\n",
      "[255 255   0   0   0 255 255   0   0   0 255 255]\n",
      "[255 255   0   0   0   0 255   0   0   0 255 255]\n",
      "[255 255 255   0   0   0   0   0   0 255 255 255]\n",
      "[255 255 255   0   0   0   0   0   0 255 255 255]\n",
      "[255 255   0   0   0 255   0   0   0   0 255 255]\n",
      "[255   0   0   0 255 255 255   0   0   0   0 255]\n",
      "[255   0   0   0 255 255 255 255   0   0   0 255]\n",
      "[255   0   0   0   0 255 255 255   0   0   0 255]\n",
      "[255 255   0   0   0   0   0   0   0   0 255 255]\n",
      "[255 255 255   0   0   0   0   0   0 255 255 255]\n",
      "[255 255 255 255 255 255 255 255 255 255 255 255]\n"
     ]
    }
   ],
   "source": [
    "for i in new_size[0]:\n",
    "    print(i)"
   ]
  },
  {
   "cell_type": "code",
   "execution_count": 2,
   "metadata": {},
   "outputs": [],
   "source": [
    "import os\n",
    "os.chdir('xl')"
   ]
  },
  {
   "cell_type": "code",
   "execution_count": 3,
   "metadata": {},
   "outputs": [],
   "source": [
    "# 使用80个样本\n",
    "sample_size = 80\n",
    "input_folder = r'E:\\git\\base_function\\image_detect\\xl\\{}'"
   ]
  },
  {
   "cell_type": "code",
   "execution_count": 38,
   "metadata": {
    "collapsed": true
   },
   "outputs": [],
   "source": [
    "file=r'0\\test_0-3.jpg'"
   ]
  },
  {
   "cell_type": "code",
   "execution_count": 61,
   "metadata": {},
   "outputs": [],
   "source": [
    "img = Image.open(file).convert('1')\n",
    "# img\n",
    "np_img = np.array(img)\n",
    "# thresh,ret_img=cv2.threshold(np_img,127,255,0)\n",
    "# gray_img = cv2.cvtColor(np_img,cv2.COLOR_BGR2GRAY)"
   ]
  },
  {
   "cell_type": "code",
   "execution_count": 62,
   "metadata": {},
   "outputs": [
    {
     "data": {
      "text/plain": [
       "<matplotlib.image.AxesImage at 0x772c42cc18>"
      ]
     },
     "execution_count": 62,
     "metadata": {},
     "output_type": "execute_result"
    },
    {
     "data": {
      "image/png": "[encoded data removed]",
      "text/plain": [
       "<matplotlib.figure.Figure at 0x772c7cfdd8>"
      ]
     },
     "metadata": {},
     "output_type": "display_data"
    }
   ],
   "source": [
    "plt.imshow(np_img)"
   ]
  },
  {
   "cell_type": "code",
   "execution_count": 63,
   "metadata": {},
   "outputs": [
    {
     "data": {
      "text/plain": [
       "array([[ True,  True,  True,  True,  True,  True,  True,  True,  True,\n",
       "         True,  True,  True,  True,  True,  True],\n",
       "       [ True,  True,  True,  True,  True, False, False, False, False,\n",
       "        False,  True,  True,  True,  True,  True],\n",
       "       [ True,  True,  True, False, False, False, False,  True, False,\n",
       "        False, False, False,  True,  True,  True],\n",
       "       [ True, False, False, False, False,  True,  True,  True,  True,\n",
       "         True, False, False, False, False,  True],\n",
       "       [ True, False, False, False, False,  True,  True,  True,  True,\n",
       "         True, False, False, False, False,  True],\n",
       "       [ True, False, False, False, False,  True,  True,  True,  True,\n",
       "         True, False, False, False, False,  True],\n",
       "       [ True, False, False, False, False,  True,  True,  True,  True,\n",
       "         True, False, False, False, False,  True],\n",
       "       [ True, False, False, False, False,  True,  True,  True,  True,\n",
       "         True, False, False, False,  True,  True],\n",
       "       [ True,  True, False, False, False,  True,  True,  True,  True,\n",
       "         True, False, False, False, False,  True],\n",
       "       [ True,  True,  True, False, False, False, False,  True, False,\n",
       "        False, False, False,  True,  True,  True],\n",
       "       [ True,  True,  True,  True,  True, False, False, False, False,\n",
       "        False,  True,  True,  True,  True,  True],\n",
       "       [ True,  True,  True,  True,  True,  True,  True,  True,  True,\n",
       "         True,  True,  True,  True,  True,  True]])"
      ]
     },
     "execution_count": 63,
     "metadata": {},
     "output_type": "execute_result"
    }
   ],
   "source": [
    "np_img"
   ]
  },
  {
   "cell_type": "code",
   "execution_count": 130,
   "metadata": {},
   "outputs": [],
   "source": [
    "dataset=[]\n",
    "labels=[]"
   ]
  },
  {
   "cell_type": "code",
   "execution_count": 131,
   "metadata": {},
   "outputs": [],
   "source": [
    "for i in range(10):\n",
    "    path=input_folder.format(i)\n",
    "    for file in os.listdir(path)[:80]:\n",
    "        full_path = path+'\\\\'+file\n",
    "        img=Image.open(full_path).convert('1')\n",
    "#         np_img=np.array(img)\n",
    "        dataset.append([pixel for pixel in iter(img.getdata())])\n",
    "        labels.append(i)"
   ]
  },
  {
   "cell_type": "code",
   "execution_count": 132,
   "metadata": {},
   "outputs": [
    {
     "data": {
      "text/plain": [
       "800"
      ]
     },
     "execution_count": 132,
     "metadata": {},
     "output_type": "execute_result"
    }
   ],
   "source": [
    "len(dataset)"
   ]
  },
  {
   "cell_type": "code",
   "execution_count": 133,
   "metadata": {
    "scrolled": true
   },
   "outputs": [
    {
     "data": {
      "text/plain": [
       "800"
      ]
     },
     "execution_count": 133,
     "metadata": {},
     "output_type": "execute_result"
    }
   ],
   "source": [
    "len(labels)"
   ]
  },
  {
   "cell_type": "code",
   "execution_count": 11,
   "metadata": {},
   "outputs": [
    {
     "data": {
      "text/plain": [
       "[255,\n",
       " 255,\n",
       " 255,\n",
       " 255,\n",
       " 255,\n",
       " 255,\n",
       " 255,\n",
       " 255,\n",
       " 255,\n",
       " 255,\n",
       " 255,\n",
       " 255,\n",
       " 255,\n",
       " 255,\n",
       " 255,\n",
       " 255,\n",
       " 255,\n",
       " 255,\n",
       " 255,\n",
       " 255,\n",
       " 0,\n",
       " 0,\n",
       " 0,\n",
       " 0,\n",
       " 0,\n",
       " 255,\n",
       " 255,\n",
       " 255,\n",
       " 255,\n",
       " 255,\n",
       " 255,\n",
       " 255,\n",
       " 255,\n",
       " 0,\n",
       " 0,\n",
       " 0,\n",
       " 0,\n",
       " 255,\n",
       " 0,\n",
       " 0,\n",
       " 0,\n",
       " 0,\n",
       " 255,\n",
       " 255,\n",
       " 255,\n",
       " 255,\n",
       " 0,\n",
       " 0,\n",
       " 0,\n",
       " 0,\n",
       " 255,\n",
       " 255,\n",
       " 255,\n",
       " 255,\n",
       " 255,\n",
       " 0,\n",
       " 0,\n",
       " 0,\n",
       " 0,\n",
       " 255,\n",
       " 255,\n",
       " 0,\n",
       " 0,\n",
       " 0,\n",
       " 0,\n",
       " 255,\n",
       " 255,\n",
       " 255,\n",
       " 255,\n",
       " 255,\n",
       " 0,\n",
       " 0,\n",
       " 0,\n",
       " 0,\n",
       " 255,\n",
       " 255,\n",
       " 0,\n",
       " 0,\n",
       " 0,\n",
       " 0,\n",
       " 255,\n",
       " 255,\n",
       " 255,\n",
       " 255,\n",
       " 255,\n",
       " 0,\n",
       " 0,\n",
       " 0,\n",
       " 0,\n",
       " 255,\n",
       " 255,\n",
       " 0,\n",
       " 0,\n",
       " 0,\n",
       " 0,\n",
       " 255,\n",
       " 255,\n",
       " 255,\n",
       " 255,\n",
       " 255,\n",
       " 0,\n",
       " 0,\n",
       " 0,\n",
       " 0,\n",
       " 255,\n",
       " 255,\n",
       " 0,\n",
       " 0,\n",
       " 0,\n",
       " 0,\n",
       " 255,\n",
       " 255,\n",
       " 255,\n",
       " 255,\n",
       " 255,\n",
       " 0,\n",
       " 0,\n",
       " 0,\n",
       " 255,\n",
       " 255,\n",
       " 255,\n",
       " 255,\n",
       " 0,\n",
       " 0,\n",
       " 0,\n",
       " 255,\n",
       " 255,\n",
       " 255,\n",
       " 255,\n",
       " 255,\n",
       " 0,\n",
       " 0,\n",
       " 0,\n",
       " 0,\n",
       " 255,\n",
       " 255,\n",
       " 255,\n",
       " 255,\n",
       " 0,\n",
       " 0,\n",
       " 0,\n",
       " 0,\n",
       " 255,\n",
       " 0,\n",
       " 0,\n",
       " 0,\n",
       " 0,\n",
       " 255,\n",
       " 255,\n",
       " 255,\n",
       " 255,\n",
       " 255,\n",
       " 255,\n",
       " 255,\n",
       " 255,\n",
       " 0,\n",
       " 0,\n",
       " 0,\n",
       " 0,\n",
       " 0,\n",
       " 255,\n",
       " 255,\n",
       " 255,\n",
       " 255,\n",
       " 255,\n",
       " 255,\n",
       " 255,\n",
       " 255,\n",
       " 255,\n",
       " 255,\n",
       " 255,\n",
       " 255,\n",
       " 255,\n",
       " 255,\n",
       " 255,\n",
       " 255,\n",
       " 255,\n",
       " 255,\n",
       " 255,\n",
       " 255]"
      ]
     },
     "execution_count": 11,
     "metadata": {},
     "output_type": "execute_result"
    }
   ],
   "source": [
    "dataset[0]"
   ]
  },
  {
   "cell_type": "code",
   "execution_count": 134,
   "metadata": {},
   "outputs": [],
   "source": [
    "np_dataset=np.array(dataset)"
   ]
  },
  {
   "cell_type": "code",
   "execution_count": 135,
   "metadata": {
    "scrolled": true
   },
   "outputs": [
    {
     "data": {
      "text/plain": [
       "(800, 180)"
      ]
     },
     "execution_count": 135,
     "metadata": {},
     "output_type": "execute_result"
    }
   ],
   "source": [
    "np_dataset.shape"
   ]
  },
  {
   "cell_type": "code",
   "execution_count": 136,
   "metadata": {},
   "outputs": [],
   "source": [
    "from sklearn.preprocessing import StandardScaler\n",
    "from sklearn.neural_network import MLPClassifier"
   ]
  },
  {
   "cell_type": "code",
   "execution_count": 137,
   "metadata": {},
   "outputs": [
    {
     "name": "stderr",
     "output_type": "stream",
     "text": [
      "c:\\python3_64\\lib\\site-packages\\sklearn\\utils\\validation.py:475: DataConversionWarning: Data with input dtype int32 was converted to float64 by StandardScaler.\n",
      "  warnings.warn(msg, DataConversionWarning)\n"
     ]
    },
    {
     "data": {
      "text/plain": [
       "StandardScaler(copy=True, with_mean=True, with_std=True)"
      ]
     },
     "execution_count": 137,
     "metadata": {},
     "output_type": "execute_result"
    }
   ],
   "source": [
    "scaler = StandardScaler()\n",
    "scaler.fit(np_dataset)"
   ]
  },
  {
   "cell_type": "code",
   "execution_count": 138,
   "metadata": {},
   "outputs": [
    {
     "name": "stderr",
     "output_type": "stream",
     "text": [
      "c:\\python3_64\\lib\\site-packages\\sklearn\\utils\\validation.py:475: DataConversionWarning: Data with input dtype int32 was converted to float64 by StandardScaler.\n",
      "  warnings.warn(msg, DataConversionWarning)\n"
     ]
    }
   ],
   "source": [
    "X_scaled=scaler.transform(np_dataset)"
   ]
  },
  {
   "cell_type": "code",
   "execution_count": 148,
   "metadata": {},
   "outputs": [
    {
     "name": "stdout",
     "output_type": "stream",
     "text": [
      "Iteration 1, loss = 2.34780049\n",
      "Iteration 2, loss = 2.31229911\n",
      "Iteration 3, loss = 2.29467919\n",
      "Iteration 4, loss = 2.28692979\n",
      "Iteration 5, loss = 2.28029640\n",
      "Iteration 6, loss = 2.27283544\n",
      "Iteration 7, loss = 2.26308137\n",
      "Iteration 8, loss = 2.25027304\n",
      "Iteration 9, loss = 2.23557068\n",
      "Iteration 10, loss = 2.21903544\n",
      "Iteration 11, loss = 2.19922300\n",
      "Iteration 12, loss = 2.17465140\n",
      "Iteration 13, loss = 2.14622917\n",
      "Iteration 14, loss = 2.11298655\n",
      "Iteration 15, loss = 2.07487585\n",
      "Iteration 16, loss = 2.03154781\n",
      "Iteration 17, loss = 1.98353513\n",
      "Iteration 18, loss = 1.93153835\n",
      "Iteration 19, loss = 1.87591662\n",
      "Iteration 20, loss = 1.81779781\n",
      "Iteration 21, loss = 1.75880590\n",
      "Iteration 22, loss = 1.69900389\n",
      "Iteration 23, loss = 1.63988578\n",
      "Iteration 24, loss = 1.58220181\n",
      "Iteration 25, loss = 1.52620627\n",
      "Iteration 26, loss = 1.47205112\n",
      "Iteration 27, loss = 1.42053496\n",
      "Iteration 28, loss = 1.37140705\n",
      "Iteration 29, loss = 1.32521077\n",
      "Iteration 30, loss = 1.28113436\n",
      "Iteration 31, loss = 1.23952595\n",
      "Iteration 32, loss = 1.20031263\n",
      "Iteration 33, loss = 1.16314053\n",
      "Iteration 34, loss = 1.12787762\n",
      "Iteration 35, loss = 1.09364092\n",
      "Iteration 36, loss = 1.06131382\n",
      "Iteration 37, loss = 1.02980350\n",
      "Iteration 38, loss = 0.99957321\n",
      "Iteration 39, loss = 0.97007242\n",
      "Iteration 40, loss = 0.94168782\n",
      "Iteration 41, loss = 0.91336476\n",
      "Iteration 42, loss = 0.88596049\n",
      "Iteration 43, loss = 0.85899820\n",
      "Iteration 44, loss = 0.83226135\n",
      "Iteration 45, loss = 0.80681694\n",
      "Iteration 46, loss = 0.78080206\n",
      "Iteration 47, loss = 0.75586372\n",
      "Iteration 48, loss = 0.73159333\n",
      "Iteration 49, loss = 0.70828942\n",
      "Iteration 50, loss = 0.68505517\n",
      "Iteration 51, loss = 0.66310462\n",
      "Iteration 52, loss = 0.64193515\n",
      "Iteration 53, loss = 0.62120716\n",
      "Iteration 54, loss = 0.60134757\n",
      "Iteration 55, loss = 0.58233822\n",
      "Iteration 56, loss = 0.56415615\n",
      "Iteration 57, loss = 0.54617690\n",
      "Iteration 58, loss = 0.52868990\n",
      "Iteration 59, loss = 0.51212828\n",
      "Iteration 60, loss = 0.49537670\n",
      "Iteration 61, loss = 0.47930569\n",
      "Iteration 62, loss = 0.46355085\n",
      "Iteration 63, loss = 0.44826074\n",
      "Iteration 64, loss = 0.43332064\n",
      "Iteration 65, loss = 0.41909525\n",
      "Iteration 66, loss = 0.40489403\n",
      "Iteration 67, loss = 0.39153261\n",
      "Iteration 68, loss = 0.37828273\n",
      "Iteration 69, loss = 0.36564024\n",
      "Iteration 70, loss = 0.35318910\n",
      "Iteration 71, loss = 0.34145109\n",
      "Iteration 72, loss = 0.33014168\n",
      "Iteration 73, loss = 0.31921679\n",
      "Iteration 74, loss = 0.30869278\n",
      "Iteration 75, loss = 0.29867128\n",
      "Iteration 76, loss = 0.28900666\n",
      "Iteration 77, loss = 0.27974927\n",
      "Iteration 78, loss = 0.27081098\n",
      "Iteration 79, loss = 0.26236178\n",
      "Iteration 80, loss = 0.25414003\n",
      "Iteration 81, loss = 0.24634219\n",
      "Iteration 82, loss = 0.23880374\n",
      "Iteration 83, loss = 0.23166590\n",
      "Iteration 84, loss = 0.22487241\n",
      "Iteration 85, loss = 0.21832470\n",
      "Iteration 86, loss = 0.21201483\n",
      "Iteration 87, loss = 0.20598292\n",
      "Iteration 88, loss = 0.20030055\n",
      "Iteration 89, loss = 0.19496886\n",
      "Iteration 90, loss = 0.18958064\n",
      "Iteration 91, loss = 0.18454830\n",
      "Iteration 92, loss = 0.17978532\n",
      "Iteration 93, loss = 0.17515517\n",
      "Iteration 94, loss = 0.17084521\n",
      "Iteration 95, loss = 0.16656333\n",
      "Iteration 96, loss = 0.16256823\n",
      "Iteration 97, loss = 0.15860318\n",
      "Iteration 98, loss = 0.15496993\n",
      "Iteration 99, loss = 0.15127643\n",
      "Iteration 100, loss = 0.14771304\n",
      "Iteration 101, loss = 0.14442718\n",
      "Iteration 102, loss = 0.14125852\n",
      "Iteration 103, loss = 0.13806023\n",
      "Iteration 104, loss = 0.13512638\n",
      "Iteration 105, loss = 0.13220410\n",
      "Iteration 106, loss = 0.12948200\n",
      "Iteration 107, loss = 0.12675414\n",
      "Iteration 108, loss = 0.12433206\n",
      "Iteration 109, loss = 0.12163493\n",
      "Iteration 110, loss = 0.11920449\n",
      "Iteration 111, loss = 0.11673805\n",
      "Iteration 112, loss = 0.11440996\n",
      "Iteration 113, loss = 0.11247888\n",
      "Iteration 114, loss = 0.11009889\n",
      "Iteration 115, loss = 0.10788109\n",
      "Iteration 116, loss = 0.10592962\n",
      "Iteration 117, loss = 0.10381988\n",
      "Iteration 118, loss = 0.10183164\n",
      "Iteration 119, loss = 0.10005379\n",
      "Iteration 120, loss = 0.09854570\n",
      "Iteration 121, loss = 0.09636234\n",
      "Iteration 122, loss = 0.09467083\n",
      "Iteration 123, loss = 0.09307119\n",
      "Iteration 124, loss = 0.09153384\n",
      "Iteration 125, loss = 0.08977072\n",
      "Iteration 126, loss = 0.08816353\n",
      "Iteration 127, loss = 0.08688455\n",
      "Iteration 128, loss = 0.08521707\n",
      "Iteration 129, loss = 0.08377198\n",
      "Iteration 130, loss = 0.08241187\n",
      "Iteration 131, loss = 0.08092586\n",
      "Iteration 132, loss = 0.07959975\n",
      "Iteration 133, loss = 0.07819362\n",
      "Iteration 134, loss = 0.07672761\n",
      "Iteration 135, loss = 0.07551942\n",
      "Iteration 136, loss = 0.07444570\n",
      "Iteration 137, loss = 0.07321143\n",
      "Iteration 138, loss = 0.07243521\n",
      "Iteration 139, loss = 0.07068409\n",
      "Iteration 140, loss = 0.06946802\n",
      "Iteration 141, loss = 0.06853708\n",
      "Iteration 142, loss = 0.06764986\n",
      "Iteration 143, loss = 0.06665699\n",
      "Iteration 144, loss = 0.06543657\n",
      "Iteration 145, loss = 0.06443854\n",
      "Iteration 146, loss = 0.06337974\n",
      "Iteration 147, loss = 0.06255723\n",
      "Iteration 148, loss = 0.06164592\n",
      "Iteration 149, loss = 0.06076209\n",
      "Iteration 150, loss = 0.05992986\n",
      "Iteration 151, loss = 0.05906017\n",
      "Iteration 152, loss = 0.05846232\n",
      "Iteration 153, loss = 0.05755526\n",
      "Iteration 154, loss = 0.05666850\n",
      "Iteration 155, loss = 0.05607034\n",
      "Iteration 156, loss = 0.05519595\n",
      "Iteration 157, loss = 0.05457301\n",
      "Iteration 158, loss = 0.05382768\n",
      "Iteration 159, loss = 0.05317744\n",
      "Iteration 160, loss = 0.05251761\n",
      "Iteration 161, loss = 0.05195561\n",
      "Iteration 162, loss = 0.05124696\n",
      "Iteration 163, loss = 0.05054570\n",
      "Iteration 164, loss = 0.04997527\n",
      "Iteration 165, loss = 0.04947430\n",
      "Iteration 166, loss = 0.04878615\n",
      "Iteration 167, loss = 0.04822287\n",
      "Iteration 168, loss = 0.04766990\n",
      "Iteration 169, loss = 0.04713376\n",
      "Iteration 170, loss = 0.04664255\n",
      "Iteration 171, loss = 0.04611350\n",
      "Iteration 172, loss = 0.04558886\n",
      "Iteration 173, loss = 0.04507762\n",
      "Iteration 174, loss = 0.04459326\n",
      "Iteration 175, loss = 0.04411100\n",
      "Iteration 176, loss = 0.04373396\n",
      "Iteration 177, loss = 0.04321427\n",
      "Iteration 178, loss = 0.04275497\n",
      "Iteration 179, loss = 0.04231434\n",
      "Iteration 180, loss = 0.04189335\n",
      "Iteration 181, loss = 0.04146158\n",
      "Iteration 182, loss = 0.04104949\n",
      "Iteration 183, loss = 0.04064616\n",
      "Iteration 184, loss = 0.04027307\n",
      "Iteration 185, loss = 0.03986734\n",
      "Iteration 186, loss = 0.03950115\n",
      "Iteration 187, loss = 0.03913016\n",
      "Iteration 188, loss = 0.03877246\n",
      "Iteration 189, loss = 0.03840937\n",
      "Iteration 190, loss = 0.03804680\n",
      "Iteration 191, loss = 0.03771489\n",
      "Iteration 192, loss = 0.03738003\n",
      "Iteration 193, loss = 0.03705166\n",
      "Iteration 194, loss = 0.03671635\n",
      "Iteration 195, loss = 0.03639771\n",
      "Iteration 196, loss = 0.03610203\n",
      "Iteration 197, loss = 0.03580531\n",
      "Iteration 198, loss = 0.03549550\n",
      "Iteration 199, loss = 0.03517874\n",
      "Iteration 200, loss = 0.03489390\n",
      "Iteration 201, loss = 0.03459500\n",
      "Iteration 202, loss = 0.03432469\n",
      "Iteration 203, loss = 0.03404615\n",
      "Iteration 204, loss = 0.03377434\n",
      "Iteration 205, loss = 0.03350598\n",
      "Iteration 206, loss = 0.03321780\n",
      "Iteration 207, loss = 0.03296759\n",
      "Iteration 208, loss = 0.03270717\n",
      "Iteration 209, loss = 0.03245631\n",
      "Iteration 210, loss = 0.03221754\n",
      "Iteration 211, loss = 0.03196576\n",
      "Iteration 212, loss = 0.03172807\n",
      "Iteration 213, loss = 0.03149243\n",
      "Iteration 214, loss = 0.03126073\n",
      "Iteration 215, loss = 0.03103270\n",
      "Iteration 216, loss = 0.03082886\n",
      "Iteration 217, loss = 0.03060982\n",
      "Iteration 218, loss = 0.03039099\n",
      "Iteration 219, loss = 0.03016077\n",
      "Iteration 220, loss = 0.02995985\n",
      "Iteration 221, loss = 0.02974510\n",
      "Iteration 222, loss = 0.02955684\n",
      "Iteration 223, loss = 0.02934097\n",
      "Iteration 224, loss = 0.02913044\n",
      "Iteration 225, loss = 0.02893700\n",
      "Iteration 226, loss = 0.02875100\n",
      "Iteration 227, loss = 0.02855432\n",
      "Iteration 228, loss = 0.02838092\n",
      "Iteration 229, loss = 0.02818672\n",
      "Iteration 230, loss = 0.02800269\n",
      "Iteration 231, loss = 0.02783256\n",
      "Iteration 232, loss = 0.02763426\n",
      "Iteration 233, loss = 0.02746393\n",
      "Iteration 234, loss = 0.02730684\n",
      "Iteration 235, loss = 0.02712647\n",
      "Iteration 236, loss = 0.02697177\n",
      "Iteration 237, loss = 0.02678570\n",
      "Iteration 238, loss = 0.02663337\n",
      "Iteration 239, loss = 0.02645595\n",
      "Iteration 240, loss = 0.02630409\n",
      "Iteration 241, loss = 0.02614169\n",
      "Iteration 242, loss = 0.02598468\n",
      "Iteration 243, loss = 0.02583147\n",
      "Iteration 244, loss = 0.02567451\n",
      "Iteration 245, loss = 0.02552405\n",
      "Iteration 246, loss = 0.02537943\n",
      "Iteration 247, loss = 0.02524239\n",
      "Iteration 248, loss = 0.02509187\n",
      "Iteration 249, loss = 0.02494164\n",
      "Iteration 250, loss = 0.02479711\n",
      "Iteration 251, loss = 0.02466400\n",
      "Iteration 252, loss = 0.02452014\n",
      "Iteration 253, loss = 0.02438873\n",
      "Iteration 254, loss = 0.02426224\n",
      "Iteration 255, loss = 0.02412378\n",
      "Iteration 256, loss = 0.02398498\n",
      "Iteration 257, loss = 0.02385036\n",
      "Iteration 258, loss = 0.02371814\n",
      "Iteration 259, loss = 0.02360646\n",
      "Iteration 260, loss = 0.02347340\n",
      "Iteration 261, loss = 0.02334293\n",
      "Iteration 262, loss = 0.02322576\n",
      "Iteration 263, loss = 0.02310038\n",
      "Iteration 264, loss = 0.02298761\n"
     ]
    },
    {
     "name": "stdout",
     "output_type": "stream",
     "text": [
      "Iteration 265, loss = 0.02285885\n",
      "Iteration 266, loss = 0.02273854\n",
      "Iteration 267, loss = 0.02262312\n",
      "Iteration 268, loss = 0.02250603\n",
      "Iteration 269, loss = 0.02238633\n",
      "Iteration 270, loss = 0.02228113\n",
      "Iteration 271, loss = 0.02218216\n",
      "Iteration 272, loss = 0.02205393\n",
      "Iteration 273, loss = 0.02194541\n",
      "Iteration 274, loss = 0.02183368\n",
      "Iteration 275, loss = 0.02173030\n",
      "Iteration 276, loss = 0.02163965\n",
      "Iteration 277, loss = 0.02152212\n",
      "Iteration 278, loss = 0.02140924\n",
      "Iteration 279, loss = 0.02130592\n",
      "Iteration 280, loss = 0.02120963\n",
      "Iteration 281, loss = 0.02110463\n",
      "Iteration 282, loss = 0.02100547\n",
      "Iteration 283, loss = 0.02090514\n",
      "Iteration 284, loss = 0.02081521\n",
      "Iteration 285, loss = 0.02071262\n",
      "Iteration 286, loss = 0.02060721\n",
      "Iteration 287, loss = 0.02052193\n",
      "Iteration 288, loss = 0.02041694\n",
      "Iteration 289, loss = 0.02032341\n",
      "Iteration 290, loss = 0.02024044\n",
      "Iteration 291, loss = 0.02015020\n",
      "Iteration 292, loss = 0.02004912\n",
      "Iteration 293, loss = 0.01996234\n",
      "Iteration 294, loss = 0.01987250\n",
      "Iteration 295, loss = 0.01979533\n",
      "Iteration 296, loss = 0.01970180\n",
      "Iteration 297, loss = 0.01960890\n",
      "Iteration 298, loss = 0.01952349\n",
      "Iteration 299, loss = 0.01943796\n",
      "Iteration 300, loss = 0.01935785\n",
      "Iteration 301, loss = 0.01927068\n",
      "Iteration 302, loss = 0.01919623\n",
      "Iteration 303, loss = 0.01909987\n",
      "Iteration 304, loss = 0.01903334\n",
      "Iteration 305, loss = 0.01894456\n",
      "Iteration 306, loss = 0.01885744\n",
      "Iteration 307, loss = 0.01878867\n",
      "Iteration 308, loss = 0.01870170\n",
      "Iteration 309, loss = 0.01862493\n",
      "Iteration 310, loss = 0.01856517\n",
      "Iteration 311, loss = 0.01846579\n",
      "Iteration 312, loss = 0.01839274\n",
      "Iteration 313, loss = 0.01831881\n",
      "Iteration 314, loss = 0.01824191\n",
      "Iteration 315, loss = 0.01816991\n",
      "Iteration 316, loss = 0.01809361\n",
      "Iteration 317, loss = 0.01802912\n",
      "Iteration 318, loss = 0.01796420\n",
      "Iteration 319, loss = 0.01787787\n",
      "Iteration 320, loss = 0.01781712\n",
      "Iteration 321, loss = 0.01773433\n",
      "Iteration 322, loss = 0.01766937\n",
      "Iteration 323, loss = 0.01759618\n",
      "Iteration 324, loss = 0.01753444\n",
      "Iteration 325, loss = 0.01746069\n",
      "Iteration 326, loss = 0.01738992\n",
      "Iteration 327, loss = 0.01732546\n",
      "Iteration 328, loss = 0.01726076\n",
      "Iteration 329, loss = 0.01719170\n",
      "Iteration 330, loss = 0.01713116\n",
      "Iteration 331, loss = 0.01707903\n",
      "Iteration 332, loss = 0.01699805\n",
      "Iteration 333, loss = 0.01694470\n",
      "Iteration 334, loss = 0.01687705\n",
      "Iteration 335, loss = 0.01680905\n",
      "Iteration 336, loss = 0.01674198\n",
      "Iteration 337, loss = 0.01668399\n",
      "Iteration 338, loss = 0.01662799\n",
      "Iteration 339, loss = 0.01656414\n",
      "Iteration 340, loss = 0.01650270\n",
      "Iteration 341, loss = 0.01644220\n",
      "Iteration 342, loss = 0.01638188\n",
      "Iteration 343, loss = 0.01632711\n",
      "Iteration 344, loss = 0.01627465\n",
      "Iteration 345, loss = 0.01620796\n",
      "Iteration 346, loss = 0.01614908\n",
      "Iteration 347, loss = 0.01610639\n",
      "Iteration 348, loss = 0.01603571\n",
      "Iteration 349, loss = 0.01598994\n",
      "Iteration 350, loss = 0.01592941\n",
      "Iteration 351, loss = 0.01587380\n",
      "Iteration 352, loss = 0.01582044\n",
      "Iteration 353, loss = 0.01576190\n",
      "Iteration 354, loss = 0.01571459\n",
      "Iteration 355, loss = 0.01565482\n",
      "Iteration 356, loss = 0.01561687\n",
      "Iteration 357, loss = 0.01556032\n",
      "Iteration 358, loss = 0.01549677\n",
      "Iteration 359, loss = 0.01545238\n",
      "Iteration 360, loss = 0.01539962\n",
      "Iteration 361, loss = 0.01535736\n",
      "Iteration 362, loss = 0.01529478\n",
      "Iteration 363, loss = 0.01524210\n",
      "Iteration 364, loss = 0.01520860\n",
      "Iteration 365, loss = 0.01515425\n",
      "Iteration 366, loss = 0.01510271\n",
      "Iteration 367, loss = 0.01505281\n",
      "Iteration 368, loss = 0.01499870\n",
      "Iteration 369, loss = 0.01495314\n",
      "Iteration 370, loss = 0.01491627\n",
      "Iteration 371, loss = 0.01486065\n",
      "Iteration 372, loss = 0.01480799\n",
      "Iteration 373, loss = 0.01477864\n",
      "Iteration 374, loss = 0.01472776\n",
      "Iteration 375, loss = 0.01467187\n",
      "Iteration 376, loss = 0.01463602\n",
      "Iteration 377, loss = 0.01458849\n",
      "Iteration 378, loss = 0.01454213\n",
      "Iteration 379, loss = 0.01450049\n",
      "Iteration 380, loss = 0.01445287\n",
      "Iteration 381, loss = 0.01440742\n",
      "Iteration 382, loss = 0.01436555\n",
      "Iteration 383, loss = 0.01431932\n",
      "Iteration 384, loss = 0.01427758\n",
      "Iteration 385, loss = 0.01424079\n",
      "Iteration 386, loss = 0.01419774\n",
      "Iteration 387, loss = 0.01415629\n",
      "Iteration 388, loss = 0.01411440\n",
      "Iteration 389, loss = 0.01407191\n",
      "Iteration 390, loss = 0.01404528\n",
      "Iteration 391, loss = 0.01399118\n",
      "Iteration 392, loss = 0.01394993\n",
      "Iteration 393, loss = 0.01391099\n",
      "Iteration 394, loss = 0.01387184\n",
      "Iteration 395, loss = 0.01383254\n",
      "Iteration 396, loss = 0.01379886\n",
      "Iteration 397, loss = 0.01375475\n",
      "Iteration 398, loss = 0.01373147\n",
      "Iteration 399, loss = 0.01368118\n",
      "Iteration 400, loss = 0.01365008\n",
      "Iteration 401, loss = 0.01361010\n",
      "Iteration 402, loss = 0.01356581\n",
      "Iteration 403, loss = 0.01353827\n",
      "Iteration 404, loss = 0.01349575\n",
      "Iteration 405, loss = 0.01345777\n",
      "Iteration 406, loss = 0.01342540\n",
      "Iteration 407, loss = 0.01339372\n",
      "Iteration 408, loss = 0.01335621\n",
      "Iteration 409, loss = 0.01332183\n",
      "Iteration 410, loss = 0.01328180\n",
      "Iteration 411, loss = 0.01326451\n",
      "Iteration 412, loss = 0.01321481\n",
      "Iteration 413, loss = 0.01318151\n",
      "Iteration 414, loss = 0.01315366\n",
      "Iteration 415, loss = 0.01311884\n",
      "Iteration 416, loss = 0.01308299\n",
      "Iteration 417, loss = 0.01305968\n",
      "Iteration 418, loss = 0.01301620\n",
      "Iteration 419, loss = 0.01299018\n",
      "Iteration 420, loss = 0.01295319\n",
      "Iteration 421, loss = 0.01292912\n",
      "Iteration 422, loss = 0.01288763\n",
      "Iteration 423, loss = 0.01285617\n",
      "Iteration 424, loss = 0.01282461\n",
      "Iteration 425, loss = 0.01279311\n",
      "Iteration 426, loss = 0.01276148\n",
      "Iteration 427, loss = 0.01273877\n",
      "Iteration 428, loss = 0.01270178\n",
      "Iteration 429, loss = 0.01268872\n",
      "Iteration 430, loss = 0.01264301\n",
      "Iteration 431, loss = 0.01262346\n",
      "Iteration 432, loss = 0.01259635\n",
      "Iteration 433, loss = 0.01256137\n",
      "Iteration 434, loss = 0.01252578\n",
      "Iteration 435, loss = 0.01250368\n",
      "Iteration 436, loss = 0.01247569\n",
      "Iteration 437, loss = 0.01244278\n",
      "Iteration 438, loss = 0.01241575\n",
      "Iteration 439, loss = 0.01238570\n",
      "Iteration 440, loss = 0.01235634\n",
      "Iteration 441, loss = 0.01232853\n",
      "Iteration 442, loss = 0.01230419\n",
      "Iteration 443, loss = 0.01227802\n",
      "Iteration 444, loss = 0.01224811\n",
      "Iteration 445, loss = 0.01222605\n",
      "Iteration 446, loss = 0.01219668\n",
      "Iteration 447, loss = 0.01218343\n",
      "Iteration 448, loss = 0.01214326\n",
      "Iteration 449, loss = 0.01211604\n",
      "Iteration 450, loss = 0.01210004\n",
      "Iteration 451, loss = 0.01207264\n",
      "Iteration 452, loss = 0.01204022\n",
      "Iteration 453, loss = 0.01202012\n",
      "Iteration 454, loss = 0.01199110\n",
      "Iteration 455, loss = 0.01196827\n",
      "Iteration 456, loss = 0.01194937\n",
      "Iteration 457, loss = 0.01191704\n",
      "Iteration 458, loss = 0.01189174\n",
      "Iteration 459, loss = 0.01187439\n",
      "Iteration 460, loss = 0.01184711\n",
      "Iteration 461, loss = 0.01182084\n",
      "Iteration 462, loss = 0.01179719\n",
      "Iteration 463, loss = 0.01177353\n",
      "Iteration 464, loss = 0.01175583\n",
      "Iteration 465, loss = 0.01172667\n",
      "Iteration 466, loss = 0.01170510\n",
      "Iteration 467, loss = 0.01168698\n",
      "Iteration 468, loss = 0.01165703\n",
      "Iteration 469, loss = 0.01164895\n",
      "Iteration 470, loss = 0.01162005\n",
      "Iteration 471, loss = 0.01159816\n",
      "Iteration 472, loss = 0.01156776\n",
      "Iteration 473, loss = 0.01154901\n",
      "Iteration 474, loss = 0.01152645\n",
      "Iteration 475, loss = 0.01150503\n",
      "Iteration 476, loss = 0.01148204\n",
      "Iteration 477, loss = 0.01146133\n",
      "Iteration 478, loss = 0.01143869\n",
      "Iteration 479, loss = 0.01142616\n",
      "Iteration 480, loss = 0.01140669\n",
      "Iteration 481, loss = 0.01138681\n",
      "Iteration 482, loss = 0.01136295\n",
      "Iteration 483, loss = 0.01134029\n",
      "Iteration 484, loss = 0.01132872\n",
      "Iteration 485, loss = 0.01129713\n",
      "Iteration 486, loss = 0.01128538\n",
      "Iteration 487, loss = 0.01125492\n",
      "Iteration 488, loss = 0.01124619\n",
      "Iteration 489, loss = 0.01121725\n",
      "Iteration 490, loss = 0.01120559\n",
      "Iteration 491, loss = 0.01119102\n",
      "Iteration 492, loss = 0.01116028\n",
      "Iteration 493, loss = 0.01113972\n",
      "Iteration 494, loss = 0.01112214\n",
      "Iteration 495, loss = 0.01111084\n",
      "Iteration 496, loss = 0.01109252\n",
      "Iteration 497, loss = 0.01106387\n",
      "Iteration 498, loss = 0.01104690\n",
      "Iteration 499, loss = 0.01102823\n",
      "Iteration 500, loss = 0.01100965\n",
      "Iteration 501, loss = 0.01099156\n",
      "Iteration 502, loss = 0.01097248\n",
      "Iteration 503, loss = 0.01095624\n",
      "Iteration 504, loss = 0.01093853\n",
      "Iteration 505, loss = 0.01092762\n",
      "Iteration 506, loss = 0.01090452\n",
      "Iteration 507, loss = 0.01089293\n",
      "Iteration 508, loss = 0.01086655\n",
      "Iteration 509, loss = 0.01086327\n",
      "Iteration 510, loss = 0.01084331\n",
      "Iteration 511, loss = 0.01082281\n",
      "Iteration 512, loss = 0.01080163\n",
      "Iteration 513, loss = 0.01079518\n",
      "Iteration 514, loss = 0.01077443\n",
      "Iteration 515, loss = 0.01074785\n",
      "Iteration 516, loss = 0.01073692\n",
      "Iteration 517, loss = 0.01071716\n"
     ]
    },
    {
     "name": "stdout",
     "output_type": "stream",
     "text": [
      "Iteration 518, loss = 0.01070824\n",
      "Iteration 519, loss = 0.01068606\n",
      "Iteration 520, loss = 0.01066719\n",
      "Iteration 521, loss = 0.01066119\n",
      "Iteration 522, loss = 0.01063706\n",
      "Iteration 523, loss = 0.01063162\n",
      "Iteration 524, loss = 0.01061340\n",
      "Iteration 525, loss = 0.01059041\n",
      "Iteration 526, loss = 0.01058499\n",
      "Iteration 527, loss = 0.01056435\n",
      "Iteration 528, loss = 0.01054378\n",
      "Iteration 529, loss = 0.01053642\n",
      "Iteration 530, loss = 0.01051687\n",
      "Iteration 531, loss = 0.01049891\n",
      "Iteration 532, loss = 0.01048273\n",
      "Iteration 533, loss = 0.01046887\n",
      "Iteration 534, loss = 0.01045521\n",
      "Iteration 535, loss = 0.01043806\n",
      "Iteration 536, loss = 0.01042847\n",
      "Iteration 537, loss = 0.01041291\n",
      "Iteration 538, loss = 0.01040501\n",
      "Iteration 539, loss = 0.01038188\n",
      "Iteration 540, loss = 0.01036923\n",
      "Iteration 541, loss = 0.01036057\n",
      "Iteration 542, loss = 0.01034392\n",
      "Iteration 543, loss = 0.01033639\n",
      "Iteration 544, loss = 0.01031130\n",
      "Iteration 545, loss = 0.01030616\n",
      "Iteration 546, loss = 0.01028538\n",
      "Iteration 547, loss = 0.01027593\n",
      "Iteration 548, loss = 0.01026344\n",
      "Iteration 549, loss = 0.01024322\n",
      "Iteration 550, loss = 0.01022812\n",
      "Iteration 551, loss = 0.01022031\n",
      "Iteration 552, loss = 0.01020892\n",
      "Iteration 553, loss = 0.01018855\n",
      "Iteration 554, loss = 0.01017921\n",
      "Iteration 555, loss = 0.01016393\n",
      "Iteration 556, loss = 0.01015119\n",
      "Iteration 557, loss = 0.01013900\n",
      "Iteration 558, loss = 0.01012552\n",
      "Iteration 559, loss = 0.01012466\n",
      "Iteration 560, loss = 0.01010806\n",
      "Iteration 561, loss = 0.01009416\n",
      "Iteration 562, loss = 0.01008948\n",
      "Iteration 563, loss = 0.01007065\n",
      "Iteration 564, loss = 0.01005815\n",
      "Iteration 565, loss = 0.01003693\n",
      "Iteration 566, loss = 0.01003108\n",
      "Iteration 567, loss = 0.01001313\n",
      "Iteration 568, loss = 0.01000416\n",
      "Iteration 569, loss = 0.00999947\n",
      "Iteration 570, loss = 0.00998251\n",
      "Iteration 571, loss = 0.00996958\n",
      "Iteration 572, loss = 0.00996355\n",
      "Iteration 573, loss = 0.00994573\n",
      "Iteration 574, loss = 0.00993071\n",
      "Iteration 575, loss = 0.00991805\n",
      "Iteration 576, loss = 0.00990941\n",
      "Iteration 577, loss = 0.00989815\n",
      "Iteration 578, loss = 0.00989468\n",
      "Iteration 579, loss = 0.00987131\n",
      "Iteration 580, loss = 0.00986164\n",
      "Iteration 581, loss = 0.00985570\n",
      "Iteration 582, loss = 0.00983827\n",
      "Iteration 583, loss = 0.00982762\n",
      "Iteration 584, loss = 0.00981623\n",
      "Iteration 585, loss = 0.00981070\n",
      "Iteration 586, loss = 0.00979689\n",
      "Iteration 587, loss = 0.00979469\n",
      "Iteration 588, loss = 0.00978014\n",
      "Iteration 589, loss = 0.00976204\n",
      "Iteration 590, loss = 0.00975364\n",
      "Iteration 591, loss = 0.00974763\n",
      "Iteration 592, loss = 0.00973309\n",
      "Iteration 593, loss = 0.00971808\n",
      "Iteration 594, loss = 0.00970929\n",
      "Iteration 595, loss = 0.00969836\n",
      "Iteration 596, loss = 0.00969412\n",
      "Iteration 597, loss = 0.00968655\n",
      "Iteration 598, loss = 0.00966739\n",
      "Iteration 599, loss = 0.00967573\n",
      "Iteration 600, loss = 0.00965719\n",
      "Iteration 601, loss = 0.00963887\n",
      "Iteration 602, loss = 0.00962863\n",
      "Iteration 603, loss = 0.00962475\n",
      "Iteration 604, loss = 0.00960872\n",
      "Iteration 605, loss = 0.00959796\n",
      "Iteration 606, loss = 0.00958861\n",
      "Iteration 607, loss = 0.00958855\n",
      "Iteration 608, loss = 0.00957003\n",
      "Iteration 609, loss = 0.00955868\n",
      "Iteration 610, loss = 0.00954876\n",
      "Iteration 611, loss = 0.00954682\n",
      "Iteration 612, loss = 0.00953820\n",
      "Iteration 613, loss = 0.00952594\n",
      "Iteration 614, loss = 0.00951123\n",
      "Iteration 615, loss = 0.00950515\n",
      "Iteration 616, loss = 0.00949566\n",
      "Iteration 617, loss = 0.00948229\n",
      "Iteration 618, loss = 0.00947339\n",
      "Iteration 619, loss = 0.00946347\n",
      "Iteration 620, loss = 0.00946170\n",
      "Iteration 621, loss = 0.00944891\n",
      "Iteration 622, loss = 0.00945526\n",
      "Iteration 623, loss = 0.00943012\n",
      "Iteration 624, loss = 0.00942051\n",
      "Iteration 625, loss = 0.00942114\n",
      "Iteration 626, loss = 0.00940719\n",
      "Iteration 627, loss = 0.00939453\n",
      "Iteration 628, loss = 0.00939055\n",
      "Iteration 629, loss = 0.00937509\n",
      "Iteration 630, loss = 0.00937396\n",
      "Iteration 631, loss = 0.00936214\n",
      "Iteration 632, loss = 0.00935693\n",
      "Iteration 633, loss = 0.00934109\n",
      "Iteration 634, loss = 0.00933683\n",
      "Iteration 635, loss = 0.00932476\n",
      "Iteration 636, loss = 0.00932758\n",
      "Iteration 637, loss = 0.00930898\n",
      "Iteration 638, loss = 0.00929942\n",
      "Iteration 639, loss = 0.00930218\n",
      "Iteration 640, loss = 0.00929432\n",
      "Iteration 641, loss = 0.00927898\n",
      "Iteration 642, loss = 0.00926864\n",
      "Iteration 643, loss = 0.00926258\n",
      "Iteration 644, loss = 0.00925217\n",
      "Iteration 645, loss = 0.00924521\n",
      "Iteration 646, loss = 0.00924074\n",
      "Iteration 647, loss = 0.00922902\n",
      "Iteration 648, loss = 0.00921999\n",
      "Iteration 649, loss = 0.00921168\n",
      "Iteration 650, loss = 0.00920928\n",
      "Iteration 651, loss = 0.00919587\n",
      "Iteration 652, loss = 0.00918734\n",
      "Iteration 653, loss = 0.00917954\n",
      "Iteration 654, loss = 0.00918273\n",
      "Iteration 655, loss = 0.00916713\n",
      "Iteration 656, loss = 0.00915778\n",
      "Iteration 657, loss = 0.00916052\n",
      "Iteration 658, loss = 0.00914251\n",
      "Iteration 659, loss = 0.00913405\n",
      "Iteration 660, loss = 0.00912880\n",
      "Iteration 661, loss = 0.00912722\n",
      "Iteration 662, loss = 0.00911327\n",
      "Iteration 663, loss = 0.00910508\n",
      "Iteration 664, loss = 0.00909927\n",
      "Iteration 665, loss = 0.00909801\n",
      "Iteration 666, loss = 0.00908176\n",
      "Iteration 667, loss = 0.00907871\n",
      "Iteration 668, loss = 0.00907670\n",
      "Iteration 669, loss = 0.00906335\n",
      "Iteration 670, loss = 0.00906054\n",
      "Iteration 671, loss = 0.00905233\n",
      "Iteration 672, loss = 0.00904247\n",
      "Iteration 673, loss = 0.00903262\n",
      "Iteration 674, loss = 0.00902682\n",
      "Iteration 675, loss = 0.00901968\n",
      "Iteration 676, loss = 0.00901187\n",
      "Iteration 677, loss = 0.00901683\n",
      "Iteration 678, loss = 0.00900603\n",
      "Iteration 679, loss = 0.00899220\n",
      "Iteration 680, loss = 0.00899656\n",
      "Iteration 681, loss = 0.00897868\n",
      "Iteration 682, loss = 0.00897165\n",
      "Iteration 683, loss = 0.00896612\n",
      "Iteration 684, loss = 0.00896735\n",
      "Iteration 685, loss = 0.00895826\n",
      "Iteration 686, loss = 0.00895094\n",
      "Iteration 687, loss = 0.00894171\n",
      "Iteration 688, loss = 0.00893255\n",
      "Iteration 689, loss = 0.00892548\n",
      "Iteration 690, loss = 0.00891814\n",
      "Iteration 691, loss = 0.00891593\n",
      "Iteration 692, loss = 0.00890835\n",
      "Iteration 693, loss = 0.00889963\n",
      "Iteration 694, loss = 0.00889331\n",
      "Iteration 695, loss = 0.00890043\n",
      "Iteration 696, loss = 0.00888117\n",
      "Iteration 697, loss = 0.00887746\n",
      "Iteration 698, loss = 0.00886887\n",
      "Iteration 699, loss = 0.00886839\n",
      "Iteration 700, loss = 0.00885842\n",
      "Iteration 701, loss = 0.00885293\n",
      "Iteration 702, loss = 0.00884274\n",
      "Iteration 703, loss = 0.00883527\n",
      "Iteration 704, loss = 0.00883552\n",
      "Iteration 705, loss = 0.00882447\n",
      "Iteration 706, loss = 0.00882549\n",
      "Iteration 707, loss = 0.00881541\n",
      "Iteration 708, loss = 0.00881073\n",
      "Iteration 709, loss = 0.00880523\n",
      "Iteration 710, loss = 0.00879688\n",
      "Iteration 711, loss = 0.00879899\n",
      "Iteration 712, loss = 0.00878635\n",
      "Iteration 713, loss = 0.00878488\n",
      "Iteration 714, loss = 0.00877306\n",
      "Iteration 715, loss = 0.00877739\n",
      "Iteration 716, loss = 0.00877204\n",
      "Iteration 717, loss = 0.00876616\n",
      "Iteration 718, loss = 0.00875472\n",
      "Iteration 719, loss = 0.00874578\n",
      "Iteration 720, loss = 0.00873977\n",
      "Iteration 721, loss = 0.00873252\n",
      "Iteration 722, loss = 0.00873937\n",
      "Iteration 723, loss = 0.00873302\n",
      "Iteration 724, loss = 0.00871545\n",
      "Iteration 725, loss = 0.00871632\n",
      "Iteration 726, loss = 0.00871838\n",
      "Iteration 727, loss = 0.00870199\n",
      "Iteration 728, loss = 0.00870579\n",
      "Iteration 729, loss = 0.00870086\n",
      "Iteration 730, loss = 0.00869431\n",
      "Iteration 731, loss = 0.00868396\n",
      "Iteration 732, loss = 0.00867613\n",
      "Iteration 733, loss = 0.00867211\n",
      "Iteration 734, loss = 0.00866553\n",
      "Iteration 735, loss = 0.00865609\n",
      "Iteration 736, loss = 0.00866355\n",
      "Iteration 737, loss = 0.00864673\n",
      "Iteration 738, loss = 0.00864903\n",
      "Iteration 739, loss = 0.00863732\n",
      "Iteration 740, loss = 0.00863349\n",
      "Iteration 741, loss = 0.00863850\n",
      "Iteration 742, loss = 0.00862144\n",
      "Iteration 743, loss = 0.00862186\n",
      "Iteration 744, loss = 0.00861446\n",
      "Iteration 745, loss = 0.00861895\n",
      "Iteration 746, loss = 0.00860013\n",
      "Iteration 747, loss = 0.00859668\n",
      "Iteration 748, loss = 0.00859953\n",
      "Iteration 749, loss = 0.00858502\n",
      "Iteration 750, loss = 0.00859347\n",
      "Iteration 751, loss = 0.00858845\n",
      "Iteration 752, loss = 0.00857311\n",
      "Iteration 753, loss = 0.00856759\n",
      "Iteration 754, loss = 0.00857185\n",
      "Iteration 755, loss = 0.00856212\n",
      "Iteration 756, loss = 0.00856636\n",
      "Iteration 757, loss = 0.00855592\n",
      "Iteration 758, loss = 0.00854104\n",
      "Iteration 759, loss = 0.00853913\n",
      "Iteration 760, loss = 0.00853409\n",
      "Iteration 761, loss = 0.00852759\n",
      "Iteration 762, loss = 0.00852337\n",
      "Iteration 763, loss = 0.00852160\n",
      "Iteration 764, loss = 0.00851228\n",
      "Iteration 765, loss = 0.00851093\n",
      "Iteration 766, loss = 0.00850466\n",
      "Iteration 767, loss = 0.00850575\n",
      "Iteration 768, loss = 0.00850893\n",
      "Iteration 769, loss = 0.00849933\n",
      "Iteration 770, loss = 0.00849225\n",
      "Iteration 771, loss = 0.00848441\n",
      "Iteration 772, loss = 0.00847502\n",
      "Iteration 773, loss = 0.00847809\n",
      "Iteration 774, loss = 0.00846699\n",
      "Iteration 775, loss = 0.00847673\n"
     ]
    },
    {
     "name": "stdout",
     "output_type": "stream",
     "text": [
      "Iteration 776, loss = 0.00846014\n",
      "Iteration 777, loss = 0.00845461\n",
      "Iteration 778, loss = 0.00844812\n",
      "Iteration 779, loss = 0.00844590\n",
      "Iteration 780, loss = 0.00844092\n",
      "Iteration 781, loss = 0.00843535\n",
      "Iteration 782, loss = 0.00844306\n",
      "Iteration 783, loss = 0.00842751\n",
      "Iteration 784, loss = 0.00842879\n",
      "Iteration 785, loss = 0.00842178\n",
      "Iteration 786, loss = 0.00842188\n",
      "Iteration 787, loss = 0.00841347\n",
      "Iteration 788, loss = 0.00841050\n",
      "Iteration 789, loss = 0.00840514\n",
      "Iteration 790, loss = 0.00839799\n",
      "Iteration 791, loss = 0.00840009\n",
      "Iteration 792, loss = 0.00839346\n",
      "Iteration 793, loss = 0.00839589\n",
      "Iteration 794, loss = 0.00838805\n",
      "Iteration 795, loss = 0.00837882\n",
      "Iteration 796, loss = 0.00838069\n",
      "Iteration 797, loss = 0.00837115\n",
      "Iteration 798, loss = 0.00836565\n",
      "Iteration 799, loss = 0.00836595\n",
      "Iteration 800, loss = 0.00835655\n",
      "Iteration 801, loss = 0.00835482\n",
      "Iteration 802, loss = 0.00834868\n",
      "Iteration 803, loss = 0.00834917\n",
      "Iteration 804, loss = 0.00834178\n",
      "Iteration 805, loss = 0.00834010\n",
      "Iteration 806, loss = 0.00834204\n",
      "Iteration 807, loss = 0.00833628\n",
      "Iteration 808, loss = 0.00833435\n",
      "Iteration 809, loss = 0.00832136\n",
      "Iteration 810, loss = 0.00832468\n",
      "Iteration 811, loss = 0.00831474\n",
      "Iteration 812, loss = 0.00831454\n",
      "Iteration 813, loss = 0.00831071\n",
      "Iteration 814, loss = 0.00830482\n",
      "Iteration 815, loss = 0.00830531\n",
      "Iteration 816, loss = 0.00829830\n",
      "Iteration 817, loss = 0.00830315\n",
      "Iteration 818, loss = 0.00828873\n",
      "Iteration 819, loss = 0.00828699\n",
      "Iteration 820, loss = 0.00829153\n",
      "Iteration 821, loss = 0.00827644\n",
      "Iteration 822, loss = 0.00828089\n",
      "Iteration 823, loss = 0.00827873\n",
      "Iteration 824, loss = 0.00826551\n",
      "Iteration 825, loss = 0.00826311\n",
      "Iteration 826, loss = 0.00826774\n",
      "Iteration 827, loss = 0.00826419\n",
      "Iteration 828, loss = 0.00825931\n",
      "Iteration 829, loss = 0.00824767\n",
      "Iteration 830, loss = 0.00824404\n",
      "Iteration 831, loss = 0.00824319\n",
      "Iteration 832, loss = 0.00824640\n",
      "Iteration 833, loss = 0.00823131\n",
      "Iteration 834, loss = 0.00823013\n",
      "Iteration 835, loss = 0.00822850\n",
      "Iteration 836, loss = 0.00823187\n",
      "Iteration 837, loss = 0.00823015\n",
      "Iteration 838, loss = 0.00821631\n",
      "Iteration 839, loss = 0.00821440\n",
      "Iteration 840, loss = 0.00820978\n",
      "Iteration 841, loss = 0.00820657\n",
      "Iteration 842, loss = 0.00820244\n",
      "Iteration 843, loss = 0.00820589\n",
      "Iteration 844, loss = 0.00820669\n",
      "Iteration 845, loss = 0.00819944\n",
      "Iteration 846, loss = 0.00820240\n",
      "Iteration 847, loss = 0.00818660\n",
      "Iteration 848, loss = 0.00818175\n",
      "Iteration 849, loss = 0.00817859\n",
      "Iteration 850, loss = 0.00817622\n",
      "Iteration 851, loss = 0.00817923\n",
      "Iteration 852, loss = 0.00816919\n",
      "Iteration 853, loss = 0.00817148\n",
      "Iteration 854, loss = 0.00816226\n",
      "Iteration 855, loss = 0.00815932\n",
      "Iteration 856, loss = 0.00816871\n",
      "Iteration 857, loss = 0.00815447\n",
      "Iteration 858, loss = 0.00814976\n",
      "Iteration 859, loss = 0.00815446\n",
      "Iteration 860, loss = 0.00814227\n",
      "Iteration 861, loss = 0.00814538\n",
      "Iteration 862, loss = 0.00813599\n",
      "Iteration 863, loss = 0.00813336\n",
      "Iteration 864, loss = 0.00813376\n",
      "Iteration 865, loss = 0.00813889\n",
      "Iteration 866, loss = 0.00812391\n",
      "Iteration 867, loss = 0.00812233\n",
      "Iteration 868, loss = 0.00811606\n",
      "Iteration 869, loss = 0.00811519\n",
      "Iteration 870, loss = 0.00812038\n",
      "Iteration 871, loss = 0.00810650\n",
      "Iteration 872, loss = 0.00811022\n",
      "Iteration 873, loss = 0.00810456\n",
      "Iteration 874, loss = 0.00809916\n",
      "Iteration 875, loss = 0.00809610\n",
      "Iteration 876, loss = 0.00809062\n",
      "Iteration 877, loss = 0.00809063\n",
      "Iteration 878, loss = 0.00809523\n",
      "Iteration 879, loss = 0.00809254\n",
      "Training loss did not improve more than tol=0.000001 for two consecutive epochs. Stopping.\n"
     ]
    },
    {
     "data": {
      "text/plain": [
       "MLPClassifier(activation='logistic', alpha=0.0001, batch_size='auto',\n",
       "       beta_1=0.9, beta_2=0.999, early_stopping=False, epsilon=1e-08,\n",
       "       hidden_layer_sizes=(60, 60, 60), learning_rate='constant',\n",
       "       learning_rate_init=0.001, max_iter=50000, momentum=0.9,\n",
       "       nesterovs_momentum=True, power_t=0.5, random_state=None,\n",
       "       shuffle=True, solver='adam', tol=1e-06, validation_fraction=0.1,\n",
       "       verbose=True, warm_start=False)"
      ]
     },
     "execution_count": 148,
     "metadata": {},
     "output_type": "execute_result"
    }
   ],
   "source": [
    "mlp = MLPClassifier(hidden_layer_sizes=(60,60,60),activation='logistic',max_iter=50000,verbose=True,tol=0.000001)\n",
    "mlp.fit(X_scaled,labels)"
   ]
  },
  {
   "cell_type": "code",
   "execution_count": 149,
   "metadata": {},
   "outputs": [],
   "source": [
    "predict = mlp.predict(X_scaled)"
   ]
  },
  {
   "cell_type": "code",
   "execution_count": 150,
   "metadata": {},
   "outputs": [
    {
     "data": {
      "text/plain": [
       "array([0, 0, 0, 0, 0, 0, 0, 0, 0, 0, 0, 0, 0, 0, 0, 0, 0, 0, 0, 0, 0, 0,\n",
       "       0, 0, 0, 0, 0, 0, 0, 0, 0, 0, 0, 0, 0, 0, 0, 0, 0, 0, 0, 0, 0, 0,\n",
       "       0, 0, 0, 0, 0, 0, 0, 0, 0, 0, 0, 0, 0, 0, 0, 0, 0, 0, 0, 0, 0, 0,\n",
       "       0, 0, 0, 0, 0, 0, 0, 0, 0, 0, 0, 0, 0, 0, 1, 1, 1, 1, 1, 1, 1, 1,\n",
       "       1, 1, 1, 1, 1, 1, 1, 1, 1, 1, 1, 1, 1, 1, 1, 1, 1, 1, 1, 1, 1, 1,\n",
       "       1, 1, 1, 1, 1, 1, 1, 1, 1, 1, 1, 1, 1, 1, 1, 1, 1, 1, 1, 1, 1, 1,\n",
       "       1, 1, 1, 1, 1, 1, 1, 1, 1, 1, 1, 1, 1, 1, 1, 1, 1, 1, 1, 1, 1, 1,\n",
       "       1, 1, 1, 1, 1, 1, 2, 2, 2, 2, 2, 2, 2, 2, 2, 2, 2, 2, 2, 2, 2, 2,\n",
       "       2, 2, 2, 2, 2, 2, 2, 2, 2, 2, 2, 2, 2, 2, 2, 2, 2, 2, 2, 2, 2, 2,\n",
       "       2, 2, 2, 2, 2, 2, 2, 2, 2, 2, 2, 2, 2, 2, 2, 2, 2, 2, 2, 2, 2, 2,\n",
       "       2, 2, 2, 2, 2, 9, 2, 2, 2, 2, 2, 2, 2, 2, 2, 2, 2, 2, 2, 2, 3, 3,\n",
       "       3, 3, 3, 3, 3, 3, 3, 3, 3, 3, 3, 3, 3, 3, 3, 3, 3, 3, 3, 3, 3, 3,\n",
       "       3, 3, 3, 3, 3, 3, 3, 3, 3, 3, 3, 3, 3, 3, 3, 3, 3, 3, 3, 3, 3, 3,\n",
       "       3, 3, 3, 3, 3, 3, 3, 3, 3, 3, 3, 3, 3, 3, 3, 3, 3, 3, 3, 3, 3, 3,\n",
       "       3, 3, 3, 3, 3, 3, 3, 3, 3, 3, 3, 3, 4, 4, 4, 4, 4, 4, 4, 4, 4, 4,\n",
       "       4, 4, 4, 4, 4, 4, 4, 4, 4, 4, 4, 4, 4, 4, 4, 4, 4, 4, 4, 4, 4, 4,\n",
       "       4, 4, 4, 4, 4, 4, 4, 4, 4, 4, 4, 4, 4, 4, 4, 4, 4, 4, 4, 4, 4, 4,\n",
       "       4, 4, 4, 4, 4, 4, 4, 4, 4, 4, 4, 4, 4, 4, 4, 4, 4, 4, 4, 4, 4, 4,\n",
       "       4, 4, 4, 4, 5, 5, 5, 5, 5, 5, 5, 5, 5, 5, 5, 5, 5, 5, 5, 5, 5, 5,\n",
       "       5, 5, 5, 5, 5, 5, 5, 5, 5, 5, 5, 5, 5, 5, 5, 5, 5, 5, 5, 5, 5, 5,\n",
       "       5, 5, 5, 5, 5, 5, 5, 5, 5, 5, 5, 5, 5, 5, 5, 5, 5, 5, 5, 5, 5, 5,\n",
       "       5, 5, 5, 5, 5, 5, 5, 5, 5, 5, 5, 5, 5, 5, 5, 5, 5, 5, 6, 6, 6, 6,\n",
       "       6, 6, 6, 6, 6, 6, 6, 6, 6, 6, 6, 6, 6, 6, 6, 6, 6, 6, 6, 6, 6, 6,\n",
       "       6, 6, 6, 6, 6, 6, 6, 6, 6, 6, 6, 6, 6, 6, 6, 6, 6, 6, 6, 6, 6, 6,\n",
       "       6, 6, 6, 6, 6, 6, 6, 6, 6, 6, 6, 6, 6, 6, 6, 6, 6, 6, 6, 6, 6, 6,\n",
       "       6, 6, 6, 6, 6, 6, 6, 6, 6, 6, 7, 7, 7, 7, 7, 7, 7, 7, 7, 7, 7, 7,\n",
       "       7, 7, 7, 7, 7, 7, 7, 7, 7, 7, 7, 7, 7, 7, 7, 7, 7, 7, 7, 7, 7, 7,\n",
       "       7, 7, 7, 7, 7, 7, 7, 7, 7, 7, 7, 7, 7, 7, 7, 7, 7, 7, 7, 7, 7, 7,\n",
       "       7, 7, 7, 7, 7, 7, 7, 7, 7, 7, 7, 7, 7, 7, 7, 7, 7, 7, 7, 7, 7, 7,\n",
       "       7, 7, 8, 8, 8, 8, 8, 8, 8, 8, 8, 8, 8, 8, 8, 8, 8, 8, 8, 8, 8, 8,\n",
       "       8, 8, 8, 8, 8, 8, 8, 8, 8, 8, 8, 8, 8, 8, 8, 8, 8, 8, 8, 8, 8, 8,\n",
       "       8, 8, 8, 8, 8, 8, 8, 8, 8, 8, 8, 8, 8, 8, 8, 8, 8, 8, 8, 8, 8, 8,\n",
       "       8, 8, 8, 8, 8, 8, 8, 8, 8, 8, 8, 8, 8, 8, 8, 8, 9, 9, 9, 9, 9, 9,\n",
       "       9, 9, 9, 9, 9, 9, 9, 9, 9, 9, 9, 9, 9, 9, 9, 9, 9, 9, 9, 9, 9, 9,\n",
       "       9, 9, 9, 9, 9, 9, 9, 9, 9, 9, 9, 9, 9, 9, 9, 9, 9, 9, 9, 9, 9, 9,\n",
       "       9, 9, 9, 9, 9, 9, 9, 9, 9, 9, 9, 9, 9, 9, 9, 9, 9, 9, 9, 9, 9, 9,\n",
       "       9, 9, 9, 9, 9, 9, 9, 9])"
      ]
     },
     "execution_count": 150,
     "metadata": {},
     "output_type": "execute_result"
    }
   ],
   "source": [
    "predict"
   ]
  },
  {
   "cell_type": "code",
   "execution_count": 151,
   "metadata": {},
   "outputs": [
    {
     "data": {
      "text/plain": [
       "['xlcaptcha.pkl']"
      ]
     },
     "execution_count": 151,
     "metadata": {},
     "output_type": "execute_result"
    }
   ],
   "source": [
    "from sklearn.externals import joblib\n",
    "joblib.dump(mlp,'xlcaptcha.pkl')"
   ]
  },
  {
   "cell_type": "code",
   "execution_count": 110,
   "metadata": {
    "scrolled": true
   },
   "outputs": [],
   "source": [
    "test_data=[]\n",
    "file=input_folder.format(3)+'\\\\0.jpg'\n",
    "# file='0.jpg'\n",
    "img = Image.open(file).convert('1')"
   ]
  },
  {
   "cell_type": "code",
   "execution_count": 111,
   "metadata": {},
   "outputs": [
    {
     "data": {
      "text/plain": [
       "<matplotlib.image.AxesImage at 0x1a23bf60>"
      ]
     },
     "execution_count": 111,
     "metadata": {},
     "output_type": "execute_result"
    },
    {
     "data": {
      "image/png": "[encoded data removed]",
      "text/plain": [
       "<Figure size 432x288 with 1 Axes>"
      ]
     },
     "metadata": {},
     "output_type": "display_data"
    }
   ],
   "source": [
    "plt.imshow(img)"
   ]
  },
  {
   "cell_type": "code",
   "execution_count": 112,
   "metadata": {},
   "outputs": [],
   "source": [
    "test_data.append([pixel for pixel in iter(img.getdata())])"
   ]
  },
  {
   "cell_type": "code",
   "execution_count": 113,
   "metadata": {},
   "outputs": [
    {
     "data": {
      "text/plain": [
       "[[255,\n",
       "  255,\n",
       "  255,\n",
       "  255,\n",
       "  255,\n",
       "  255,\n",
       "  255,\n",
       "  255,\n",
       "  255,\n",
       "  255,\n",
       "  255,\n",
       "  255,\n",
       "  255,\n",
       "  255,\n",
       "  255,\n",
       "  255,\n",
       "  255,\n",
       "  0,\n",
       "  0,\n",
       "  0,\n",
       "  0,\n",
       "  0,\n",
       "  0,\n",
       "  0,\n",
       "  0,\n",
       "  0,\n",
       "  255,\n",
       "  255,\n",
       "  255,\n",
       "  255,\n",
       "  255,\n",
       "  0,\n",
       "  0,\n",
       "  255,\n",
       "  255,\n",
       "  0,\n",
       "  255,\n",
       "  255,\n",
       "  0,\n",
       "  0,\n",
       "  0,\n",
       "  0,\n",
       "  0,\n",
       "  255,\n",
       "  255,\n",
       "  255,\n",
       "  255,\n",
       "  255,\n",
       "  255,\n",
       "  255,\n",
       "  255,\n",
       "  255,\n",
       "  255,\n",
       "  255,\n",
       "  0,\n",
       "  0,\n",
       "  0,\n",
       "  0,\n",
       "  0,\n",
       "  255,\n",
       "  255,\n",
       "  255,\n",
       "  255,\n",
       "  255,\n",
       "  255,\n",
       "  255,\n",
       "  255,\n",
       "  0,\n",
       "  0,\n",
       "  0,\n",
       "  0,\n",
       "  0,\n",
       "  0,\n",
       "  255,\n",
       "  255,\n",
       "  255,\n",
       "  255,\n",
       "  255,\n",
       "  0,\n",
       "  0,\n",
       "  0,\n",
       "  0,\n",
       "  0,\n",
       "  0,\n",
       "  0,\n",
       "  255,\n",
       "  255,\n",
       "  255,\n",
       "  255,\n",
       "  255,\n",
       "  255,\n",
       "  255,\n",
       "  255,\n",
       "  255,\n",
       "  0,\n",
       "  255,\n",
       "  255,\n",
       "  0,\n",
       "  0,\n",
       "  0,\n",
       "  0,\n",
       "  0,\n",
       "  255,\n",
       "  255,\n",
       "  255,\n",
       "  255,\n",
       "  255,\n",
       "  255,\n",
       "  255,\n",
       "  255,\n",
       "  255,\n",
       "  255,\n",
       "  255,\n",
       "  255,\n",
       "  0,\n",
       "  0,\n",
       "  0,\n",
       "  0,\n",
       "  255,\n",
       "  255,\n",
       "  255,\n",
       "  255,\n",
       "  255,\n",
       "  255,\n",
       "  255,\n",
       "  255,\n",
       "  255,\n",
       "  255,\n",
       "  255,\n",
       "  0,\n",
       "  0,\n",
       "  0,\n",
       "  0,\n",
       "  0,\n",
       "  255,\n",
       "  255,\n",
       "  0,\n",
       "  0,\n",
       "  255,\n",
       "  0,\n",
       "  255,\n",
       "  0,\n",
       "  0,\n",
       "  0,\n",
       "  0,\n",
       "  0,\n",
       "  0,\n",
       "  255,\n",
       "  255,\n",
       "  255,\n",
       "  255,\n",
       "  255,\n",
       "  255,\n",
       "  0,\n",
       "  0,\n",
       "  0,\n",
       "  0,\n",
       "  0,\n",
       "  0,\n",
       "  0,\n",
       "  0,\n",
       "  255,\n",
       "  255,\n",
       "  255,\n",
       "  255,\n",
       "  255,\n",
       "  255,\n",
       "  255,\n",
       "  255,\n",
       "  255,\n",
       "  255,\n",
       "  255,\n",
       "  255,\n",
       "  255,\n",
       "  255,\n",
       "  255,\n",
       "  255,\n",
       "  255,\n",
       "  255,\n",
       "  255]]"
      ]
     },
     "execution_count": 113,
     "metadata": {},
     "output_type": "execute_result"
    }
   ],
   "source": [
    "test_data"
   ]
  },
  {
   "cell_type": "code",
   "execution_count": 114,
   "metadata": {},
   "outputs": [],
   "source": [
    "# scaler = StandardScaler()\n",
    "# scaler.fit(test_data)\n",
    "X_test_scaled=scaler.transform(test_data)"
   ]
  },
  {
   "cell_type": "code",
   "execution_count": 115,
   "metadata": {},
   "outputs": [],
   "source": [
    "y_predict=mlp.predict(X_test_scaled)"
   ]
  },
  {
   "cell_type": "code",
   "execution_count": 116,
   "metadata": {},
   "outputs": [
    {
     "data": {
      "text/plain": [
       "2"
      ]
     },
     "execution_count": 116,
     "metadata": {},
     "output_type": "execute_result"
    }
   ],
   "source": [
    "y_predict[0]"
   ]
  },
  {
   "cell_type": "code",
   "execution_count": 37,
   "metadata": {},
   "outputs": [
    {
     "data": {
      "text/plain": [
       "['.ipynb_checkpoints',\n",
       " '0.jpg',\n",
       " '1.jpg',\n",
       " '100-crop-2.gif',\n",
       " '1009-0.jpg',\n",
       " '1009-1.jpg',\n",
       " '1009-2.jpg',\n",
       " '1009-3.jpg',\n",
       " '1009-4.jpg',\n",
       " '10091-0.jpg',\n",
       " '10091-1.jpg',\n",
       " '10091-2.jpg',\n",
       " '10091-3.jpg',\n",
       " '2.jpg',\n",
       " '2998.gif',\n",
       " '2999.gif',\n",
       " '3.jpg',\n",
       " '5.jpg',\n",
       " 'base_detect.ipynb',\n",
       " 'basic_usage.py',\n",
       " 'contour.jpg',\n",
       " 'cv2_demo.ipynb',\n",
       " 'data',\n",
       " 'forest.jpg',\n",
       " 'image_base.ipynb',\n",
       " 'image_detect.ipynb',\n",
       " 'image_low.py',\n",
       " 'img.pkl',\n",
       " 'machine_learning_yanzhenma.ipynb',\n",
       " 'opencv_demo.ipynb',\n",
       " 'piaoxian1538026942.png',\n",
       " 'piaoxian1538027109.png',\n",
       " 'pytesseract_usage.ipynb',\n",
       " 'retan.jpg',\n",
       " 'shibiecuowu1537546979.png',\n",
       " 'testcontours1.bmp',\n",
       " 'test_0.jpg',\n",
       " 'test_144.jpg',\n",
       " 'test_43.jpg',\n",
       " 'timg.jpg',\n",
       " 'tw_photo.jpg',\n",
       " 'word.JPG',\n",
       " 'xl',\n",
       " 'xlcaptcha.pkl',\n",
       " 'xl_code.py',\n",
       " 'xl_yanzhenma.ipynb',\n",
       " 'yang_zheng_ma.py',\n",
       " 'yanzhengma.py',\n",
       " 'yanzhengma_case1.ipynb',\n",
       " '_tessdata',\n",
       " '_tesseract.exe']"
      ]
     },
     "execution_count": 37,
     "metadata": {},
     "output_type": "execute_result"
    }
   ],
   "source": [
    "os.listdir('.')"
   ]
  }
 ],
 "metadata": {
  "kernelspec": {
   "display_name": "Python 3",
   "language": "python",
   "name": "python3"
  },
  "language_info": {
   "codemirror_mode": {
    "name": "ipython",
    "version": 3
   },
   "file_extension": ".py",
   "mimetype": "text/x-python",
   "name": "python",
   "nbconvert_exporter": "python",
   "pygments_lexer": "ipython3",
   "version": "3.6.2"
  }
 },
 "nbformat": 4,
 "nbformat_minor": 2
}
