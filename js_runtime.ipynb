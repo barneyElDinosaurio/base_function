{
 "cells": [
  {
   "cell_type": "code",
   "execution_count": 10,
   "metadata": {},
   "outputs": [],
   "source": [
    "import execjs\n",
    "import json\n",
    "import codecs"
   ]
  },
  {
   "cell_type": "code",
   "execution_count": 15,
   "metadata": {},
   "outputs": [],
   "source": [
    "with open('flash.js',encoding='gbk') as f:\n",
    "    content =f.read()"
   ]
  },
  {
   "cell_type": "code",
   "execution_count": 17,
   "metadata": {},
   "outputs": [
    {
     "data": {
      "text/plain": [
       "'var url = \"\";\\nfunction setURL(ip){url = \"http://\"+ip+\":89/cookie/flashcookie.html\";}\\nfunction loadPage(){location.replace(location.href.split(\"#\")[0]);}\\n\\n////add by yxf@2014/08/27\\n/**\\n *@描  述：增加UA判断，排除移动终端上报cookies值和时间间隔值\\n *@返回值：\\n *\\t\\ttrue, 允许上报； false，不允许上报\\n */\\nfunction IsCanReport2Ac(){\\n\\t\\n\\tvar strUseAgent = navigator.userAgent.toLowerCase();\\n\\t\\n\\t//非windows nt\\n\\tvar isWinNt = strUseAgent.indexOf(\"windows nt\") > -1;\\n\\tif (!isWinNt){\\treturn false;}\\n\\t\\n\\t//移动终端\\n\\tvar isMobile = strUseAgent.indexOf(\"mobile\") > -1;\\n\\tif (isMobile){\\treturn false;}\\n\\t\\n\\t//为Android\\n\\tvar isAndroid = strUseAgent.indexOf(\"android\") > -1;\\n\\tif (isAndroid){\\treturn false;}\\n\\t\\n\\t//为ios\\n\\tvar isIOS = !!strUseAgent.match(/\\\\(i[^;]+;( u;)? cpu.+mac os x/);\\n\\tif (isIOS){\\treturn false;}\\n\\t\\n\\t//为Symbian\\n\\tvar isSymbian = strUseAgent.indexOf(\"symbian\") > -1;\\n\\tif (isSymbian){\\treturn false;}\\n\\n\\t//为iPhone\\n\\tvar isIPhone = strUseAgent.indexOf(\"iphone\") > -1;\\n\\tif (isIPhone){\\treturn false;}\\n\\t\\n\\t//为ipad\\n\\tvar isIPad = strUseAgent.indexOf(\"ipad\") > -1;\\n\\tif (isIPad){ return false;}\\n\\t\\n\\t//为ipod\\n\\tvar isIPod = strUseAgent.indexOf(\"ipod\") > -1;\\n\\tif (isIPod){ return false;}\\n\\t\\n\\t//排除一些误判的app 特征字符串\\n\\tvar isInvalidAppPos = strUseAgent.search(/ baidubrowser\\\\/\\\\d/);//-- 百度一下客户端\\n\\tif (-1 != isInvalidAppPos){ return false;}\\n\\t\\n\\treturn true;\\n}\\n////end by yxf\\n\\n\\n// 写cookies\\nfunction setCookie(name,value)\\n{\\n    var Days = 30;\\n    var exp = new Date();\\n    exp.setTime(exp.getTime() + Days*24*60*60*1000);\\n    document.cookie = name + \"=\"+ escape (value) + \";expires=\" + exp.toGMTString();\\n}\\n\\n// 读取cookies\\nfunction getCookie(name)\\n{\\n    var arr,reg=new RegExp(\"(^| )\"+name+\"=([^;]*)(;|$)\");\\n \\n    if(arr=document.cookie.match(reg)){\\n\\t\\n\\t\\treturn (arr[2]);\\n\\t}else{\\n\\t\\n        return null;\\n\\t}\\n}\\n\\nfunction supFlash(cookie)\\n{\\t\\n\\tif (false === IsCanReport2Ac()){\\n\\t\\n\\t\\tloadPage();\\t\\t\\n\\t\\treturn;\\n\\t}\\n\\t\\n\\t// 获取本地cookie值\\n\\tvar td_cookie = getCookie(\"td_cookie\");\\n\\tif (td_cookie == cookie){\\n\\t\\n\\t\\tloadPage();\\t\\t\\n\\t\\treturn;\\n\\t}\\n\\tsetCookie(\"td_cookie\", cookie);\\n\\t\\n\\tvar flash = 0;\\n\\tvar judgeIE = !-[1,];\\n\\tvar ua = navigator.userAgent.toLowerCase();\\n\\tif (ua.indexOf(\"taobrowser\") > 0 || ua.indexOf(\"lbbrowser\") > 0) {\\n\\t\\n\\t\\tloadPage();\\n\\t\\treturn;\\n\\t}\\n\\tvar isIE = judgeIE || ua.indexOf(\"msie\") > 0 || ua.indexOf(\"trident/7.0\") > 0;\\n\\tif(isIE){\\n\\t\\ttry{\\n\\t\\t\\tvar swf1 = new ActiveXObject(\\'ShockwaveFlash.ShockwaveFlash\\');\\n\\t\\t\\tflash = 1;\\n\\t\\t}\\n\\t\\tcatch(e){\\n\\t\\t\\tflash = 0;\\n\\t\\t}\\n\\t}\\n\\telse {\\n\\t\\ttry{\\n\\t\\t\\tvar swf2 = navigator.plugins[\\'Shockwave Flash\\'];\\n\\t\\t\\tif(swf2 == undefined){\\n\\t\\t\\t\\tflash = 0;\\n\\t\\t\\t}\\n\\t\\t\\telse {\\n\\t\\t\\t\\tflash = 1;\\n\\t\\t\\t}\\n\\t\\t}\\n\\t\\tcatch(e){\\n\\t\\t\\tflash = 0;\\n\\t\\t}\\n\\t}\\n\\n\\tif(flash === 0)\\n\\t{\\n\\t\\tloadPage();\\n\\t\\treturn;\\n\\t}\\t\\n}\\n\\n// 配置排除列表\\nvar excludeList = new Array(\"ADMUI3Lg\",\"ADMUI3Sm\",\"Photoshop Large\",\"Photoshop Small\");\\n\\nvar makeCRCTable = function(){\\n    var c;\\n    var crcTable = [];\\n    for(var n =0; n < 256; n++){\\n        c = n;\\n        for(var k =0; k < 8; k++){\\n            c = ((c&1) ? (0xEDB88320 ^ (c >>> 1)) : (c >>> 1));\\n        }\\n        crcTable[n] = c;\\n    }\\n    return crcTable;\\n}\\n\\nvar crc32 = function(str) {\\n    var crcTable = window.crcTable || (window.crcTable = makeCRCTable());\\n    var crc = 0 ^ (-1);\\n\\n    for (var i = 0; i < str.length; i++ ) {\\n        crc = (crc >>> 8) ^ crcTable[(crc ^ str.charCodeAt(i)) & 0xFF];\\n    }\\n\\n    return (crc ^ (-1)) >>> 0;\\n};\\n\\nfunction isArray(value)\\n{\\n\\treturn value && \\n\\t\\t\\ttypeof value === \\'object\\' &&\\n\\t\\t\\ttypeof value.length === \\'number\\' &&\\n\\t\\t\\t!(value.propertyIsEnumerable(\\'length\\'));\\n}\\n\\nfunction removeExcludeFont(fontArr, excludeList)\\n{\\n\\tif (!excludeList.length)\\n\\t{\\n\\t\\treturn fontArr;\\n\\t}\\n\\t\\n\\tvar flag = 0;\\n\\tvar resArr = new Array();\\n\\tfor (var i = 0; i < fontArr.length; ++i)\\n\\t{\\n\\t\\tflag = 0;\\n\\t\\tfor (var j = 0; j < excludeList.length; ++j)\\n\\t\\t{\\n\\t\\t\\tif (fontArr[i] == excludeList[j])\\n\\t\\t\\t{ \\n\\t\\t\\t\\tflag = 1;\\n\\t\\t\\t\\tbreak;\\n\\t\\t\\t}\\n\\t\\t\\tif (fontArr[i].match(/\\\\.tmp/))\\n\\t\\t\\t{\\n\\t\\t\\t\\tflag = 1;\\n\\t\\t\\t\\tbreak;\\n\\t\\t\\t}\\n\\t\\t}\\n\\t\\tif (!flag)\\n\\t\\t{\\n\\t\\t\\tresArr.push(fontArr[i])\\n\\t\\t}\\n\\t}\\n\\t\\n\\tresArr.sort();\\n\\treturn resArr;\\n}\\n\\nfunction jsSetCookie(fontArr, manu, vers, os)\\n{\\n\\tif(manu == \"\" || !isArray(fontArr)){\\n\\t\\tloadPage();\\n\\t\\treturn;\\n\\t}\\n\\t\\n\\tif(url == \"\"){\\n\\t\\tloadPage();\\n\\t\\treturn;\\n\\t}\\n\\t\\n\\tvar fontStr = removeExcludeFont(fontArr, excludeList).join(\"|\\\\n\");\\n\\tvar font_param = \"manu_txt=\" + manu +\\n\\t\\t\\t\\t \"&manu_crc=\" + crc32(manu).toString() + \\n\\t\\t\\t\\t \"&version=\" + vers\\t+\\n\\t\\t\\t\\t \"&font_crc=\" + crc32(fontStr).toString() + \\n\\t\\t\\t\\t \"&os=\" + os;\\n\\t\\t\\t\\t\\n\\tvar script = document.createElement(\"script\");\\n\\tscript.type = \"text/javascript\";\\n\\tvar done = false;\\n\\tscript.onload = script.onreadystatechange = function(){\\n\\t\\tif ( !done && (!this.readyState ||\\n\\t\\t\\t\\tthis.readyState === \"loaded\" || this.readyState === \"complete\") ) {\\n\\t\\t\\tdone = true;\\n\\t\\t\\tthis.onload = this.onreadystatechange = null;\\n\\t\\t\\tloadPage();\\n\\t\\t\\treturn;\\n\\t\\t}\\n\\t};\\n\\tscript.src = url +\"?\"+font_param+\"&\"+Math.random();\\n\\tdocument.getElementsByTagName(\"head\")[0].appendChild(script);\\n}\\n'"
      ]
     },
     "execution_count": 17,
     "metadata": {},
     "output_type": "execute_result"
    }
   ],
   "source": [
    "content"
   ]
  },
  {
   "cell_type": "code",
   "execution_count": 18,
   "metadata": {},
   "outputs": [],
   "source": [
    "ctx = execjs.compile(content)"
   ]
  },
  {
   "cell_type": "code",
   "execution_count": 19,
   "metadata": {},
   "outputs": [],
   "source": [
    "ret = ctx.call('makeCRCTable')"
   ]
  },
  {
   "cell_type": "code",
   "execution_count": 20,
   "metadata": {},
   "outputs": [
    {
     "data": {
      "text/plain": [
       "[0,\n",
       " 1996959894,\n",
       " -301047508,\n",
       " -1727442502,\n",
       " 124634137,\n",
       " 1886057615,\n",
       " -379345611,\n",
       " -1637575261,\n",
       " 249268274,\n",
       " 2044508324,\n",
       " -522852066,\n",
       " -1747789432,\n",
       " 162941995,\n",
       " 2125561021,\n",
       " -407360249,\n",
       " -1866523247,\n",
       " 498536548,\n",
       " 1789927666,\n",
       " -205950648,\n",
       " -2067906082,\n",
       " 450548861,\n",
       " 1843258603,\n",
       " -187386543,\n",
       " -2083289657,\n",
       " 325883990,\n",
       " 1684777152,\n",
       " -43845254,\n",
       " -1973040660,\n",
       " 335633487,\n",
       " 1661365465,\n",
       " -99664541,\n",
       " -1928851979,\n",
       " 997073096,\n",
       " 1281953886,\n",
       " -715111964,\n",
       " -1570279054,\n",
       " 1006888145,\n",
       " 1258607687,\n",
       " -770865667,\n",
       " -1526024853,\n",
       " 901097722,\n",
       " 1119000684,\n",
       " -608450090,\n",
       " -1396901568,\n",
       " 853044451,\n",
       " 1172266101,\n",
       " -589951537,\n",
       " -1412350631,\n",
       " 651767980,\n",
       " 1373503546,\n",
       " -925412992,\n",
       " -1076862698,\n",
       " 565507253,\n",
       " 1454621731,\n",
       " -809855591,\n",
       " -1195530993,\n",
       " 671266974,\n",
       " 1594198024,\n",
       " -972236366,\n",
       " -1324619484,\n",
       " 795835527,\n",
       " 1483230225,\n",
       " -1050600021,\n",
       " -1234817731,\n",
       " 1994146192,\n",
       " 31158534,\n",
       " -1731059524,\n",
       " -271249366,\n",
       " 1907459465,\n",
       " 112637215,\n",
       " -1614814043,\n",
       " -390540237,\n",
       " 2013776290,\n",
       " 251722036,\n",
       " -1777751922,\n",
       " -519137256,\n",
       " 2137656763,\n",
       " 141376813,\n",
       " -1855689577,\n",
       " -429695999,\n",
       " 1802195444,\n",
       " 476864866,\n",
       " -2056965928,\n",
       " -228458418,\n",
       " 1812370925,\n",
       " 453092731,\n",
       " -2113342271,\n",
       " -183516073,\n",
       " 1706088902,\n",
       " 314042704,\n",
       " -1950435094,\n",
       " -54949764,\n",
       " 1658658271,\n",
       " 366619977,\n",
       " -1932296973,\n",
       " -69972891,\n",
       " 1303535960,\n",
       " 984961486,\n",
       " -1547960204,\n",
       " -725929758,\n",
       " 1256170817,\n",
       " 1037604311,\n",
       " -1529756563,\n",
       " -740887301,\n",
       " 1131014506,\n",
       " 879679996,\n",
       " -1385723834,\n",
       " -631195440,\n",
       " 1141124467,\n",
       " 855842277,\n",
       " -1442165665,\n",
       " -586318647,\n",
       " 1342533948,\n",
       " 654459306,\n",
       " -1106571248,\n",
       " -921952122,\n",
       " 1466479909,\n",
       " 544179635,\n",
       " -1184443383,\n",
       " -832445281,\n",
       " 1591671054,\n",
       " 702138776,\n",
       " -1328506846,\n",
       " -942167884,\n",
       " 1504918807,\n",
       " 783551873,\n",
       " -1212326853,\n",
       " -1061524307,\n",
       " -306674912,\n",
       " -1698712650,\n",
       " 62317068,\n",
       " 1957810842,\n",
       " -355121351,\n",
       " -1647151185,\n",
       " 81470997,\n",
       " 1943803523,\n",
       " -480048366,\n",
       " -1805370492,\n",
       " 225274430,\n",
       " 2053790376,\n",
       " -468791541,\n",
       " -1828061283,\n",
       " 167816743,\n",
       " 2097651377,\n",
       " -267414716,\n",
       " -2029476910,\n",
       " 503444072,\n",
       " 1762050814,\n",
       " -144550051,\n",
       " -2140837941,\n",
       " 426522225,\n",
       " 1852507879,\n",
       " -19653770,\n",
       " -1982649376,\n",
       " 282753626,\n",
       " 1742555852,\n",
       " -105259153,\n",
       " -1900089351,\n",
       " 397917763,\n",
       " 1622183637,\n",
       " -690576408,\n",
       " -1580100738,\n",
       " 953729732,\n",
       " 1340076626,\n",
       " -776247311,\n",
       " -1497606297,\n",
       " 1068828381,\n",
       " 1219638859,\n",
       " -670225446,\n",
       " -1358292148,\n",
       " 906185462,\n",
       " 1090812512,\n",
       " -547295293,\n",
       " -1469587627,\n",
       " 829329135,\n",
       " 1181335161,\n",
       " -882789492,\n",
       " -1134132454,\n",
       " 628085408,\n",
       " 1382605366,\n",
       " -871598187,\n",
       " -1156888829,\n",
       " 570562233,\n",
       " 1426400815,\n",
       " -977650754,\n",
       " -1296233688,\n",
       " 733239954,\n",
       " 1555261956,\n",
       " -1026031705,\n",
       " -1244606671,\n",
       " 752459403,\n",
       " 1541320221,\n",
       " -1687895376,\n",
       " -328994266,\n",
       " 1969922972,\n",
       " 40735498,\n",
       " -1677130071,\n",
       " -351390145,\n",
       " 1913087877,\n",
       " 83908371,\n",
       " -1782625662,\n",
       " -491226604,\n",
       " 2075208622,\n",
       " 213261112,\n",
       " -1831694693,\n",
       " -438977011,\n",
       " 2094854071,\n",
       " 198958881,\n",
       " -2032938284,\n",
       " -237706686,\n",
       " 1759359992,\n",
       " 534414190,\n",
       " -2118248755,\n",
       " -155638181,\n",
       " 1873836001,\n",
       " 414664567,\n",
       " -2012718362,\n",
       " -15766928,\n",
       " 1711684554,\n",
       " 285281116,\n",
       " -1889165569,\n",
       " -127750551,\n",
       " 1634467795,\n",
       " 376229701,\n",
       " -1609899400,\n",
       " -686959890,\n",
       " 1308918612,\n",
       " 956543938,\n",
       " -1486412191,\n",
       " -799009033,\n",
       " 1231636301,\n",
       " 1047427035,\n",
       " -1362007478,\n",
       " -640263460,\n",
       " 1088359270,\n",
       " 936918000,\n",
       " -1447252397,\n",
       " -558129467,\n",
       " 1202900863,\n",
       " 817233897,\n",
       " -1111625188,\n",
       " -893730166,\n",
       " 1404277552,\n",
       " 615818150,\n",
       " -1160759803,\n",
       " -841546093,\n",
       " 1423857449,\n",
       " 601450431,\n",
       " -1285129682,\n",
       " -1000256840,\n",
       " 1567103746,\n",
       " 711928724,\n",
       " -1274298825,\n",
       " -1022587231,\n",
       " 1510334235,\n",
       " 755167117]"
      ]
     },
     "execution_count": 20,
     "metadata": {},
     "output_type": "execute_result"
    }
   ],
   "source": [
    "ret"
   ]
  },
  {
   "cell_type": "code",
   "execution_count": 21,
   "metadata": {
    "scrolled": true
   },
   "outputs": [
    {
     "ename": "ProgramError",
     "evalue": "ReferenceError: window is not defined",
     "output_type": "error",
     "traceback": [
      "\u001b[1;31m---------------------------------------------------------------------------\u001b[0m",
      "\u001b[1;31mProgramError\u001b[0m                              Traceback (most recent call last)",
      "\u001b[1;32m<ipython-input-21-56b1c6ea5078>\u001b[0m in \u001b[0;36m<module>\u001b[1;34m()\u001b[0m\n\u001b[1;32m----> 1\u001b[1;33m \u001b[0mret1\u001b[0m\u001b[1;33m=\u001b[0m \u001b[0mctx\u001b[0m\u001b[1;33m.\u001b[0m\u001b[0mcall\u001b[0m\u001b[1;33m(\u001b[0m\u001b[1;34m'crc32'\u001b[0m\u001b[1;33m,\u001b[0m\u001b[1;34m'1'\u001b[0m\u001b[1;33m)\u001b[0m\u001b[1;33m\u001b[0m\u001b[0m\n\u001b[0m\u001b[0;32m      2\u001b[0m \u001b[0mret1\u001b[0m\u001b[1;33m\u001b[0m\u001b[0m\n",
      "\u001b[1;32mc:\\python3\\lib\\site-packages\\execjs\\_abstract_runtime_context.py\u001b[0m in \u001b[0;36mcall\u001b[1;34m(self, name, *args)\u001b[0m\n\u001b[0;32m     35\u001b[0m         \u001b[1;32mif\u001b[0m \u001b[1;32mnot\u001b[0m \u001b[0mself\u001b[0m\u001b[1;33m.\u001b[0m\u001b[0mis_available\u001b[0m\u001b[1;33m(\u001b[0m\u001b[1;33m)\u001b[0m\u001b[1;33m:\u001b[0m\u001b[1;33m\u001b[0m\u001b[0m\n\u001b[0;32m     36\u001b[0m             \u001b[1;32mraise\u001b[0m \u001b[0mexecjs\u001b[0m\u001b[1;33m.\u001b[0m\u001b[0mRuntimeUnavailableError\u001b[0m\u001b[1;33m\u001b[0m\u001b[0m\n\u001b[1;32m---> 37\u001b[1;33m         \u001b[1;32mreturn\u001b[0m \u001b[0mself\u001b[0m\u001b[1;33m.\u001b[0m\u001b[0m_call\u001b[0m\u001b[1;33m(\u001b[0m\u001b[0mname\u001b[0m\u001b[1;33m,\u001b[0m \u001b[1;33m*\u001b[0m\u001b[0margs\u001b[0m\u001b[1;33m)\u001b[0m\u001b[1;33m\u001b[0m\u001b[0m\n\u001b[0m\u001b[0;32m     38\u001b[0m \u001b[1;33m\u001b[0m\u001b[0m\n\u001b[0;32m     39\u001b[0m     \u001b[1;33m@\u001b[0m\u001b[0mabstractmethod\u001b[0m\u001b[1;33m\u001b[0m\u001b[0m\n",
      "\u001b[1;32mc:\\python3\\lib\\site-packages\\execjs\\_external_runtime.py\u001b[0m in \u001b[0;36m_call\u001b[1;34m(self, identifier, *args)\u001b[0m\n\u001b[0;32m     90\u001b[0m         \u001b[1;32mdef\u001b[0m \u001b[0m_call\u001b[0m\u001b[1;33m(\u001b[0m\u001b[0mself\u001b[0m\u001b[1;33m,\u001b[0m \u001b[0midentifier\u001b[0m\u001b[1;33m,\u001b[0m \u001b[1;33m*\u001b[0m\u001b[0margs\u001b[0m\u001b[1;33m)\u001b[0m\u001b[1;33m:\u001b[0m\u001b[1;33m\u001b[0m\u001b[0m\n\u001b[0;32m     91\u001b[0m             \u001b[0margs\u001b[0m \u001b[1;33m=\u001b[0m \u001b[0mjson\u001b[0m\u001b[1;33m.\u001b[0m\u001b[0mdumps\u001b[0m\u001b[1;33m(\u001b[0m\u001b[0margs\u001b[0m\u001b[1;33m)\u001b[0m\u001b[1;33m\u001b[0m\u001b[0m\n\u001b[1;32m---> 92\u001b[1;33m             \u001b[1;32mreturn\u001b[0m \u001b[0mself\u001b[0m\u001b[1;33m.\u001b[0m\u001b[0m_eval\u001b[0m\u001b[1;33m(\u001b[0m\u001b[1;34m\"{identifier}.apply(this, {args})\"\u001b[0m\u001b[1;33m.\u001b[0m\u001b[0mformat\u001b[0m\u001b[1;33m(\u001b[0m\u001b[0midentifier\u001b[0m\u001b[1;33m=\u001b[0m\u001b[0midentifier\u001b[0m\u001b[1;33m,\u001b[0m \u001b[0margs\u001b[0m\u001b[1;33m=\u001b[0m\u001b[0margs\u001b[0m\u001b[1;33m)\u001b[0m\u001b[1;33m)\u001b[0m\u001b[1;33m\u001b[0m\u001b[0m\n\u001b[0m\u001b[0;32m     93\u001b[0m \u001b[1;33m\u001b[0m\u001b[0m\n\u001b[0;32m     94\u001b[0m         \u001b[1;32mdef\u001b[0m \u001b[0m_exec_with_pipe\u001b[0m\u001b[1;33m(\u001b[0m\u001b[0mself\u001b[0m\u001b[1;33m,\u001b[0m \u001b[0msource\u001b[0m\u001b[1;33m)\u001b[0m\u001b[1;33m:\u001b[0m\u001b[1;33m\u001b[0m\u001b[0m\n",
      "\u001b[1;32mc:\\python3\\lib\\site-packages\\execjs\\_external_runtime.py\u001b[0m in \u001b[0;36m_eval\u001b[1;34m(self, source)\u001b[0m\n\u001b[0;32m     76\u001b[0m \u001b[1;33m\u001b[0m\u001b[0m\n\u001b[0;32m     77\u001b[0m             \u001b[0mcode\u001b[0m \u001b[1;33m=\u001b[0m \u001b[1;34m'return eval({data})'\u001b[0m\u001b[1;33m.\u001b[0m\u001b[0mformat\u001b[0m\u001b[1;33m(\u001b[0m\u001b[0mdata\u001b[0m\u001b[1;33m=\u001b[0m\u001b[0mdata\u001b[0m\u001b[1;33m)\u001b[0m\u001b[1;33m\u001b[0m\u001b[0m\n\u001b[1;32m---> 78\u001b[1;33m             \u001b[1;32mreturn\u001b[0m \u001b[0mself\u001b[0m\u001b[1;33m.\u001b[0m\u001b[0mexec_\u001b[0m\u001b[1;33m(\u001b[0m\u001b[0mcode\u001b[0m\u001b[1;33m)\u001b[0m\u001b[1;33m\u001b[0m\u001b[0m\n\u001b[0m\u001b[0;32m     79\u001b[0m \u001b[1;33m\u001b[0m\u001b[0m\n\u001b[0;32m     80\u001b[0m         \u001b[1;32mdef\u001b[0m \u001b[0m_exec_\u001b[0m\u001b[1;33m(\u001b[0m\u001b[0mself\u001b[0m\u001b[1;33m,\u001b[0m \u001b[0msource\u001b[0m\u001b[1;33m)\u001b[0m\u001b[1;33m:\u001b[0m\u001b[1;33m\u001b[0m\u001b[0m\n",
      "\u001b[1;32mc:\\python3\\lib\\site-packages\\execjs\\_abstract_runtime_context.py\u001b[0m in \u001b[0;36mexec_\u001b[1;34m(self, source)\u001b[0m\n\u001b[0;32m     16\u001b[0m         \u001b[1;32mif\u001b[0m \u001b[1;32mnot\u001b[0m \u001b[0mself\u001b[0m\u001b[1;33m.\u001b[0m\u001b[0mis_available\u001b[0m\u001b[1;33m(\u001b[0m\u001b[1;33m)\u001b[0m\u001b[1;33m:\u001b[0m\u001b[1;33m\u001b[0m\u001b[0m\n\u001b[0;32m     17\u001b[0m             \u001b[1;32mraise\u001b[0m \u001b[0mexecjs\u001b[0m\u001b[1;33m.\u001b[0m\u001b[0mRuntimeUnavailableError\u001b[0m\u001b[1;33m\u001b[0m\u001b[0m\n\u001b[1;32m---> 18\u001b[1;33m         \u001b[1;32mreturn\u001b[0m \u001b[0mself\u001b[0m\u001b[1;33m.\u001b[0m\u001b[0m_exec_\u001b[0m\u001b[1;33m(\u001b[0m\u001b[0msource\u001b[0m\u001b[1;33m)\u001b[0m\u001b[1;33m\u001b[0m\u001b[0m\n\u001b[0m\u001b[0;32m     19\u001b[0m \u001b[1;33m\u001b[0m\u001b[0m\n\u001b[0;32m     20\u001b[0m     \u001b[1;32mdef\u001b[0m \u001b[0meval\u001b[0m\u001b[1;33m(\u001b[0m\u001b[0mself\u001b[0m\u001b[1;33m,\u001b[0m \u001b[0msource\u001b[0m\u001b[1;33m)\u001b[0m\u001b[1;33m:\u001b[0m\u001b[1;33m\u001b[0m\u001b[0m\n",
      "\u001b[1;32mc:\\python3\\lib\\site-packages\\execjs\\_external_runtime.py\u001b[0m in \u001b[0;36m_exec_\u001b[1;34m(self, source)\u001b[0m\n\u001b[0;32m     86\u001b[0m             \u001b[1;32melse\u001b[0m\u001b[1;33m:\u001b[0m\u001b[1;33m\u001b[0m\u001b[0m\n\u001b[0;32m     87\u001b[0m                 \u001b[0moutput\u001b[0m \u001b[1;33m=\u001b[0m \u001b[0mself\u001b[0m\u001b[1;33m.\u001b[0m\u001b[0m_exec_with_pipe\u001b[0m\u001b[1;33m(\u001b[0m\u001b[0msource\u001b[0m\u001b[1;33m)\u001b[0m\u001b[1;33m\u001b[0m\u001b[0m\n\u001b[1;32m---> 88\u001b[1;33m             \u001b[1;32mreturn\u001b[0m \u001b[0mself\u001b[0m\u001b[1;33m.\u001b[0m\u001b[0m_extract_result\u001b[0m\u001b[1;33m(\u001b[0m\u001b[0moutput\u001b[0m\u001b[1;33m)\u001b[0m\u001b[1;33m\u001b[0m\u001b[0m\n\u001b[0m\u001b[0;32m     89\u001b[0m \u001b[1;33m\u001b[0m\u001b[0m\n\u001b[0;32m     90\u001b[0m         \u001b[1;32mdef\u001b[0m \u001b[0m_call\u001b[0m\u001b[1;33m(\u001b[0m\u001b[0mself\u001b[0m\u001b[1;33m,\u001b[0m \u001b[0midentifier\u001b[0m\u001b[1;33m,\u001b[0m \u001b[1;33m*\u001b[0m\u001b[0margs\u001b[0m\u001b[1;33m)\u001b[0m\u001b[1;33m:\u001b[0m\u001b[1;33m\u001b[0m\u001b[0m\n",
      "\u001b[1;32mc:\\python3\\lib\\site-packages\\execjs\\_external_runtime.py\u001b[0m in \u001b[0;36m_extract_result\u001b[1;34m(self, output)\u001b[0m\n\u001b[0;32m    165\u001b[0m                 \u001b[1;32mreturn\u001b[0m \u001b[0mvalue\u001b[0m\u001b[1;33m\u001b[0m\u001b[0m\n\u001b[0;32m    166\u001b[0m             \u001b[1;32melse\u001b[0m\u001b[1;33m:\u001b[0m\u001b[1;33m\u001b[0m\u001b[0m\n\u001b[1;32m--> 167\u001b[1;33m                 \u001b[1;32mraise\u001b[0m \u001b[0mProgramError\u001b[0m\u001b[1;33m(\u001b[0m\u001b[0mvalue\u001b[0m\u001b[1;33m)\u001b[0m\u001b[1;33m\u001b[0m\u001b[0m\n\u001b[0m\u001b[0;32m    168\u001b[0m \u001b[1;33m\u001b[0m\u001b[0m\n\u001b[0;32m    169\u001b[0m \u001b[1;33m\u001b[0m\u001b[0m\n",
      "\u001b[1;31mProgramError\u001b[0m: ReferenceError: window is not defined"
     ]
    }
   ],
   "source": [
    "ret1= ctx.call('crc32','1')\n",
    "ret1"
   ]
  },
  {
   "cell_type": "code",
   "execution_count": 22,
   "metadata": {},
   "outputs": [
    {
     "ename": "ProgramError",
     "evalue": "ReferenceError: navigator is not defined",
     "output_type": "error",
     "traceback": [
      "\u001b[1;31m---------------------------------------------------------------------------\u001b[0m",
      "\u001b[1;31mProgramError\u001b[0m                              Traceback (most recent call last)",
      "\u001b[1;32m<ipython-input-22-95ae4677de73>\u001b[0m in \u001b[0;36m<module>\u001b[1;34m()\u001b[0m\n\u001b[1;32m----> 1\u001b[1;33m \u001b[0mctx\u001b[0m\u001b[1;33m.\u001b[0m\u001b[0mcall\u001b[0m\u001b[1;33m(\u001b[0m\u001b[1;34m'supFlash'\u001b[0m\u001b[1;33m,\u001b[0m\u001b[1;34m'adfafaf'\u001b[0m\u001b[1;33m)\u001b[0m\u001b[1;33m\u001b[0m\u001b[0m\n\u001b[0m",
      "\u001b[1;32mc:\\python3\\lib\\site-packages\\execjs\\_abstract_runtime_context.py\u001b[0m in \u001b[0;36mcall\u001b[1;34m(self, name, *args)\u001b[0m\n\u001b[0;32m     35\u001b[0m         \u001b[1;32mif\u001b[0m \u001b[1;32mnot\u001b[0m \u001b[0mself\u001b[0m\u001b[1;33m.\u001b[0m\u001b[0mis_available\u001b[0m\u001b[1;33m(\u001b[0m\u001b[1;33m)\u001b[0m\u001b[1;33m:\u001b[0m\u001b[1;33m\u001b[0m\u001b[0m\n\u001b[0;32m     36\u001b[0m             \u001b[1;32mraise\u001b[0m \u001b[0mexecjs\u001b[0m\u001b[1;33m.\u001b[0m\u001b[0mRuntimeUnavailableError\u001b[0m\u001b[1;33m\u001b[0m\u001b[0m\n\u001b[1;32m---> 37\u001b[1;33m         \u001b[1;32mreturn\u001b[0m \u001b[0mself\u001b[0m\u001b[1;33m.\u001b[0m\u001b[0m_call\u001b[0m\u001b[1;33m(\u001b[0m\u001b[0mname\u001b[0m\u001b[1;33m,\u001b[0m \u001b[1;33m*\u001b[0m\u001b[0margs\u001b[0m\u001b[1;33m)\u001b[0m\u001b[1;33m\u001b[0m\u001b[0m\n\u001b[0m\u001b[0;32m     38\u001b[0m \u001b[1;33m\u001b[0m\u001b[0m\n\u001b[0;32m     39\u001b[0m     \u001b[1;33m@\u001b[0m\u001b[0mabstractmethod\u001b[0m\u001b[1;33m\u001b[0m\u001b[0m\n",
      "\u001b[1;32mc:\\python3\\lib\\site-packages\\execjs\\_external_runtime.py\u001b[0m in \u001b[0;36m_call\u001b[1;34m(self, identifier, *args)\u001b[0m\n\u001b[0;32m     90\u001b[0m         \u001b[1;32mdef\u001b[0m \u001b[0m_call\u001b[0m\u001b[1;33m(\u001b[0m\u001b[0mself\u001b[0m\u001b[1;33m,\u001b[0m \u001b[0midentifier\u001b[0m\u001b[1;33m,\u001b[0m \u001b[1;33m*\u001b[0m\u001b[0margs\u001b[0m\u001b[1;33m)\u001b[0m\u001b[1;33m:\u001b[0m\u001b[1;33m\u001b[0m\u001b[0m\n\u001b[0;32m     91\u001b[0m             \u001b[0margs\u001b[0m \u001b[1;33m=\u001b[0m \u001b[0mjson\u001b[0m\u001b[1;33m.\u001b[0m\u001b[0mdumps\u001b[0m\u001b[1;33m(\u001b[0m\u001b[0margs\u001b[0m\u001b[1;33m)\u001b[0m\u001b[1;33m\u001b[0m\u001b[0m\n\u001b[1;32m---> 92\u001b[1;33m             \u001b[1;32mreturn\u001b[0m \u001b[0mself\u001b[0m\u001b[1;33m.\u001b[0m\u001b[0m_eval\u001b[0m\u001b[1;33m(\u001b[0m\u001b[1;34m\"{identifier}.apply(this, {args})\"\u001b[0m\u001b[1;33m.\u001b[0m\u001b[0mformat\u001b[0m\u001b[1;33m(\u001b[0m\u001b[0midentifier\u001b[0m\u001b[1;33m=\u001b[0m\u001b[0midentifier\u001b[0m\u001b[1;33m,\u001b[0m \u001b[0margs\u001b[0m\u001b[1;33m=\u001b[0m\u001b[0margs\u001b[0m\u001b[1;33m)\u001b[0m\u001b[1;33m)\u001b[0m\u001b[1;33m\u001b[0m\u001b[0m\n\u001b[0m\u001b[0;32m     93\u001b[0m \u001b[1;33m\u001b[0m\u001b[0m\n\u001b[0;32m     94\u001b[0m         \u001b[1;32mdef\u001b[0m \u001b[0m_exec_with_pipe\u001b[0m\u001b[1;33m(\u001b[0m\u001b[0mself\u001b[0m\u001b[1;33m,\u001b[0m \u001b[0msource\u001b[0m\u001b[1;33m)\u001b[0m\u001b[1;33m:\u001b[0m\u001b[1;33m\u001b[0m\u001b[0m\n",
      "\u001b[1;32mc:\\python3\\lib\\site-packages\\execjs\\_external_runtime.py\u001b[0m in \u001b[0;36m_eval\u001b[1;34m(self, source)\u001b[0m\n\u001b[0;32m     76\u001b[0m \u001b[1;33m\u001b[0m\u001b[0m\n\u001b[0;32m     77\u001b[0m             \u001b[0mcode\u001b[0m \u001b[1;33m=\u001b[0m \u001b[1;34m'return eval({data})'\u001b[0m\u001b[1;33m.\u001b[0m\u001b[0mformat\u001b[0m\u001b[1;33m(\u001b[0m\u001b[0mdata\u001b[0m\u001b[1;33m=\u001b[0m\u001b[0mdata\u001b[0m\u001b[1;33m)\u001b[0m\u001b[1;33m\u001b[0m\u001b[0m\n\u001b[1;32m---> 78\u001b[1;33m             \u001b[1;32mreturn\u001b[0m \u001b[0mself\u001b[0m\u001b[1;33m.\u001b[0m\u001b[0mexec_\u001b[0m\u001b[1;33m(\u001b[0m\u001b[0mcode\u001b[0m\u001b[1;33m)\u001b[0m\u001b[1;33m\u001b[0m\u001b[0m\n\u001b[0m\u001b[0;32m     79\u001b[0m \u001b[1;33m\u001b[0m\u001b[0m\n\u001b[0;32m     80\u001b[0m         \u001b[1;32mdef\u001b[0m \u001b[0m_exec_\u001b[0m\u001b[1;33m(\u001b[0m\u001b[0mself\u001b[0m\u001b[1;33m,\u001b[0m \u001b[0msource\u001b[0m\u001b[1;33m)\u001b[0m\u001b[1;33m:\u001b[0m\u001b[1;33m\u001b[0m\u001b[0m\n",
      "\u001b[1;32mc:\\python3\\lib\\site-packages\\execjs\\_abstract_runtime_context.py\u001b[0m in \u001b[0;36mexec_\u001b[1;34m(self, source)\u001b[0m\n\u001b[0;32m     16\u001b[0m         \u001b[1;32mif\u001b[0m \u001b[1;32mnot\u001b[0m \u001b[0mself\u001b[0m\u001b[1;33m.\u001b[0m\u001b[0mis_available\u001b[0m\u001b[1;33m(\u001b[0m\u001b[1;33m)\u001b[0m\u001b[1;33m:\u001b[0m\u001b[1;33m\u001b[0m\u001b[0m\n\u001b[0;32m     17\u001b[0m             \u001b[1;32mraise\u001b[0m \u001b[0mexecjs\u001b[0m\u001b[1;33m.\u001b[0m\u001b[0mRuntimeUnavailableError\u001b[0m\u001b[1;33m\u001b[0m\u001b[0m\n\u001b[1;32m---> 18\u001b[1;33m         \u001b[1;32mreturn\u001b[0m \u001b[0mself\u001b[0m\u001b[1;33m.\u001b[0m\u001b[0m_exec_\u001b[0m\u001b[1;33m(\u001b[0m\u001b[0msource\u001b[0m\u001b[1;33m)\u001b[0m\u001b[1;33m\u001b[0m\u001b[0m\n\u001b[0m\u001b[0;32m     19\u001b[0m \u001b[1;33m\u001b[0m\u001b[0m\n\u001b[0;32m     20\u001b[0m     \u001b[1;32mdef\u001b[0m \u001b[0meval\u001b[0m\u001b[1;33m(\u001b[0m\u001b[0mself\u001b[0m\u001b[1;33m,\u001b[0m \u001b[0msource\u001b[0m\u001b[1;33m)\u001b[0m\u001b[1;33m:\u001b[0m\u001b[1;33m\u001b[0m\u001b[0m\n",
      "\u001b[1;32mc:\\python3\\lib\\site-packages\\execjs\\_external_runtime.py\u001b[0m in \u001b[0;36m_exec_\u001b[1;34m(self, source)\u001b[0m\n\u001b[0;32m     86\u001b[0m             \u001b[1;32melse\u001b[0m\u001b[1;33m:\u001b[0m\u001b[1;33m\u001b[0m\u001b[0m\n\u001b[0;32m     87\u001b[0m                 \u001b[0moutput\u001b[0m \u001b[1;33m=\u001b[0m \u001b[0mself\u001b[0m\u001b[1;33m.\u001b[0m\u001b[0m_exec_with_pipe\u001b[0m\u001b[1;33m(\u001b[0m\u001b[0msource\u001b[0m\u001b[1;33m)\u001b[0m\u001b[1;33m\u001b[0m\u001b[0m\n\u001b[1;32m---> 88\u001b[1;33m             \u001b[1;32mreturn\u001b[0m \u001b[0mself\u001b[0m\u001b[1;33m.\u001b[0m\u001b[0m_extract_result\u001b[0m\u001b[1;33m(\u001b[0m\u001b[0moutput\u001b[0m\u001b[1;33m)\u001b[0m\u001b[1;33m\u001b[0m\u001b[0m\n\u001b[0m\u001b[0;32m     89\u001b[0m \u001b[1;33m\u001b[0m\u001b[0m\n\u001b[0;32m     90\u001b[0m         \u001b[1;32mdef\u001b[0m \u001b[0m_call\u001b[0m\u001b[1;33m(\u001b[0m\u001b[0mself\u001b[0m\u001b[1;33m,\u001b[0m \u001b[0midentifier\u001b[0m\u001b[1;33m,\u001b[0m \u001b[1;33m*\u001b[0m\u001b[0margs\u001b[0m\u001b[1;33m)\u001b[0m\u001b[1;33m:\u001b[0m\u001b[1;33m\u001b[0m\u001b[0m\n",
      "\u001b[1;32mc:\\python3\\lib\\site-packages\\execjs\\_external_runtime.py\u001b[0m in \u001b[0;36m_extract_result\u001b[1;34m(self, output)\u001b[0m\n\u001b[0;32m    165\u001b[0m                 \u001b[1;32mreturn\u001b[0m \u001b[0mvalue\u001b[0m\u001b[1;33m\u001b[0m\u001b[0m\n\u001b[0;32m    166\u001b[0m             \u001b[1;32melse\u001b[0m\u001b[1;33m:\u001b[0m\u001b[1;33m\u001b[0m\u001b[0m\n\u001b[1;32m--> 167\u001b[1;33m                 \u001b[1;32mraise\u001b[0m \u001b[0mProgramError\u001b[0m\u001b[1;33m(\u001b[0m\u001b[0mvalue\u001b[0m\u001b[1;33m)\u001b[0m\u001b[1;33m\u001b[0m\u001b[0m\n\u001b[0m\u001b[0;32m    168\u001b[0m \u001b[1;33m\u001b[0m\u001b[0m\n\u001b[0;32m    169\u001b[0m \u001b[1;33m\u001b[0m\u001b[0m\n",
      "\u001b[1;31mProgramError\u001b[0m: ReferenceError: navigator is not defined"
     ]
    }
   ],
   "source": [
    "ctx.call('supFlash','adfafaf')"
   ]
  },
  {
   "cell_type": "code",
   "execution_count": 2,
   "metadata": {},
   "outputs": [
    {
     "data": {
      "text/plain": [
       "['red', 'yellow', 'blue']"
      ]
     },
     "execution_count": 2,
     "metadata": {},
     "output_type": "execute_result"
    }
   ],
   "source": [
    "execjs.eval(\"'red yellow blue'.split(' ')\")"
   ]
  },
  {
   "cell_type": "code",
   "execution_count": 3,
   "metadata": {},
   "outputs": [],
   "source": [
    "ctx = execjs.compile('''\n",
    "function add(x,y){\n",
    "return x*y\n",
    "}\n",
    "''')"
   ]
  },
  {
   "cell_type": "code",
   "execution_count": 4,
   "metadata": {
    "scrolled": true
   },
   "outputs": [
    {
     "data": {
      "text/plain": [
       "10"
      ]
     },
     "execution_count": 4,
     "metadata": {},
     "output_type": "execute_result"
    }
   ],
   "source": [
    "ctx.call('add',2,5)"
   ]
  },
  {
   "cell_type": "code",
   "execution_count": 5,
   "metadata": {},
   "outputs": [
    {
     "name": "stdout",
     "output_type": "stream",
     "text": [
      "JScript\n"
     ]
    }
   ],
   "source": [
    "print(execjs.get().name)"
   ]
  },
  {
   "cell_type": "code",
   "execution_count": 32,
   "metadata": {},
   "outputs": [],
   "source": [
    "encry = execjs.compile('''\n",
    "var getParam = (function () {\n",
    "        function ObjectSort(obj) {\n",
    "            var newObject = {};\n",
    "            Object.keys(obj).sort().map(function (key) {\n",
    "                newObject[key] = obj[key]\n",
    "            });\n",
    "            return newObject\n",
    "        }\n",
    "        return function (method, obj) {\n",
    "            var appId = '1a45f75b824b2dc628d5955356b5ef18';\n",
    "            var clienttype = 'WEB';\n",
    "            var timestamp = new Date().getTime();\n",
    "            var param = {\n",
    "                appId: appId,\n",
    "                method: method,\n",
    "                timestamp: timestamp,\n",
    "                clienttype: clienttype,\n",
    "                object: obj,\n",
    "                if(typeof (JSON)=='undefined'){\n",
    "                $.getScript('json2.js');\n",
    "                }\n",
    "                secret: hex_md5(appId + method + timestamp + clienttype + JSON.stringify(ObjectSort(obj)))\n",
    "            };\n",
    "            param = BASE64.encrypt(JSON.stringify(param));\n",
    "            return AES.encrypt(param, aes_client_key, aes_client_iv)\n",
    "        }\n",
    "    })();\n",
    "    \n",
    "function getEncryptedData(method, city, type, startTime, endTime) {\n",
    "    var param = {};\n",
    "    param.city = city;\n",
    "    param.type = type;\n",
    "    param.startTime = startTime;\n",
    "    param.endTime = endTime;\n",
    "    return getParam(method, param);\n",
    "}\n",
    "''')"
   ]
  },
  {
   "cell_type": "code",
   "execution_count": 33,
   "metadata": {},
   "outputs": [],
   "source": [
    "method = 'GETCITYWEATHER'\n",
    "city = '北京'\n",
    "types = 'HOUR'\n",
    "start_time = '2018-01-25 00:00:00'\n",
    "end_time = '2018-01-25 23:00:00'"
   ]
  },
  {
   "cell_type": "code",
   "execution_count": 34,
   "metadata": {
    "scrolled": true
   },
   "outputs": [
    {
     "ename": "ProgramError",
     "evalue": "SyntaxError: 缺少标识符、字符串或数字",
     "output_type": "error",
     "traceback": [
      "\u001b[1;31m---------------------------------------------------------------------------\u001b[0m",
      "\u001b[1;31mProgramError\u001b[0m                              Traceback (most recent call last)",
      "\u001b[1;32m<ipython-input-34-2da9a772fca9>\u001b[0m in \u001b[0;36m<module>\u001b[1;34m()\u001b[0m\n\u001b[1;32m----> 1\u001b[1;33m \u001b[0mencry\u001b[0m\u001b[1;33m.\u001b[0m\u001b[0mcall\u001b[0m\u001b[1;33m(\u001b[0m\u001b[1;34m'getEncryptedData'\u001b[0m\u001b[1;33m,\u001b[0m\u001b[0mmethod\u001b[0m\u001b[1;33m,\u001b[0m\u001b[0mcity\u001b[0m\u001b[1;33m,\u001b[0m\u001b[0mtypes\u001b[0m\u001b[1;33m,\u001b[0m\u001b[0mstart_time\u001b[0m\u001b[1;33m,\u001b[0m\u001b[0mend_time\u001b[0m\u001b[1;33m)\u001b[0m\u001b[1;33m\u001b[0m\u001b[0m\n\u001b[0m",
      "\u001b[1;32mc:\\python3\\lib\\site-packages\\execjs\\_abstract_runtime_context.py\u001b[0m in \u001b[0;36mcall\u001b[1;34m(self, name, *args)\u001b[0m\n\u001b[0;32m     35\u001b[0m         \u001b[1;32mif\u001b[0m \u001b[1;32mnot\u001b[0m \u001b[0mself\u001b[0m\u001b[1;33m.\u001b[0m\u001b[0mis_available\u001b[0m\u001b[1;33m(\u001b[0m\u001b[1;33m)\u001b[0m\u001b[1;33m:\u001b[0m\u001b[1;33m\u001b[0m\u001b[0m\n\u001b[0;32m     36\u001b[0m             \u001b[1;32mraise\u001b[0m \u001b[0mexecjs\u001b[0m\u001b[1;33m.\u001b[0m\u001b[0mRuntimeUnavailableError\u001b[0m\u001b[1;33m\u001b[0m\u001b[0m\n\u001b[1;32m---> 37\u001b[1;33m         \u001b[1;32mreturn\u001b[0m \u001b[0mself\u001b[0m\u001b[1;33m.\u001b[0m\u001b[0m_call\u001b[0m\u001b[1;33m(\u001b[0m\u001b[0mname\u001b[0m\u001b[1;33m,\u001b[0m \u001b[1;33m*\u001b[0m\u001b[0margs\u001b[0m\u001b[1;33m)\u001b[0m\u001b[1;33m\u001b[0m\u001b[0m\n\u001b[0m\u001b[0;32m     38\u001b[0m \u001b[1;33m\u001b[0m\u001b[0m\n\u001b[0;32m     39\u001b[0m     \u001b[1;33m@\u001b[0m\u001b[0mabstractmethod\u001b[0m\u001b[1;33m\u001b[0m\u001b[0m\n",
      "\u001b[1;32mc:\\python3\\lib\\site-packages\\execjs\\_external_runtime.py\u001b[0m in \u001b[0;36m_call\u001b[1;34m(self, identifier, *args)\u001b[0m\n\u001b[0;32m     90\u001b[0m         \u001b[1;32mdef\u001b[0m \u001b[0m_call\u001b[0m\u001b[1;33m(\u001b[0m\u001b[0mself\u001b[0m\u001b[1;33m,\u001b[0m \u001b[0midentifier\u001b[0m\u001b[1;33m,\u001b[0m \u001b[1;33m*\u001b[0m\u001b[0margs\u001b[0m\u001b[1;33m)\u001b[0m\u001b[1;33m:\u001b[0m\u001b[1;33m\u001b[0m\u001b[0m\n\u001b[0;32m     91\u001b[0m             \u001b[0margs\u001b[0m \u001b[1;33m=\u001b[0m \u001b[0mjson\u001b[0m\u001b[1;33m.\u001b[0m\u001b[0mdumps\u001b[0m\u001b[1;33m(\u001b[0m\u001b[0margs\u001b[0m\u001b[1;33m)\u001b[0m\u001b[1;33m\u001b[0m\u001b[0m\n\u001b[1;32m---> 92\u001b[1;33m             \u001b[1;32mreturn\u001b[0m \u001b[0mself\u001b[0m\u001b[1;33m.\u001b[0m\u001b[0m_eval\u001b[0m\u001b[1;33m(\u001b[0m\u001b[1;34m\"{identifier}.apply(this, {args})\"\u001b[0m\u001b[1;33m.\u001b[0m\u001b[0mformat\u001b[0m\u001b[1;33m(\u001b[0m\u001b[0midentifier\u001b[0m\u001b[1;33m=\u001b[0m\u001b[0midentifier\u001b[0m\u001b[1;33m,\u001b[0m \u001b[0margs\u001b[0m\u001b[1;33m=\u001b[0m\u001b[0margs\u001b[0m\u001b[1;33m)\u001b[0m\u001b[1;33m)\u001b[0m\u001b[1;33m\u001b[0m\u001b[0m\n\u001b[0m\u001b[0;32m     93\u001b[0m \u001b[1;33m\u001b[0m\u001b[0m\n\u001b[0;32m     94\u001b[0m         \u001b[1;32mdef\u001b[0m \u001b[0m_exec_with_pipe\u001b[0m\u001b[1;33m(\u001b[0m\u001b[0mself\u001b[0m\u001b[1;33m,\u001b[0m \u001b[0msource\u001b[0m\u001b[1;33m)\u001b[0m\u001b[1;33m:\u001b[0m\u001b[1;33m\u001b[0m\u001b[0m\n",
      "\u001b[1;32mc:\\python3\\lib\\site-packages\\execjs\\_external_runtime.py\u001b[0m in \u001b[0;36m_eval\u001b[1;34m(self, source)\u001b[0m\n\u001b[0;32m     76\u001b[0m \u001b[1;33m\u001b[0m\u001b[0m\n\u001b[0;32m     77\u001b[0m             \u001b[0mcode\u001b[0m \u001b[1;33m=\u001b[0m \u001b[1;34m'return eval({data})'\u001b[0m\u001b[1;33m.\u001b[0m\u001b[0mformat\u001b[0m\u001b[1;33m(\u001b[0m\u001b[0mdata\u001b[0m\u001b[1;33m=\u001b[0m\u001b[0mdata\u001b[0m\u001b[1;33m)\u001b[0m\u001b[1;33m\u001b[0m\u001b[0m\n\u001b[1;32m---> 78\u001b[1;33m             \u001b[1;32mreturn\u001b[0m \u001b[0mself\u001b[0m\u001b[1;33m.\u001b[0m\u001b[0mexec_\u001b[0m\u001b[1;33m(\u001b[0m\u001b[0mcode\u001b[0m\u001b[1;33m)\u001b[0m\u001b[1;33m\u001b[0m\u001b[0m\n\u001b[0m\u001b[0;32m     79\u001b[0m \u001b[1;33m\u001b[0m\u001b[0m\n\u001b[0;32m     80\u001b[0m         \u001b[1;32mdef\u001b[0m \u001b[0m_exec_\u001b[0m\u001b[1;33m(\u001b[0m\u001b[0mself\u001b[0m\u001b[1;33m,\u001b[0m \u001b[0msource\u001b[0m\u001b[1;33m)\u001b[0m\u001b[1;33m:\u001b[0m\u001b[1;33m\u001b[0m\u001b[0m\n",
      "\u001b[1;32mc:\\python3\\lib\\site-packages\\execjs\\_abstract_runtime_context.py\u001b[0m in \u001b[0;36mexec_\u001b[1;34m(self, source)\u001b[0m\n\u001b[0;32m     16\u001b[0m         \u001b[1;32mif\u001b[0m \u001b[1;32mnot\u001b[0m \u001b[0mself\u001b[0m\u001b[1;33m.\u001b[0m\u001b[0mis_available\u001b[0m\u001b[1;33m(\u001b[0m\u001b[1;33m)\u001b[0m\u001b[1;33m:\u001b[0m\u001b[1;33m\u001b[0m\u001b[0m\n\u001b[0;32m     17\u001b[0m             \u001b[1;32mraise\u001b[0m \u001b[0mexecjs\u001b[0m\u001b[1;33m.\u001b[0m\u001b[0mRuntimeUnavailableError\u001b[0m\u001b[1;33m\u001b[0m\u001b[0m\n\u001b[1;32m---> 18\u001b[1;33m         \u001b[1;32mreturn\u001b[0m \u001b[0mself\u001b[0m\u001b[1;33m.\u001b[0m\u001b[0m_exec_\u001b[0m\u001b[1;33m(\u001b[0m\u001b[0msource\u001b[0m\u001b[1;33m)\u001b[0m\u001b[1;33m\u001b[0m\u001b[0m\n\u001b[0m\u001b[0;32m     19\u001b[0m \u001b[1;33m\u001b[0m\u001b[0m\n\u001b[0;32m     20\u001b[0m     \u001b[1;32mdef\u001b[0m \u001b[0meval\u001b[0m\u001b[1;33m(\u001b[0m\u001b[0mself\u001b[0m\u001b[1;33m,\u001b[0m \u001b[0msource\u001b[0m\u001b[1;33m)\u001b[0m\u001b[1;33m:\u001b[0m\u001b[1;33m\u001b[0m\u001b[0m\n",
      "\u001b[1;32mc:\\python3\\lib\\site-packages\\execjs\\_external_runtime.py\u001b[0m in \u001b[0;36m_exec_\u001b[1;34m(self, source)\u001b[0m\n\u001b[0;32m     86\u001b[0m             \u001b[1;32melse\u001b[0m\u001b[1;33m:\u001b[0m\u001b[1;33m\u001b[0m\u001b[0m\n\u001b[0;32m     87\u001b[0m                 \u001b[0moutput\u001b[0m \u001b[1;33m=\u001b[0m \u001b[0mself\u001b[0m\u001b[1;33m.\u001b[0m\u001b[0m_exec_with_pipe\u001b[0m\u001b[1;33m(\u001b[0m\u001b[0msource\u001b[0m\u001b[1;33m)\u001b[0m\u001b[1;33m\u001b[0m\u001b[0m\n\u001b[1;32m---> 88\u001b[1;33m             \u001b[1;32mreturn\u001b[0m \u001b[0mself\u001b[0m\u001b[1;33m.\u001b[0m\u001b[0m_extract_result\u001b[0m\u001b[1;33m(\u001b[0m\u001b[0moutput\u001b[0m\u001b[1;33m)\u001b[0m\u001b[1;33m\u001b[0m\u001b[0m\n\u001b[0m\u001b[0;32m     89\u001b[0m \u001b[1;33m\u001b[0m\u001b[0m\n\u001b[0;32m     90\u001b[0m         \u001b[1;32mdef\u001b[0m \u001b[0m_call\u001b[0m\u001b[1;33m(\u001b[0m\u001b[0mself\u001b[0m\u001b[1;33m,\u001b[0m \u001b[0midentifier\u001b[0m\u001b[1;33m,\u001b[0m \u001b[1;33m*\u001b[0m\u001b[0margs\u001b[0m\u001b[1;33m)\u001b[0m\u001b[1;33m:\u001b[0m\u001b[1;33m\u001b[0m\u001b[0m\n",
      "\u001b[1;32mc:\\python3\\lib\\site-packages\\execjs\\_external_runtime.py\u001b[0m in \u001b[0;36m_extract_result\u001b[1;34m(self, output)\u001b[0m\n\u001b[0;32m    165\u001b[0m                 \u001b[1;32mreturn\u001b[0m \u001b[0mvalue\u001b[0m\u001b[1;33m\u001b[0m\u001b[0m\n\u001b[0;32m    166\u001b[0m             \u001b[1;32melse\u001b[0m\u001b[1;33m:\u001b[0m\u001b[1;33m\u001b[0m\u001b[0m\n\u001b[1;32m--> 167\u001b[1;33m                 \u001b[1;32mraise\u001b[0m \u001b[0mProgramError\u001b[0m\u001b[1;33m(\u001b[0m\u001b[0mvalue\u001b[0m\u001b[1;33m)\u001b[0m\u001b[1;33m\u001b[0m\u001b[0m\n\u001b[0m\u001b[0;32m    168\u001b[0m \u001b[1;33m\u001b[0m\u001b[0m\n\u001b[0;32m    169\u001b[0m \u001b[1;33m\u001b[0m\u001b[0m\n",
      "\u001b[1;31mProgramError\u001b[0m: SyntaxError: 缺少标识符、字符串或数字"
     ]
    }
   ],
   "source": [
    "encry.call('getEncryptedData',method,city,types,start_time,end_time)"
   ]
  },
  {
   "cell_type": "code",
   "execution_count": 38,
   "metadata": {},
   "outputs": [],
   "source": [
    "file = 'js_encry.js'\n",
    "node = execjs.get()\n",
    "ctx = node.compile(open(file).read())"
   ]
  },
  {
   "cell_type": "code",
   "execution_count": 39,
   "metadata": {},
   "outputs": [],
   "source": [
    "js = 'getEncryptedData(\"{0}\", \"{1}\", \"{2}\", \"{3}\", \"{4}\")'.format(method, city, type, start_time, end_time)"
   ]
  },
  {
   "cell_type": "code",
   "execution_count": 40,
   "metadata": {
    "scrolled": true
   },
   "outputs": [
    {
     "ename": "ProgramError",
     "evalue": "TypeError: '$' 未定义",
     "output_type": "error",
     "traceback": [
      "\u001b[1;31m---------------------------------------------------------------------------\u001b[0m",
      "\u001b[1;31mProgramError\u001b[0m                              Traceback (most recent call last)",
      "\u001b[1;32m<ipython-input-40-59dbf49b70f9>\u001b[0m in \u001b[0;36m<module>\u001b[1;34m()\u001b[0m\n\u001b[1;32m----> 1\u001b[1;33m \u001b[0mparams\u001b[0m \u001b[1;33m=\u001b[0m \u001b[0mctx\u001b[0m\u001b[1;33m.\u001b[0m\u001b[0meval\u001b[0m\u001b[1;33m(\u001b[0m\u001b[0mjs\u001b[0m\u001b[1;33m)\u001b[0m\u001b[1;33m\u001b[0m\u001b[0m\n\u001b[0m",
      "\u001b[1;32mc:\\python3\\lib\\site-packages\\execjs\\_abstract_runtime_context.py\u001b[0m in \u001b[0;36meval\u001b[1;34m(self, source)\u001b[0m\n\u001b[0;32m     25\u001b[0m         \u001b[1;32mif\u001b[0m \u001b[1;32mnot\u001b[0m \u001b[0mself\u001b[0m\u001b[1;33m.\u001b[0m\u001b[0mis_available\u001b[0m\u001b[1;33m(\u001b[0m\u001b[1;33m)\u001b[0m\u001b[1;33m:\u001b[0m\u001b[1;33m\u001b[0m\u001b[0m\n\u001b[0;32m     26\u001b[0m             \u001b[1;32mraise\u001b[0m \u001b[0mexecjs\u001b[0m\u001b[1;33m.\u001b[0m\u001b[0mRuntimeUnavailableError\u001b[0m\u001b[1;33m\u001b[0m\u001b[0m\n\u001b[1;32m---> 27\u001b[1;33m         \u001b[1;32mreturn\u001b[0m \u001b[0mself\u001b[0m\u001b[1;33m.\u001b[0m\u001b[0m_eval\u001b[0m\u001b[1;33m(\u001b[0m\u001b[0msource\u001b[0m\u001b[1;33m)\u001b[0m\u001b[1;33m\u001b[0m\u001b[0m\n\u001b[0m\u001b[0;32m     28\u001b[0m \u001b[1;33m\u001b[0m\u001b[0m\n\u001b[0;32m     29\u001b[0m     \u001b[1;32mdef\u001b[0m \u001b[0mcall\u001b[0m\u001b[1;33m(\u001b[0m\u001b[0mself\u001b[0m\u001b[1;33m,\u001b[0m \u001b[0mname\u001b[0m\u001b[1;33m,\u001b[0m \u001b[1;33m*\u001b[0m\u001b[0margs\u001b[0m\u001b[1;33m)\u001b[0m\u001b[1;33m:\u001b[0m\u001b[1;33m\u001b[0m\u001b[0m\n",
      "\u001b[1;32mc:\\python3\\lib\\site-packages\\execjs\\_external_runtime.py\u001b[0m in \u001b[0;36m_eval\u001b[1;34m(self, source)\u001b[0m\n\u001b[0;32m     76\u001b[0m \u001b[1;33m\u001b[0m\u001b[0m\n\u001b[0;32m     77\u001b[0m             \u001b[0mcode\u001b[0m \u001b[1;33m=\u001b[0m \u001b[1;34m'return eval({data})'\u001b[0m\u001b[1;33m.\u001b[0m\u001b[0mformat\u001b[0m\u001b[1;33m(\u001b[0m\u001b[0mdata\u001b[0m\u001b[1;33m=\u001b[0m\u001b[0mdata\u001b[0m\u001b[1;33m)\u001b[0m\u001b[1;33m\u001b[0m\u001b[0m\n\u001b[1;32m---> 78\u001b[1;33m             \u001b[1;32mreturn\u001b[0m \u001b[0mself\u001b[0m\u001b[1;33m.\u001b[0m\u001b[0mexec_\u001b[0m\u001b[1;33m(\u001b[0m\u001b[0mcode\u001b[0m\u001b[1;33m)\u001b[0m\u001b[1;33m\u001b[0m\u001b[0m\n\u001b[0m\u001b[0;32m     79\u001b[0m \u001b[1;33m\u001b[0m\u001b[0m\n\u001b[0;32m     80\u001b[0m         \u001b[1;32mdef\u001b[0m \u001b[0m_exec_\u001b[0m\u001b[1;33m(\u001b[0m\u001b[0mself\u001b[0m\u001b[1;33m,\u001b[0m \u001b[0msource\u001b[0m\u001b[1;33m)\u001b[0m\u001b[1;33m:\u001b[0m\u001b[1;33m\u001b[0m\u001b[0m\n",
      "\u001b[1;32mc:\\python3\\lib\\site-packages\\execjs\\_abstract_runtime_context.py\u001b[0m in \u001b[0;36mexec_\u001b[1;34m(self, source)\u001b[0m\n\u001b[0;32m     16\u001b[0m         \u001b[1;32mif\u001b[0m \u001b[1;32mnot\u001b[0m \u001b[0mself\u001b[0m\u001b[1;33m.\u001b[0m\u001b[0mis_available\u001b[0m\u001b[1;33m(\u001b[0m\u001b[1;33m)\u001b[0m\u001b[1;33m:\u001b[0m\u001b[1;33m\u001b[0m\u001b[0m\n\u001b[0;32m     17\u001b[0m             \u001b[1;32mraise\u001b[0m \u001b[0mexecjs\u001b[0m\u001b[1;33m.\u001b[0m\u001b[0mRuntimeUnavailableError\u001b[0m\u001b[1;33m\u001b[0m\u001b[0m\n\u001b[1;32m---> 18\u001b[1;33m         \u001b[1;32mreturn\u001b[0m \u001b[0mself\u001b[0m\u001b[1;33m.\u001b[0m\u001b[0m_exec_\u001b[0m\u001b[1;33m(\u001b[0m\u001b[0msource\u001b[0m\u001b[1;33m)\u001b[0m\u001b[1;33m\u001b[0m\u001b[0m\n\u001b[0m\u001b[0;32m     19\u001b[0m \u001b[1;33m\u001b[0m\u001b[0m\n\u001b[0;32m     20\u001b[0m     \u001b[1;32mdef\u001b[0m \u001b[0meval\u001b[0m\u001b[1;33m(\u001b[0m\u001b[0mself\u001b[0m\u001b[1;33m,\u001b[0m \u001b[0msource\u001b[0m\u001b[1;33m)\u001b[0m\u001b[1;33m:\u001b[0m\u001b[1;33m\u001b[0m\u001b[0m\n",
      "\u001b[1;32mc:\\python3\\lib\\site-packages\\execjs\\_external_runtime.py\u001b[0m in \u001b[0;36m_exec_\u001b[1;34m(self, source)\u001b[0m\n\u001b[0;32m     86\u001b[0m             \u001b[1;32melse\u001b[0m\u001b[1;33m:\u001b[0m\u001b[1;33m\u001b[0m\u001b[0m\n\u001b[0;32m     87\u001b[0m                 \u001b[0moutput\u001b[0m \u001b[1;33m=\u001b[0m \u001b[0mself\u001b[0m\u001b[1;33m.\u001b[0m\u001b[0m_exec_with_pipe\u001b[0m\u001b[1;33m(\u001b[0m\u001b[0msource\u001b[0m\u001b[1;33m)\u001b[0m\u001b[1;33m\u001b[0m\u001b[0m\n\u001b[1;32m---> 88\u001b[1;33m             \u001b[1;32mreturn\u001b[0m \u001b[0mself\u001b[0m\u001b[1;33m.\u001b[0m\u001b[0m_extract_result\u001b[0m\u001b[1;33m(\u001b[0m\u001b[0moutput\u001b[0m\u001b[1;33m)\u001b[0m\u001b[1;33m\u001b[0m\u001b[0m\n\u001b[0m\u001b[0;32m     89\u001b[0m \u001b[1;33m\u001b[0m\u001b[0m\n\u001b[0;32m     90\u001b[0m         \u001b[1;32mdef\u001b[0m \u001b[0m_call\u001b[0m\u001b[1;33m(\u001b[0m\u001b[0mself\u001b[0m\u001b[1;33m,\u001b[0m \u001b[0midentifier\u001b[0m\u001b[1;33m,\u001b[0m \u001b[1;33m*\u001b[0m\u001b[0margs\u001b[0m\u001b[1;33m)\u001b[0m\u001b[1;33m:\u001b[0m\u001b[1;33m\u001b[0m\u001b[0m\n",
      "\u001b[1;32mc:\\python3\\lib\\site-packages\\execjs\\_external_runtime.py\u001b[0m in \u001b[0;36m_extract_result\u001b[1;34m(self, output)\u001b[0m\n\u001b[0;32m    165\u001b[0m                 \u001b[1;32mreturn\u001b[0m \u001b[0mvalue\u001b[0m\u001b[1;33m\u001b[0m\u001b[0m\n\u001b[0;32m    166\u001b[0m             \u001b[1;32melse\u001b[0m\u001b[1;33m:\u001b[0m\u001b[1;33m\u001b[0m\u001b[0m\n\u001b[1;32m--> 167\u001b[1;33m                 \u001b[1;32mraise\u001b[0m \u001b[0mProgramError\u001b[0m\u001b[1;33m(\u001b[0m\u001b[0mvalue\u001b[0m\u001b[1;33m)\u001b[0m\u001b[1;33m\u001b[0m\u001b[0m\n\u001b[0m\u001b[0;32m    168\u001b[0m \u001b[1;33m\u001b[0m\u001b[0m\n\u001b[0;32m    169\u001b[0m \u001b[1;33m\u001b[0m\u001b[0m\n",
      "\u001b[1;31mProgramError\u001b[0m: TypeError: '$' 未定义"
     ]
    }
   ],
   "source": [
    "params = ctx.eval(js)"
   ]
  },
  {
   "cell_type": "code",
   "execution_count": 30,
   "metadata": {},
   "outputs": [],
   "source": [
    "ctx1= execjs.compile('''\n",
    "var str = {\"name\":\"菜鸟教程\", \"site\":\"http://www.runoob.com\"}\n",
    "str_pretty = JSON.stringify(str)\n",
    "document.write(\"<pre>\" + str_pretty1 + \"</pre>\" );\n",
    "''')"
   ]
  },
  {
   "cell_type": "code",
   "execution_count": 31,
   "metadata": {},
   "outputs": [
    {
     "data": {
      "text/plain": [
       "<execjs._external_runtime.ExternalRuntime.Context at 0x4593550>"
      ]
     },
     "execution_count": 31,
     "metadata": {},
     "output_type": "execute_result"
    }
   ],
   "source": [
    "ctx1"
   ]
  },
  {
   "cell_type": "code",
   "execution_count": 3,
   "metadata": {},
   "outputs": [],
   "source": [
    "js1 = '''\n",
    "    function getGuid() {\n",
    "    var guid = createGuid() + createGuid() + \"-\" + createGuid() + \"-\" + createGuid() + createGuid() + \"-\" + createGuid() + createGuid() + createGuid(); //CreateGuid();\n",
    "    return guid;\n",
    "    }\n",
    "    var createGuid = function () {\n",
    "    return (((1 + Math.random()) * 0x10000) | 0).toString(16).substring(1);\n",
    "    }\n",
    "    '''\n",
    "ctx1 = execjs.compile(js1)\n",
    "guid = (ctx1.call(\"getGuid\"))"
   ]
  },
  {
   "cell_type": "code",
   "execution_count": 4,
   "metadata": {},
   "outputs": [
    {
     "data": {
      "text/plain": [
       "'8666d36d-cbcf-671c2e1a-078a05fb35ed'"
      ]
     },
     "execution_count": 4,
     "metadata": {},
     "output_type": "execute_result"
    }
   ],
   "source": [
    "guid"
   ]
  },
  {
   "cell_type": "code",
   "execution_count": 24,
   "metadata": {},
   "outputs": [],
   "source": [
    "import requests"
   ]
  },
  {
   "cell_type": "code",
   "execution_count": 25,
   "metadata": {},
   "outputs": [],
   "source": [
    "url='http://www.hljcredit.gov.cn/WebCreditQueryService.do?sxbzxrQgDetail&dsname=hlj&dt=1&icautiouid=1230610007463279426&srandRe=7M09JC7781QAR75LPT93XX1H47P2J1'\n",
    "headers = {'User-Agent':'android 4.3'}\n",
    "r = requests.get(url,headers=headers)"
   ]
  },
  {
   "cell_type": "code",
   "execution_count": 26,
   "metadata": {},
   "outputs": [
    {
     "data": {
      "text/plain": [
       "200"
      ]
     },
     "execution_count": 26,
     "metadata": {},
     "output_type": "execute_result"
    }
   ],
   "source": [
    "r.status_code"
   ]
  },
  {
   "cell_type": "raw",
   "metadata": {},
   "source": [
    "print(r)"
   ]
  },
  {
   "cell_type": "code",
   "execution_count": 28,
   "metadata": {},
   "outputs": [
    {
     "data": {
      "text/plain": [
       "'\\r\\n\\r\\n\\r\\n\\r\\n \\r\\n\\r\\n\\r\\n<!DOCTYPE HTML PUBLIC \"-//W3C//DTD HTML 4.01 Transitional//EN\" \"http://www.w3.org/TR/html4/loose.dtd\">\\r\\n<html lang=\"en\">\\r\\n<head>\\r\\n<meta http-equiv=\"Content-Type\" content=\"text/html;charset=UTF-8\">\\r\\n<meta http-equiv = \"X-UA-Compatible\" content = \"IE=edge\" />\\r\\n\\r\\n<title>信用黑龙江</title>\\r\\n<link rel=\"stylesheet\" type=\"text/css\" href=\"plug-in/websit/css/base.css\">\\r\\n<link rel=\"stylesheet\" type=\"text/css\" href=\"plug-in/websit/css/style.css\">\\r\\n<link rel=\"stylesheet\" type=\"text/css\" href=\"plug-in/websit/css/top.css\">\\r\\n<style type=\"text/css\">\\r\\n div#wrap {\\r\\n  height:340px;\\r\\n \\r\\n }\\r\\n.mydiv{\\r\\nmargin:0 auto;\\r\\nwidth:470px;\\r\\n/* border:#13b2ff 1px solid; */\\r\\nfont-size:30px;\\r\\nbackground:#fff;color:#13b2ff;filter:progid:DXImageTransform.Microsoft.Shadow(color=#909090,direction=120,strength=4);/*ie*/\\r\\n-moz-box-shadow: 2px 2px 10px #13b2ff;/*firefox*/\\r\\n-webkit-box-shadow: 2px 2px 10px #13b2ff;/*safari或chrome*/\\r\\nbox-shadow:2px 2px 10px #13b2ff;/*opera或ie9*/\\r\\n\\r\\n}\\r\\n\\r\\n</style>\\r\\n</head>\\r\\n<body>\\r\\n\\t<!-- 头部 -->\\r\\n\\t<div class=\"top\">\\r\\n\\t\\t<div class=\"wid\">\\r\\n\\t\\t\\t<span id=\"welcome\">您好！&nbsp;欢迎访问信用黑龙江 &nbsp;</span>&nbsp;<span id=\"dtSpan\"></span>\\r\\n\\t\\t</div>\\r\\n\\t</div>\\r\\n\\t<!-- 头部 END -->\\r\\n\\t<!-- 导航  -->\\r\\n\\t<div class=\"top_logo\">\\r\\n\\t<div class=\"logo te_wid\">\\r\\n\\t\\t<div>\\r\\n\\t\\t\\t<ul>\\r\\n\\t\\t\\t<li class=\"first\"><a href=\"index.html\">首页</a></li>\\r\\n\\t\\t\\t<li><a href=\"WebCreditQueryService.do?goEntSearch\">信用查询</a></li>\\r\\n\\t\\t\\t<li><a href=\"ivslogin.html\">信用核查</a></li>\\r\\n\\t\\t\\t<li class=\"on\"><a href=\"WebCreditQueryService.do?gongchecklists\">信用公示</a></li>\\r\\n\\t\\t\\t<li><a href=\"zcydt/index.html\">政策与动态</a></li>\\r\\n\\t\\t\\t<li><a href=\"ydyy.html\">移动应用</a></li>\\r\\n\\t\\t\\t<li><a href=\"WebCreditQueryService.do?gotousu\">异议申诉</a></li>\\r\\n\\r\\n\\t\\t\\t<li class=\"te\"></li>\\r\\n\\t\\t\\t</ul>\\r\\n\\t\\t\\t<h2>\\r\\n\\t\\t\\t <img src=\"plug-in/websit/img/index/logo.png\" alt=\"\" />\\r\\n\\t\\t\\t</h2>\\r\\n\\t\\t</div>\\r\\n\\t</div>\\r\\n\\t</div>\\r\\n\\t<div class=\"zhuzhu\"></div>\\r\\n\\t<div class=\"mimi\"></div>\\r\\n\\t<!-- 导航 END -->\\r\\n\\t<!-- 头部 END -->\\r\\n\\t<div  style=\"height:200px;\">\\r\\n\\t</div>\\r\\n\\t<div id=\"wrap\">\\r\\n\\t<div class=\"mydiv\">\\r\\n\\t\\t\\t<table width=\"50%\"  border=\"0\" align=\"center\" cellpadding=\"10\" cellspacing=\"0\">\\r\\n\\t\\t\\t  <tr>\\r\\n\\t\\t\\t\\t<td bgcolor=\"#A4A4A4\"><table width=\"100%\"  border=\"0\" cellpadding=\"0\" cellspacing=\"0\">\\r\\n\\t\\t\\t\\t  <tr>\\r\\n\\t\\t\\t\\t\\t<td bgcolor=\"#FFFFFF\"><table width=\"100%\"  border=\"0\" cellpadding=\"15\" cellspacing=\"1\">\\r\\n\\t\\t\\t\\t\\t  <tr>\\r\\n\\t\\t\\t\\t\\t\\t<td><img src=\"plug-in/websit/img/deny_dasp.jpg\"/></td>\\r\\n\\t\\t\\t\\t\\t  </tr>\\r\\n\\t\\t\\t\\t\\t</table></td>\\r\\n\\t\\t\\t\\t  </tr>\\r\\n\\t\\t\\t\\t</table></td>\\r\\n\\t\\t\\t  </tr>\\r\\n\\t\\t\\t</table>\\r\\n\\t</div>\\r\\n\\t</div>\\r\\n\\r\\n\\t<!-- 底部 -->\\r\\n\\t<div class=\"bottom\">\\r\\n\\t\\t<p style=\"margin-top:20px;\">Copyright ©2015 hljcredit, All Rights Reserved</p>\\r\\n\\t\\t<p style=\"margin-top:10px;\">主办：黑龙江省“诚信龙江”建设工作领导小组办公室 黑龙江省工商行政管理局&nbsp;&nbsp;<a href=\"http://www.miibeian.gov.cn/\"><font color=\"#ffffff\">黑ICP备09000756号</font></a></p>\\r\\n\\t\\t<script type=\"text/javascript\">document.write(unescape(\"%3Cspan id=\\'_ideConac\\' %3E%3C/span%3E%3Cscript src=\\'http://dcs.conac.cn/js/10/000/0000/40685298/CA100000000406852980003.js\\' type=\\'text/javascript\\'%3E%3C/script%3E\"));</script>\\r\\n\\t</div>\\r\\n\\t<!-- 底部 END  -->\\r\\n</body>\\r\\n<script type=\"text/javascript\" src=\"plug-in/websit/js/jquery.js\"></script>\\r\\n<script type=\"text/javascript\" src=\"plug-in/websit/js/jquery.cookie.js\"></script>\\r\\n<script type=\"text/javascript\" src=\"plug-in/websit/js/common.js\"></script>\\r\\n<script type=\"text/javascript\" src=\"plug-in/websit/js/GetCNDate.js\"></script>\\r\\n<script type=\"text/javascript\" src=\"plug-in/websit/js/GetToday.js\"></script>\\r\\n<script type=\"text/javascript\" src=\"plug-in/websit/js/myindex.js\"></script>\\r\\n<script type=\"text/javascript\">\\r\\n$(function() {\\r\\n\\ttongji(\"index\");\\r\\n});\\r\\n</script>\\r\\n</html>'"
      ]
     },
     "execution_count": 28,
     "metadata": {},
     "output_type": "execute_result"
    }
   ],
   "source": [
    "r.text"
   ]
  },
  {
   "cell_type": "code",
   "execution_count": 29,
   "metadata": {},
   "outputs": [],
   "source": [
    "html='''\n",
    "<!DOCTYPE html>\n",
    "<html>\n",
    "<head>\n",
    "<meta http-equiv=\"Content-Type\" content=\"text/html;charset=UTF-8\">\n",
    "<meta http-equiv = \"X-UA-Compatible\" content = \"IE=edge\" />\n",
    "<meta name=\"renderer\" content=\"ie-comp|webkit|ie-stand\">\n",
    "<title>信用黑龙江-信用公示</title>\n",
    "<link rel=\"stylesheet\" type=\"text/css\" href=\"plug-in/websit/css/base.css\">\n",
    "<link rel=\"stylesheet\" type=\"text/css\" href=\"plug-in/websit/css/style.css\">\n",
    "<link rel=\"stylesheet\" type=\"text/css\" href=\"plug-in/websit/css/entgsone.css\">\n",
    "<link rel=\"stylesheet\" type=\"text/css\" href=\"plug-in/websit/css/top.css\">\n",
    "<link rel=\"stylesheet\" type=\"text/css\" href=\"plug-in/websit/css/select.css\"> \n",
    "<script type=\"text/javascript\" src=\"plug-in/websit/js/jquery.js\"></script>\n",
    "<script type=\"text/javascript\" src=\"plug-in/websit/js/common.js\"></script>\n",
    "<style type=\"text/css\">\n",
    ".logo ul .te{\n",
    "\tmargin-left:310px;\n",
    "}\n",
    "#loading-mask{\n",
    "        position:absolute;\n",
    "        left:0;\n",
    "        top:0;\n",
    "        width:100%;\n",
    "        height:185%;\n",
    "        z-index:20000;\n",
    "        background-color:gray;\n",
    "        opacity:0.3;\n",
    "        display: none;\n",
    "    }\n",
    "    #loading{\n",
    "        position:absolute;\n",
    "        left:45%;\n",
    "        top:50%;\n",
    "        padding:2px;\n",
    "        z-index:20001;\n",
    "        height:auto;\n",
    "        display: none;\n",
    " }\n",
    "    #loading .loading-indicator{\n",
    "        background:white;\n",
    "        color:#444;\n",
    "        font:bold 20px tahoma,arial,helvetica;\n",
    "        padding:10px;\n",
    "        margin:0;\n",
    "        height:auto;\n",
    "        width:180px;\n",
    "    }\n",
    "    #loading-msg {\n",
    "        font: normal 18px arial,tahoma,sans-serif;\n",
    "    }\n",
    "</style>\n",
    "</style>\n",
    "<script type=\"text/javascript\">\n",
    "//定义编辑模式 doAdd:新增    doUpdate:修改\n",
    "var mode = '';\n",
    "//编写自定义JS代码\n",
    "</script>\n",
    "</head>\n",
    "<body>\n",
    "\n",
    "\n",
    "\t<!-- 头部 -->\n",
    "\t<div class=\"top\">\n",
    "\t\t<div class=\"wid\">\n",
    "\t\t\n",
    "\t\t\t\t\t<span id=\"welcome\">您好！<span id=\"userNameInfo\"></span>&nbsp;欢迎访问信用黑龙江 &nbsp;</span>&nbsp;<span id=\"dtSpan\"></span>\n",
    "\t\t\t\t\n",
    "\t\t\t\n",
    "\t\t</div>\n",
    "\t</div>\n",
    "\t<!-- 头部 END -->\n",
    "\t<!-- 导航  -->\n",
    "\t<div class=\"top_logo\">\n",
    "\t<div class=\"logo te_wid\">\n",
    "\t\t<div>\n",
    "\t\t\t<ul>\n",
    "\t\t\t<li class=\"first\"><a href=\"index.html\">首页</a>\n",
    "\t\t\t</li>\n",
    "\t\t\t<li ><a href=\"WebCreditQueryService.do?goEntSearch\" >信用查询</a>\n",
    "\t\t\t</li>\n",
    "\t\t\t<li ><a href=\"ivslogin.html\" >信用核查</a>\n",
    "\t\t\t</li>\n",
    "\t\t\t<li class='on' ><a href=\"WebCreditQueryService.do?gongchecklists\">信用公示</a>\n",
    "\t\t\t</li>\n",
    "\t\t\t<li ><a href=\"zcydt/index.html\" >政策与动态</a>\n",
    "\t\t\t</li>\n",
    "\t\t\t<li ><a href=\"ydyy.html\" >移动应用</a>\n",
    "\t\t\t</li>\n",
    "\t\t\t<li ><a href=\"WebCreditQueryService.do?gotousu\" >异议申诉</a>\n",
    "\t\t\t</li>\n",
    "\t\t\t\n",
    "\t\t\t\t<li class=\"te\"></li>\n",
    "\t\t\t\n",
    "\t\t\t</ul>\n",
    "\t\t\t<h2>\n",
    "\t\t\t\t<img src=\"plug-in/websit/img/index/logo.png\" alt=\"\" />\n",
    "\t\t\t</h2>\n",
    "\t\t</div>\n",
    "\t</div>\n",
    "\t</div>\n",
    "\t<div class=\"zhuzhu\"></div>\n",
    "\t<div class=\"mimi\"></div>\n",
    "\t<!-- 导航 END -->\n",
    "<div class=\"main-sub\"></div><!-- 各子页面的导航灰条 -->\n",
    "\t<div style=\"width:100%;height:919px\">\n",
    "\t\t<div class=\"qymc\">  \n",
    "\t\t\t<div class=\"nav te_wid\">\n",
    "\t\t\t\t<a class=\"home\" href=\"index.html\"></a>\n",
    "\t\t\t\t<a class=\"ted\" href=\"WebCreditQueryService.do?gongchecklists\">信用公示 &nbsp;></a>\n",
    "\t\t\t\t<a class=\"sed1\" href=\"#\">&nbsp;失信被执行人(全国)</a>\n",
    "\t\t\t</div>\n",
    "\t\t</div>\n",
    "\t\t<h2 align=\"center\" style=\"margin-top: 20px;margin-bottom: 20px;\"> <font style=\"color:#f2963f;font-size:20px;font-weight:bold;\">失信被执行人(全国)</font></h2>\n",
    "\t\t<table class=\"list_2_tab\">\n",
    "\t\t<tr cell spacing=\"0\" style=\"background:#50b5d1;height: 48px;color:white\">\n",
    "            <th class=\"l2_t_1\">序号</th>\n",
    "            <th class=\"l2_t_3\" >被执行人名称</th>\n",
    "            <th class=\"l2_t_3\" >身份证号</th>\n",
    "        </tr>\n",
    "\t\t\n",
    "\t\n",
    "\t\n",
    "\t\t\n",
    "\t\t\t<tr style=\"font-size: 13px;\">\n",
    "\t\t\t\t<td style=\"text-align:center;\">1</td>\n",
    "\t\t\t\t<td style=\"text-align:center;\">\t\t\t\t\t\n",
    "\t\t\t\t\t<a href='WebCreditQueryService.do?sxbzxrQgDetail&dsname=hlj&dt=1&icautiouid=1230610007463279426&srandRe=22WA1M0CMO0G9T254I5A28S3X0L0Y4'  style=\"text-decoration: underline;\" target='_blank' title='席兰芳' style=\"\">\t\n",
    "\t\t\t\t\t\t席兰芳\n",
    "\t\t\t\t\t</a>\n",
    "\t\t\t\t</td>\n",
    "\t\t\t\t<td style=\"text-align:center;\">\n",
    "\t\t\t\t\t150826******** 1225\n",
    "\t\t\t\t</td>\t\t\t\t\t\t\t\t\n",
    "\t\t\t</tr>\n",
    "\t\t\n",
    "\t\t\t<tr style=\"font-size: 13px;\">\n",
    "\t\t\t\t<td style=\"text-align:center;\">2</td>\n",
    "\t\t\t\t<td style=\"text-align:center;\">\t\t\t\t\t\n",
    "\t\t\t\t\t<a href='WebCreditQueryService.do?sxbzxrQgDetail&dsname=hlj&dt=1&icautiouid=1230610007463279434&srandRe=22WA1M0CMO0G9T254I5A28S3X0L0Y4'  style=\"text-decoration: underline;\" target='_blank' title='裴明亮' style=\"\">\t\n",
    "\t\t\t\t\t\t裴明亮\n",
    "\t\t\t\t\t</a>\n",
    "\t\t\t\t</td>\n",
    "\t\t\t\t<td style=\"text-align:center;\">\n",
    "\t\t\t\t\t152827******** 2110\n",
    "\t\t\t\t</td>\t\t\t\t\t\t\t\t\n",
    "\t\t\t</tr>\n",
    "\t\t\n",
    "\t\t\t<tr style=\"font-size: 13px;\">\n",
    "\t\t\t\t<td style=\"text-align:center;\">3</td>\n",
    "\t\t\t\t<td style=\"text-align:center;\">\t\t\t\t\t\n",
    "\t\t\t\t\t<a href='WebCreditQueryService.do?sxbzxrQgDetail&dsname=hlj&dt=1&icautiouid=1230610007463279443&srandRe=22WA1M0CMO0G9T254I5A28S3X0L0Y4'  style=\"text-decoration: underline;\" target='_blank' title='裴宇' style=\"\">\t\n",
    "\t\t\t\t\t\t裴宇\n",
    "\t\t\t\t\t</a>\n",
    "\t\t\t\t</td>\n",
    "\t\t\t\t<td style=\"text-align:center;\">\n",
    "\t\t\t\t\t152827******** 0017\n",
    "\t\t\t\t</td>\t\t\t\t\t\t\t\t\n",
    "\t\t\t</tr>\n",
    "\t\t\n",
    "\t\t\t<tr style=\"font-size: 13px;\">\n",
    "\t\t\t\t<td style=\"text-align:center;\">4</td>\n",
    "\t\t\t\t<td style=\"text-align:center;\">\t\t\t\t\t\n",
    "\t\t\t\t\t<a href='WebCreditQueryService.do?sxbzxrQgDetail&dsname=hlj&dt=1&icautiouid=1230610007463279450&srandRe=22WA1M0CMO0G9T254I5A28S3X0L0Y4'  style=\"text-decoration: underline;\" target='_blank' title='邱继成' style=\"\">\t\n",
    "\t\t\t\t\t\t邱继成\n",
    "\t\t\t\t\t</a>\n",
    "\t\t\t\t</td>\n",
    "\t\t\t\t<td style=\"text-align:center;\">\n",
    "\t\t\t\t\t152827******** 0031\n",
    "\t\t\t\t</td>\t\t\t\t\t\t\t\t\n",
    "\t\t\t</tr>\n",
    "\t\t\n",
    "\t\t\t<tr style=\"font-size: 13px;\">\n",
    "\t\t\t\t<td style=\"text-align:center;\">5</td>\n",
    "\t\t\t\t<td style=\"text-align:center;\">\t\t\t\t\t\n",
    "\t\t\t\t\t<a href='WebCreditQueryService.do?sxbzxrQgDetail&dsname=hlj&dt=1&icautiouid=1230610007463279458&srandRe=22WA1M0CMO0G9T254I5A28S3X0L0Y4'  style=\"text-decoration: underline;\" target='_blank' title='韩文斌' style=\"\">\t\n",
    "\t\t\t\t\t\t韩文斌\n",
    "\t\t\t\t\t</a>\n",
    "\t\t\t\t</td>\n",
    "\t\t\t\t<td style=\"text-align:center;\">\n",
    "\t\t\t\t\t152825******** 0031\n",
    "\t\t\t\t</td>\t\t\t\t\t\t\t\t\n",
    "\t\t\t</tr>\n",
    "\t\t\n",
    "\t\t\t<tr style=\"font-size: 13px;\">\n",
    "\t\t\t\t<td style=\"text-align:center;\">6</td>\n",
    "\t\t\t\t<td style=\"text-align:center;\">\t\t\t\t\t\n",
    "\t\t\t\t\t<a href='WebCreditQueryService.do?sxbzxrQgDetail&dsname=hlj&dt=1&icautiouid=1230610007463279466&srandRe=22WA1M0CMO0G9T254I5A28S3X0L0Y4'  style=\"text-decoration: underline;\" target='_blank' title='王金宝' style=\"\">\t\n",
    "\t\t\t\t\t\t王金宝\n",
    "\t\t\t\t\t</a>\n",
    "\t\t\t\t</td>\n",
    "\t\t\t\t<td style=\"text-align:center;\">\n",
    "\t\t\t\t\t152325******** 251X\n",
    "\t\t\t\t</td>\t\t\t\t\t\t\t\t\n",
    "\t\t\t</tr>\n",
    "\t\t\n",
    "\t\t\t<tr style=\"font-size: 13px;\">\n",
    "\t\t\t\t<td style=\"text-align:center;\">7</td>\n",
    "\t\t\t\t<td style=\"text-align:center;\">\t\t\t\t\t\n",
    "\t\t\t\t\t<a href='WebCreditQueryService.do?sxbzxrQgDetail&dsname=hlj&dt=1&icautiouid=1230610007463279473&srandRe=22WA1M0CMO0G9T254I5A28S3X0L0Y4'  style=\"text-decoration: underline;\" target='_blank' title='赵子龙' style=\"\">\t\n",
    "\t\t\t\t\t\t赵子龙\n",
    "\t\t\t\t\t</a>\n",
    "\t\t\t\t</td>\n",
    "\t\t\t\t<td style=\"text-align:center;\">\n",
    "\t\t\t\t\t152801******** 0398\n",
    "\t\t\t\t</td>\t\t\t\t\t\t\t\t\n",
    "\t\t\t</tr>\n",
    "\t\t\n",
    "\t\t\t<tr style=\"font-size: 13px;\">\n",
    "\t\t\t\t<td style=\"text-align:center;\">8</td>\n",
    "\t\t\t\t<td style=\"text-align:center;\">\t\t\t\t\t\n",
    "\t\t\t\t\t<a href='WebCreditQueryService.do?sxbzxrQgDetail&dsname=hlj&dt=1&icautiouid=1230610007463279479&srandRe=22WA1M0CMO0G9T254I5A28S3X0L0Y4'  style=\"text-decoration: underline;\" target='_blank' title='王生根' style=\"\">\t\n",
    "\t\t\t\t\t\t王生根\n",
    "\t\t\t\t\t</a>\n",
    "\t\t\t\t</td>\n",
    "\t\t\t\t<td style=\"text-align:center;\">\n",
    "\t\t\t\t\t642222******** 0819\n",
    "\t\t\t\t</td>\t\t\t\t\t\t\t\t\n",
    "\t\t\t</tr>\n",
    "\t\t\n",
    "\t\t\t<tr style=\"font-size: 13px;\">\n",
    "\t\t\t\t<td style=\"text-align:center;\">9</td>\n",
    "\t\t\t\t<td style=\"text-align:center;\">\t\t\t\t\t\n",
    "\t\t\t\t\t<a href='WebCreditQueryService.do?sxbzxrQgDetail&dsname=hlj&dt=1&icautiouid=1230610007463279487&srandRe=22WA1M0CMO0G9T254I5A28S3X0L0Y4'  style=\"text-decoration: underline;\" target='_blank' title='徐青年' style=\"\">\t\n",
    "\t\t\t\t\t\t徐青年\n",
    "\t\t\t\t\t</a>\n",
    "\t\t\t\t</td>\n",
    "\t\t\t\t<td style=\"text-align:center;\">\n",
    "\t\t\t\t\t152921******** 4516\n",
    "\t\t\t\t</td>\t\t\t\t\t\t\t\t\n",
    "\t\t\t</tr>\n",
    "\t\t\n",
    "\t\t\t<tr style=\"font-size: 13px;\">\n",
    "\t\t\t\t<td style=\"text-align:center;\">10</td>\n",
    "\t\t\t\t<td style=\"text-align:center;\">\t\t\t\t\t\n",
    "\t\t\t\t\t<a href='WebCreditQueryService.do?sxbzxrQgDetail&dsname=hlj&dt=1&icautiouid=1230610007463279494&srandRe=22WA1M0CMO0G9T254I5A28S3X0L0Y4'  style=\"text-decoration: underline;\" target='_blank' title='耿茂生' style=\"\">\t\n",
    "\t\t\t\t\t\t耿茂生\n",
    "\t\t\t\t\t</a>\n",
    "\t\t\t\t</td>\n",
    "\t\t\t\t<td style=\"text-align:center;\">\n",
    "\t\t\t\t\t152827******** 391X\n",
    "\t\t\t\t</td>\t\t\t\t\t\t\t\t\n",
    "\t\t\t</tr>\n",
    "\t\t\n",
    "\t\n",
    "</table>\n",
    "\t\t<div class=\"page\">\n",
    "\t\t\t<input type=\"hidden\" id=\"curPageNO\" value=\"1\">\n",
    "\t\t\t<input type=\"hidden\" id=\"count\" value=\"6196223\">\n",
    "\t\t\t<input type=\"hidden\" id=\"pageSize\" value=\"10\">\n",
    "\t\t\t<input type=\"hidden\" id=\"pageCount\" value=\"619623\">\n",
    "\t\t\t第1页 共619623页 \n",
    "\t\t\t\n",
    "\t\t\t\n",
    "\t\t\t\n",
    "\t\t\t<a onmousemove=\"style.cursor='hand'\" href=\"javascript:;\" onclick=\"toPage('3');\" style=\"\">下一页</a>\n",
    "\t\t\t<a href=\"javascript:;\" onclick=\"toPage('4');\">尾页</a>\n",
    "\t\t\t\n",
    "\t\t  \t共6196223条记录  &nbsp;\n",
    "\t\t\t\n",
    "\t\t\t<input type=\"text\" id=\"govalue\" value=\"\" style=\"width:30px;\">&nbsp;<input type=\"button\" value=\"go\" onclick=\"toPage('5');\"  style=\"border-radius:3px;height:23px;line-height:11px;\">\n",
    "\t\t\t\n",
    "\t\t\t\n",
    "\t\t<div style=\"display:none;\">\n",
    "\t\t<form id=\"myform\" action=\"WebCreditQueryService.do?gssearch&type=sxbzxrqg&detail=true&sxbzxrmc=\" method=\"post\">\n",
    "\t\t\t<!-- <input id=\"param1\" type=\"hidden\" name=\"xkxzxdrmc\">\n",
    "\t\t\t<input id=\"param2\" type=\"hidden\" name=\"xktyshxydm\" > -->\n",
    "\t\t\t<input id=\"param3\" type=\"hidden\" name=\"proselect\" >\n",
    "\t\t\t<input id=\"param5\" type=\"hidden\" name=\"cityselect\" >\n",
    "\t\t \t<input id=\"param6\" type=\"hidden\" name=\"disselect\" >\n",
    "\t\t\t<input id=\"param4\" type=\"hidden\" name=\"curPageNO\" > \n",
    "\t\t</form>\n",
    "\t\t</div>\n",
    "\t\t</div>\n",
    "</div>\n",
    "\n",
    "<!-- 底部 -->\n",
    "<div class=\"bottom\">\n",
    "\t<p style=\"margin-top:20px;\">Copyright ©2015 hljcredit, All Rights Reserved</p>\n",
    "\t<p style=\"margin-top:10px;\">主办：黑龙江省“诚信龙江”建设工作领导小组办公室 黑龙江省工商行政管理局&nbsp;&nbsp;<a href=\"http://www.miibeian.gov.cn/\"><font color=\"#ffffff\">黑ICP备09000756号</font></a></p>\n",
    "\t<script type=\"text/javascript\">document.write(unescape(\"%3Cspan id='_ideConac' %3E%3C/span%3E%3Cscript src='http://dcs.conac.cn/js/10/000/0000/40685298/CA100000000406852980003.js' type='text/javascript'%3E%3C/script%3E\"));</script>\n",
    "</div>\n",
    "\n",
    "<!-- 底部 END  -->\n",
    "\n",
    "\t\n",
    "</body>\n",
    "<script src = \"webpage/credit/web/bdata/tBWebBdata.js\"></script>\t\t\n",
    "<script type=\"text/javascript\" src=\"plug-in/websit/js/jquery.js\"></script>\n",
    "<script type=\"text/javascript\" src=\"plug-in/websit/js/common.js\"></script>\n",
    "<script language=\"JavaScript\" src=\"plug-in/websit/js/jquery.cookie.js\"></script>\n",
    "<script type=\"text/javascript\" src=\"plug-in/websit/js/GetCNDate.js\"></script>\n",
    "<script type=\"text/javascript\" src=\"plug-in/websit/js/GetToday.js\"></script>\n",
    "<script src=\"plug-in/websit/js/myindex.js\"></script>\n",
    "<script type=\"text/javascript\" src=\"plug-in/websit/js/shieldcommon.js\"></script>\n",
    "<script type=\"text/javascript\" src=\"plug-in/websit/js/logout.js\"></script>\n",
    "<script language=\"JavaScript\" src=\"plug-in/websit/js/flowinfo.js\"></script>\n",
    "<script type=\"text/javascript\">\n",
    "$(function() {\n",
    "\ttongji(\"xycx\");\n",
    "});\n",
    "</script>\n",
    "<script type=\"text/javascript\">\n",
    "\tfunction toPage(num1) {\n",
    "\t\tvar action=$(\"#myform\");\n",
    "\t\t/* $(\"#param1\").val(parent.$(\"#xkxzxdrmc\").val());\t */\t\n",
    "\t\t$(\"#param2\").val(parent.$(\"#xktyshxydm\").val());\n",
    "\t\t$(\"#param3\").val(parent.$(\"#proselect\").val());\t\n",
    "\t\t$(\"#param5\").val(parent.$(\"#cityselect\").val());\n",
    "\t\t$(\"#param6\").val(parent.$(\"#disselect\").val());\n",
    "\t\tvar currpage=$(\"#curPageNO\").val();\n",
    "\t\tcurrpage=parseInt(currpage);\n",
    "\t\tvar pageCount=$(\"#pageCount\").val();\n",
    "\t\tpageCount=parseInt(pageCount);\n",
    "\t\tif(num1=='1') {\n",
    "\t\t\t$(\"#param4\").val(\"1\");\n",
    "\t\t\taction.submit();\n",
    "\t\t}else if(num1=='2') {\n",
    "\t\t\tif(currpage>1) {\n",
    "\t\t\t\tcurrpage=currpage-1;\n",
    "\t\t\t\t$(\"#param4\").val(currpage);\n",
    "\t\t\t\taction.submit();\n",
    "\t\t\t}\n",
    "\t\t\t\n",
    "\t\t}else if(num1=='3') {\n",
    "\t\t\tif(currpage<pageCount) {\n",
    "\t\t\t\tcurrpage=currpage+1;\n",
    "\t\t\t\t$(\"#param4\").val(currpage);\n",
    "\t\t\t\taction.submit();\n",
    "\t\t\t}\n",
    "\t\t}else if(num1=='4') {\n",
    "\t\t\t$(\"#param4\").val(pageCount);\n",
    "\t\t\taction.submit();\n",
    "\t\t}else if(num1=='5') {\n",
    "\t\t\tvar govalue=$.trim($(\"#govalue\").val());\n",
    "\t\t\tif(govalue==\"\") {\n",
    "\t\t\t\talert(\"请输入有效的页数\");\n",
    "\t\t\t\treturn;\n",
    "\t\t\t}\n",
    "\t\t\tif(isNaN(govalue)||parseInt(govalue)<1||parseInt(govalue)>pageCount) {\n",
    "\t\t\t\talert(\"请输入有效的页数\");\n",
    "\t\t\t\treturn;\n",
    "\t\t\t}\n",
    "\t\t\t$(\"#param4\").val(govalue);\n",
    "\t\t\taction.submit();\n",
    "\t\t}\n",
    "\t}\n",
    "\n",
    "</script>\n",
    "</html>\n",
    "'''"
   ]
  },
  {
   "cell_type": "code",
   "execution_count": 30,
   "metadata": {},
   "outputs": [],
   "source": [
    "from lxml import etree"
   ]
  },
  {
   "cell_type": "code",
   "execution_count": 31,
   "metadata": {},
   "outputs": [],
   "source": [
    "tree = etree.HTML(html)"
   ]
  },
  {
   "cell_type": "code",
   "execution_count": 33,
   "metadata": {},
   "outputs": [
    {
     "data": {
      "text/plain": [
       "'WebCreditQueryService.do?sxbzxrQgDetail&dsname=hlj&dt=1&icautiouid=1230610007463279426&srandRe=22WA1M0CMO0G9T254I5A28S3X0L0Y4'"
      ]
     },
     "execution_count": 33,
     "metadata": {},
     "output_type": "execute_result"
    }
   ],
   "source": [
    "tree.xpath('//table[@class=\"list_2_tab\"]/tr[2]/td[2]/a/@href')[0]"
   ]
  },
  {
   "cell_type": "code",
   "execution_count": null,
   "metadata": {},
   "outputs": [],
   "source": []
  }
 ],
 "metadata": {
  "kernelspec": {
   "display_name": "Python 3",
   "language": "python",
   "name": "python3"
  },
  "language_info": {
   "codemirror_mode": {
    "name": "ipython",
    "version": 3
   },
   "file_extension": ".py",
   "mimetype": "text/x-python",
   "name": "python",
   "nbconvert_exporter": "python",
   "pygments_lexer": "ipython3",
   "version": "3.6.2"
  }
 },
 "nbformat": 4,
 "nbformat_minor": 2
}
