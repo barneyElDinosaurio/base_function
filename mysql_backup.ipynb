{
 "cells": [
  {
   "cell_type": "code",
   "execution_count": 1,
   "metadata": {},
   "outputs": [
    {
     "name": "stdout",
     "output_type": "stream",
     "text": [
      "█\r"
     ]
    }
   ],
   "source": [
    "from sqlalchemy import create_engine\n",
    "import config\n",
    "import pandas as pd\n",
    "import pymysql\n",
    "from setting import get_mysql_conn"
   ]
  },
  {
   "cell_type": "code",
   "execution_count": 92,
   "metadata": {},
   "outputs": [],
   "source": [
    "db1='db_stock'\n",
    "win101 = create_engine(\n",
    "        'mysql+pymysql://{}:{}@{}:{}/{}?charset=utf8'.format(config.mysql_user_101,config.mysql_password_101,\n",
    "                                                             config.mysql_host_101,3306, db1))"
   ]
  },
  {
   "cell_type": "code",
   "execution_count": 2,
   "metadata": {},
   "outputs": [],
   "source": [
    "db0='db_stock'\n",
    "local=create_engine(\n",
    "        'mysql+pymysql://{}:{}@{}:{}/{}?charset=utf8'.format('root',config.localpassword,\n",
    "                                                             config.localhost,3306, db0))"
   ]
  },
  {
   "cell_type": "code",
   "execution_count": 130,
   "metadata": {},
   "outputs": [],
   "source": [
    "# db_ali='db_stock'\n",
    "alibaba=create_engine(\n",
    "        'mysql+pymysql://{}:{}@{}:{}/{}?charset=utf8'.format(config.ali_user,config.ali_pass,\n",
    "                                                             config.ali_host,3306, config.ali_db))"
   ]
  },
  {
   "cell_type": "code",
   "execution_count": 104,
   "metadata": {},
   "outputs": [],
   "source": [
    "db2='db_news'\n",
    "win101_2 = create_engine(\n",
    "        'mysql+pymysql://{}:{}@{}:{}/{}?charset=utf8'.format(config.mysql_user_101,config.mysql_password_101,\n",
    "                                                             config.mysql_host_101,3306, db2))"
   ]
  },
  {
   "cell_type": "code",
   "execution_count": 3,
   "metadata": {},
   "outputs": [
    {
     "name": "stderr",
     "output_type": "stream",
     "text": [
      "c:\\python3_64\\lib\\site-packages\\pymysql\\cursors.py:170: Warning: (1366, \"Incorrect string value: '\\\\xD6\\\\xD0\\\\xB9\\\\xFA\\\\xB1\\\\xEA...' for column 'VARIABLE_VALUE' at row 480\")\n",
      "  result = self._query(query)\n"
     ]
    }
   ],
   "source": [
    "local_df = pd.read_sql('tb_cnstock',con=local)"
   ]
  },
  {
   "cell_type": "code",
   "execution_count": 97,
   "metadata": {},
   "outputs": [],
   "source": [
    "local_df_new = pd.read_sql('tb_cnstock_new',con=local)"
   ]
  },
  {
   "cell_type": "code",
   "execution_count": 98,
   "metadata": {
    "scrolled": true
   },
   "outputs": [
    {
     "name": "stderr",
     "output_type": "stream",
     "text": [
      "c:\\python3_64\\lib\\site-packages\\pymysql\\cursors.py:170: Warning: (1366, \"Incorrect string value: '\\\\xD6\\\\xD0\\\\xB9\\\\xFA\\\\xB1\\\\xEA...' for column 'VARIABLE_VALUE' at row 518\")\n",
      "  result = self._query(query)\n"
     ]
    }
   ],
   "source": [
    "df_101 = pd.read_sql('tb_cnstock',con=win101)"
   ]
  },
  {
   "cell_type": "code",
   "execution_count": 105,
   "metadata": {
    "scrolled": true
   },
   "outputs": [
    {
     "name": "stderr",
     "output_type": "stream",
     "text": [
      "c:\\python3_64\\lib\\site-packages\\pymysql\\cursors.py:170: Warning: (1366, \"Incorrect string value: '\\\\xD6\\\\xD0\\\\xB9\\\\xFA\\\\xB1\\\\xEA...' for column 'VARIABLE_VALUE' at row 518\")\n",
      "  result = self._query(query)\n"
     ]
    }
   ],
   "source": [
    "df_101_new = pd.read_sql('tb_cnstock',con=win101_2)"
   ]
  },
  {
   "cell_type": "code",
   "execution_count": 107,
   "metadata": {},
   "outputs": [],
   "source": [
    "ali_df = pd.read_sql('tb_cnstock',con=alibaba)"
   ]
  },
  {
   "cell_type": "code",
   "execution_count": 108,
   "metadata": {},
   "outputs": [
    {
     "data": {
      "text/plain": [
       "1785"
      ]
     },
     "execution_count": 108,
     "metadata": {},
     "output_type": "execute_result"
    }
   ],
   "source": [
    "len(local_df)"
   ]
  },
  {
   "cell_type": "code",
   "execution_count": 109,
   "metadata": {},
   "outputs": [
    {
     "data": {
      "text/plain": [
       "14963"
      ]
     },
     "execution_count": 109,
     "metadata": {},
     "output_type": "execute_result"
    }
   ],
   "source": [
    "len(local_df_new)"
   ]
  },
  {
   "cell_type": "code",
   "execution_count": 110,
   "metadata": {
    "scrolled": true
   },
   "outputs": [
    {
     "data": {
      "text/plain": [
       "14204"
      ]
     },
     "execution_count": 110,
     "metadata": {},
     "output_type": "execute_result"
    }
   ],
   "source": [
    "len(df_101)"
   ]
  },
  {
   "cell_type": "code",
   "execution_count": 111,
   "metadata": {},
   "outputs": [
    {
     "data": {
      "text/plain": [
       "8518"
      ]
     },
     "execution_count": 111,
     "metadata": {},
     "output_type": "execute_result"
    }
   ],
   "source": [
    "len(df_101_new)"
   ]
  },
  {
   "cell_type": "code",
   "execution_count": 112,
   "metadata": {},
   "outputs": [
    {
     "data": {
      "text/plain": [
       "886"
      ]
     },
     "execution_count": 112,
     "metadata": {},
     "output_type": "execute_result"
    }
   ],
   "source": [
    "len(ali_df)"
   ]
  },
  {
   "cell_type": "code",
   "execution_count": 113,
   "metadata": {},
   "outputs": [],
   "source": [
    "my_df = pd.concat([local_df,local_df_new,df_101,df_101_new,ali_df])"
   ]
  },
  {
   "cell_type": "code",
   "execution_count": 114,
   "metadata": {},
   "outputs": [
    {
     "data": {
      "text/plain": [
       "40356"
      ]
     },
     "execution_count": 114,
     "metadata": {},
     "output_type": "execute_result"
    }
   ],
   "source": [
    "len(my_df)"
   ]
  },
  {
   "cell_type": "code",
   "execution_count": 115,
   "metadata": {},
   "outputs": [],
   "source": [
    "temp_df = my_df.drop_duplicates(['URL'])"
   ]
  },
  {
   "cell_type": "code",
   "execution_count": 116,
   "metadata": {},
   "outputs": [
    {
     "data": {
      "text/plain": [
       "15911"
      ]
     },
     "execution_count": 116,
     "metadata": {},
     "output_type": "execute_result"
    }
   ],
   "source": [
    "len(temp_df)"
   ]
  },
  {
   "cell_type": "code",
   "execution_count": 74,
   "metadata": {},
   "outputs": [],
   "source": [
    "new_df = pd.concat([local_df,remote_df,ali_df,df_101_db_news])"
   ]
  },
  {
   "cell_type": "code",
   "execution_count": 75,
   "metadata": {
    "scrolled": true
   },
   "outputs": [
    {
     "data": {
      "text/plain": [
       "31079"
      ]
     },
     "execution_count": 75,
     "metadata": {},
     "output_type": "execute_result"
    }
   ],
   "source": [
    "len(new_df)"
   ]
  },
  {
   "cell_type": "code",
   "execution_count": 16,
   "metadata": {},
   "outputs": [
    {
     "data": {
      "text/plain": [
       "29643"
      ]
     },
     "execution_count": 16,
     "metadata": {},
     "output_type": "execute_result"
    }
   ],
   "source": [
    "len(new_df)"
   ]
  },
  {
   "cell_type": "code",
   "execution_count": 76,
   "metadata": {},
   "outputs": [],
   "source": [
    "my_df = new_df.drop_duplicates(['Title','URL'])"
   ]
  },
  {
   "cell_type": "code",
   "execution_count": 77,
   "metadata": {
    "scrolled": true
   },
   "outputs": [
    {
     "data": {
      "text/plain": [
       "15849"
      ]
     },
     "execution_count": 77,
     "metadata": {},
     "output_type": "execute_result"
    }
   ],
   "source": [
    "len(my_df)"
   ]
  },
  {
   "cell_type": "code",
   "execution_count": 78,
   "metadata": {},
   "outputs": [],
   "source": [
    "df1=my_df.drop_duplicates('URL')"
   ]
  },
  {
   "cell_type": "code",
   "execution_count": 126,
   "metadata": {},
   "outputs": [
    {
     "data": {
      "text/plain": [
       "15849"
      ]
     },
     "execution_count": 126,
     "metadata": {},
     "output_type": "execute_result"
    }
   ],
   "source": [
    "len(df1)"
   ]
  },
  {
   "cell_type": "code",
   "execution_count": null,
   "metadata": {
    "scrolled": true
   },
   "outputs": [],
   "source": [
    "my_df.head(20)"
   ]
  },
  {
   "cell_type": "code",
   "execution_count": 127,
   "metadata": {},
   "outputs": [],
   "source": [
    "my_df1 = df1.reset_index(drop=True)"
   ]
  },
  {
   "cell_type": "code",
   "execution_count": 118,
   "metadata": {},
   "outputs": [
    {
     "data": {
      "text/html": [
       "<div>\n",
       "<style scoped>\n",
       "    .dataframe tbody tr th:only-of-type {\n",
       "        vertical-align: middle;\n",
       "    }\n",
       "\n",
       "    .dataframe tbody tr th {\n",
       "        vertical-align: top;\n",
       "    }\n",
       "\n",
       "    .dataframe thead th {\n",
       "        text-align: right;\n",
       "    }\n",
       "</style>\n",
       "<table border=\"1\" class=\"dataframe\">\n",
       "  <thead>\n",
       "    <tr style=\"text-align: right;\">\n",
       "      <th></th>\n",
       "      <th>Date</th>\n",
       "      <th>Title</th>\n",
       "      <th>URL</th>\n",
       "    </tr>\n",
       "  </thead>\n",
       "  <tbody>\n",
       "    <tr>\n",
       "      <th>0</th>\n",
       "      <td>2018-05-24 08:17:00</td>\n",
       "      <td>东方园林：从未发生过债券和银行贷款到期不能兑付问题</td>\n",
       "      <td>http://ggjd.cnstock.com/company/scp_ggjd/tjd_g...</td>\n",
       "    </tr>\n",
       "    <tr>\n",
       "      <th>1</th>\n",
       "      <td>2018-05-24 09:20:00</td>\n",
       "      <td>3家公司临停 海南橡胶因重要事项未公告</td>\n",
       "      <td>http://ggjd.cnstock.com/company/scp_ggjd/tjd_g...</td>\n",
       "    </tr>\n",
       "    <tr>\n",
       "      <th>2</th>\n",
       "      <td>2018-05-24 17:49:00</td>\n",
       "      <td>艾华集团两高管拟合计减持不超0.49%股份</td>\n",
       "      <td>http://ggjd.cnstock.com/company/scp_ggjd/tjd_g...</td>\n",
       "    </tr>\n",
       "    <tr>\n",
       "      <th>3</th>\n",
       "      <td>2018-05-24 18:01:00</td>\n",
       "      <td>秦安股份部分董监高拟合计减持不超0.32%股份</td>\n",
       "      <td>http://ggjd.cnstock.com/company/scp_ggjd/tjd_g...</td>\n",
       "    </tr>\n",
       "    <tr>\n",
       "      <th>4</th>\n",
       "      <td>2018-05-24 11:48:00</td>\n",
       "      <td>新筑股份战略“牵手”中铁二院</td>\n",
       "      <td>http://ggjd.cnstock.com/company/scp_ggjd/tjd_g...</td>\n",
       "    </tr>\n",
       "  </tbody>\n",
       "</table>\n",
       "</div>"
      ],
      "text/plain": [
       "                 Date                      Title  \\\n",
       "0 2018-05-24 08:17:00  东方园林：从未发生过债券和银行贷款到期不能兑付问题   \n",
       "1 2018-05-24 09:20:00        3家公司临停 海南橡胶因重要事项未公告   \n",
       "2 2018-05-24 17:49:00      艾华集团两高管拟合计减持不超0.49%股份   \n",
       "3 2018-05-24 18:01:00    秦安股份部分董监高拟合计减持不超0.32%股份   \n",
       "4 2018-05-24 11:48:00             新筑股份战略“牵手”中铁二院   \n",
       "\n",
       "                                                 URL  \n",
       "0  http://ggjd.cnstock.com/company/scp_ggjd/tjd_g...  \n",
       "1  http://ggjd.cnstock.com/company/scp_ggjd/tjd_g...  \n",
       "2  http://ggjd.cnstock.com/company/scp_ggjd/tjd_g...  \n",
       "3  http://ggjd.cnstock.com/company/scp_ggjd/tjd_g...  \n",
       "4  http://ggjd.cnstock.com/company/scp_ggjd/tjd_g...  "
      ]
     },
     "execution_count": 118,
     "metadata": {},
     "output_type": "execute_result"
    }
   ],
   "source": [
    "my_df1.head()"
   ]
  },
  {
   "cell_type": "code",
   "execution_count": 128,
   "metadata": {
    "scrolled": false
   },
   "outputs": [
    {
     "name": "stdout",
     "output_type": "stream",
     "text": [
      "<class 'pandas.core.frame.DataFrame'>\n",
      "RangeIndex: 15849 entries, 0 to 15848\n",
      "Data columns (total 3 columns):\n",
      "Date     15849 non-null datetime64[ns]\n",
      "Title    15849 non-null object\n",
      "URL      15849 non-null object\n",
      "dtypes: datetime64[ns](1), object(2)\n",
      "memory usage: 371.5+ KB\n"
     ]
    }
   ],
   "source": [
    "my_df1.info()"
   ]
  },
  {
   "cell_type": "code",
   "execution_count": 132,
   "metadata": {
    "scrolled": true
   },
   "outputs": [],
   "source": [
    "my_df1.to_sql('tb_cnstock',con=local,index=None)"
   ]
  },
  {
   "cell_type": "code",
   "execution_count": 52,
   "metadata": {},
   "outputs": [],
   "source": [
    "db='db_stock'\n",
    "local_conn =pymysql.connect(config.localhost, 'root', config.localpassword, db, charset='utf8')\n",
    "cur = local_conn.cursor()"
   ]
  },
  {
   "cell_type": "code",
   "execution_count": 53,
   "metadata": {
    "scrolled": true
   },
   "outputs": [
    {
     "ename": "IntegrityError",
     "evalue": "(1062, \"Duplicate entry 'http://ggjd.cnstock.com/company/scp_ggjd/tjd_ggkx/201805/4225611' for key 'PRIMARY'\")",
     "output_type": "error",
     "traceback": [
      "\u001b[1;31m---------------------------------------------------------------------------\u001b[0m",
      "\u001b[1;31mIntegrityError\u001b[0m                            Traceback (most recent call last)",
      "\u001b[1;32m<ipython-input-53-4bdeb4582b0b>\u001b[0m in \u001b[0;36m<module>\u001b[1;34m()\u001b[0m\n\u001b[0;32m      6\u001b[0m     INSERT INTO tb_cnstock (Date,Title,URL ) VALUES(\\'%s\\',\\'%s\\',\\'%s\\');''' % (\n\u001b[0;32m      7\u001b[0m                     date,title,url)\n\u001b[1;32m----> 8\u001b[1;33m     \u001b[0mcur\u001b[0m\u001b[1;33m.\u001b[0m\u001b[0mexecute\u001b[0m\u001b[1;33m(\u001b[0m\u001b[0mcmd\u001b[0m\u001b[1;33m)\u001b[0m\u001b[1;33m\u001b[0m\u001b[0m\n\u001b[0m\u001b[0;32m      9\u001b[0m \u001b[1;33m\u001b[0m\u001b[0m\n\u001b[0;32m     10\u001b[0m     \u001b[1;32mtry\u001b[0m\u001b[1;33m:\u001b[0m\u001b[1;33m\u001b[0m\u001b[0m\n",
      "\u001b[1;32mc:\\python3_64\\lib\\site-packages\\pymysql\\cursors.py\u001b[0m in \u001b[0;36mexecute\u001b[1;34m(self, query, args)\u001b[0m\n\u001b[0;32m    168\u001b[0m         \u001b[0mquery\u001b[0m \u001b[1;33m=\u001b[0m \u001b[0mself\u001b[0m\u001b[1;33m.\u001b[0m\u001b[0mmogrify\u001b[0m\u001b[1;33m(\u001b[0m\u001b[0mquery\u001b[0m\u001b[1;33m,\u001b[0m \u001b[0margs\u001b[0m\u001b[1;33m)\u001b[0m\u001b[1;33m\u001b[0m\u001b[0m\n\u001b[0;32m    169\u001b[0m \u001b[1;33m\u001b[0m\u001b[0m\n\u001b[1;32m--> 170\u001b[1;33m         \u001b[0mresult\u001b[0m \u001b[1;33m=\u001b[0m \u001b[0mself\u001b[0m\u001b[1;33m.\u001b[0m\u001b[0m_query\u001b[0m\u001b[1;33m(\u001b[0m\u001b[0mquery\u001b[0m\u001b[1;33m)\u001b[0m\u001b[1;33m\u001b[0m\u001b[0m\n\u001b[0m\u001b[0;32m    171\u001b[0m         \u001b[0mself\u001b[0m\u001b[1;33m.\u001b[0m\u001b[0m_executed\u001b[0m \u001b[1;33m=\u001b[0m \u001b[0mquery\u001b[0m\u001b[1;33m\u001b[0m\u001b[0m\n\u001b[0;32m    172\u001b[0m         \u001b[1;32mreturn\u001b[0m \u001b[0mresult\u001b[0m\u001b[1;33m\u001b[0m\u001b[0m\n",
      "\u001b[1;32mc:\\python3_64\\lib\\site-packages\\pymysql\\cursors.py\u001b[0m in \u001b[0;36m_query\u001b[1;34m(self, q)\u001b[0m\n\u001b[0;32m    326\u001b[0m         \u001b[0mself\u001b[0m\u001b[1;33m.\u001b[0m\u001b[0m_last_executed\u001b[0m \u001b[1;33m=\u001b[0m \u001b[0mq\u001b[0m\u001b[1;33m\u001b[0m\u001b[0m\n\u001b[0;32m    327\u001b[0m         \u001b[0mself\u001b[0m\u001b[1;33m.\u001b[0m\u001b[0m_clear_result\u001b[0m\u001b[1;33m(\u001b[0m\u001b[1;33m)\u001b[0m\u001b[1;33m\u001b[0m\u001b[0m\n\u001b[1;32m--> 328\u001b[1;33m         \u001b[0mconn\u001b[0m\u001b[1;33m.\u001b[0m\u001b[0mquery\u001b[0m\u001b[1;33m(\u001b[0m\u001b[0mq\u001b[0m\u001b[1;33m)\u001b[0m\u001b[1;33m\u001b[0m\u001b[0m\n\u001b[0m\u001b[0;32m    329\u001b[0m         \u001b[0mself\u001b[0m\u001b[1;33m.\u001b[0m\u001b[0m_do_get_result\u001b[0m\u001b[1;33m(\u001b[0m\u001b[1;33m)\u001b[0m\u001b[1;33m\u001b[0m\u001b[0m\n\u001b[0;32m    330\u001b[0m         \u001b[1;32mreturn\u001b[0m \u001b[0mself\u001b[0m\u001b[1;33m.\u001b[0m\u001b[0mrowcount\u001b[0m\u001b[1;33m\u001b[0m\u001b[0m\n",
      "\u001b[1;32mc:\\python3_64\\lib\\site-packages\\pymysql\\connections.py\u001b[0m in \u001b[0;36mquery\u001b[1;34m(self, sql, unbuffered)\u001b[0m\n\u001b[0;32m    514\u001b[0m                 \u001b[0msql\u001b[0m \u001b[1;33m=\u001b[0m \u001b[0msql\u001b[0m\u001b[1;33m.\u001b[0m\u001b[0mencode\u001b[0m\u001b[1;33m(\u001b[0m\u001b[0mself\u001b[0m\u001b[1;33m.\u001b[0m\u001b[0mencoding\u001b[0m\u001b[1;33m,\u001b[0m \u001b[1;34m'surrogateescape'\u001b[0m\u001b[1;33m)\u001b[0m\u001b[1;33m\u001b[0m\u001b[0m\n\u001b[0;32m    515\u001b[0m         \u001b[0mself\u001b[0m\u001b[1;33m.\u001b[0m\u001b[0m_execute_command\u001b[0m\u001b[1;33m(\u001b[0m\u001b[0mCOMMAND\u001b[0m\u001b[1;33m.\u001b[0m\u001b[0mCOM_QUERY\u001b[0m\u001b[1;33m,\u001b[0m \u001b[0msql\u001b[0m\u001b[1;33m)\u001b[0m\u001b[1;33m\u001b[0m\u001b[0m\n\u001b[1;32m--> 516\u001b[1;33m         \u001b[0mself\u001b[0m\u001b[1;33m.\u001b[0m\u001b[0m_affected_rows\u001b[0m \u001b[1;33m=\u001b[0m \u001b[0mself\u001b[0m\u001b[1;33m.\u001b[0m\u001b[0m_read_query_result\u001b[0m\u001b[1;33m(\u001b[0m\u001b[0munbuffered\u001b[0m\u001b[1;33m=\u001b[0m\u001b[0munbuffered\u001b[0m\u001b[1;33m)\u001b[0m\u001b[1;33m\u001b[0m\u001b[0m\n\u001b[0m\u001b[0;32m    517\u001b[0m         \u001b[1;32mreturn\u001b[0m \u001b[0mself\u001b[0m\u001b[1;33m.\u001b[0m\u001b[0m_affected_rows\u001b[0m\u001b[1;33m\u001b[0m\u001b[0m\n\u001b[0;32m    518\u001b[0m \u001b[1;33m\u001b[0m\u001b[0m\n",
      "\u001b[1;32mc:\\python3_64\\lib\\site-packages\\pymysql\\connections.py\u001b[0m in \u001b[0;36m_read_query_result\u001b[1;34m(self, unbuffered)\u001b[0m\n\u001b[0;32m    725\u001b[0m         \u001b[1;32melse\u001b[0m\u001b[1;33m:\u001b[0m\u001b[1;33m\u001b[0m\u001b[0m\n\u001b[0;32m    726\u001b[0m             \u001b[0mresult\u001b[0m \u001b[1;33m=\u001b[0m \u001b[0mMySQLResult\u001b[0m\u001b[1;33m(\u001b[0m\u001b[0mself\u001b[0m\u001b[1;33m)\u001b[0m\u001b[1;33m\u001b[0m\u001b[0m\n\u001b[1;32m--> 727\u001b[1;33m             \u001b[0mresult\u001b[0m\u001b[1;33m.\u001b[0m\u001b[0mread\u001b[0m\u001b[1;33m(\u001b[0m\u001b[1;33m)\u001b[0m\u001b[1;33m\u001b[0m\u001b[0m\n\u001b[0m\u001b[0;32m    728\u001b[0m         \u001b[0mself\u001b[0m\u001b[1;33m.\u001b[0m\u001b[0m_result\u001b[0m \u001b[1;33m=\u001b[0m \u001b[0mresult\u001b[0m\u001b[1;33m\u001b[0m\u001b[0m\n\u001b[0;32m    729\u001b[0m         \u001b[1;32mif\u001b[0m \u001b[0mresult\u001b[0m\u001b[1;33m.\u001b[0m\u001b[0mserver_status\u001b[0m \u001b[1;32mis\u001b[0m \u001b[1;32mnot\u001b[0m \u001b[1;32mNone\u001b[0m\u001b[1;33m:\u001b[0m\u001b[1;33m\u001b[0m\u001b[0m\n",
      "\u001b[1;32mc:\\python3_64\\lib\\site-packages\\pymysql\\connections.py\u001b[0m in \u001b[0;36mread\u001b[1;34m(self)\u001b[0m\n\u001b[0;32m   1064\u001b[0m     \u001b[1;32mdef\u001b[0m \u001b[0mread\u001b[0m\u001b[1;33m(\u001b[0m\u001b[0mself\u001b[0m\u001b[1;33m)\u001b[0m\u001b[1;33m:\u001b[0m\u001b[1;33m\u001b[0m\u001b[0m\n\u001b[0;32m   1065\u001b[0m         \u001b[1;32mtry\u001b[0m\u001b[1;33m:\u001b[0m\u001b[1;33m\u001b[0m\u001b[0m\n\u001b[1;32m-> 1066\u001b[1;33m             \u001b[0mfirst_packet\u001b[0m \u001b[1;33m=\u001b[0m \u001b[0mself\u001b[0m\u001b[1;33m.\u001b[0m\u001b[0mconnection\u001b[0m\u001b[1;33m.\u001b[0m\u001b[0m_read_packet\u001b[0m\u001b[1;33m(\u001b[0m\u001b[1;33m)\u001b[0m\u001b[1;33m\u001b[0m\u001b[0m\n\u001b[0m\u001b[0;32m   1067\u001b[0m \u001b[1;33m\u001b[0m\u001b[0m\n\u001b[0;32m   1068\u001b[0m             \u001b[1;32mif\u001b[0m \u001b[0mfirst_packet\u001b[0m\u001b[1;33m.\u001b[0m\u001b[0mis_ok_packet\u001b[0m\u001b[1;33m(\u001b[0m\u001b[1;33m)\u001b[0m\u001b[1;33m:\u001b[0m\u001b[1;33m\u001b[0m\u001b[0m\n",
      "\u001b[1;32mc:\\python3_64\\lib\\site-packages\\pymysql\\connections.py\u001b[0m in \u001b[0;36m_read_packet\u001b[1;34m(self, packet_type)\u001b[0m\n\u001b[0;32m    681\u001b[0m \u001b[1;33m\u001b[0m\u001b[0m\n\u001b[0;32m    682\u001b[0m         \u001b[0mpacket\u001b[0m \u001b[1;33m=\u001b[0m \u001b[0mpacket_type\u001b[0m\u001b[1;33m(\u001b[0m\u001b[0mbuff\u001b[0m\u001b[1;33m,\u001b[0m \u001b[0mself\u001b[0m\u001b[1;33m.\u001b[0m\u001b[0mencoding\u001b[0m\u001b[1;33m)\u001b[0m\u001b[1;33m\u001b[0m\u001b[0m\n\u001b[1;32m--> 683\u001b[1;33m         \u001b[0mpacket\u001b[0m\u001b[1;33m.\u001b[0m\u001b[0mcheck_error\u001b[0m\u001b[1;33m(\u001b[0m\u001b[1;33m)\u001b[0m\u001b[1;33m\u001b[0m\u001b[0m\n\u001b[0m\u001b[0;32m    684\u001b[0m         \u001b[1;32mreturn\u001b[0m \u001b[0mpacket\u001b[0m\u001b[1;33m\u001b[0m\u001b[0m\n\u001b[0;32m    685\u001b[0m \u001b[1;33m\u001b[0m\u001b[0m\n",
      "\u001b[1;32mc:\\python3_64\\lib\\site-packages\\pymysql\\protocol.py\u001b[0m in \u001b[0;36mcheck_error\u001b[1;34m(self)\u001b[0m\n\u001b[0;32m    218\u001b[0m             \u001b[0merrno\u001b[0m \u001b[1;33m=\u001b[0m \u001b[0mself\u001b[0m\u001b[1;33m.\u001b[0m\u001b[0mread_uint16\u001b[0m\u001b[1;33m(\u001b[0m\u001b[1;33m)\u001b[0m\u001b[1;33m\u001b[0m\u001b[0m\n\u001b[0;32m    219\u001b[0m             \u001b[1;32mif\u001b[0m \u001b[0mDEBUG\u001b[0m\u001b[1;33m:\u001b[0m \u001b[0mprint\u001b[0m\u001b[1;33m(\u001b[0m\u001b[1;34m\"errno =\"\u001b[0m\u001b[1;33m,\u001b[0m \u001b[0merrno\u001b[0m\u001b[1;33m)\u001b[0m\u001b[1;33m\u001b[0m\u001b[0m\n\u001b[1;32m--> 220\u001b[1;33m             \u001b[0merr\u001b[0m\u001b[1;33m.\u001b[0m\u001b[0mraise_mysql_exception\u001b[0m\u001b[1;33m(\u001b[0m\u001b[0mself\u001b[0m\u001b[1;33m.\u001b[0m\u001b[0m_data\u001b[0m\u001b[1;33m)\u001b[0m\u001b[1;33m\u001b[0m\u001b[0m\n\u001b[0m\u001b[0;32m    221\u001b[0m \u001b[1;33m\u001b[0m\u001b[0m\n\u001b[0;32m    222\u001b[0m     \u001b[1;32mdef\u001b[0m \u001b[0mdump\u001b[0m\u001b[1;33m(\u001b[0m\u001b[0mself\u001b[0m\u001b[1;33m)\u001b[0m\u001b[1;33m:\u001b[0m\u001b[1;33m\u001b[0m\u001b[0m\n",
      "\u001b[1;32mc:\\python3_64\\lib\\site-packages\\pymysql\\err.py\u001b[0m in \u001b[0;36mraise_mysql_exception\u001b[1;34m(data)\u001b[0m\n\u001b[0;32m    107\u001b[0m         \u001b[0merrval\u001b[0m \u001b[1;33m=\u001b[0m \u001b[0mdata\u001b[0m\u001b[1;33m[\u001b[0m\u001b[1;36m3\u001b[0m\u001b[1;33m:\u001b[0m\u001b[1;33m]\u001b[0m\u001b[1;33m.\u001b[0m\u001b[0mdecode\u001b[0m\u001b[1;33m(\u001b[0m\u001b[1;34m'utf-8'\u001b[0m\u001b[1;33m,\u001b[0m \u001b[1;34m'replace'\u001b[0m\u001b[1;33m)\u001b[0m\u001b[1;33m\u001b[0m\u001b[0m\n\u001b[0;32m    108\u001b[0m     \u001b[0merrorclass\u001b[0m \u001b[1;33m=\u001b[0m \u001b[0merror_map\u001b[0m\u001b[1;33m.\u001b[0m\u001b[0mget\u001b[0m\u001b[1;33m(\u001b[0m\u001b[0merrno\u001b[0m\u001b[1;33m,\u001b[0m \u001b[0mInternalError\u001b[0m\u001b[1;33m)\u001b[0m\u001b[1;33m\u001b[0m\u001b[0m\n\u001b[1;32m--> 109\u001b[1;33m     \u001b[1;32mraise\u001b[0m \u001b[0merrorclass\u001b[0m\u001b[1;33m(\u001b[0m\u001b[0merrno\u001b[0m\u001b[1;33m,\u001b[0m \u001b[0merrval\u001b[0m\u001b[1;33m)\u001b[0m\u001b[1;33m\u001b[0m\u001b[0m\n\u001b[0m",
      "\u001b[1;31mIntegrityError\u001b[0m: (1062, \"Duplicate entry 'http://ggjd.cnstock.com/company/scp_ggjd/tjd_ggkx/201805/4225611' for key 'PRIMARY'\")"
     ]
    }
   ],
   "source": [
    "for ix in my_df.index:\n",
    "    date=my_df.iloc[ix]['Date']\n",
    "    title=my_df.iloc[ix]['Title']    \n",
    "    url=my_df.iloc[ix]['URL']    \n",
    "    cmd='''\n",
    "    INSERT INTO tb_cnstock (Date,Title,URL ) VALUES(\\'%s\\',\\'%s\\',\\'%s\\');''' % (\n",
    "                    date,title,url)\n",
    "    cur.execute(cmd)\n",
    "\n",
    "    try:\n",
    "        local_conn.commit()\n",
    "    except Exception as e:\n",
    "        print(e)\n",
    "        print(cmd)\n",
    "#         local_conn.rollback()\n",
    "        continue\n",
    "# local_conn.close()\n",
    "        "
   ]
  },
  {
   "cell_type": "code",
   "execution_count": 49,
   "metadata": {},
   "outputs": [
    {
     "data": {
      "text/html": [
       "<div>\n",
       "<style scoped>\n",
       "    .dataframe tbody tr th:only-of-type {\n",
       "        vertical-align: middle;\n",
       "    }\n",
       "\n",
       "    .dataframe tbody tr th {\n",
       "        vertical-align: top;\n",
       "    }\n",
       "\n",
       "    .dataframe thead th {\n",
       "        text-align: right;\n",
       "    }\n",
       "</style>\n",
       "<table border=\"1\" class=\"dataframe\">\n",
       "  <thead>\n",
       "    <tr style=\"text-align: right;\">\n",
       "      <th></th>\n",
       "      <th>Date</th>\n",
       "      <th>Title</th>\n",
       "      <th>URL</th>\n",
       "    </tr>\n",
       "  </thead>\n",
       "  <tbody>\n",
       "  </tbody>\n",
       "</table>\n",
       "</div>"
      ],
      "text/plain": [
       "Empty DataFrame\n",
       "Columns: [Date, Title, URL]\n",
       "Index: []"
      ]
     },
     "execution_count": 49,
     "metadata": {},
     "output_type": "execute_result"
    }
   ],
   "source": [
    "my_df[my_df['URL']=='http://ggjd.cnstock.com/company/scp_ggjd/tjd_ggkx/201809/4278966']"
   ]
  },
  {
   "cell_type": "code",
   "execution_count": 35,
   "metadata": {},
   "outputs": [],
   "source": [
    "local_conn.close()"
   ]
  },
  {
   "cell_type": "code",
   "execution_count": 30,
   "metadata": {},
   "outputs": [
    {
     "data": {
      "text/plain": [
       "'3家公司临停 海南橡胶因重要事项未公告'"
      ]
     },
     "execution_count": 30,
     "metadata": {},
     "output_type": "execute_result"
    }
   ],
   "source": [
    "new_df.iloc[1]['Title']"
   ]
  },
  {
   "cell_type": "code",
   "execution_count": null,
   "metadata": {},
   "outputs": [],
   "source": [
    "no_dup_df = my_df.drop_duplicates(['positionId','companyId','positionName'])"
   ]
  },
  {
   "cell_type": "code",
   "execution_count": null,
   "metadata": {},
   "outputs": [],
   "source": [
    "len(no_dup_df)"
   ]
  },
  {
   "cell_type": "code",
   "execution_count": null,
   "metadata": {},
   "outputs": [],
   "source": [
    "no_dup_df.to_sql('tb_jobs_new',con=local)"
   ]
  },
  {
   "cell_type": "code",
   "execution_count": 41,
   "metadata": {},
   "outputs": [],
   "source": [
    "db_local = get_mysql_conn(local='local',db='db_stock')\n",
    "db_101=get_mysql_conn(local='101',db='db_stock')\n",
    "db_ali=get_mysql_conn(local='ali',db='default')"
   ]
  },
  {
   "cell_type": "code",
   "execution_count": 42,
   "metadata": {},
   "outputs": [],
   "source": [
    "cursor_local = db_local.cursor()\n",
    "cursor101=db_101.cursor()\n",
    "ali_cursor=db_ali.cursor()"
   ]
  },
  {
   "cell_type": "code",
   "execution_count": 43,
   "metadata": {},
   "outputs": [],
   "source": [
    "cmd = 'select * from tb_blacklist'"
   ]
  },
  {
   "cell_type": "code",
   "execution_count": 44,
   "metadata": {},
   "outputs": [
    {
     "data": {
      "text/plain": [
       "32"
      ]
     },
     "execution_count": 44,
     "metadata": {},
     "output_type": "execute_result"
    }
   ],
   "source": [
    "cursor_local.execute(cmd)"
   ]
  },
  {
   "cell_type": "code",
   "execution_count": 46,
   "metadata": {},
   "outputs": [],
   "source": [
    "ret = cursor_local.fetchall()"
   ]
  },
  {
   "cell_type": "code",
   "execution_count": 47,
   "metadata": {},
   "outputs": [
    {
     "name": "stdout",
     "output_type": "stream",
     "text": [
      "国新健康\n",
      "英力特\n",
      "华泽钴镍\n",
      "神雾节能\n",
      "欢瑞世纪\n",
      "中弘股份\n",
      "獐子岛\n",
      "ST众和\n",
      "*ST云网\n",
      "巨力索具\n",
      "ST尤夫\n",
      "晨鑫科技\n",
      "龙力生物\n",
      "大连电瓷\n",
      "顾地科技\n",
      "GQY视讯\n",
      "乐视网\n",
      "神雾环保\n",
      "尔康制药\n",
      "易事特\n",
      "金盾股份\n",
      "日照港\n",
      "保千里\n",
      "广汇能源\n",
      "亿阳信通\n",
      "宏达矿业\n",
      "ST慧球\n",
      "万家文化\n",
      "富控互动\n",
      "匹凸匹\n",
      "大连控股\n",
      "天业股份\n"
     ]
    }
   ],
   "source": [
    "list_101 = []\n",
    "for i in ret:\n",
    "    print(i[2])\n",
    "    list_101.append(i[2])"
   ]
  },
  {
   "cell_type": "code",
   "execution_count": 38,
   "metadata": {},
   "outputs": [
    {
     "name": "stdout",
     "output_type": "stream",
     "text": [
      "獐子岛\n",
      "万家文化\n",
      "尔康制药\n",
      "神雾环保\n",
      "神雾节能\n",
      "乐视网\n",
      "保千里\n",
      "匹凸匹\n",
      "日照港\n",
      "GQY视讯\n",
      "广汇能源\n",
      "大连电瓷\n",
      "顾地科技\n",
      "晨鑫科技\n",
      "易事特\n",
      "ST慧球\n",
      "华泽钴镍\n",
      "ST尤夫\n",
      "富控互动\n",
      "宏达矿业\n",
      "*ST云网\n",
      "ST众和\n",
      "亿阳信通\n",
      "金盾股份\n",
      "天业股份\n",
      "巨力索具\n",
      "英力特\n",
      "大连控股\n",
      "龙力生物\n",
      "国新健康\n",
      "欢瑞世纪\n",
      "中弘股份\n",
      "长生生物\n"
     ]
    }
   ],
   "source": [
    "ali_cursor.execute(cmd)\n",
    "ret_ali=ali_cursor.fetchall()\n",
    "\n",
    "list_ret_ali = []\n",
    "for i in ret_ali:\n",
    "    print(i[2])\n",
    "    list_ret_ali.append(i[2])"
   ]
  },
  {
   "cell_type": "code",
   "execution_count": 39,
   "metadata": {
    "scrolled": true
   },
   "outputs": [
    {
     "data": {
      "text/plain": [
       "33"
      ]
     },
     "execution_count": 39,
     "metadata": {},
     "output_type": "execute_result"
    }
   ],
   "source": [
    "len(list_ret_ali)"
   ]
  },
  {
   "cell_type": "code",
   "execution_count": 27,
   "metadata": {
    "scrolled": true
   },
   "outputs": [
    {
     "data": {
      "text/plain": [
       "32"
      ]
     },
     "execution_count": 27,
     "metadata": {},
     "output_type": "execute_result"
    }
   ],
   "source": [
    "len(list_101)"
   ]
  },
  {
   "cell_type": "code",
   "execution_count": 48,
   "metadata": {},
   "outputs": [],
   "source": [
    "l1=set(list_ret_ali)"
   ]
  },
  {
   "cell_type": "code",
   "execution_count": 49,
   "metadata": {},
   "outputs": [],
   "source": [
    "l2=set(list_101)"
   ]
  },
  {
   "cell_type": "code",
   "execution_count": 51,
   "metadata": {},
   "outputs": [
    {
     "data": {
      "text/plain": [
       "32"
      ]
     },
     "execution_count": 51,
     "metadata": {},
     "output_type": "execute_result"
    }
   ],
   "source": [
    "len(l2)"
   ]
  },
  {
   "cell_type": "code",
   "execution_count": 31,
   "metadata": {},
   "outputs": [
    {
     "data": {
      "text/plain": [
       "32"
      ]
     },
     "execution_count": 31,
     "metadata": {},
     "output_type": "execute_result"
    }
   ],
   "source": [
    "len(l2 & l1)"
   ]
  },
  {
   "cell_type": "code",
   "execution_count": 133,
   "metadata": {},
   "outputs": [],
   "source": [
    "# 把缺的日期补回去\n",
    "\n",
    "db0='db_daily'\n",
    "local=create_engine(\n",
    "        'mysql+pymysql://{}:{}@{}:{}/{}?charset=utf8'.format('root',config.localpassword,\n",
    "                                                             config.localhost,3306, db0))"
   ]
  },
  {
   "cell_type": "code",
   "execution_count": 134,
   "metadata": {},
   "outputs": [],
   "source": [
    "path = r'D:\\OneDrive\\Stock_Data'"
   ]
  },
  {
   "cell_type": "code",
   "execution_count": 135,
   "metadata": {},
   "outputs": [],
   "source": [
    "import os\n",
    "full_path = os.path.join(path,'20181019_zdt.xls')"
   ]
  },
  {
   "cell_type": "code",
   "execution_count": 136,
   "metadata": {},
   "outputs": [],
   "source": [
    "df_today = pd.read_excel(full_path)"
   ]
  },
  {
   "cell_type": "code",
   "execution_count": 137,
   "metadata": {},
   "outputs": [
    {
     "data": {
      "text/html": [
       "<div>\n",
       "<style scoped>\n",
       "    .dataframe tbody tr th:only-of-type {\n",
       "        vertical-align: middle;\n",
       "    }\n",
       "\n",
       "    .dataframe tbody tr th {\n",
       "        vertical-align: top;\n",
       "    }\n",
       "\n",
       "    .dataframe thead th {\n",
       "        text-align: right;\n",
       "    }\n",
       "</style>\n",
       "<table border=\"1\" class=\"dataframe\">\n",
       "  <thead>\n",
       "    <tr style=\"text-align: right;\">\n",
       "      <th></th>\n",
       "      <th>代码</th>\n",
       "      <th>名称</th>\n",
       "      <th>最新价格</th>\n",
       "      <th>涨跌幅</th>\n",
       "      <th>封成比</th>\n",
       "      <th>封流比</th>\n",
       "      <th>封单金额</th>\n",
       "      <th>最后一次涨停时间</th>\n",
       "      <th>第一次涨停时间</th>\n",
       "      <th>打开次数</th>\n",
       "      <th>振幅</th>\n",
       "      <th>涨停强度</th>\n",
       "      <th>今天的日期</th>\n",
       "    </tr>\n",
       "  </thead>\n",
       "  <tbody>\n",
       "    <tr>\n",
       "      <th>0</th>\n",
       "      <td>953</td>\n",
       "      <td>ST河化</td>\n",
       "      <td>3.29</td>\n",
       "      <td>5.11</td>\n",
       "      <td>84.112770</td>\n",
       "      <td>0.034496</td>\n",
       "      <td>33373760.0</td>\n",
       "      <td>09:25:03</td>\n",
       "      <td>09:25:03</td>\n",
       "      <td>0</td>\n",
       "      <td>0.00</td>\n",
       "      <td>100.000000</td>\n",
       "      <td>20181019</td>\n",
       "    </tr>\n",
       "    <tr>\n",
       "      <th>1</th>\n",
       "      <td>601162</td>\n",
       "      <td>天风证券</td>\n",
       "      <td>2.58</td>\n",
       "      <td>44.13</td>\n",
       "      <td>32.470303</td>\n",
       "      <td>0.125952</td>\n",
       "      <td>168327280.0</td>\n",
       "      <td>09:25:02</td>\n",
       "      <td>09:25:02</td>\n",
       "      <td>0</td>\n",
       "      <td>24.02</td>\n",
       "      <td>100.000000</td>\n",
       "      <td>20181019</td>\n",
       "    </tr>\n",
       "    <tr>\n",
       "      <th>2</th>\n",
       "      <td>300508</td>\n",
       "      <td>维宏股份</td>\n",
       "      <td>24.89</td>\n",
       "      <td>9.99</td>\n",
       "      <td>1.415676</td>\n",
       "      <td>0.105583</td>\n",
       "      <td>62414064.0</td>\n",
       "      <td>09:30:09</td>\n",
       "      <td>09:30:09</td>\n",
       "      <td>0</td>\n",
       "      <td>4.55</td>\n",
       "      <td>79.706764</td>\n",
       "      <td>20181019</td>\n",
       "    </tr>\n",
       "    <tr>\n",
       "      <th>3</th>\n",
       "      <td>300694</td>\n",
       "      <td>蠡湖股份</td>\n",
       "      <td>20.85</td>\n",
       "      <td>10.03</td>\n",
       "      <td>0.677753</td>\n",
       "      <td>0.040439</td>\n",
       "      <td>45386384.0</td>\n",
       "      <td>09:25:03</td>\n",
       "      <td>09:25:03</td>\n",
       "      <td>0</td>\n",
       "      <td>0.00</td>\n",
       "      <td>67.372140</td>\n",
       "      <td>20181019</td>\n",
       "    </tr>\n",
       "    <tr>\n",
       "      <th>4</th>\n",
       "      <td>2333</td>\n",
       "      <td>罗普斯金</td>\n",
       "      <td>6.51</td>\n",
       "      <td>9.97</td>\n",
       "      <td>0.800117</td>\n",
       "      <td>0.011250</td>\n",
       "      <td>35518484.0</td>\n",
       "      <td>09:30:57</td>\n",
       "      <td>09:30:57</td>\n",
       "      <td>0</td>\n",
       "      <td>8.28</td>\n",
       "      <td>64.777430</td>\n",
       "      <td>20181019</td>\n",
       "    </tr>\n",
       "  </tbody>\n",
       "</table>\n",
       "</div>"
      ],
      "text/plain": [
       "       代码    名称   最新价格    涨跌幅        封成比       封流比         封单金额  最后一次涨停时间  \\\n",
       "0     953  ST河化   3.29   5.11  84.112770  0.034496   33373760.0  09:25:03   \n",
       "1  601162  天风证券   2.58  44.13  32.470303  0.125952  168327280.0  09:25:02   \n",
       "2  300508  维宏股份  24.89   9.99   1.415676  0.105583   62414064.0  09:30:09   \n",
       "3  300694  蠡湖股份  20.85  10.03   0.677753  0.040439   45386384.0  09:25:03   \n",
       "4    2333  罗普斯金   6.51   9.97   0.800117  0.011250   35518484.0  09:30:57   \n",
       "\n",
       "    第一次涨停时间  打开次数     振幅        涨停强度     今天的日期  \n",
       "0  09:25:03     0   0.00  100.000000  20181019  \n",
       "1  09:25:02     0  24.02  100.000000  20181019  \n",
       "2  09:30:09     0   4.55   79.706764  20181019  \n",
       "3  09:25:03     0   0.00   67.372140  20181019  \n",
       "4  09:30:57     0   8.28   64.777430  20181019  "
      ]
     },
     "execution_count": 137,
     "metadata": {},
     "output_type": "execute_result"
    }
   ],
   "source": [
    "df_today.head()"
   ]
  },
  {
   "cell_type": "code",
   "execution_count": 8,
   "metadata": {
    "scrolled": true
   },
   "outputs": [
    {
     "data": {
      "text/html": [
       "<div>\n",
       "<style scoped>\n",
       "    .dataframe tbody tr th:only-of-type {\n",
       "        vertical-align: middle;\n",
       "    }\n",
       "\n",
       "    .dataframe tbody tr th {\n",
       "        vertical-align: top;\n",
       "    }\n",
       "\n",
       "    .dataframe thead th {\n",
       "        text-align: right;\n",
       "    }\n",
       "</style>\n",
       "<table border=\"1\" class=\"dataframe\">\n",
       "  <thead>\n",
       "    <tr style=\"text-align: right;\">\n",
       "      <th></th>\n",
       "      <th>Date</th>\n",
       "      <th>Title</th>\n",
       "      <th>URL</th>\n",
       "    </tr>\n",
       "  </thead>\n",
       "  <tbody>\n",
       "    <tr>\n",
       "      <th>15937</th>\n",
       "      <td>2018-10-24 08:07:00</td>\n",
       "      <td>东方园林与三峡集团签订长江大保护战略合作框架协议</td>\n",
       "      <td>http://ggjd.cnstock.com/company/scp_ggjd/tjd_g...</td>\n",
       "    </tr>\n",
       "    <tr>\n",
       "      <th>15938</th>\n",
       "      <td>2018-10-23 22:00:00</td>\n",
       "      <td>北特科技股东及部分高管拟合计减持不超3.07%股份</td>\n",
       "      <td>http://ggjd.cnstock.com/company/scp_ggjd/tjd_g...</td>\n",
       "    </tr>\n",
       "    <tr>\n",
       "      <th>15939</th>\n",
       "      <td>2018-10-23 21:52:00</td>\n",
       "      <td>建研院股东日亚吴中国发拟减持不超3.36%股份</td>\n",
       "      <td>http://ggjd.cnstock.com/company/scp_ggjd/tjd_g...</td>\n",
       "    </tr>\n",
       "    <tr>\n",
       "      <th>15940</th>\n",
       "      <td>2018-10-23 21:46:00</td>\n",
       "      <td>中恒集团控股股东拟增持不超5%股份</td>\n",
       "      <td>http://ggjd.cnstock.com/company/scp_ggjd/tjd_g...</td>\n",
       "    </tr>\n",
       "    <tr>\n",
       "      <th>15941</th>\n",
       "      <td>2018-10-23 21:41:00</td>\n",
       "      <td>新日恒力14.74%股份被协议转让</td>\n",
       "      <td>http://ggjd.cnstock.com/company/scp_ggjd/tjd_g...</td>\n",
       "    </tr>\n",
       "    <tr>\n",
       "      <th>15942</th>\n",
       "      <td>2018-10-23 21:39:00</td>\n",
       "      <td>飞利信第一期员工持股计划所持股票全部被动减持</td>\n",
       "      <td>http://ggjd.cnstock.com/company/scp_ggjd/tjd_g...</td>\n",
       "    </tr>\n",
       "    <tr>\n",
       "      <th>15943</th>\n",
       "      <td>2018-10-23 21:31:00</td>\n",
       "      <td>康隆达拟11.5亿元投建越南安全防护生产基地项目</td>\n",
       "      <td>http://ggjd.cnstock.com/company/scp_ggjd/tjd_g...</td>\n",
       "    </tr>\n",
       "    <tr>\n",
       "      <th>15944</th>\n",
       "      <td>2018-10-23 21:28:00</td>\n",
       "      <td>银禧科技孙公司获宁德时代新能源动力电池箱体项目定点信</td>\n",
       "      <td>http://ggjd.cnstock.com/company/scp_ggjd/tjd_g...</td>\n",
       "    </tr>\n",
       "    <tr>\n",
       "      <th>15945</th>\n",
       "      <td>2018-10-23 21:23:00</td>\n",
       "      <td>*ST保千8.2%股份被司法划转</td>\n",
       "      <td>http://ggjd.cnstock.com/company/scp_ggjd/tjd_g...</td>\n",
       "    </tr>\n",
       "    <tr>\n",
       "      <th>15946</th>\n",
       "      <td>2018-10-23 21:19:00</td>\n",
       "      <td>隆基机械2018年度净利润预增30%-60%</td>\n",
       "      <td>http://ggjd.cnstock.com/company/scp_ggjd/tjd_g...</td>\n",
       "    </tr>\n",
       "    <tr>\n",
       "      <th>15947</th>\n",
       "      <td>2018-10-23 21:14:00</td>\n",
       "      <td>宜华健康前三季净利预增33%-38%</td>\n",
       "      <td>http://ggjd.cnstock.com/company/scp_ggjd/tjd_g...</td>\n",
       "    </tr>\n",
       "    <tr>\n",
       "      <th>15948</th>\n",
       "      <td>2018-10-23 21:08:00</td>\n",
       "      <td>特发信息拟3.15亿元收购神州飞航70%股权</td>\n",
       "      <td>http://ggjd.cnstock.com/company/scp_ggjd/tjd_g...</td>\n",
       "    </tr>\n",
       "    <tr>\n",
       "      <th>15949</th>\n",
       "      <td>2018-10-23 21:07:00</td>\n",
       "      <td>欧比特拟斥资5000万元至1亿元回购公司股份</td>\n",
       "      <td>http://ggjd.cnstock.com/company/scp_ggjd/tjd_g...</td>\n",
       "    </tr>\n",
       "    <tr>\n",
       "      <th>15950</th>\n",
       "      <td>2018-10-23 21:01:00</td>\n",
       "      <td>赞宇科技2018年度净利润预增57%-101%</td>\n",
       "      <td>http://ggjd.cnstock.com/company/scp_ggjd/tjd_g...</td>\n",
       "    </tr>\n",
       "    <tr>\n",
       "      <th>15951</th>\n",
       "      <td>2018-10-23 20:59:00</td>\n",
       "      <td>皇庭国际大股东拟不少于1亿元增持</td>\n",
       "      <td>http://ggjd.cnstock.com/company/scp_ggjd/tjd_g...</td>\n",
       "    </tr>\n",
       "    <tr>\n",
       "      <th>15952</th>\n",
       "      <td>2018-10-23 20:53:00</td>\n",
       "      <td>美的集团拟以发行A股方式换股吸收合并小天鹅</td>\n",
       "      <td>http://ggjd.cnstock.com/company/scp_ggjd/tjd_g...</td>\n",
       "    </tr>\n",
       "    <tr>\n",
       "      <th>15953</th>\n",
       "      <td>2018-10-23 20:47:00</td>\n",
       "      <td>天齐锂业前三季度净利润同比增长11.24%</td>\n",
       "      <td>http://ggjd.cnstock.com/company/scp_ggjd/tjd_g...</td>\n",
       "    </tr>\n",
       "    <tr>\n",
       "      <th>15954</th>\n",
       "      <td>2018-10-23 20:32:00</td>\n",
       "      <td>新五丰未受到“非洲猪瘟”疫情影响</td>\n",
       "      <td>http://ggjd.cnstock.com/company/scp_ggjd/tjd_g...</td>\n",
       "    </tr>\n",
       "    <tr>\n",
       "      <th>15955</th>\n",
       "      <td>2018-10-23 20:21:00</td>\n",
       "      <td>浙江医药前三季度净利增长291%</td>\n",
       "      <td>http://ggjd.cnstock.com/company/scp_ggjd/tjd_g...</td>\n",
       "    </tr>\n",
       "    <tr>\n",
       "      <th>15956</th>\n",
       "      <td>2018-10-23 20:17:00</td>\n",
       "      <td>一汽轿车与百度签订合作备忘录</td>\n",
       "      <td>http://ggjd.cnstock.com/company/scp_ggjd/tjd_g...</td>\n",
       "    </tr>\n",
       "    <tr>\n",
       "      <th>15957</th>\n",
       "      <td>2018-10-23 20:13:00</td>\n",
       "      <td>恒瑞医药盐酸伊立替康注射液拟纳入优先审评程序</td>\n",
       "      <td>http://ggjd.cnstock.com/company/scp_ggjd/tjd_g...</td>\n",
       "    </tr>\n",
       "    <tr>\n",
       "      <th>15958</th>\n",
       "      <td>2018-10-23 20:06:00</td>\n",
       "      <td>精工钢构前三季度净利预增123%-155%</td>\n",
       "      <td>http://ggjd.cnstock.com/company/scp_ggjd/tjd_g...</td>\n",
       "    </tr>\n",
       "    <tr>\n",
       "      <th>15959</th>\n",
       "      <td>2018-10-23 20:00:00</td>\n",
       "      <td>广州浪奇控股股东拟增持1%-2%股份</td>\n",
       "      <td>http://ggjd.cnstock.com/company/scp_ggjd/tjd_g...</td>\n",
       "    </tr>\n",
       "    <tr>\n",
       "      <th>15960</th>\n",
       "      <td>2018-10-23 19:57:00</td>\n",
       "      <td>海康威视控股股东关联方电科投资拟增持1.5亿至3亿元</td>\n",
       "      <td>http://ggjd.cnstock.com/company/scp_ggjd/tjd_g...</td>\n",
       "    </tr>\n",
       "    <tr>\n",
       "      <th>15961</th>\n",
       "      <td>2018-10-23 19:56:00</td>\n",
       "      <td>万华化学股价下跌 无应披露而未披露重大信息</td>\n",
       "      <td>http://ggjd.cnstock.com/company/scp_ggjd/tjd_g...</td>\n",
       "    </tr>\n",
       "    <tr>\n",
       "      <th>15962</th>\n",
       "      <td>2018-10-23 19:51:00</td>\n",
       "      <td>中珠医疗股东中珠集团股份被轮候冻结</td>\n",
       "      <td>http://ggjd.cnstock.com/company/scp_ggjd/tjd_g...</td>\n",
       "    </tr>\n",
       "    <tr>\n",
       "      <th>15963</th>\n",
       "      <td>2018-10-23 19:51:00</td>\n",
       "      <td>翔鹭钨业2018年度净利润预增50%-100%</td>\n",
       "      <td>http://ggjd.cnstock.com/company/scp_ggjd/tjd_g...</td>\n",
       "    </tr>\n",
       "    <tr>\n",
       "      <th>15964</th>\n",
       "      <td>2018-10-23 19:45:00</td>\n",
       "      <td>江河集团中标合计3.7亿元两工程项目</td>\n",
       "      <td>http://ggjd.cnstock.com/company/scp_ggjd/tjd_g...</td>\n",
       "    </tr>\n",
       "    <tr>\n",
       "      <th>15965</th>\n",
       "      <td>2018-10-23 19:43:00</td>\n",
       "      <td>广田集团终止发行可转债事项并撤回申请文件</td>\n",
       "      <td>http://ggjd.cnstock.com/company/scp_ggjd/tjd_g...</td>\n",
       "    </tr>\n",
       "    <tr>\n",
       "      <th>15966</th>\n",
       "      <td>2018-10-23 19:39:00</td>\n",
       "      <td>建设银行前三季净利增长6.39%</td>\n",
       "      <td>http://ggjd.cnstock.com/company/scp_ggjd/tjd_g...</td>\n",
       "    </tr>\n",
       "    <tr>\n",
       "      <th>...</th>\n",
       "      <td>...</td>\n",
       "      <td>...</td>\n",
       "      <td>...</td>\n",
       "    </tr>\n",
       "    <tr>\n",
       "      <th>1970</th>\n",
       "      <td>2016-09-22 12:08:00</td>\n",
       "      <td>龙洲股份重组获福建国资委批复</td>\n",
       "      <td>http://ggjd.cnstock.com/company/scp_ggjd/tjd_g...</td>\n",
       "    </tr>\n",
       "    <tr>\n",
       "      <th>1969</th>\n",
       "      <td>2016-09-22 11:57:00</td>\n",
       "      <td>恩华药业子公司获网上药品交易资格证</td>\n",
       "      <td>http://ggjd.cnstock.com/company/scp_ggjd/tjd_g...</td>\n",
       "    </tr>\n",
       "    <tr>\n",
       "      <th>1968</th>\n",
       "      <td>2016-09-22 09:27:00</td>\n",
       "      <td>5公司临停 力源信息等拟披露重大事项</td>\n",
       "      <td>http://ggjd.cnstock.com/company/scp_ggjd/tjd_g...</td>\n",
       "    </tr>\n",
       "    <tr>\n",
       "      <th>1967</th>\n",
       "      <td>2016-09-22 09:02:00</td>\n",
       "      <td>子公司败诉将致中国海诚三季报减利5000万</td>\n",
       "      <td>http://ggjd.cnstock.com/company/scp_ggjd/tjd_g...</td>\n",
       "    </tr>\n",
       "    <tr>\n",
       "      <th>1966</th>\n",
       "      <td>2016-09-22 08:46:00</td>\n",
       "      <td>天夏智慧斩获11亿元重庆永川智慧商圈项目</td>\n",
       "      <td>http://ggjd.cnstock.com/company/scp_ggjd/tjd_g...</td>\n",
       "    </tr>\n",
       "    <tr>\n",
       "      <th>15738</th>\n",
       "      <td>2016-09-21 22:10:00</td>\n",
       "      <td>9月21日晚间两市公司重要公告集锦</td>\n",
       "      <td>http://ggjd.cnstock.com/company/scp_ggjd/tjd_t...</td>\n",
       "    </tr>\n",
       "    <tr>\n",
       "      <th>1965</th>\n",
       "      <td>2016-09-21 21:18:00</td>\n",
       "      <td>诺普信实际控制人减持公司股份</td>\n",
       "      <td>http://ggjd.cnstock.com/company/scp_ggjd/tjd_g...</td>\n",
       "    </tr>\n",
       "    <tr>\n",
       "      <th>1964</th>\n",
       "      <td>2016-09-21 21:14:00</td>\n",
       "      <td>吴通控股实际控制人减持公司股份</td>\n",
       "      <td>http://ggjd.cnstock.com/company/scp_ggjd/tjd_g...</td>\n",
       "    </tr>\n",
       "    <tr>\n",
       "      <th>1963</th>\n",
       "      <td>2016-09-21 20:34:00</td>\n",
       "      <td>雪人股份实际控制人及高管披露增持计划</td>\n",
       "      <td>http://ggjd.cnstock.com/company/scp_ggjd/tjd_g...</td>\n",
       "    </tr>\n",
       "    <tr>\n",
       "      <th>1962</th>\n",
       "      <td>2016-09-21 20:27:00</td>\n",
       "      <td>*ST生物22日复牌 拟收购资产涉足节能服务业务</td>\n",
       "      <td>http://ggjd.cnstock.com/company/scp_ggjd/tjd_g...</td>\n",
       "    </tr>\n",
       "    <tr>\n",
       "      <th>1961</th>\n",
       "      <td>2016-09-21 20:15:00</td>\n",
       "      <td>万方发展获两位高管增持1000万元</td>\n",
       "      <td>http://ggjd.cnstock.com/company/scp_ggjd/tjd_g...</td>\n",
       "    </tr>\n",
       "    <tr>\n",
       "      <th>1960</th>\n",
       "      <td>2016-09-21 20:03:00</td>\n",
       "      <td>西安旅游获赛石集团及其一致人“举牌”</td>\n",
       "      <td>http://ggjd.cnstock.com/company/scp_ggjd/tjd_g...</td>\n",
       "    </tr>\n",
       "    <tr>\n",
       "      <th>1959</th>\n",
       "      <td>2016-09-21 19:53:00</td>\n",
       "      <td>申科股份22日复牌 拟21亿元收购紫博蓝</td>\n",
       "      <td>http://ggjd.cnstock.com/company/scp_ggjd/tjd_g...</td>\n",
       "    </tr>\n",
       "    <tr>\n",
       "      <th>1958</th>\n",
       "      <td>2016-09-21 19:49:00</td>\n",
       "      <td>*ST天利明复牌 拟获注251亿工程建设业务资产</td>\n",
       "      <td>http://ggjd.cnstock.com/company/scp_ggjd/tjd_g...</td>\n",
       "    </tr>\n",
       "    <tr>\n",
       "      <th>1957</th>\n",
       "      <td>2016-09-21 19:37:00</td>\n",
       "      <td>莱克电气实际控制人拟增持不超过500万股</td>\n",
       "      <td>http://ggjd.cnstock.com/company/scp_ggjd/tjd_g...</td>\n",
       "    </tr>\n",
       "    <tr>\n",
       "      <th>1956</th>\n",
       "      <td>2016-09-21 19:31:00</td>\n",
       "      <td>正平股份中标四项目合计10.83亿元</td>\n",
       "      <td>http://ggjd.cnstock.com/company/scp_ggjd/tjd_g...</td>\n",
       "    </tr>\n",
       "    <tr>\n",
       "      <th>1955</th>\n",
       "      <td>2016-09-21 19:21:00</td>\n",
       "      <td>皖通科技拟推第一期员工持股计划</td>\n",
       "      <td>http://ggjd.cnstock.com/company/scp_ggjd/tjd_g...</td>\n",
       "    </tr>\n",
       "    <tr>\n",
       "      <th>1954</th>\n",
       "      <td>2016-09-21 19:13:00</td>\n",
       "      <td>*ST山水获吴太交等4名自然人“举牌”</td>\n",
       "      <td>http://ggjd.cnstock.com/company/scp_ggjd/tjd_g...</td>\n",
       "    </tr>\n",
       "    <tr>\n",
       "      <th>1953</th>\n",
       "      <td>2016-09-21 18:55:00</td>\n",
       "      <td>方大集团前三季度净利润预增50%至100%</td>\n",
       "      <td>http://ggjd.cnstock.com/company/scp_ggjd/tjd_g...</td>\n",
       "    </tr>\n",
       "    <tr>\n",
       "      <th>1952</th>\n",
       "      <td>2016-09-21 18:46:00</td>\n",
       "      <td>亚宝药业拟逾6亿元收购控股清松制药</td>\n",
       "      <td>http://ggjd.cnstock.com/company/scp_ggjd/tjd_g...</td>\n",
       "    </tr>\n",
       "    <tr>\n",
       "      <th>1951</th>\n",
       "      <td>2016-09-21 18:17:00</td>\n",
       "      <td>云赛智联转让房地产资产获益1.86亿元</td>\n",
       "      <td>http://ggjd.cnstock.com/company/scp_ggjd/tjd_g...</td>\n",
       "    </tr>\n",
       "    <tr>\n",
       "      <th>1950</th>\n",
       "      <td>2016-09-21 18:08:00</td>\n",
       "      <td>三力士拟定增募资5.2亿元 投入潜水器项目</td>\n",
       "      <td>http://ggjd.cnstock.com/company/scp_ggjd/tjd_g...</td>\n",
       "    </tr>\n",
       "    <tr>\n",
       "      <th>1949</th>\n",
       "      <td>2016-09-21 17:59:00</td>\n",
       "      <td>胜利股份22日复牌 终止筹划资产收购事项</td>\n",
       "      <td>http://ggjd.cnstock.com/company/scp_ggjd/tjd_g...</td>\n",
       "    </tr>\n",
       "    <tr>\n",
       "      <th>1948</th>\n",
       "      <td>2016-09-21 17:52:00</td>\n",
       "      <td>普路通股东披露减持计划</td>\n",
       "      <td>http://ggjd.cnstock.com/company/scp_ggjd/tjd_g...</td>\n",
       "    </tr>\n",
       "    <tr>\n",
       "      <th>1947</th>\n",
       "      <td>2016-09-21 17:51:00</td>\n",
       "      <td>富春通信拟10.5亿元收购游戏公司</td>\n",
       "      <td>http://ggjd.cnstock.com/company/scp_ggjd/tjd_g...</td>\n",
       "    </tr>\n",
       "    <tr>\n",
       "      <th>1946</th>\n",
       "      <td>2016-09-21 17:30:00</td>\n",
       "      <td>步森股份股东披露减持计划</td>\n",
       "      <td>http://ggjd.cnstock.com/company/scp_ggjd/tjd_g...</td>\n",
       "    </tr>\n",
       "    <tr>\n",
       "      <th>1945</th>\n",
       "      <td>2016-09-21 17:19:00</td>\n",
       "      <td>四川双马：无未披露事项 22日复牌</td>\n",
       "      <td>http://ggjd.cnstock.com/company/scp_ggjd/tjd_g...</td>\n",
       "    </tr>\n",
       "    <tr>\n",
       "      <th>1944</th>\n",
       "      <td>2016-09-21 17:10:00</td>\n",
       "      <td>九洲电气22日复牌 拟收购风电公司延伸产业链</td>\n",
       "      <td>http://ggjd.cnstock.com/company/scp_ggjd/tjd_g...</td>\n",
       "    </tr>\n",
       "    <tr>\n",
       "      <th>1943</th>\n",
       "      <td>2016-09-21 17:04:00</td>\n",
       "      <td>设计股份26日起更名为“中设集团”</td>\n",
       "      <td>http://ggjd.cnstock.com/company/scp_ggjd/tjd_g...</td>\n",
       "    </tr>\n",
       "    <tr>\n",
       "      <th>1942</th>\n",
       "      <td>2016-09-21 16:52:00</td>\n",
       "      <td>*ST蓝丰终止筹划重大资产重组</td>\n",
       "      <td>http://ggjd.cnstock.com/company/scp_ggjd/tjd_g...</td>\n",
       "    </tr>\n",
       "  </tbody>\n",
       "</table>\n",
       "<p>16085 rows × 3 columns</p>\n",
       "</div>"
      ],
      "text/plain": [
       "                     Date                       Title  \\\n",
       "15937 2018-10-24 08:07:00    东方园林与三峡集团签订长江大保护战略合作框架协议   \n",
       "15938 2018-10-23 22:00:00   北特科技股东及部分高管拟合计减持不超3.07%股份   \n",
       "15939 2018-10-23 21:52:00     建研院股东日亚吴中国发拟减持不超3.36%股份   \n",
       "15940 2018-10-23 21:46:00           中恒集团控股股东拟增持不超5%股份   \n",
       "15941 2018-10-23 21:41:00           新日恒力14.74%股份被协议转让   \n",
       "15942 2018-10-23 21:39:00      飞利信第一期员工持股计划所持股票全部被动减持   \n",
       "15943 2018-10-23 21:31:00    康隆达拟11.5亿元投建越南安全防护生产基地项目   \n",
       "15944 2018-10-23 21:28:00  银禧科技孙公司获宁德时代新能源动力电池箱体项目定点信   \n",
       "15945 2018-10-23 21:23:00            *ST保千8.2%股份被司法划转   \n",
       "15946 2018-10-23 21:19:00      隆基机械2018年度净利润预增30%-60%   \n",
       "15947 2018-10-23 21:14:00          宜华健康前三季净利预增33%-38%   \n",
       "15948 2018-10-23 21:08:00      特发信息拟3.15亿元收购神州飞航70%股权   \n",
       "15949 2018-10-23 21:07:00      欧比特拟斥资5000万元至1亿元回购公司股份   \n",
       "15950 2018-10-23 21:01:00     赞宇科技2018年度净利润预增57%-101%   \n",
       "15951 2018-10-23 20:59:00            皇庭国际大股东拟不少于1亿元增持   \n",
       "15952 2018-10-23 20:53:00       美的集团拟以发行A股方式换股吸收合并小天鹅   \n",
       "15953 2018-10-23 20:47:00       天齐锂业前三季度净利润同比增长11.24%   \n",
       "15954 2018-10-23 20:32:00            新五丰未受到“非洲猪瘟”疫情影响   \n",
       "15955 2018-10-23 20:21:00            浙江医药前三季度净利增长291%   \n",
       "15956 2018-10-23 20:17:00              一汽轿车与百度签订合作备忘录   \n",
       "15957 2018-10-23 20:13:00      恒瑞医药盐酸伊立替康注射液拟纳入优先审评程序   \n",
       "15958 2018-10-23 20:06:00       精工钢构前三季度净利预增123%-155%   \n",
       "15959 2018-10-23 20:00:00          广州浪奇控股股东拟增持1%-2%股份   \n",
       "15960 2018-10-23 19:57:00  海康威视控股股东关联方电科投资拟增持1.5亿至3亿元   \n",
       "15961 2018-10-23 19:56:00       万华化学股价下跌 无应披露而未披露重大信息   \n",
       "15962 2018-10-23 19:51:00           中珠医疗股东中珠集团股份被轮候冻结   \n",
       "15963 2018-10-23 19:51:00     翔鹭钨业2018年度净利润预增50%-100%   \n",
       "15964 2018-10-23 19:45:00          江河集团中标合计3.7亿元两工程项目   \n",
       "15965 2018-10-23 19:43:00        广田集团终止发行可转债事项并撤回申请文件   \n",
       "15966 2018-10-23 19:39:00            建设银行前三季净利增长6.39%   \n",
       "...                   ...                         ...   \n",
       "1970  2016-09-22 12:08:00              龙洲股份重组获福建国资委批复   \n",
       "1969  2016-09-22 11:57:00           恩华药业子公司获网上药品交易资格证   \n",
       "1968  2016-09-22 09:27:00          5公司临停 力源信息等拟披露重大事项   \n",
       "1967  2016-09-22 09:02:00       子公司败诉将致中国海诚三季报减利5000万   \n",
       "1966  2016-09-22 08:46:00        天夏智慧斩获11亿元重庆永川智慧商圈项目   \n",
       "15738 2016-09-21 22:10:00           9月21日晚间两市公司重要公告集锦   \n",
       "1965  2016-09-21 21:18:00              诺普信实际控制人减持公司股份   \n",
       "1964  2016-09-21 21:14:00             吴通控股实际控制人减持公司股份   \n",
       "1963  2016-09-21 20:34:00          雪人股份实际控制人及高管披露增持计划   \n",
       "1962  2016-09-21 20:27:00    *ST生物22日复牌 拟收购资产涉足节能服务业务   \n",
       "1961  2016-09-21 20:15:00           万方发展获两位高管增持1000万元   \n",
       "1960  2016-09-21 20:03:00          西安旅游获赛石集团及其一致人“举牌”   \n",
       "1959  2016-09-21 19:53:00        申科股份22日复牌 拟21亿元收购紫博蓝   \n",
       "1958  2016-09-21 19:49:00    *ST天利明复牌 拟获注251亿工程建设业务资产   \n",
       "1957  2016-09-21 19:37:00        莱克电气实际控制人拟增持不超过500万股   \n",
       "1956  2016-09-21 19:31:00          正平股份中标四项目合计10.83亿元   \n",
       "1955  2016-09-21 19:21:00             皖通科技拟推第一期员工持股计划   \n",
       "1954  2016-09-21 19:13:00         *ST山水获吴太交等4名自然人“举牌”   \n",
       "1953  2016-09-21 18:55:00       方大集团前三季度净利润预增50%至100%   \n",
       "1952  2016-09-21 18:46:00           亚宝药业拟逾6亿元收购控股清松制药   \n",
       "1951  2016-09-21 18:17:00         云赛智联转让房地产资产获益1.86亿元   \n",
       "1950  2016-09-21 18:08:00       三力士拟定增募资5.2亿元 投入潜水器项目   \n",
       "1949  2016-09-21 17:59:00        胜利股份22日复牌 终止筹划资产收购事项   \n",
       "1948  2016-09-21 17:52:00                 普路通股东披露减持计划   \n",
       "1947  2016-09-21 17:51:00           富春通信拟10.5亿元收购游戏公司   \n",
       "1946  2016-09-21 17:30:00                步森股份股东披露减持计划   \n",
       "1945  2016-09-21 17:19:00           四川双马：无未披露事项 22日复牌   \n",
       "1944  2016-09-21 17:10:00      九洲电气22日复牌 拟收购风电公司延伸产业链   \n",
       "1943  2016-09-21 17:04:00           设计股份26日起更名为“中设集团”   \n",
       "1942  2016-09-21 16:52:00             *ST蓝丰终止筹划重大资产重组   \n",
       "\n",
       "                                                     URL  \n",
       "15937  http://ggjd.cnstock.com/company/scp_ggjd/tjd_g...  \n",
       "15938  http://ggjd.cnstock.com/company/scp_ggjd/tjd_g...  \n",
       "15939  http://ggjd.cnstock.com/company/scp_ggjd/tjd_g...  \n",
       "15940  http://ggjd.cnstock.com/company/scp_ggjd/tjd_g...  \n",
       "15941  http://ggjd.cnstock.com/company/scp_ggjd/tjd_g...  \n",
       "15942  http://ggjd.cnstock.com/company/scp_ggjd/tjd_g...  \n",
       "15943  http://ggjd.cnstock.com/company/scp_ggjd/tjd_g...  \n",
       "15944  http://ggjd.cnstock.com/company/scp_ggjd/tjd_g...  \n",
       "15945  http://ggjd.cnstock.com/company/scp_ggjd/tjd_g...  \n",
       "15946  http://ggjd.cnstock.com/company/scp_ggjd/tjd_g...  \n",
       "15947  http://ggjd.cnstock.com/company/scp_ggjd/tjd_g...  \n",
       "15948  http://ggjd.cnstock.com/company/scp_ggjd/tjd_g...  \n",
       "15949  http://ggjd.cnstock.com/company/scp_ggjd/tjd_g...  \n",
       "15950  http://ggjd.cnstock.com/company/scp_ggjd/tjd_g...  \n",
       "15951  http://ggjd.cnstock.com/company/scp_ggjd/tjd_g...  \n",
       "15952  http://ggjd.cnstock.com/company/scp_ggjd/tjd_g...  \n",
       "15953  http://ggjd.cnstock.com/company/scp_ggjd/tjd_g...  \n",
       "15954  http://ggjd.cnstock.com/company/scp_ggjd/tjd_g...  \n",
       "15955  http://ggjd.cnstock.com/company/scp_ggjd/tjd_g...  \n",
       "15956  http://ggjd.cnstock.com/company/scp_ggjd/tjd_g...  \n",
       "15957  http://ggjd.cnstock.com/company/scp_ggjd/tjd_g...  \n",
       "15958  http://ggjd.cnstock.com/company/scp_ggjd/tjd_g...  \n",
       "15959  http://ggjd.cnstock.com/company/scp_ggjd/tjd_g...  \n",
       "15960  http://ggjd.cnstock.com/company/scp_ggjd/tjd_g...  \n",
       "15961  http://ggjd.cnstock.com/company/scp_ggjd/tjd_g...  \n",
       "15962  http://ggjd.cnstock.com/company/scp_ggjd/tjd_g...  \n",
       "15963  http://ggjd.cnstock.com/company/scp_ggjd/tjd_g...  \n",
       "15964  http://ggjd.cnstock.com/company/scp_ggjd/tjd_g...  \n",
       "15965  http://ggjd.cnstock.com/company/scp_ggjd/tjd_g...  \n",
       "15966  http://ggjd.cnstock.com/company/scp_ggjd/tjd_g...  \n",
       "...                                                  ...  \n",
       "1970   http://ggjd.cnstock.com/company/scp_ggjd/tjd_g...  \n",
       "1969   http://ggjd.cnstock.com/company/scp_ggjd/tjd_g...  \n",
       "1968   http://ggjd.cnstock.com/company/scp_ggjd/tjd_g...  \n",
       "1967   http://ggjd.cnstock.com/company/scp_ggjd/tjd_g...  \n",
       "1966   http://ggjd.cnstock.com/company/scp_ggjd/tjd_g...  \n",
       "15738  http://ggjd.cnstock.com/company/scp_ggjd/tjd_t...  \n",
       "1965   http://ggjd.cnstock.com/company/scp_ggjd/tjd_g...  \n",
       "1964   http://ggjd.cnstock.com/company/scp_ggjd/tjd_g...  \n",
       "1963   http://ggjd.cnstock.com/company/scp_ggjd/tjd_g...  \n",
       "1962   http://ggjd.cnstock.com/company/scp_ggjd/tjd_g...  \n",
       "1961   http://ggjd.cnstock.com/company/scp_ggjd/tjd_g...  \n",
       "1960   http://ggjd.cnstock.com/company/scp_ggjd/tjd_g...  \n",
       "1959   http://ggjd.cnstock.com/company/scp_ggjd/tjd_g...  \n",
       "1958   http://ggjd.cnstock.com/company/scp_ggjd/tjd_g...  \n",
       "1957   http://ggjd.cnstock.com/company/scp_ggjd/tjd_g...  \n",
       "1956   http://ggjd.cnstock.com/company/scp_ggjd/tjd_g...  \n",
       "1955   http://ggjd.cnstock.com/company/scp_ggjd/tjd_g...  \n",
       "1954   http://ggjd.cnstock.com/company/scp_ggjd/tjd_g...  \n",
       "1953   http://ggjd.cnstock.com/company/scp_ggjd/tjd_g...  \n",
       "1952   http://ggjd.cnstock.com/company/scp_ggjd/tjd_g...  \n",
       "1951   http://ggjd.cnstock.com/company/scp_ggjd/tjd_g...  \n",
       "1950   http://ggjd.cnstock.com/company/scp_ggjd/tjd_g...  \n",
       "1949   http://ggjd.cnstock.com/company/scp_ggjd/tjd_g...  \n",
       "1948   http://ggjd.cnstock.com/company/scp_ggjd/tjd_g...  \n",
       "1947   http://ggjd.cnstock.com/company/scp_ggjd/tjd_g...  \n",
       "1946   http://ggjd.cnstock.com/company/scp_ggjd/tjd_g...  \n",
       "1945   http://ggjd.cnstock.com/company/scp_ggjd/tjd_g...  \n",
       "1944   http://ggjd.cnstock.com/company/scp_ggjd/tjd_g...  \n",
       "1943   http://ggjd.cnstock.com/company/scp_ggjd/tjd_g...  \n",
       "1942   http://ggjd.cnstock.com/company/scp_ggjd/tjd_g...  \n",
       "\n",
       "[16085 rows x 3 columns]"
      ]
     },
     "execution_count": 8,
     "metadata": {},
     "output_type": "execute_result"
    }
   ],
   "source": [
    "local_df.sort_values(by='Date',ascending=False)"
   ]
  },
  {
   "cell_type": "code",
   "execution_count": 9,
   "metadata": {
    "scrolled": true
   },
   "outputs": [
    {
     "data": {
      "text/html": [
       "<div>\n",
       "<style scoped>\n",
       "    .dataframe tbody tr th:only-of-type {\n",
       "        vertical-align: middle;\n",
       "    }\n",
       "\n",
       "    .dataframe tbody tr th {\n",
       "        vertical-align: top;\n",
       "    }\n",
       "\n",
       "    .dataframe thead th {\n",
       "        text-align: right;\n",
       "    }\n",
       "</style>\n",
       "<table border=\"1\" class=\"dataframe\">\n",
       "  <thead>\n",
       "    <tr style=\"text-align: right;\">\n",
       "      <th></th>\n",
       "      <th>Date</th>\n",
       "      <th>Title</th>\n",
       "      <th>URL</th>\n",
       "    </tr>\n",
       "  </thead>\n",
       "  <tbody>\n",
       "    <tr>\n",
       "      <th>15898</th>\n",
       "      <td>2018-10-22 17:21:00</td>\n",
       "      <td>中航资本拟5亿元-10亿元回购股份</td>\n",
       "      <td>http://ggjd.cnstock.com/company/scp_ggjd/tjd_g...</td>\n",
       "    </tr>\n",
       "    <tr>\n",
       "      <th>16053</th>\n",
       "      <td>2018-10-22 17:21:00</td>\n",
       "      <td>中航资本拟5亿元-10亿元回购股份</td>\n",
       "      <td>http://ggjd.cnstock.com/company/scp_ggjd/tjd_g...</td>\n",
       "    </tr>\n",
       "    <tr>\n",
       "      <th>16083</th>\n",
       "      <td>2018-10-22 17:21:00</td>\n",
       "      <td>中航资本拟5亿元-10亿元回购股份</td>\n",
       "      <td>http://ggjd.cnstock.com/company/scp_ggjd/tjd_g...</td>\n",
       "    </tr>\n",
       "  </tbody>\n",
       "</table>\n",
       "</div>"
      ],
      "text/plain": [
       "                     Date              Title  \\\n",
       "15898 2018-10-22 17:21:00  中航资本拟5亿元-10亿元回购股份   \n",
       "16053 2018-10-22 17:21:00  中航资本拟5亿元-10亿元回购股份   \n",
       "16083 2018-10-22 17:21:00  中航资本拟5亿元-10亿元回购股份   \n",
       "\n",
       "                                                     URL  \n",
       "15898  http://ggjd.cnstock.com/company/scp_ggjd/tjd_g...  \n",
       "16053  http://ggjd.cnstock.com/company/scp_ggjd/tjd_g...  \n",
       "16083  http://ggjd.cnstock.com/company/scp_ggjd/tjd_g...  "
      ]
     },
     "execution_count": 9,
     "metadata": {},
     "output_type": "execute_result"
    }
   ],
   "source": [
    "local_df[local_df['Title']=='中航资本拟5亿元-10亿元回购股份']"
   ]
  },
  {
   "cell_type": "code",
   "execution_count": 10,
   "metadata": {},
   "outputs": [],
   "source": [
    "no_dup_df = local_df.drop_duplicates('Title')"
   ]
  },
  {
   "cell_type": "code",
   "execution_count": 11,
   "metadata": {},
   "outputs": [
    {
     "data": {
      "text/plain": [
       "16085"
      ]
     },
     "execution_count": 11,
     "metadata": {},
     "output_type": "execute_result"
    }
   ],
   "source": [
    "len(local_df)"
   ]
  },
  {
   "cell_type": "code",
   "execution_count": 12,
   "metadata": {},
   "outputs": [
    {
     "data": {
      "text/plain": [
       "15814"
      ]
     },
     "execution_count": 12,
     "metadata": {},
     "output_type": "execute_result"
    }
   ],
   "source": [
    "len(no_dup_df)"
   ]
  },
  {
   "cell_type": "code",
   "execution_count": 18,
   "metadata": {},
   "outputs": [],
   "source": [
    "no_dup_df=no_dup_df.reset_index(drop=True)"
   ]
  },
  {
   "cell_type": "code",
   "execution_count": 21,
   "metadata": {},
   "outputs": [
    {
     "data": {
      "text/html": [
       "<div>\n",
       "<style scoped>\n",
       "    .dataframe tbody tr th:only-of-type {\n",
       "        vertical-align: middle;\n",
       "    }\n",
       "\n",
       "    .dataframe tbody tr th {\n",
       "        vertical-align: top;\n",
       "    }\n",
       "\n",
       "    .dataframe thead th {\n",
       "        text-align: right;\n",
       "    }\n",
       "</style>\n",
       "<table border=\"1\" class=\"dataframe\">\n",
       "  <thead>\n",
       "    <tr style=\"text-align: right;\">\n",
       "      <th></th>\n",
       "      <th>Date</th>\n",
       "      <th>Title</th>\n",
       "      <th>URL</th>\n",
       "    </tr>\n",
       "  </thead>\n",
       "  <tbody>\n",
       "    <tr>\n",
       "      <th>0</th>\n",
       "      <td>2018-05-24 08:17:00</td>\n",
       "      <td>东方园林：从未发生过债券和银行贷款到期不能兑付问题</td>\n",
       "      <td>http://ggjd.cnstock.com/company/scp_ggjd/tjd_g...</td>\n",
       "    </tr>\n",
       "    <tr>\n",
       "      <th>1</th>\n",
       "      <td>2018-05-24 09:20:00</td>\n",
       "      <td>3家公司临停 海南橡胶因重要事项未公告</td>\n",
       "      <td>http://ggjd.cnstock.com/company/scp_ggjd/tjd_g...</td>\n",
       "    </tr>\n",
       "    <tr>\n",
       "      <th>2</th>\n",
       "      <td>2018-05-24 17:49:00</td>\n",
       "      <td>艾华集团两高管拟合计减持不超0.49%股份</td>\n",
       "      <td>http://ggjd.cnstock.com/company/scp_ggjd/tjd_g...</td>\n",
       "    </tr>\n",
       "    <tr>\n",
       "      <th>3</th>\n",
       "      <td>2018-05-24 18:01:00</td>\n",
       "      <td>秦安股份部分董监高拟合计减持不超0.32%股份</td>\n",
       "      <td>http://ggjd.cnstock.com/company/scp_ggjd/tjd_g...</td>\n",
       "    </tr>\n",
       "    <tr>\n",
       "      <th>4</th>\n",
       "      <td>2018-05-24 11:48:00</td>\n",
       "      <td>新筑股份战略“牵手”中铁二院</td>\n",
       "      <td>http://ggjd.cnstock.com/company/scp_ggjd/tjd_g...</td>\n",
       "    </tr>\n",
       "  </tbody>\n",
       "</table>\n",
       "</div>"
      ],
      "text/plain": [
       "                 Date                      Title  \\\n",
       "0 2018-05-24 08:17:00  东方园林：从未发生过债券和银行贷款到期不能兑付问题   \n",
       "1 2018-05-24 09:20:00        3家公司临停 海南橡胶因重要事项未公告   \n",
       "2 2018-05-24 17:49:00      艾华集团两高管拟合计减持不超0.49%股份   \n",
       "3 2018-05-24 18:01:00    秦安股份部分董监高拟合计减持不超0.32%股份   \n",
       "4 2018-05-24 11:48:00             新筑股份战略“牵手”中铁二院   \n",
       "\n",
       "                                                 URL  \n",
       "0  http://ggjd.cnstock.com/company/scp_ggjd/tjd_g...  \n",
       "1  http://ggjd.cnstock.com/company/scp_ggjd/tjd_g...  \n",
       "2  http://ggjd.cnstock.com/company/scp_ggjd/tjd_g...  \n",
       "3  http://ggjd.cnstock.com/company/scp_ggjd/tjd_g...  \n",
       "4  http://ggjd.cnstock.com/company/scp_ggjd/tjd_g...  "
      ]
     },
     "execution_count": 21,
     "metadata": {},
     "output_type": "execute_result"
    }
   ],
   "source": [
    "no_dup_df.head()"
   ]
  },
  {
   "cell_type": "code",
   "execution_count": 20,
   "metadata": {},
   "outputs": [],
   "source": [
    "del no_dup_df['index']"
   ]
  },
  {
   "cell_type": "code",
   "execution_count": 23,
   "metadata": {},
   "outputs": [],
   "source": [
    "no_dup_df.to_sql('tb_cnstock',con=local,index=None)"
   ]
  },
  {
   "cell_type": "code",
   "execution_count": null,
   "metadata": {},
   "outputs": [],
   "source": []
  }
 ],
 "metadata": {
  "kernelspec": {
   "display_name": "Python 3",
   "language": "python",
   "name": "python3"
  },
  "language_info": {
   "codemirror_mode": {
    "name": "ipython",
    "version": 3
   },
   "file_extension": ".py",
   "mimetype": "text/x-python",
   "name": "python",
   "nbconvert_exporter": "python",
   "pygments_lexer": "ipython3",
   "version": "3.6.2"
  }
 },
 "nbformat": 4,
 "nbformat_minor": 2
}
