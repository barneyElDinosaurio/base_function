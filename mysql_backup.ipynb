{
 "cells": [
  {
   "cell_type": "code",
   "execution_count": 22,
   "metadata": {},
   "outputs": [],
   "source": [
    "from sqlalchemy import create_engine\n",
    "import config\n",
    "import pandas as pd\n",
    "import pymysql"
   ]
  },
  {
   "cell_type": "code",
   "execution_count": 2,
   "metadata": {},
   "outputs": [],
   "source": [
    "db1='db_stock'\n",
    "win101 = create_engine(\n",
    "        'mysql+pymysql://{}:{}@{}:{}/{}?charset=utf8'.format(config.mysql_user_101,config.mysql_password_101,\n",
    "                                                             config.mysql_host_101,3306, db1))"
   ]
  },
  {
   "cell_type": "code",
   "execution_count": 3,
   "metadata": {},
   "outputs": [],
   "source": [
    "db0='db_stock'\n",
    "local=create_engine(\n",
    "        'mysql+pymysql://{}:{}@{}:{}/{}?charset=utf8'.format('root',config.localpassword,\n",
    "                                                             config.localhost,3306, db0))"
   ]
  },
  {
   "cell_type": "code",
   "execution_count": 12,
   "metadata": {},
   "outputs": [],
   "source": [
    "# db_ali='db_stock'\n",
    "alibaba=create_engine(\n",
    "        'mysql+pymysql://{}:{}@{}:{}/{}?charset=utf8'.format(config.ali_user,config.ali_pass,\n",
    "                                                             config.ali_host,3306, config.ali_db))"
   ]
  },
  {
   "cell_type": "code",
   "execution_count": 5,
   "metadata": {},
   "outputs": [
    {
     "name": "stderr",
     "output_type": "stream",
     "text": [
      "c:\\python3_64\\lib\\site-packages\\pymysql\\cursors.py:170: Warning: (1366, \"Incorrect string value: '\\\\xD6\\\\xD0\\\\xB9\\\\xFA\\\\xB1\\\\xEA...' for column 'VARIABLE_VALUE' at row 480\")\n",
      "  result = self._query(query)\n"
     ]
    }
   ],
   "source": [
    "local_df = pd.read_sql('tb_cnstock',con=local)"
   ]
  },
  {
   "cell_type": "code",
   "execution_count": 6,
   "metadata": {},
   "outputs": [
    {
     "name": "stderr",
     "output_type": "stream",
     "text": [
      "c:\\python3_64\\lib\\site-packages\\pymysql\\cursors.py:170: Warning: (1366, \"Incorrect string value: '\\\\xD6\\\\xD0\\\\xB9\\\\xFA\\\\xB1\\\\xEA...' for column 'VARIABLE_VALUE' at row 518\")\n",
      "  result = self._query(query)\n"
     ]
    }
   ],
   "source": [
    "remote_df = pd.read_sql('tb_cnstock',con=win101)"
   ]
  },
  {
   "cell_type": "code",
   "execution_count": 13,
   "metadata": {},
   "outputs": [],
   "source": [
    "ali_df = pd.read_sql('tb_cnstock',con=alibaba)"
   ]
  },
  {
   "cell_type": "code",
   "execution_count": 41,
   "metadata": {
    "scrolled": true
   },
   "outputs": [
    {
     "data": {
      "text/plain": [
       "14204"
      ]
     },
     "execution_count": 41,
     "metadata": {},
     "output_type": "execute_result"
    }
   ],
   "source": [
    "len(remote_df)"
   ]
  },
  {
   "cell_type": "code",
   "execution_count": 44,
   "metadata": {},
   "outputs": [],
   "source": [
    "temp_df = remote_df.drop_duplicates(['URL','Title'])"
   ]
  },
  {
   "cell_type": "code",
   "execution_count": 43,
   "metadata": {},
   "outputs": [
    {
     "data": {
      "text/plain": [
       "14204"
      ]
     },
     "execution_count": 43,
     "metadata": {},
     "output_type": "execute_result"
    }
   ],
   "source": [
    "len(temp_df)"
   ]
  },
  {
   "cell_type": "code",
   "execution_count": 9,
   "metadata": {},
   "outputs": [
    {
     "data": {
      "text/plain": [
       "899"
      ]
     },
     "execution_count": 9,
     "metadata": {},
     "output_type": "execute_result"
    }
   ],
   "source": [
    "len(local_df)"
   ]
  },
  {
   "cell_type": "code",
   "execution_count": 14,
   "metadata": {},
   "outputs": [
    {
     "data": {
      "text/plain": [
       "14540"
      ]
     },
     "execution_count": 14,
     "metadata": {},
     "output_type": "execute_result"
    }
   ],
   "source": [
    "len(ali_df)"
   ]
  },
  {
   "cell_type": "code",
   "execution_count": 15,
   "metadata": {},
   "outputs": [],
   "source": [
    "new_df = pd.concat([local_df,remote_df,ali_df])"
   ]
  },
  {
   "cell_type": "code",
   "execution_count": 19,
   "metadata": {},
   "outputs": [
    {
     "data": {
      "text/html": [
       "<div>\n",
       "<style scoped>\n",
       "    .dataframe tbody tr th:only-of-type {\n",
       "        vertical-align: middle;\n",
       "    }\n",
       "\n",
       "    .dataframe tbody tr th {\n",
       "        vertical-align: top;\n",
       "    }\n",
       "\n",
       "    .dataframe thead th {\n",
       "        text-align: right;\n",
       "    }\n",
       "</style>\n",
       "<table border=\"1\" class=\"dataframe\">\n",
       "  <thead>\n",
       "    <tr style=\"text-align: right;\">\n",
       "      <th></th>\n",
       "      <th>Date</th>\n",
       "      <th>Title</th>\n",
       "      <th>URL</th>\n",
       "    </tr>\n",
       "  </thead>\n",
       "  <tbody>\n",
       "    <tr>\n",
       "      <th>0</th>\n",
       "      <td>2018-05-24 08:17:00</td>\n",
       "      <td>东方园林：从未发生过债券和银行贷款到期不能兑付问题</td>\n",
       "      <td>http://ggjd.cnstock.com/company/scp_ggjd/tjd_g...</td>\n",
       "    </tr>\n",
       "    <tr>\n",
       "      <th>1</th>\n",
       "      <td>2018-05-24 09:20:00</td>\n",
       "      <td>3家公司临停 海南橡胶因重要事项未公告</td>\n",
       "      <td>http://ggjd.cnstock.com/company/scp_ggjd/tjd_g...</td>\n",
       "    </tr>\n",
       "    <tr>\n",
       "      <th>2</th>\n",
       "      <td>2018-05-24 17:49:00</td>\n",
       "      <td>艾华集团两高管拟合计减持不超0.49%股份</td>\n",
       "      <td>http://ggjd.cnstock.com/company/scp_ggjd/tjd_g...</td>\n",
       "    </tr>\n",
       "    <tr>\n",
       "      <th>3</th>\n",
       "      <td>2018-05-24 18:01:00</td>\n",
       "      <td>秦安股份部分董监高拟合计减持不超0.32%股份</td>\n",
       "      <td>http://ggjd.cnstock.com/company/scp_ggjd/tjd_g...</td>\n",
       "    </tr>\n",
       "    <tr>\n",
       "      <th>4</th>\n",
       "      <td>2018-05-24 11:48:00</td>\n",
       "      <td>新筑股份战略“牵手”中铁二院</td>\n",
       "      <td>http://ggjd.cnstock.com/company/scp_ggjd/tjd_g...</td>\n",
       "    </tr>\n",
       "    <tr>\n",
       "      <th>5</th>\n",
       "      <td>2018-05-24 11:52:00</td>\n",
       "      <td>大禹节水与凤庆县签订合作框架协议</td>\n",
       "      <td>http://ggjd.cnstock.com/company/scp_ggjd/tjd_g...</td>\n",
       "    </tr>\n",
       "    <tr>\n",
       "      <th>6</th>\n",
       "      <td>2018-05-24 11:59:00</td>\n",
       "      <td>金龙机电：金鹰基金累计减持达1%</td>\n",
       "      <td>http://ggjd.cnstock.com/company/scp_ggjd/tjd_g...</td>\n",
       "    </tr>\n",
       "    <tr>\n",
       "      <th>7</th>\n",
       "      <td>2018-05-24 16:19:00</td>\n",
       "      <td>深康佳与招商致远资本签署战略合作协议</td>\n",
       "      <td>http://ggjd.cnstock.com/company/scp_ggjd/tjd_g...</td>\n",
       "    </tr>\n",
       "    <tr>\n",
       "      <th>8</th>\n",
       "      <td>2018-05-24 16:25:00</td>\n",
       "      <td>甘肃电投股东减持公司股份2613.43万股</td>\n",
       "      <td>http://ggjd.cnstock.com/company/scp_ggjd/tjd_g...</td>\n",
       "    </tr>\n",
       "    <tr>\n",
       "      <th>9</th>\n",
       "      <td>2018-05-24 16:50:00</td>\n",
       "      <td>银龙股份子公司收到500万元政府补助</td>\n",
       "      <td>http://ggjd.cnstock.com/company/scp_ggjd/tjd_g...</td>\n",
       "    </tr>\n",
       "    <tr>\n",
       "      <th>10</th>\n",
       "      <td>2018-05-24 16:50:00</td>\n",
       "      <td>辉丰股份收到环保部门撤销公司部分项目环评批复决定</td>\n",
       "      <td>http://ggjd.cnstock.com/company/scp_ggjd/tjd_g...</td>\n",
       "    </tr>\n",
       "    <tr>\n",
       "      <th>11</th>\n",
       "      <td>2018-05-24 17:03:00</td>\n",
       "      <td>国联水产：协议转让股份完成过户登记 永辉超市成第二大股东</td>\n",
       "      <td>http://ggjd.cnstock.com/company/scp_ggjd/tjd_g...</td>\n",
       "    </tr>\n",
       "    <tr>\n",
       "      <th>12</th>\n",
       "      <td>2018-05-24 17:34:00</td>\n",
       "      <td>原尚股份股价异动 无应披露而未披露信息</td>\n",
       "      <td>http://ggjd.cnstock.com/company/scp_ggjd/tjd_g...</td>\n",
       "    </tr>\n",
       "    <tr>\n",
       "      <th>13</th>\n",
       "      <td>2018-05-24 17:38:00</td>\n",
       "      <td>江苏银行触发实施稳定股价措施启动条件</td>\n",
       "      <td>http://ggjd.cnstock.com/company/scp_ggjd/tjd_g...</td>\n",
       "    </tr>\n",
       "    <tr>\n",
       "      <th>14</th>\n",
       "      <td>2018-05-24 17:42:00</td>\n",
       "      <td>洪城水业控股股东完成增持计划</td>\n",
       "      <td>http://ggjd.cnstock.com/company/scp_ggjd/tjd_g...</td>\n",
       "    </tr>\n",
       "    <tr>\n",
       "      <th>15</th>\n",
       "      <td>2018-05-24 17:45:00</td>\n",
       "      <td>中昌数据股东科博德奥拟减持不超2%股份</td>\n",
       "      <td>http://ggjd.cnstock.com/company/scp_ggjd/tjd_g...</td>\n",
       "    </tr>\n",
       "    <tr>\n",
       "      <th>16</th>\n",
       "      <td>2018-05-24 17:53:00</td>\n",
       "      <td>宏川智慧股价异动 25日起停牌核查</td>\n",
       "      <td>http://ggjd.cnstock.com/company/scp_ggjd/tjd_g...</td>\n",
       "    </tr>\n",
       "    <tr>\n",
       "      <th>17</th>\n",
       "      <td>2018-05-24 17:54:00</td>\n",
       "      <td>华懋科技拟在越南海防市投资1200万美元设厂</td>\n",
       "      <td>http://ggjd.cnstock.com/company/scp_ggjd/tjd_g...</td>\n",
       "    </tr>\n",
       "    <tr>\n",
       "      <th>18</th>\n",
       "      <td>2018-05-24 18:00:00</td>\n",
       "      <td>金盾股份：公安机关鉴定公司的公章、财务专用章等均被伪造</td>\n",
       "      <td>http://ggjd.cnstock.com/company/scp_ggjd/tjd_g...</td>\n",
       "    </tr>\n",
       "    <tr>\n",
       "      <th>19</th>\n",
       "      <td>2018-05-24 18:05:00</td>\n",
       "      <td>迪生力股价异动 无应披露而未披露信息</td>\n",
       "      <td>http://ggjd.cnstock.com/company/scp_ggjd/tjd_g...</td>\n",
       "    </tr>\n",
       "    <tr>\n",
       "      <th>20</th>\n",
       "      <td>2018-05-24 18:12:00</td>\n",
       "      <td>*ST信通涉及为他人担保事项 已向公安报案</td>\n",
       "      <td>http://ggjd.cnstock.com/company/scp_ggjd/tjd_g...</td>\n",
       "    </tr>\n",
       "    <tr>\n",
       "      <th>21</th>\n",
       "      <td>2018-05-24 18:18:00</td>\n",
       "      <td>晶瑞股份多名股东拟合计减持不超8.6%股份</td>\n",
       "      <td>http://ggjd.cnstock.com/company/scp_ggjd/tjd_g...</td>\n",
       "    </tr>\n",
       "    <tr>\n",
       "      <th>22</th>\n",
       "      <td>2018-05-24 18:27:00</td>\n",
       "      <td>山河药辅股东及多名高管拟合计减持不超7.54%股份</td>\n",
       "      <td>http://ggjd.cnstock.com/company/scp_ggjd/tjd_g...</td>\n",
       "    </tr>\n",
       "    <tr>\n",
       "      <th>23</th>\n",
       "      <td>2018-05-24 18:32:00</td>\n",
       "      <td>陇神戎发股东拟减持不超1%股份</td>\n",
       "      <td>http://ggjd.cnstock.com/company/scp_ggjd/tjd_g...</td>\n",
       "    </tr>\n",
       "    <tr>\n",
       "      <th>24</th>\n",
       "      <td>2018-05-24 18:36:00</td>\n",
       "      <td>光洋股份实控人终止股份减持计划</td>\n",
       "      <td>http://ggjd.cnstock.com/company/scp_ggjd/tjd_g...</td>\n",
       "    </tr>\n",
       "    <tr>\n",
       "      <th>25</th>\n",
       "      <td>2018-05-24 18:40:00</td>\n",
       "      <td>京威股份股东中环投资终止筹划部分要约收购公司股票</td>\n",
       "      <td>http://ggjd.cnstock.com/company/scp_ggjd/tjd_g...</td>\n",
       "    </tr>\n",
       "    <tr>\n",
       "      <th>26</th>\n",
       "      <td>2018-05-24 18:48:00</td>\n",
       "      <td>中兴商业股东杭州如山拟继续减持4.56%股份</td>\n",
       "      <td>http://ggjd.cnstock.com/company/scp_ggjd/tjd_g...</td>\n",
       "    </tr>\n",
       "    <tr>\n",
       "      <th>27</th>\n",
       "      <td>2018-05-24 18:51:00</td>\n",
       "      <td>南风股份实控人杨子善所持7.08%公司股份被司法冻结</td>\n",
       "      <td>http://ggjd.cnstock.com/company/scp_ggjd/tjd_g...</td>\n",
       "    </tr>\n",
       "    <tr>\n",
       "      <th>28</th>\n",
       "      <td>2018-05-24 18:55:00</td>\n",
       "      <td>海南橡胶停牌筹划重大资产重组事项</td>\n",
       "      <td>http://ggjd.cnstock.com/company/scp_ggjd/tjd_g...</td>\n",
       "    </tr>\n",
       "    <tr>\n",
       "      <th>29</th>\n",
       "      <td>2018-05-24 19:00:00</td>\n",
       "      <td>药明康德股价连续13个涨停 提示风险</td>\n",
       "      <td>http://ggjd.cnstock.com/company/scp_ggjd/tjd_g...</td>\n",
       "    </tr>\n",
       "    <tr>\n",
       "      <th>...</th>\n",
       "      <td>...</td>\n",
       "      <td>...</td>\n",
       "      <td>...</td>\n",
       "    </tr>\n",
       "    <tr>\n",
       "      <th>14510</th>\n",
       "      <td>2017-01-25 12:52:00</td>\n",
       "      <td>25日午间重要公告集锦</td>\n",
       "      <td>http://ggjd.cnstock.com/company/scp_ggjd/tjd_t...</td>\n",
       "    </tr>\n",
       "    <tr>\n",
       "      <th>14511</th>\n",
       "      <td>2017-01-25 21:54:00</td>\n",
       "      <td>25日晚间重要公告集锦</td>\n",
       "      <td>http://ggjd.cnstock.com/company/scp_ggjd/tjd_t...</td>\n",
       "    </tr>\n",
       "    <tr>\n",
       "      <th>14512</th>\n",
       "      <td>2017-01-26 17:19:00</td>\n",
       "      <td>26日晚间重要公告集锦</td>\n",
       "      <td>http://ggjd.cnstock.com/company/scp_ggjd/tjd_t...</td>\n",
       "    </tr>\n",
       "    <tr>\n",
       "      <th>14513</th>\n",
       "      <td>2017-02-03 21:05:00</td>\n",
       "      <td>3日晚间重要公告集锦</td>\n",
       "      <td>http://ggjd.cnstock.com/company/scp_ggjd/tjd_t...</td>\n",
       "    </tr>\n",
       "    <tr>\n",
       "      <th>14514</th>\n",
       "      <td>2017-02-06 21:00:00</td>\n",
       "      <td>6日晚间重要公告集锦</td>\n",
       "      <td>http://ggjd.cnstock.com/company/scp_ggjd/tjd_t...</td>\n",
       "    </tr>\n",
       "    <tr>\n",
       "      <th>14515</th>\n",
       "      <td>2017-02-07 21:58:00</td>\n",
       "      <td>7日晚间重要公告集锦</td>\n",
       "      <td>http://ggjd.cnstock.com/company/scp_ggjd/tjd_t...</td>\n",
       "    </tr>\n",
       "    <tr>\n",
       "      <th>14516</th>\n",
       "      <td>2017-02-08 21:28:00</td>\n",
       "      <td>8日晚间重要公告集锦</td>\n",
       "      <td>http://ggjd.cnstock.com/company/scp_ggjd/tjd_t...</td>\n",
       "    </tr>\n",
       "    <tr>\n",
       "      <th>14517</th>\n",
       "      <td>2017-02-09 20:59:00</td>\n",
       "      <td>9日晚间重要公告集锦</td>\n",
       "      <td>http://ggjd.cnstock.com/company/scp_ggjd/tjd_t...</td>\n",
       "    </tr>\n",
       "    <tr>\n",
       "      <th>14518</th>\n",
       "      <td>2017-02-10 17:54:00</td>\n",
       "      <td>10日晚间重要公告集锦（更新中）</td>\n",
       "      <td>http://ggjd.cnstock.com/company/scp_ggjd/tjd_t...</td>\n",
       "    </tr>\n",
       "    <tr>\n",
       "      <th>14519</th>\n",
       "      <td>2017-02-13 21:02:00</td>\n",
       "      <td>13日晚间重要公告集锦</td>\n",
       "      <td>http://ggjd.cnstock.com/company/scp_ggjd/tjd_t...</td>\n",
       "    </tr>\n",
       "    <tr>\n",
       "      <th>14520</th>\n",
       "      <td>2017-02-14 20:52:00</td>\n",
       "      <td>14日晚间重要公告集锦</td>\n",
       "      <td>http://ggjd.cnstock.com/company/scp_ggjd/tjd_t...</td>\n",
       "    </tr>\n",
       "    <tr>\n",
       "      <th>14521</th>\n",
       "      <td>2017-02-15 21:10:00</td>\n",
       "      <td>15日晚间重要公告集锦</td>\n",
       "      <td>http://ggjd.cnstock.com/company/scp_ggjd/tjd_t...</td>\n",
       "    </tr>\n",
       "    <tr>\n",
       "      <th>14522</th>\n",
       "      <td>2017-02-16 21:10:00</td>\n",
       "      <td>16日晚间重要公告集锦</td>\n",
       "      <td>http://ggjd.cnstock.com/company/scp_ggjd/tjd_t...</td>\n",
       "    </tr>\n",
       "    <tr>\n",
       "      <th>14523</th>\n",
       "      <td>2017-02-17 21:45:00</td>\n",
       "      <td>17日晚间重要公告集锦</td>\n",
       "      <td>http://ggjd.cnstock.com/company/scp_ggjd/tjd_t...</td>\n",
       "    </tr>\n",
       "    <tr>\n",
       "      <th>14524</th>\n",
       "      <td>2017-02-20 22:09:00</td>\n",
       "      <td>20日晚间重要公告集锦</td>\n",
       "      <td>http://ggjd.cnstock.com/company/scp_ggjd/tjd_t...</td>\n",
       "    </tr>\n",
       "    <tr>\n",
       "      <th>14525</th>\n",
       "      <td>2017-02-21 20:49:00</td>\n",
       "      <td>21日晚间重要公告集锦</td>\n",
       "      <td>http://ggjd.cnstock.com/company/scp_ggjd/tjd_t...</td>\n",
       "    </tr>\n",
       "    <tr>\n",
       "      <th>14526</th>\n",
       "      <td>2017-02-22 20:56:00</td>\n",
       "      <td>22日晚间重要公告集锦</td>\n",
       "      <td>http://ggjd.cnstock.com/company/scp_ggjd/tjd_t...</td>\n",
       "    </tr>\n",
       "    <tr>\n",
       "      <th>14527</th>\n",
       "      <td>2017-02-23 21:08:00</td>\n",
       "      <td>23日晚间重要公告集锦</td>\n",
       "      <td>http://ggjd.cnstock.com/company/scp_ggjd/tjd_t...</td>\n",
       "    </tr>\n",
       "    <tr>\n",
       "      <th>14528</th>\n",
       "      <td>2017-02-24 17:58:00</td>\n",
       "      <td>24日晚间重要公告集锦（更新中）</td>\n",
       "      <td>http://ggjd.cnstock.com/company/scp_ggjd/tjd_t...</td>\n",
       "    </tr>\n",
       "    <tr>\n",
       "      <th>14529</th>\n",
       "      <td>2017-02-27 23:06:00</td>\n",
       "      <td>2月27日晚间重要公告集锦</td>\n",
       "      <td>http://ggjd.cnstock.com/company/scp_ggjd/tjd_t...</td>\n",
       "    </tr>\n",
       "    <tr>\n",
       "      <th>14530</th>\n",
       "      <td>2017-03-14 19:53:00</td>\n",
       "      <td>2016年江阴银行营业收入、净利润双降</td>\n",
       "      <td>http://news.cnstock.com/news,bwkx-201703-40486...</td>\n",
       "    </tr>\n",
       "    <tr>\n",
       "      <th>14531</th>\n",
       "      <td>2017-03-28 12:09:00</td>\n",
       "      <td>科陆电子拟收购通讯业标的</td>\n",
       "      <td>http://news.cnstock.com/news,bwkx-201703-40558...</td>\n",
       "    </tr>\n",
       "    <tr>\n",
       "      <th>14532</th>\n",
       "      <td>2017-03-29 22:57:00</td>\n",
       "      <td>建设银行2016年净利同比增长1.45%</td>\n",
       "      <td>http://news.cnstock.com/news,bwkx-201703-40568...</td>\n",
       "    </tr>\n",
       "    <tr>\n",
       "      <th>14533</th>\n",
       "      <td>2017-03-29 22:57:00</td>\n",
       "      <td>中国太保去年实现净利润120.57亿元</td>\n",
       "      <td>http://news.cnstock.com/news,bwkx-201703-40568...</td>\n",
       "    </tr>\n",
       "    <tr>\n",
       "      <th>14534</th>\n",
       "      <td>2017-06-23 14:48:00</td>\n",
       "      <td>上海电气：未与特斯拉签署任何合资协议</td>\n",
       "      <td>http://news.cnstock.com/news,bwkx-201706-40936...</td>\n",
       "    </tr>\n",
       "    <tr>\n",
       "      <th>14535</th>\n",
       "      <td>2018-03-26 09:41:00</td>\n",
       "      <td>乐视网：澄清公共传媒信息 今日临停</td>\n",
       "      <td>http://news.cnstock.com/news,bwkx-201803-42026...</td>\n",
       "    </tr>\n",
       "    <tr>\n",
       "      <th>14536</th>\n",
       "      <td>2018-03-27 13:12:00</td>\n",
       "      <td>交易情况异常 万兴科技下午临停</td>\n",
       "      <td>http://news.cnstock.com/news,bwkx-201803-42033...</td>\n",
       "    </tr>\n",
       "    <tr>\n",
       "      <th>14537</th>\n",
       "      <td>2018-03-30 12:14:00</td>\n",
       "      <td>雄韬股份一季度净利预亏</td>\n",
       "      <td>http://news.cnstock.com/news,bwkx-201803-42050...</td>\n",
       "    </tr>\n",
       "    <tr>\n",
       "      <th>14538</th>\n",
       "      <td>2018-04-04 12:29:00</td>\n",
       "      <td>#公告#广电运通生物识别等国家标准获发布</td>\n",
       "      <td>http://news.cnstock.com/news,bwkx-201804-42068...</td>\n",
       "    </tr>\n",
       "    <tr>\n",
       "      <th>14539</th>\n",
       "      <td>2018-04-04 13:06:00</td>\n",
       "      <td>中工国际拟披露重大事项 午后临停</td>\n",
       "      <td>http://news.cnstock.com/news,bwkx-201804-42068...</td>\n",
       "    </tr>\n",
       "  </tbody>\n",
       "</table>\n",
       "<p>29643 rows × 3 columns</p>\n",
       "</div>"
      ],
      "text/plain": [
       "                     Date                         Title  \\\n",
       "0     2018-05-24 08:17:00     东方园林：从未发生过债券和银行贷款到期不能兑付问题   \n",
       "1     2018-05-24 09:20:00           3家公司临停 海南橡胶因重要事项未公告   \n",
       "2     2018-05-24 17:49:00         艾华集团两高管拟合计减持不超0.49%股份   \n",
       "3     2018-05-24 18:01:00       秦安股份部分董监高拟合计减持不超0.32%股份   \n",
       "4     2018-05-24 11:48:00                新筑股份战略“牵手”中铁二院   \n",
       "5     2018-05-24 11:52:00              大禹节水与凤庆县签订合作框架协议   \n",
       "6     2018-05-24 11:59:00              金龙机电：金鹰基金累计减持达1%   \n",
       "7     2018-05-24 16:19:00            深康佳与招商致远资本签署战略合作协议   \n",
       "8     2018-05-24 16:25:00         甘肃电投股东减持公司股份2613.43万股   \n",
       "9     2018-05-24 16:50:00            银龙股份子公司收到500万元政府补助   \n",
       "10    2018-05-24 16:50:00      辉丰股份收到环保部门撤销公司部分项目环评批复决定   \n",
       "11    2018-05-24 17:03:00  国联水产：协议转让股份完成过户登记 永辉超市成第二大股东   \n",
       "12    2018-05-24 17:34:00           原尚股份股价异动 无应披露而未披露信息   \n",
       "13    2018-05-24 17:38:00            江苏银行触发实施稳定股价措施启动条件   \n",
       "14    2018-05-24 17:42:00                洪城水业控股股东完成增持计划   \n",
       "15    2018-05-24 17:45:00           中昌数据股东科博德奥拟减持不超2%股份   \n",
       "16    2018-05-24 17:53:00             宏川智慧股价异动 25日起停牌核查   \n",
       "17    2018-05-24 17:54:00        华懋科技拟在越南海防市投资1200万美元设厂   \n",
       "18    2018-05-24 18:00:00   金盾股份：公安机关鉴定公司的公章、财务专用章等均被伪造   \n",
       "19    2018-05-24 18:05:00            迪生力股价异动 无应披露而未披露信息   \n",
       "20    2018-05-24 18:12:00         *ST信通涉及为他人担保事项 已向公安报案   \n",
       "21    2018-05-24 18:18:00         晶瑞股份多名股东拟合计减持不超8.6%股份   \n",
       "22    2018-05-24 18:27:00     山河药辅股东及多名高管拟合计减持不超7.54%股份   \n",
       "23    2018-05-24 18:32:00               陇神戎发股东拟减持不超1%股份   \n",
       "24    2018-05-24 18:36:00               光洋股份实控人终止股份减持计划   \n",
       "25    2018-05-24 18:40:00      京威股份股东中环投资终止筹划部分要约收购公司股票   \n",
       "26    2018-05-24 18:48:00        中兴商业股东杭州如山拟继续减持4.56%股份   \n",
       "27    2018-05-24 18:51:00    南风股份实控人杨子善所持7.08%公司股份被司法冻结   \n",
       "28    2018-05-24 18:55:00              海南橡胶停牌筹划重大资产重组事项   \n",
       "29    2018-05-24 19:00:00            药明康德股价连续13个涨停 提示风险   \n",
       "...                   ...                           ...   \n",
       "14510 2017-01-25 12:52:00                   25日午间重要公告集锦   \n",
       "14511 2017-01-25 21:54:00                   25日晚间重要公告集锦   \n",
       "14512 2017-01-26 17:19:00                   26日晚间重要公告集锦   \n",
       "14513 2017-02-03 21:05:00                    3日晚间重要公告集锦   \n",
       "14514 2017-02-06 21:00:00                    6日晚间重要公告集锦   \n",
       "14515 2017-02-07 21:58:00                    7日晚间重要公告集锦   \n",
       "14516 2017-02-08 21:28:00                    8日晚间重要公告集锦   \n",
       "14517 2017-02-09 20:59:00                    9日晚间重要公告集锦   \n",
       "14518 2017-02-10 17:54:00              10日晚间重要公告集锦（更新中）   \n",
       "14519 2017-02-13 21:02:00                   13日晚间重要公告集锦   \n",
       "14520 2017-02-14 20:52:00                   14日晚间重要公告集锦   \n",
       "14521 2017-02-15 21:10:00                   15日晚间重要公告集锦   \n",
       "14522 2017-02-16 21:10:00                   16日晚间重要公告集锦   \n",
       "14523 2017-02-17 21:45:00                   17日晚间重要公告集锦   \n",
       "14524 2017-02-20 22:09:00                   20日晚间重要公告集锦   \n",
       "14525 2017-02-21 20:49:00                   21日晚间重要公告集锦   \n",
       "14526 2017-02-22 20:56:00                   22日晚间重要公告集锦   \n",
       "14527 2017-02-23 21:08:00                   23日晚间重要公告集锦   \n",
       "14528 2017-02-24 17:58:00              24日晚间重要公告集锦（更新中）   \n",
       "14529 2017-02-27 23:06:00                 2月27日晚间重要公告集锦   \n",
       "14530 2017-03-14 19:53:00           2016年江阴银行营业收入、净利润双降   \n",
       "14531 2017-03-28 12:09:00                  科陆电子拟收购通讯业标的   \n",
       "14532 2017-03-29 22:57:00          建设银行2016年净利同比增长1.45%   \n",
       "14533 2017-03-29 22:57:00           中国太保去年实现净利润120.57亿元   \n",
       "14534 2017-06-23 14:48:00            上海电气：未与特斯拉签署任何合资协议   \n",
       "14535 2018-03-26 09:41:00             乐视网：澄清公共传媒信息 今日临停   \n",
       "14536 2018-03-27 13:12:00               交易情况异常 万兴科技下午临停   \n",
       "14537 2018-03-30 12:14:00                   雄韬股份一季度净利预亏   \n",
       "14538 2018-04-04 12:29:00          #公告#广电运通生物识别等国家标准获发布   \n",
       "14539 2018-04-04 13:06:00              中工国际拟披露重大事项 午后临停   \n",
       "\n",
       "                                                     URL  \n",
       "0      http://ggjd.cnstock.com/company/scp_ggjd/tjd_g...  \n",
       "1      http://ggjd.cnstock.com/company/scp_ggjd/tjd_g...  \n",
       "2      http://ggjd.cnstock.com/company/scp_ggjd/tjd_g...  \n",
       "3      http://ggjd.cnstock.com/company/scp_ggjd/tjd_g...  \n",
       "4      http://ggjd.cnstock.com/company/scp_ggjd/tjd_g...  \n",
       "5      http://ggjd.cnstock.com/company/scp_ggjd/tjd_g...  \n",
       "6      http://ggjd.cnstock.com/company/scp_ggjd/tjd_g...  \n",
       "7      http://ggjd.cnstock.com/company/scp_ggjd/tjd_g...  \n",
       "8      http://ggjd.cnstock.com/company/scp_ggjd/tjd_g...  \n",
       "9      http://ggjd.cnstock.com/company/scp_ggjd/tjd_g...  \n",
       "10     http://ggjd.cnstock.com/company/scp_ggjd/tjd_g...  \n",
       "11     http://ggjd.cnstock.com/company/scp_ggjd/tjd_g...  \n",
       "12     http://ggjd.cnstock.com/company/scp_ggjd/tjd_g...  \n",
       "13     http://ggjd.cnstock.com/company/scp_ggjd/tjd_g...  \n",
       "14     http://ggjd.cnstock.com/company/scp_ggjd/tjd_g...  \n",
       "15     http://ggjd.cnstock.com/company/scp_ggjd/tjd_g...  \n",
       "16     http://ggjd.cnstock.com/company/scp_ggjd/tjd_g...  \n",
       "17     http://ggjd.cnstock.com/company/scp_ggjd/tjd_g...  \n",
       "18     http://ggjd.cnstock.com/company/scp_ggjd/tjd_g...  \n",
       "19     http://ggjd.cnstock.com/company/scp_ggjd/tjd_g...  \n",
       "20     http://ggjd.cnstock.com/company/scp_ggjd/tjd_g...  \n",
       "21     http://ggjd.cnstock.com/company/scp_ggjd/tjd_g...  \n",
       "22     http://ggjd.cnstock.com/company/scp_ggjd/tjd_g...  \n",
       "23     http://ggjd.cnstock.com/company/scp_ggjd/tjd_g...  \n",
       "24     http://ggjd.cnstock.com/company/scp_ggjd/tjd_g...  \n",
       "25     http://ggjd.cnstock.com/company/scp_ggjd/tjd_g...  \n",
       "26     http://ggjd.cnstock.com/company/scp_ggjd/tjd_g...  \n",
       "27     http://ggjd.cnstock.com/company/scp_ggjd/tjd_g...  \n",
       "28     http://ggjd.cnstock.com/company/scp_ggjd/tjd_g...  \n",
       "29     http://ggjd.cnstock.com/company/scp_ggjd/tjd_g...  \n",
       "...                                                  ...  \n",
       "14510  http://ggjd.cnstock.com/company/scp_ggjd/tjd_t...  \n",
       "14511  http://ggjd.cnstock.com/company/scp_ggjd/tjd_t...  \n",
       "14512  http://ggjd.cnstock.com/company/scp_ggjd/tjd_t...  \n",
       "14513  http://ggjd.cnstock.com/company/scp_ggjd/tjd_t...  \n",
       "14514  http://ggjd.cnstock.com/company/scp_ggjd/tjd_t...  \n",
       "14515  http://ggjd.cnstock.com/company/scp_ggjd/tjd_t...  \n",
       "14516  http://ggjd.cnstock.com/company/scp_ggjd/tjd_t...  \n",
       "14517  http://ggjd.cnstock.com/company/scp_ggjd/tjd_t...  \n",
       "14518  http://ggjd.cnstock.com/company/scp_ggjd/tjd_t...  \n",
       "14519  http://ggjd.cnstock.com/company/scp_ggjd/tjd_t...  \n",
       "14520  http://ggjd.cnstock.com/company/scp_ggjd/tjd_t...  \n",
       "14521  http://ggjd.cnstock.com/company/scp_ggjd/tjd_t...  \n",
       "14522  http://ggjd.cnstock.com/company/scp_ggjd/tjd_t...  \n",
       "14523  http://ggjd.cnstock.com/company/scp_ggjd/tjd_t...  \n",
       "14524  http://ggjd.cnstock.com/company/scp_ggjd/tjd_t...  \n",
       "14525  http://ggjd.cnstock.com/company/scp_ggjd/tjd_t...  \n",
       "14526  http://ggjd.cnstock.com/company/scp_ggjd/tjd_t...  \n",
       "14527  http://ggjd.cnstock.com/company/scp_ggjd/tjd_t...  \n",
       "14528  http://ggjd.cnstock.com/company/scp_ggjd/tjd_t...  \n",
       "14529  http://ggjd.cnstock.com/company/scp_ggjd/tjd_t...  \n",
       "14530  http://news.cnstock.com/news,bwkx-201703-40486...  \n",
       "14531  http://news.cnstock.com/news,bwkx-201703-40558...  \n",
       "14532  http://news.cnstock.com/news,bwkx-201703-40568...  \n",
       "14533  http://news.cnstock.com/news,bwkx-201703-40568...  \n",
       "14534  http://news.cnstock.com/news,bwkx-201706-40936...  \n",
       "14535  http://news.cnstock.com/news,bwkx-201803-42026...  \n",
       "14536  http://news.cnstock.com/news,bwkx-201803-42033...  \n",
       "14537  http://news.cnstock.com/news,bwkx-201803-42050...  \n",
       "14538  http://news.cnstock.com/news,bwkx-201804-42068...  \n",
       "14539  http://news.cnstock.com/news,bwkx-201804-42068...  \n",
       "\n",
       "[29643 rows x 3 columns]"
      ]
     },
     "execution_count": 19,
     "metadata": {},
     "output_type": "execute_result"
    }
   ],
   "source": [
    "new_df"
   ]
  },
  {
   "cell_type": "code",
   "execution_count": 16,
   "metadata": {},
   "outputs": [
    {
     "data": {
      "text/plain": [
       "29643"
      ]
     },
     "execution_count": 16,
     "metadata": {},
     "output_type": "execute_result"
    }
   ],
   "source": [
    "len(new_df)"
   ]
  },
  {
   "cell_type": "code",
   "execution_count": 17,
   "metadata": {},
   "outputs": [],
   "source": [
    "my_df = new_df.drop_duplicates(['Title','URL'])"
   ]
  },
  {
   "cell_type": "code",
   "execution_count": 46,
   "metadata": {
    "scrolled": true
   },
   "outputs": [
    {
     "data": {
      "text/plain": [
       "14963"
      ]
     },
     "execution_count": 46,
     "metadata": {},
     "output_type": "execute_result"
    }
   ],
   "source": [
    "len(my_df)"
   ]
  },
  {
   "cell_type": "code",
   "execution_count": 47,
   "metadata": {},
   "outputs": [],
   "source": [
    "df1=my_df.drop_duplicates('URL')"
   ]
  },
  {
   "cell_type": "code",
   "execution_count": 48,
   "metadata": {},
   "outputs": [
    {
     "data": {
      "text/plain": [
       "14963"
      ]
     },
     "execution_count": 48,
     "metadata": {},
     "output_type": "execute_result"
    }
   ],
   "source": [
    "len(df1)"
   ]
  },
  {
   "cell_type": "code",
   "execution_count": null,
   "metadata": {
    "scrolled": true
   },
   "outputs": [],
   "source": [
    "my_df.head(20)"
   ]
  },
  {
   "cell_type": "code",
   "execution_count": null,
   "metadata": {},
   "outputs": [],
   "source": [
    "my_df = my_df.reset_index(drop=True)"
   ]
  },
  {
   "cell_type": "code",
   "execution_count": 21,
   "metadata": {},
   "outputs": [],
   "source": [
    "my_df.to_sql('tb_cnstock_new',con=local,index=None)"
   ]
  },
  {
   "cell_type": "code",
   "execution_count": 52,
   "metadata": {},
   "outputs": [],
   "source": [
    "db='db_stock'\n",
    "local_conn =pymysql.connect(config.localhost, 'root', config.localpassword, db, charset='utf8')\n",
    "cur = local_conn.cursor()"
   ]
  },
  {
   "cell_type": "code",
   "execution_count": 51,
   "metadata": {},
   "outputs": [
    {
     "ename": "SyntaxError",
     "evalue": "invalid syntax (<ipython-input-51-500f1ec76d2a>, line 2)",
     "output_type": "error",
     "traceback": [
      "\u001b[1;36m  File \u001b[1;32m\"<ipython-input-51-500f1ec76d2a>\"\u001b[1;36m, line \u001b[1;32m2\u001b[0m\n\u001b[1;33m    ali_conn =pymysql.connect(config., config.a, config.localpassword, db, charset='utf8')\u001b[0m\n\u001b[1;37m                                     ^\u001b[0m\n\u001b[1;31mSyntaxError\u001b[0m\u001b[1;31m:\u001b[0m invalid syntax\n"
     ]
    }
   ],
   "source": [
    "ali_db='db_stock'\n",
    "ali_conn =pymysql.connect(config., config.a, config.localpassword, db, charset='utf8')\n",
    "cur = local_conn.cursor()"
   ]
  },
  {
   "cell_type": "code",
   "execution_count": 53,
   "metadata": {
    "scrolled": true
   },
   "outputs": [
    {
     "ename": "IntegrityError",
     "evalue": "(1062, \"Duplicate entry 'http://ggjd.cnstock.com/company/scp_ggjd/tjd_ggkx/201805/4225611' for key 'PRIMARY'\")",
     "output_type": "error",
     "traceback": [
      "\u001b[1;31m---------------------------------------------------------------------------\u001b[0m",
      "\u001b[1;31mIntegrityError\u001b[0m                            Traceback (most recent call last)",
      "\u001b[1;32m<ipython-input-53-4bdeb4582b0b>\u001b[0m in \u001b[0;36m<module>\u001b[1;34m()\u001b[0m\n\u001b[0;32m      6\u001b[0m     INSERT INTO tb_cnstock (Date,Title,URL ) VALUES(\\'%s\\',\\'%s\\',\\'%s\\');''' % (\n\u001b[0;32m      7\u001b[0m                     date,title,url)\n\u001b[1;32m----> 8\u001b[1;33m     \u001b[0mcur\u001b[0m\u001b[1;33m.\u001b[0m\u001b[0mexecute\u001b[0m\u001b[1;33m(\u001b[0m\u001b[0mcmd\u001b[0m\u001b[1;33m)\u001b[0m\u001b[1;33m\u001b[0m\u001b[0m\n\u001b[0m\u001b[0;32m      9\u001b[0m \u001b[1;33m\u001b[0m\u001b[0m\n\u001b[0;32m     10\u001b[0m     \u001b[1;32mtry\u001b[0m\u001b[1;33m:\u001b[0m\u001b[1;33m\u001b[0m\u001b[0m\n",
      "\u001b[1;32mc:\\python3_64\\lib\\site-packages\\pymysql\\cursors.py\u001b[0m in \u001b[0;36mexecute\u001b[1;34m(self, query, args)\u001b[0m\n\u001b[0;32m    168\u001b[0m         \u001b[0mquery\u001b[0m \u001b[1;33m=\u001b[0m \u001b[0mself\u001b[0m\u001b[1;33m.\u001b[0m\u001b[0mmogrify\u001b[0m\u001b[1;33m(\u001b[0m\u001b[0mquery\u001b[0m\u001b[1;33m,\u001b[0m \u001b[0margs\u001b[0m\u001b[1;33m)\u001b[0m\u001b[1;33m\u001b[0m\u001b[0m\n\u001b[0;32m    169\u001b[0m \u001b[1;33m\u001b[0m\u001b[0m\n\u001b[1;32m--> 170\u001b[1;33m         \u001b[0mresult\u001b[0m \u001b[1;33m=\u001b[0m \u001b[0mself\u001b[0m\u001b[1;33m.\u001b[0m\u001b[0m_query\u001b[0m\u001b[1;33m(\u001b[0m\u001b[0mquery\u001b[0m\u001b[1;33m)\u001b[0m\u001b[1;33m\u001b[0m\u001b[0m\n\u001b[0m\u001b[0;32m    171\u001b[0m         \u001b[0mself\u001b[0m\u001b[1;33m.\u001b[0m\u001b[0m_executed\u001b[0m \u001b[1;33m=\u001b[0m \u001b[0mquery\u001b[0m\u001b[1;33m\u001b[0m\u001b[0m\n\u001b[0;32m    172\u001b[0m         \u001b[1;32mreturn\u001b[0m \u001b[0mresult\u001b[0m\u001b[1;33m\u001b[0m\u001b[0m\n",
      "\u001b[1;32mc:\\python3_64\\lib\\site-packages\\pymysql\\cursors.py\u001b[0m in \u001b[0;36m_query\u001b[1;34m(self, q)\u001b[0m\n\u001b[0;32m    326\u001b[0m         \u001b[0mself\u001b[0m\u001b[1;33m.\u001b[0m\u001b[0m_last_executed\u001b[0m \u001b[1;33m=\u001b[0m \u001b[0mq\u001b[0m\u001b[1;33m\u001b[0m\u001b[0m\n\u001b[0;32m    327\u001b[0m         \u001b[0mself\u001b[0m\u001b[1;33m.\u001b[0m\u001b[0m_clear_result\u001b[0m\u001b[1;33m(\u001b[0m\u001b[1;33m)\u001b[0m\u001b[1;33m\u001b[0m\u001b[0m\n\u001b[1;32m--> 328\u001b[1;33m         \u001b[0mconn\u001b[0m\u001b[1;33m.\u001b[0m\u001b[0mquery\u001b[0m\u001b[1;33m(\u001b[0m\u001b[0mq\u001b[0m\u001b[1;33m)\u001b[0m\u001b[1;33m\u001b[0m\u001b[0m\n\u001b[0m\u001b[0;32m    329\u001b[0m         \u001b[0mself\u001b[0m\u001b[1;33m.\u001b[0m\u001b[0m_do_get_result\u001b[0m\u001b[1;33m(\u001b[0m\u001b[1;33m)\u001b[0m\u001b[1;33m\u001b[0m\u001b[0m\n\u001b[0;32m    330\u001b[0m         \u001b[1;32mreturn\u001b[0m \u001b[0mself\u001b[0m\u001b[1;33m.\u001b[0m\u001b[0mrowcount\u001b[0m\u001b[1;33m\u001b[0m\u001b[0m\n",
      "\u001b[1;32mc:\\python3_64\\lib\\site-packages\\pymysql\\connections.py\u001b[0m in \u001b[0;36mquery\u001b[1;34m(self, sql, unbuffered)\u001b[0m\n\u001b[0;32m    514\u001b[0m                 \u001b[0msql\u001b[0m \u001b[1;33m=\u001b[0m \u001b[0msql\u001b[0m\u001b[1;33m.\u001b[0m\u001b[0mencode\u001b[0m\u001b[1;33m(\u001b[0m\u001b[0mself\u001b[0m\u001b[1;33m.\u001b[0m\u001b[0mencoding\u001b[0m\u001b[1;33m,\u001b[0m \u001b[1;34m'surrogateescape'\u001b[0m\u001b[1;33m)\u001b[0m\u001b[1;33m\u001b[0m\u001b[0m\n\u001b[0;32m    515\u001b[0m         \u001b[0mself\u001b[0m\u001b[1;33m.\u001b[0m\u001b[0m_execute_command\u001b[0m\u001b[1;33m(\u001b[0m\u001b[0mCOMMAND\u001b[0m\u001b[1;33m.\u001b[0m\u001b[0mCOM_QUERY\u001b[0m\u001b[1;33m,\u001b[0m \u001b[0msql\u001b[0m\u001b[1;33m)\u001b[0m\u001b[1;33m\u001b[0m\u001b[0m\n\u001b[1;32m--> 516\u001b[1;33m         \u001b[0mself\u001b[0m\u001b[1;33m.\u001b[0m\u001b[0m_affected_rows\u001b[0m \u001b[1;33m=\u001b[0m \u001b[0mself\u001b[0m\u001b[1;33m.\u001b[0m\u001b[0m_read_query_result\u001b[0m\u001b[1;33m(\u001b[0m\u001b[0munbuffered\u001b[0m\u001b[1;33m=\u001b[0m\u001b[0munbuffered\u001b[0m\u001b[1;33m)\u001b[0m\u001b[1;33m\u001b[0m\u001b[0m\n\u001b[0m\u001b[0;32m    517\u001b[0m         \u001b[1;32mreturn\u001b[0m \u001b[0mself\u001b[0m\u001b[1;33m.\u001b[0m\u001b[0m_affected_rows\u001b[0m\u001b[1;33m\u001b[0m\u001b[0m\n\u001b[0;32m    518\u001b[0m \u001b[1;33m\u001b[0m\u001b[0m\n",
      "\u001b[1;32mc:\\python3_64\\lib\\site-packages\\pymysql\\connections.py\u001b[0m in \u001b[0;36m_read_query_result\u001b[1;34m(self, unbuffered)\u001b[0m\n\u001b[0;32m    725\u001b[0m         \u001b[1;32melse\u001b[0m\u001b[1;33m:\u001b[0m\u001b[1;33m\u001b[0m\u001b[0m\n\u001b[0;32m    726\u001b[0m             \u001b[0mresult\u001b[0m \u001b[1;33m=\u001b[0m \u001b[0mMySQLResult\u001b[0m\u001b[1;33m(\u001b[0m\u001b[0mself\u001b[0m\u001b[1;33m)\u001b[0m\u001b[1;33m\u001b[0m\u001b[0m\n\u001b[1;32m--> 727\u001b[1;33m             \u001b[0mresult\u001b[0m\u001b[1;33m.\u001b[0m\u001b[0mread\u001b[0m\u001b[1;33m(\u001b[0m\u001b[1;33m)\u001b[0m\u001b[1;33m\u001b[0m\u001b[0m\n\u001b[0m\u001b[0;32m    728\u001b[0m         \u001b[0mself\u001b[0m\u001b[1;33m.\u001b[0m\u001b[0m_result\u001b[0m \u001b[1;33m=\u001b[0m \u001b[0mresult\u001b[0m\u001b[1;33m\u001b[0m\u001b[0m\n\u001b[0;32m    729\u001b[0m         \u001b[1;32mif\u001b[0m \u001b[0mresult\u001b[0m\u001b[1;33m.\u001b[0m\u001b[0mserver_status\u001b[0m \u001b[1;32mis\u001b[0m \u001b[1;32mnot\u001b[0m \u001b[1;32mNone\u001b[0m\u001b[1;33m:\u001b[0m\u001b[1;33m\u001b[0m\u001b[0m\n",
      "\u001b[1;32mc:\\python3_64\\lib\\site-packages\\pymysql\\connections.py\u001b[0m in \u001b[0;36mread\u001b[1;34m(self)\u001b[0m\n\u001b[0;32m   1064\u001b[0m     \u001b[1;32mdef\u001b[0m \u001b[0mread\u001b[0m\u001b[1;33m(\u001b[0m\u001b[0mself\u001b[0m\u001b[1;33m)\u001b[0m\u001b[1;33m:\u001b[0m\u001b[1;33m\u001b[0m\u001b[0m\n\u001b[0;32m   1065\u001b[0m         \u001b[1;32mtry\u001b[0m\u001b[1;33m:\u001b[0m\u001b[1;33m\u001b[0m\u001b[0m\n\u001b[1;32m-> 1066\u001b[1;33m             \u001b[0mfirst_packet\u001b[0m \u001b[1;33m=\u001b[0m \u001b[0mself\u001b[0m\u001b[1;33m.\u001b[0m\u001b[0mconnection\u001b[0m\u001b[1;33m.\u001b[0m\u001b[0m_read_packet\u001b[0m\u001b[1;33m(\u001b[0m\u001b[1;33m)\u001b[0m\u001b[1;33m\u001b[0m\u001b[0m\n\u001b[0m\u001b[0;32m   1067\u001b[0m \u001b[1;33m\u001b[0m\u001b[0m\n\u001b[0;32m   1068\u001b[0m             \u001b[1;32mif\u001b[0m \u001b[0mfirst_packet\u001b[0m\u001b[1;33m.\u001b[0m\u001b[0mis_ok_packet\u001b[0m\u001b[1;33m(\u001b[0m\u001b[1;33m)\u001b[0m\u001b[1;33m:\u001b[0m\u001b[1;33m\u001b[0m\u001b[0m\n",
      "\u001b[1;32mc:\\python3_64\\lib\\site-packages\\pymysql\\connections.py\u001b[0m in \u001b[0;36m_read_packet\u001b[1;34m(self, packet_type)\u001b[0m\n\u001b[0;32m    681\u001b[0m \u001b[1;33m\u001b[0m\u001b[0m\n\u001b[0;32m    682\u001b[0m         \u001b[0mpacket\u001b[0m \u001b[1;33m=\u001b[0m \u001b[0mpacket_type\u001b[0m\u001b[1;33m(\u001b[0m\u001b[0mbuff\u001b[0m\u001b[1;33m,\u001b[0m \u001b[0mself\u001b[0m\u001b[1;33m.\u001b[0m\u001b[0mencoding\u001b[0m\u001b[1;33m)\u001b[0m\u001b[1;33m\u001b[0m\u001b[0m\n\u001b[1;32m--> 683\u001b[1;33m         \u001b[0mpacket\u001b[0m\u001b[1;33m.\u001b[0m\u001b[0mcheck_error\u001b[0m\u001b[1;33m(\u001b[0m\u001b[1;33m)\u001b[0m\u001b[1;33m\u001b[0m\u001b[0m\n\u001b[0m\u001b[0;32m    684\u001b[0m         \u001b[1;32mreturn\u001b[0m \u001b[0mpacket\u001b[0m\u001b[1;33m\u001b[0m\u001b[0m\n\u001b[0;32m    685\u001b[0m \u001b[1;33m\u001b[0m\u001b[0m\n",
      "\u001b[1;32mc:\\python3_64\\lib\\site-packages\\pymysql\\protocol.py\u001b[0m in \u001b[0;36mcheck_error\u001b[1;34m(self)\u001b[0m\n\u001b[0;32m    218\u001b[0m             \u001b[0merrno\u001b[0m \u001b[1;33m=\u001b[0m \u001b[0mself\u001b[0m\u001b[1;33m.\u001b[0m\u001b[0mread_uint16\u001b[0m\u001b[1;33m(\u001b[0m\u001b[1;33m)\u001b[0m\u001b[1;33m\u001b[0m\u001b[0m\n\u001b[0;32m    219\u001b[0m             \u001b[1;32mif\u001b[0m \u001b[0mDEBUG\u001b[0m\u001b[1;33m:\u001b[0m \u001b[0mprint\u001b[0m\u001b[1;33m(\u001b[0m\u001b[1;34m\"errno =\"\u001b[0m\u001b[1;33m,\u001b[0m \u001b[0merrno\u001b[0m\u001b[1;33m)\u001b[0m\u001b[1;33m\u001b[0m\u001b[0m\n\u001b[1;32m--> 220\u001b[1;33m             \u001b[0merr\u001b[0m\u001b[1;33m.\u001b[0m\u001b[0mraise_mysql_exception\u001b[0m\u001b[1;33m(\u001b[0m\u001b[0mself\u001b[0m\u001b[1;33m.\u001b[0m\u001b[0m_data\u001b[0m\u001b[1;33m)\u001b[0m\u001b[1;33m\u001b[0m\u001b[0m\n\u001b[0m\u001b[0;32m    221\u001b[0m \u001b[1;33m\u001b[0m\u001b[0m\n\u001b[0;32m    222\u001b[0m     \u001b[1;32mdef\u001b[0m \u001b[0mdump\u001b[0m\u001b[1;33m(\u001b[0m\u001b[0mself\u001b[0m\u001b[1;33m)\u001b[0m\u001b[1;33m:\u001b[0m\u001b[1;33m\u001b[0m\u001b[0m\n",
      "\u001b[1;32mc:\\python3_64\\lib\\site-packages\\pymysql\\err.py\u001b[0m in \u001b[0;36mraise_mysql_exception\u001b[1;34m(data)\u001b[0m\n\u001b[0;32m    107\u001b[0m         \u001b[0merrval\u001b[0m \u001b[1;33m=\u001b[0m \u001b[0mdata\u001b[0m\u001b[1;33m[\u001b[0m\u001b[1;36m3\u001b[0m\u001b[1;33m:\u001b[0m\u001b[1;33m]\u001b[0m\u001b[1;33m.\u001b[0m\u001b[0mdecode\u001b[0m\u001b[1;33m(\u001b[0m\u001b[1;34m'utf-8'\u001b[0m\u001b[1;33m,\u001b[0m \u001b[1;34m'replace'\u001b[0m\u001b[1;33m)\u001b[0m\u001b[1;33m\u001b[0m\u001b[0m\n\u001b[0;32m    108\u001b[0m     \u001b[0merrorclass\u001b[0m \u001b[1;33m=\u001b[0m \u001b[0merror_map\u001b[0m\u001b[1;33m.\u001b[0m\u001b[0mget\u001b[0m\u001b[1;33m(\u001b[0m\u001b[0merrno\u001b[0m\u001b[1;33m,\u001b[0m \u001b[0mInternalError\u001b[0m\u001b[1;33m)\u001b[0m\u001b[1;33m\u001b[0m\u001b[0m\n\u001b[1;32m--> 109\u001b[1;33m     \u001b[1;32mraise\u001b[0m \u001b[0merrorclass\u001b[0m\u001b[1;33m(\u001b[0m\u001b[0merrno\u001b[0m\u001b[1;33m,\u001b[0m \u001b[0merrval\u001b[0m\u001b[1;33m)\u001b[0m\u001b[1;33m\u001b[0m\u001b[0m\n\u001b[0m",
      "\u001b[1;31mIntegrityError\u001b[0m: (1062, \"Duplicate entry 'http://ggjd.cnstock.com/company/scp_ggjd/tjd_ggkx/201805/4225611' for key 'PRIMARY'\")"
     ]
    }
   ],
   "source": [
    "for ix in my_df.index:\n",
    "    date=my_df.iloc[ix]['Date']\n",
    "    title=my_df.iloc[ix]['Title']    \n",
    "    url=my_df.iloc[ix]['URL']    \n",
    "    cmd='''\n",
    "    INSERT INTO tb_cnstock (Date,Title,URL ) VALUES(\\'%s\\',\\'%s\\',\\'%s\\');''' % (\n",
    "                    date,title,url)\n",
    "    cur.execute(cmd)\n",
    "\n",
    "    try:\n",
    "        local_conn.commit()\n",
    "    except Exception as e:\n",
    "        print(e)\n",
    "        print(cmd)\n",
    "#         local_conn.rollback()\n",
    "        continue\n",
    "# local_conn.close()\n",
    "        "
   ]
  },
  {
   "cell_type": "code",
   "execution_count": 49,
   "metadata": {},
   "outputs": [
    {
     "data": {
      "text/html": [
       "<div>\n",
       "<style scoped>\n",
       "    .dataframe tbody tr th:only-of-type {\n",
       "        vertical-align: middle;\n",
       "    }\n",
       "\n",
       "    .dataframe tbody tr th {\n",
       "        vertical-align: top;\n",
       "    }\n",
       "\n",
       "    .dataframe thead th {\n",
       "        text-align: right;\n",
       "    }\n",
       "</style>\n",
       "<table border=\"1\" class=\"dataframe\">\n",
       "  <thead>\n",
       "    <tr style=\"text-align: right;\">\n",
       "      <th></th>\n",
       "      <th>Date</th>\n",
       "      <th>Title</th>\n",
       "      <th>URL</th>\n",
       "    </tr>\n",
       "  </thead>\n",
       "  <tbody>\n",
       "  </tbody>\n",
       "</table>\n",
       "</div>"
      ],
      "text/plain": [
       "Empty DataFrame\n",
       "Columns: [Date, Title, URL]\n",
       "Index: []"
      ]
     },
     "execution_count": 49,
     "metadata": {},
     "output_type": "execute_result"
    }
   ],
   "source": [
    "my_df[my_df['URL']=='http://ggjd.cnstock.com/company/scp_ggjd/tjd_ggkx/201809/4278966']"
   ]
  },
  {
   "cell_type": "code",
   "execution_count": 35,
   "metadata": {},
   "outputs": [],
   "source": [
    "local_conn.close()"
   ]
  },
  {
   "cell_type": "code",
   "execution_count": 30,
   "metadata": {},
   "outputs": [
    {
     "data": {
      "text/plain": [
       "'3家公司临停 海南橡胶因重要事项未公告'"
      ]
     },
     "execution_count": 30,
     "metadata": {},
     "output_type": "execute_result"
    }
   ],
   "source": [
    "new_df.iloc[1]['Title']"
   ]
  },
  {
   "cell_type": "code",
   "execution_count": null,
   "metadata": {},
   "outputs": [],
   "source": [
    "no_dup_df = my_df.drop_duplicates(['positionId','companyId','positionName'])"
   ]
  },
  {
   "cell_type": "code",
   "execution_count": null,
   "metadata": {},
   "outputs": [],
   "source": [
    "len(no_dup_df)"
   ]
  },
  {
   "cell_type": "code",
   "execution_count": null,
   "metadata": {},
   "outputs": [],
   "source": [
    "no_dup_df.to_sql('tb_jobs_new',con=local)"
   ]
  },
  {
   "cell_type": "code",
   "execution_count": null,
   "metadata": {},
   "outputs": [],
   "source": []
  }
 ],
 "metadata": {
  "kernelspec": {
   "display_name": "Python 3",
   "language": "python",
   "name": "python3"
  },
  "language_info": {
   "codemirror_mode": {
    "name": "ipython",
    "version": 3
   },
   "file_extension": ".py",
   "mimetype": "text/x-python",
   "name": "python",
   "nbconvert_exporter": "python",
   "pygments_lexer": "ipython3",
   "version": "3.6.2"
  }
 },
 "nbformat": 4,
 "nbformat_minor": 2
}
