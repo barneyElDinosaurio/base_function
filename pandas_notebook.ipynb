{
 "cells": [
  {
   "cell_type": "code",
   "execution_count": null,
   "metadata": {},
   "outputs": [],
   "source": [
    "import pandas as pd,\n",
    "import numpy as np\n",
    "\n",
    "dict_A={'A':['1','2','3','4','5'],'B':[7,8,9,10,11]}\n",
    "df=pd.DataFrame(dict_A)\n",
    "\n",
    "df.iloc[range(0,len(df),2)]\n",
    "\n",
    "\n",
    "df['C']=[2,3,4,5,6]\n",
    "df['D']=[7,8,7,6,5]\n",
    "print(df)\n"
   ]
  },
  {
   "cell_type": "code",
   "execution_count": null,
   "metadata": {},
   "outputs": [],
   "source": [
    "my_df = list(df)\n",
    "print(my_df)"
   ]
  },
  {
   "cell_type": "code",
   "execution_count": null,
   "metadata": {},
   "outputs": [],
   "source": [
    "\n",
    "cols=list(df)\n",
    "cols"
   ]
  },
  {
   "cell_type": "code",
   "execution_count": null,
   "metadata": {},
   "outputs": [],
   "source": [
    "cols.index('C')\n",
    "cols.insert(0,cols.pop(cols.index('C')))\n",
    "\n",
    "df=df.ix[:,cols]\n",
    "\n",
    "df[['B','A','D','C']]"
   ]
  },
  {
   "cell_type": "code",
   "execution_count": null,
   "metadata": {},
   "outputs": [],
   "source": [
    "import tushare as ts\n",
    "api=ts.get_apis(),\n",
    "df=ts.bar('300333',conn=api,start_date='2018-01-01')\n",
    "\n",
    "df.head()\n",
    "\n",
    "df.reset_index()['datetime'].values\n",
    "\n",
    "df1=pd.DataFrame({'E':['1','2','3','4','5']})\n",
    "\n",
    "df1"
   ]
  },
  {
   "cell_type": "code",
   "execution_count": null,
   "metadata": {},
   "outputs": [],
   "source": [
    "df['EA']=df['A']+df1['E']\n",
    "\n",
    "\n",
    "df_x = pd.DataFrame(np.arange(16).reshape(4,4),columns={'A','B','C','D'})\n",
    "\n",
    "\n",
    "for i in df_x['A']:,\n",
    "    print(i)\n",
    "\n",
    "type(df_x['A'])\n",
    "\n",
    "type(df_x.A)"
   ]
  }
 ],
 "metadata": {
  "kernelspec": {
   "display_name": "Python 3",
   "language": "python",
   "name": "python3"
  },
  "language_info": {
   "codemirror_mode": {
    "name": "ipython",
    "version": 3
   },
   "file_extension": ".py",
   "mimetype": "text/x-python",
   "name": "python",
   "nbconvert_exporter": "python",
   "pygments_lexer": "ipython3",
   "version": "3.6.2"
  }
 },
 "nbformat": 4,
 "nbformat_minor": 2
}
