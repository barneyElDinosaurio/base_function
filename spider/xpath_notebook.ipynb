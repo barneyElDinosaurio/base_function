{
 "cells": [
  {
   "cell_type": "code",
   "execution_count": 7,
   "metadata": {},
   "outputs": [],
   "source": [
    "from scrapy.selector import Selector\n",
    "import codecs"
   ]
  },
  {
   "cell_type": "code",
   "execution_count": 6,
   "metadata": {},
   "outputs": [],
   "source": [
    "with open('web.html','r',encoding='utf8') as f:\n",
    "    html = f.read()"
   ]
  },
  {
   "cell_type": "code",
   "execution_count": 8,
   "metadata": {},
   "outputs": [],
   "source": [
    "response=Selector(text=html)"
   ]
  },
  {
   "cell_type": "code",
   "execution_count": 13,
   "metadata": {},
   "outputs": [
    {
     "data": {
      "text/plain": [
       "[<Selector xpath='//table[@class=\"list_2_tab\"]/tbody/tr' data='<tr cell=\"\" spacing=\"0\" style=\"backgroun'>,\n",
       " <Selector xpath='//table[@class=\"list_2_tab\"]/tbody/tr' data='<tr style=\"font-size: 13px;\">\\n\\t\\t\\t\\t<td st'>,\n",
       " <Selector xpath='//table[@class=\"list_2_tab\"]/tbody/tr' data='<tr style=\"font-size: 13px;\">\\n\\t\\t\\t\\t<td st'>,\n",
       " <Selector xpath='//table[@class=\"list_2_tab\"]/tbody/tr' data='<tr style=\"font-size: 13px;\">\\n\\t\\t\\t\\t<td st'>,\n",
       " <Selector xpath='//table[@class=\"list_2_tab\"]/tbody/tr' data='<tr style=\"font-size: 13px;\">\\n\\t\\t\\t\\t<td st'>,\n",
       " <Selector xpath='//table[@class=\"list_2_tab\"]/tbody/tr' data='<tr style=\"font-size: 13px;\">\\n\\t\\t\\t\\t<td st'>,\n",
       " <Selector xpath='//table[@class=\"list_2_tab\"]/tbody/tr' data='<tr style=\"font-size: 13px;\">\\n\\t\\t\\t\\t<td st'>,\n",
       " <Selector xpath='//table[@class=\"list_2_tab\"]/tbody/tr' data='<tr style=\"font-size: 13px;\">\\n\\t\\t\\t\\t<td st'>,\n",
       " <Selector xpath='//table[@class=\"list_2_tab\"]/tbody/tr' data='<tr style=\"font-size: 13px;\">\\n\\t\\t\\t\\t<td st'>,\n",
       " <Selector xpath='//table[@class=\"list_2_tab\"]/tbody/tr' data='<tr style=\"font-size: 13px;\">\\n\\t\\t\\t\\t<td st'>,\n",
       " <Selector xpath='//table[@class=\"list_2_tab\"]/tbody/tr' data='<tr style=\"font-size: 13px;\">\\n\\t\\t\\t\\t<td st'>]"
      ]
     },
     "execution_count": 13,
     "metadata": {},
     "output_type": "execute_result"
    }
   ],
   "source": [
    "response.xpath('//table[@class=\"list_2_tab\"]/tbody/tr')"
   ]
  },
  {
   "cell_type": "code",
   "execution_count": null,
   "metadata": {},
   "outputs": [],
   "source": []
  }
 ],
 "metadata": {
  "kernelspec": {
   "display_name": "Python 3",
   "language": "python",
   "name": "python3"
  },
  "language_info": {
   "codemirror_mode": {
    "name": "ipython",
    "version": 3
   },
   "file_extension": ".py",
   "mimetype": "text/x-python",
   "name": "python",
   "nbconvert_exporter": "python",
   "pygments_lexer": "ipython3",
   "version": "3.6.2"
  }
 },
 "nbformat": 4,
 "nbformat_minor": 2
}
