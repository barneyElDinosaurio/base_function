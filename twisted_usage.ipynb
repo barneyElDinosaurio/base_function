{
 "cells": [
  {
   "cell_type": "code",
   "execution_count": 1,
   "metadata": {},
   "outputs": [],
   "source": [
    "from twisted.internet import defer\n",
    "import time"
   ]
  },
  {
   "cell_type": "code",
   "execution_count": 3,
   "metadata": {},
   "outputs": [],
   "source": [
    "d = defer.Deferred()"
   ]
  },
  {
   "cell_type": "code",
   "execution_count": 4,
   "metadata": {},
   "outputs": [
    {
     "data": {
      "text/plain": [
       "False"
      ]
     },
     "execution_count": 4,
     "metadata": {},
     "output_type": "execute_result"
    }
   ],
   "source": [
    "d.called"
   ]
  },
  {
   "cell_type": "code",
   "execution_count": 5,
   "metadata": {},
   "outputs": [],
   "source": [
    "d.callback(3)"
   ]
  },
  {
   "cell_type": "code",
   "execution_count": 6,
   "metadata": {},
   "outputs": [
    {
     "data": {
      "text/plain": [
       "True"
      ]
     },
     "execution_count": 6,
     "metadata": {},
     "output_type": "execute_result"
    }
   ],
   "source": [
    "d.called"
   ]
  },
  {
   "cell_type": "code",
   "execution_count": 7,
   "metadata": {},
   "outputs": [
    {
     "data": {
      "text/plain": [
       "3"
      ]
     },
     "execution_count": 7,
     "metadata": {},
     "output_type": "execute_result"
    }
   ],
   "source": [
    "d.result"
   ]
  },
  {
   "cell_type": "code",
   "execution_count": 2,
   "metadata": {},
   "outputs": [],
   "source": [
    "def install_wordpress(customer):\n",
    "    print('starting install for {}'.format(customer))\n",
    "    time.sleep(3)\n",
    "    print('all done for {}'.format(customer))"
   ]
  },
  {
   "cell_type": "code",
   "execution_count": 19,
   "metadata": {},
   "outputs": [],
   "source": [
    "@multi_args\n",
    "def developer_day(customers):\n",
    "    for customer in customers:\n",
    "        install_wordpress(customer)"
   ]
  },
  {
   "cell_type": "code",
   "execution_count": 24,
   "metadata": {},
   "outputs": [],
   "source": [
    "customers = ['custom_%02d' %i for i in range(15)]"
   ]
  },
  {
   "cell_type": "code",
   "execution_count": 5,
   "metadata": {},
   "outputs": [
    {
     "data": {
      "text/plain": [
       "['custom_00', 'custom_01', 'custom_02', 'custom_03', 'custom_04']"
      ]
     },
     "execution_count": 5,
     "metadata": {},
     "output_type": "execute_result"
    }
   ],
   "source": [
    "customers"
   ]
  },
  {
   "cell_type": "code",
   "execution_count": 17,
   "metadata": {},
   "outputs": [],
   "source": [
    "def multi_args(func):\n",
    "    def wrapper(*args,**kwargs):\n",
    "        start=time.time()\n",
    "        func(*args,**kwargs)\n",
    "        print('time used: {}'.format(time.time()-start))\n",
    "    return wrapper"
   ]
  },
  {
   "cell_type": "code",
   "execution_count": 20,
   "metadata": {
    "scrolled": true
   },
   "outputs": [
    {
     "name": "stdout",
     "output_type": "stream",
     "text": [
      "starting install for custom_00\n",
      "all done for custom_00\n",
      "starting install for custom_01\n",
      "all done for custom_01\n",
      "starting install for custom_02\n",
      "all done for custom_02\n",
      "starting install for custom_03\n",
      "all done for custom_03\n",
      "starting install for custom_04\n",
      "all done for custom_04\n",
      "time used: 15.000999927520752\n"
     ]
    }
   ],
   "source": [
    "developer_day(customers)"
   ]
  },
  {
   "cell_type": "code",
   "execution_count": 22,
   "metadata": {},
   "outputs": [],
   "source": [
    "import threading\n",
    "@multi_args\n",
    "def developers_day_thread(customers):\n",
    "    lock = threading.Lock()\n",
    "    \n",
    "    def dev_day(id):\n",
    "        lock.acquire()\n",
    "        while customers:\n",
    "            customer = customers.pop(0)\n",
    "            lock.release()\n",
    "            install_wordpress(customer)\n",
    "            lock.acquire()\n",
    "        lock.release()\n",
    "        print('Bye from developer {}'.format(id))\n",
    "    \n",
    "    thread = [threading.Thread(target=dev_day,args=(i,)) for i in range(5)]\n",
    "    for i in thread:\n",
    "        i.start()\n",
    "    for i in thread:\n",
    "        i.join()\n",
    "        "
   ]
  },
  {
   "cell_type": "code",
   "execution_count": 25,
   "metadata": {
    "scrolled": true
   },
   "outputs": [
    {
     "name": "stdout",
     "output_type": "stream",
     "text": [
      "starting install for custom_00\n",
      "starting install for custom_01\n",
      "starting install for custom_02\n",
      "starting install for custom_03\n",
      "starting install for custom_04\n",
      "all done for custom_00\n",
      "starting install for custom_05\n",
      "all done for custom_02all done for custom_01\n",
      "starting install for custom_06\n",
      "\n",
      "starting install for custom_07\n",
      "all done for custom_03\n",
      "starting install for custom_08\n",
      "all done for custom_04\n",
      "starting install for custom_09\n",
      "all done for custom_05\n",
      "starting install for custom_10\n",
      "all done for custom_07all done for custom_06\n",
      "starting install for custom_11\n",
      "\n",
      "starting install for custom_12\n",
      "all done for custom_08\n",
      "starting install for custom_13\n",
      "all done for custom_09\n",
      "starting install for custom_14\n",
      "all done for custom_10\n",
      "Bye from developer 0\n",
      "all done for custom_11all done for custom_12\n",
      "Bye from developer 1\n",
      "\n",
      "Bye from developer 2\n",
      "all done for custom_13\n",
      "Bye from developer 3\n",
      "all done for custom_14\n",
      "Bye from developer 4\n",
      "time used: 9.04800009727478\n"
     ]
    }
   ],
   "source": [
    "developers_day_thread(customers)"
   ]
  },
  {
   "cell_type": "code",
   "execution_count": 1,
   "metadata": {},
   "outputs": [],
   "source": [
    "from twisted.internet import reactor,defer,task"
   ]
  },
  {
   "cell_type": "code",
   "execution_count": 2,
   "metadata": {},
   "outputs": [],
   "source": [
    "def schedule_install(customer):\n",
    "    \n",
    "    def schedule_install_wordpress():\n",
    "        \n",
    "        def on_done():\n",
    "            print('Callback: finished installation for {}'.format(customer))\n",
    "        \n",
    "    \n",
    "        print('Scheduling: installation for {}'.format(customer))\n",
    "        return task.deferLater(reactor,3,on_done)\n",
    "    \n",
    "    \n",
    "    \n",
    "    def all_done(_):\n",
    "        print('all done for {}'.format(customer))\n",
    "        \n",
    "    d=schedule_install_wordpress()\n",
    "    d.addCallback(all_done)\n",
    "    return d"
   ]
  },
  {
   "cell_type": "code",
   "execution_count": 3,
   "metadata": {},
   "outputs": [],
   "source": [
    "def twisted_develop_day(customers):\n",
    "    print('Goodmorning from twisted developer')\n",
    "    work = [schedule_install(customer) for customer in customers]\n",
    "    join = defer.DeferredList(work)\n",
    "    join.addCallback(lambda _: reactor.stop())\n",
    "    print('Bye from twisterd developers')"
   ]
  },
  {
   "cell_type": "code",
   "execution_count": 4,
   "metadata": {},
   "outputs": [
    {
     "name": "stdout",
     "output_type": "stream",
     "text": [
      "Goodmorning from twisted developer\n",
      "Scheduling: installation for customer 00\n",
      "Scheduling: installation for customer 01\n",
      "Scheduling: installation for customer 02\n",
      "Scheduling: installation for customer 03\n",
      "Scheduling: installation for customer 04\n",
      "Scheduling: installation for customer 05\n",
      "Scheduling: installation for customer 06\n",
      "Scheduling: installation for customer 07\n",
      "Scheduling: installation for customer 08\n",
      "Scheduling: installation for customer 09\n",
      "Scheduling: installation for customer 10\n",
      "Scheduling: installation for customer 11\n",
      "Scheduling: installation for customer 12\n",
      "Scheduling: installation for customer 13\n",
      "Scheduling: installation for customer 14\n",
      "Bye from twisterd developers\n"
     ]
    }
   ],
   "source": [
    "twisted_develop_day([\"customer %02d\" %i for i in range(15)])"
   ]
  },
  {
   "cell_type": "code",
   "execution_count": 5,
   "metadata": {},
   "outputs": [
    {
     "name": "stdout",
     "output_type": "stream",
     "text": [
      "Callback: finished installation for customer 00\n",
      "Callback: finished installation for customer 02\n",
      "Callback: finished installation for customer 06\n",
      "Callback: finished installation for customer 05\n",
      "Callback: finished installation for customer 01\n",
      "Callback: finished installation for customer 04\n",
      "Callback: finished installation for customer 09\n",
      "Callback: finished installation for customer 03\n",
      "Callback: finished installation for customer 08\n",
      "Callback: finished installation for customer 07\n",
      "Callback: finished installation for customer 13\n",
      "Callback: finished installation for customer 12\n",
      "Callback: finished installation for customer 14\n",
      "Callback: finished installation for customer 11\n",
      "Callback: finished installation for customer 10\n"
     ]
    }
   ],
   "source": [
    "# start=time.time()\n",
    "reactor.run()\n",
    "# print('time used {}'.format(time.time()-start))"
   ]
  },
  {
   "cell_type": "code",
   "execution_count": null,
   "metadata": {},
   "outputs": [],
   "source": []
  }
 ],
 "metadata": {
  "kernelspec": {
   "display_name": "Python 3",
   "language": "python",
   "name": "python3"
  },
  "language_info": {
   "codemirror_mode": {
    "name": "ipython",
    "version": 3
   },
   "file_extension": ".py",
   "mimetype": "text/x-python",
   "name": "python",
   "nbconvert_exporter": "python",
   "pygments_lexer": "ipython3",
   "version": "3.6.2"
  }
 },
 "nbformat": 4,
 "nbformat_minor": 2
}
